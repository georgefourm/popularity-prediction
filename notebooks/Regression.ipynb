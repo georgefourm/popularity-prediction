{
 "cells": [
  {
   "cell_type": "code",
   "execution_count": 1,
   "id": "696193a8",
   "metadata": {
    "scrolled": true
   },
   "outputs": [
    {
     "name": "stdout",
     "output_type": "stream",
     "text": [
      "C:\\Users\\georg\\Documents\\msc-project\n"
     ]
    }
   ],
   "source": [
    "%cd .."
   ]
  },
  {
   "cell_type": "code",
   "execution_count": 2,
   "id": "ba8f7913",
   "metadata": {},
   "outputs": [],
   "source": [
    "import pandas as pd\n",
    "import numpy as np\n",
    "\n",
    "import matplotlib.pyplot as plt\n",
    "from sklearn.preprocessing import StandardScaler,MinMaxScaler\n",
    "from sklearn import linear_model\n",
    "from sklearn.decomposition import PCA\n",
    "from src.evaluation import evaluate_model, compare_regression_models"
   ]
  },
  {
   "cell_type": "code",
   "execution_count": 3,
   "id": "4dd2cc06",
   "metadata": {},
   "outputs": [],
   "source": [
    "df = pd.read_csv(\"data/interim/tracks.csv\")"
   ]
  },
  {
   "cell_type": "code",
   "execution_count": 4,
   "id": "71b0556b",
   "metadata": {},
   "outputs": [],
   "source": [
    "targets = MinMaxScaler(feature_range=(0,100)).fit_transform(np.array(df['views']).reshape(-1,1))\n",
    "features = df[['danceability','energy','key','loudness','mode','speechiness','acousticness','instrumentalness','liveness','tempo','duration_ms','time_signature']]\n",
    "data = StandardScaler().fit_transform(features)"
   ]
  },
  {
   "cell_type": "code",
   "execution_count": 5,
   "id": "3bb0977e",
   "metadata": {
    "scrolled": false
   },
   "outputs": [
    {
     "name": "stdout",
     "output_type": "stream",
     "text": [
      "Model                     R2     Ma     NM    \n",
      "Baseline                  -0.022 -6.5e+01 -3.5e+01\n",
      "Linear Regression         -0.17  -6.7e+01 -4.1e+01\n",
      "Polynomial Regression     -4.4   -2.5e+02 -1.8e+02\n",
      "Ridge Regression          -0.17  -6.7e+01 -4.1e+01\n",
      "LARS Lasso                -0.022 -6.5e+01 -3.5e+01\n",
      "Bayesian Ridge            -0.17  -6.7e+01 -4e+01\n",
      "SGD                       -0.18  -6.7e+01 -4.1e+01\n"
     ]
    }
   ],
   "source": [
    "compare_regression_models(data,targets)"
   ]
  },
  {
   "cell_type": "code",
   "execution_count": null,
   "id": "9e71cecb",
   "metadata": {},
   "outputs": [],
   "source": []
  }
 ],
 "metadata": {
  "kernelspec": {
   "display_name": "Python 3 (ipykernel)",
   "language": "python",
   "name": "python3"
  },
  "language_info": {
   "codemirror_mode": {
    "name": "ipython",
    "version": 3
   },
   "file_extension": ".py",
   "mimetype": "text/x-python",
   "name": "python",
   "nbconvert_exporter": "python",
   "pygments_lexer": "ipython3",
   "version": "3.9.5"
  }
 },
 "nbformat": 4,
 "nbformat_minor": 5
}
