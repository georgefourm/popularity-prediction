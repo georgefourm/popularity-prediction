{
 "cells": [
  {
   "cell_type": "markdown",
   "id": "0e9f7f0c",
   "metadata": {},
   "source": [
    "# Regression Approach\n",
    "\n",
    "This notebook is dedicated to modelling the problem as a regression problem. Different regression techniques are evaluated, and then the best-performing one is optimized in terms of hyper-parameters"
   ]
  },
  {
   "cell_type": "code",
   "execution_count": 1,
   "id": "696193a8",
   "metadata": {
    "scrolled": true
   },
   "outputs": [
    {
     "name": "stdout",
     "output_type": "stream",
     "text": [
      "C:\\Users\\georg\\Documents\\msc-project\n"
     ]
    }
   ],
   "source": [
    "# Change directory for cleaner path handling\n",
    "%cd .."
   ]
  },
  {
   "cell_type": "code",
   "execution_count": 8,
   "id": "ba8f7913",
   "metadata": {},
   "outputs": [],
   "source": [
    "import pandas as pd\n",
    "import numpy as np\n",
    "import matplotlib.pyplot as plt\n",
    "\n",
    "from sklearn import tree, linear_model, dummy, kernel_ridge, gaussian_process\n",
    "from sklearn.preprocessing import PolynomialFeatures,StandardScaler\n",
    "from sklearn.pipeline import Pipeline\n",
    "from sklearn.model_selection import GridSearchCV\n",
    "\n",
    "from src.evaluation import compare_models, evaluate_model"
   ]
  },
  {
   "cell_type": "markdown",
   "id": "ea9640e6",
   "metadata": {},
   "source": [
    "## Feature selection"
   ]
  },
  {
   "cell_type": "code",
   "execution_count": 3,
   "id": "71b0556b",
   "metadata": {},
   "outputs": [],
   "source": [
    "df = pd.read_csv(\"data/interim/tracks.csv\")\n",
    "targets = df['views']\n",
    "features = [\n",
    "    'danceability',\n",
    "    'energy',\n",
    "    'key',\n",
    "    'loudness',\n",
    "    'mode',\n",
    "    'speechiness',\n",
    "    'acousticness',\n",
    "    'instrumentalness',\n",
    "    'liveness',\n",
    "    'valence',\n",
    "    'tempo',\n",
    "    'time_signature',\n",
    "    'duration_ms',\n",
    "    'popularity'\n",
    "]\n",
    "\n",
    "data = df[features]"
   ]
  },
  {
   "cell_type": "markdown",
   "id": "a0ee4af5",
   "metadata": {},
   "source": [
    "## Model comparison\n",
    "Different regression models are compared with their default parameters to establish a baseline"
   ]
  },
  {
   "cell_type": "code",
   "execution_count": 5,
   "id": "3b012e3c",
   "metadata": {},
   "outputs": [
    {
     "name": "stdout",
     "output_type": "stream",
     "text": [
      "Evaluating Baseline\n",
      "Evaluating Linear Regression\n",
      "Evaluating Polynomial Regression\n",
      "Evaluating Decision Tree\n",
      "Evaluating Kernel Ridge\n",
      "Evaluating Gaussian Process\n"
     ]
    },
    {
     "data": {
      "text/html": [
       "<div>\n",
       "<style scoped>\n",
       "    .dataframe tbody tr th:only-of-type {\n",
       "        vertical-align: middle;\n",
       "    }\n",
       "\n",
       "    .dataframe tbody tr th {\n",
       "        vertical-align: top;\n",
       "    }\n",
       "\n",
       "    .dataframe thead th {\n",
       "        text-align: right;\n",
       "    }\n",
       "</style>\n",
       "<table border=\"1\" class=\"dataframe\">\n",
       "  <thead>\n",
       "    <tr style=\"text-align: right;\">\n",
       "      <th></th>\n",
       "      <th>model</th>\n",
       "      <th>fit_time</th>\n",
       "      <th>score_time</th>\n",
       "      <th>test_r2</th>\n",
       "      <th>test_neg_mean_absolute_error</th>\n",
       "      <th>test_neg_root_mean_squared_error</th>\n",
       "    </tr>\n",
       "  </thead>\n",
       "  <tbody>\n",
       "    <tr>\n",
       "      <th>0</th>\n",
       "      <td>Baseline</td>\n",
       "      <td>0.006547</td>\n",
       "      <td>0.002088</td>\n",
       "      <td>-0.267814</td>\n",
       "      <td>-6.421567e+06</td>\n",
       "      <td>-1.230556e+07</td>\n",
       "    </tr>\n",
       "    <tr>\n",
       "      <th>1</th>\n",
       "      <td>Linear Regression</td>\n",
       "      <td>0.009212</td>\n",
       "      <td>0.002394</td>\n",
       "      <td>-0.266371</td>\n",
       "      <td>-6.291845e+06</td>\n",
       "      <td>-1.221550e+07</td>\n",
       "    </tr>\n",
       "    <tr>\n",
       "      <th>2</th>\n",
       "      <td>Polynomial Regression</td>\n",
       "      <td>0.458402</td>\n",
       "      <td>0.013294</td>\n",
       "      <td>-130.267059</td>\n",
       "      <td>-8.215892e+06</td>\n",
       "      <td>-4.703446e+07</td>\n",
       "    </tr>\n",
       "    <tr>\n",
       "      <th>3</th>\n",
       "      <td>Decision Tree</td>\n",
       "      <td>0.128865</td>\n",
       "      <td>0.002877</td>\n",
       "      <td>-2.913785</td>\n",
       "      <td>-7.631578e+06</td>\n",
       "      <td>-1.772119e+07</td>\n",
       "    </tr>\n",
       "    <tr>\n",
       "      <th>4</th>\n",
       "      <td>Kernel Ridge</td>\n",
       "      <td>2.570465</td>\n",
       "      <td>0.046525</td>\n",
       "      <td>-0.216374</td>\n",
       "      <td>-5.277402e+06</td>\n",
       "      <td>-1.256948e+07</td>\n",
       "    </tr>\n",
       "    <tr>\n",
       "      <th>5</th>\n",
       "      <td>Gaussian Process</td>\n",
       "      <td>6.057970</td>\n",
       "      <td>1.021435</td>\n",
       "      <td>-16950.368704</td>\n",
       "      <td>-1.667386e+08</td>\n",
       "      <td>-8.560291e+08</td>\n",
       "    </tr>\n",
       "  </tbody>\n",
       "</table>\n",
       "</div>"
      ],
      "text/plain": [
       "                   model  fit_time  score_time       test_r2  \\\n",
       "0               Baseline  0.006547    0.002088     -0.267814   \n",
       "1      Linear Regression  0.009212    0.002394     -0.266371   \n",
       "2  Polynomial Regression  0.458402    0.013294   -130.267059   \n",
       "3          Decision Tree  0.128865    0.002877     -2.913785   \n",
       "4           Kernel Ridge  2.570465    0.046525     -0.216374   \n",
       "5       Gaussian Process  6.057970    1.021435 -16950.368704   \n",
       "\n",
       "   test_neg_mean_absolute_error  test_neg_root_mean_squared_error  \n",
       "0                 -6.421567e+06                     -1.230556e+07  \n",
       "1                 -6.291845e+06                     -1.221550e+07  \n",
       "2                 -8.215892e+06                     -4.703446e+07  \n",
       "3                 -7.631578e+06                     -1.772119e+07  \n",
       "4                 -5.277402e+06                     -1.256948e+07  \n",
       "5                 -1.667386e+08                     -8.560291e+08  "
      ]
     },
     "execution_count": 5,
     "metadata": {},
     "output_type": "execute_result"
    }
   ],
   "source": [
    "models = [\n",
    "    (\"Baseline\", dummy.DummyRegressor(strategy='mean')),\n",
    "    (\"Linear Regression\", linear_model.LinearRegression()),\n",
    "    (\"Polynomial Regression\", Pipeline([\n",
    "        ('poly', PolynomialFeatures(degree=3)),\n",
    "        ('linear', linear_model.LinearRegression())\n",
    "    ])),\n",
    "    (\"Decision Tree\", tree.DecisionTreeRegressor()),\n",
    "    (\"Kernel Ridge\", kernel_ridge.KernelRidge()),\n",
    "    (\"Gaussian Process\", gaussian_process.GaussianProcessRegressor()),\n",
    "]\n",
    "metrics = [\n",
    "    'r2',\n",
    "    'neg_mean_absolute_error',\n",
    "    'neg_root_mean_squared_error',\n",
    "]\n",
    "compare_models(models, metrics, data, targets)"
   ]
  },
  {
   "cell_type": "markdown",
   "id": "558caf5a",
   "metadata": {},
   "source": [
    "## Model Optimization\n",
    "The best performing model's hyperparameters will be optimized using Grid Search on the hyperparameter space"
   ]
  },
  {
   "cell_type": "code",
   "execution_count": 6,
   "id": "b0b3df5c",
   "metadata": {},
   "outputs": [
    {
     "name": "stdout",
     "output_type": "stream",
     "text": [
      "Fitting 5 folds for each of 15 candidates, totalling 75 fits\n"
     ]
    },
    {
     "name": "stderr",
     "output_type": "stream",
     "text": [
      "c:\\users\\georg\\documents\\msc-project\\venv\\lib\\site-packages\\sklearn\\model_selection\\_validation.py:372: FitFailedWarning: \n",
      "15 fits failed out of a total of 75.\n",
      "The score on these train-test partitions for these parameters will be set to nan.\n",
      "If these failures are not expected, you can try to debug them by setting error_score='raise'.\n",
      "\n",
      "Below are more details about the failures:\n",
      "--------------------------------------------------------------------------------\n",
      "15 fits failed with the following error:\n",
      "Traceback (most recent call last):\n",
      "  File \"c:\\users\\georg\\documents\\msc-project\\venv\\lib\\site-packages\\sklearn\\model_selection\\_validation.py\", line 681, in _fit_and_score\n",
      "    estimator.fit(X_train, y_train, **fit_params)\n",
      "  File \"c:\\users\\georg\\documents\\msc-project\\venv\\lib\\site-packages\\sklearn\\pipeline.py\", line 394, in fit\n",
      "    self._final_estimator.fit(Xt, y, **fit_params_last_step)\n",
      "  File \"c:\\users\\georg\\documents\\msc-project\\venv\\lib\\site-packages\\sklearn\\kernel_ridge.py\", line 197, in fit\n",
      "    K = self._get_kernel(X)\n",
      "  File \"c:\\users\\georg\\documents\\msc-project\\venv\\lib\\site-packages\\sklearn\\kernel_ridge.py\", line 155, in _get_kernel\n",
      "    return pairwise_kernels(X, Y, metric=self.kernel, filter_params=True, **params)\n",
      "  File \"c:\\users\\georg\\documents\\msc-project\\venv\\lib\\site-packages\\sklearn\\metrics\\pairwise.py\", line 2048, in pairwise_kernels\n",
      "    return _parallel_pairwise(X, Y, func, n_jobs, **kwds)\n",
      "  File \"c:\\users\\georg\\documents\\msc-project\\venv\\lib\\site-packages\\sklearn\\metrics\\pairwise.py\", line 1425, in _parallel_pairwise\n",
      "    return func(X, Y, **kwds)\n",
      "  File \"c:\\users\\georg\\documents\\msc-project\\venv\\lib\\site-packages\\sklearn\\metrics\\pairwise.py\", line 1362, in chi2_kernel\n",
      "    K = additive_chi2_kernel(X, Y)\n",
      "  File \"c:\\users\\georg\\documents\\msc-project\\venv\\lib\\site-packages\\sklearn\\metrics\\pairwise.py\", line 1311, in additive_chi2_kernel\n",
      "    raise ValueError(\"X contains negative values.\")\n",
      "ValueError: X contains negative values.\n",
      "\n",
      "  warnings.warn(some_fits_failed_message, FitFailedWarning)\n",
      "c:\\users\\georg\\documents\\msc-project\\venv\\lib\\site-packages\\sklearn\\model_selection\\_search.py:969: UserWarning: One or more of the test scores are non-finite: [-2.16407971e-01 -2.16373587e-01 -2.16030901e-01 -4.02874044e-01\n",
      " -4.47610302e+03             nan -2.65058653e-01 -1.35463905e+06\n",
      "             nan -2.20975849e-01 -6.50508838e+04             nan\n",
      " -3.49505983e-01 -2.25548554e+01 -7.88120688e+02]\n",
      "  warnings.warn(\n"
     ]
    },
    {
     "data": {
      "text/plain": [
       "GridSearchCV(estimator=Pipeline(steps=[('std', StandardScaler()),\n",
       "                                       ('kr', KernelRidge())]),\n",
       "             n_jobs=3,\n",
       "             param_grid=[{'kr__alpha': [0.1, 1, 10]},\n",
       "                         {'kr__gamma': [0.1, 1, 10],\n",
       "                          'kr__kernel': ['rbf', 'sigmoid', 'chi2']},\n",
       "                         {'kr__degree': [2, 3, 4],\n",
       "                          'kr__kernel': ['polynomial']}],\n",
       "             scoring='r2', verbose=4)"
      ]
     },
     "execution_count": 6,
     "metadata": {},
     "output_type": "execute_result"
    }
   ],
   "source": [
    "params = [\n",
    "    {'kr__alpha': [0.1,1,10]},\n",
    "    {'kr__kernel':['rbf','sigmoid','chi2'],'kr__gamma':[0.1,1,10]},\n",
    "    {'kr__kernel':['polynomial'],'kr__degree':[2,3,4]}\n",
    "]\n",
    "\n",
    "model = Pipeline([\n",
    "    (\"std\",StandardScaler()),\n",
    "    (\"kr\",kernel_ridge.KernelRidge())\n",
    "])\n",
    "\n",
    "optimizer = GridSearchCV(\n",
    "    model,\n",
    "    param_grid=params,\n",
    "    scoring='r2',\n",
    "    n_jobs=3,\n",
    "    verbose=4\n",
    ")\n",
    "optimizer.fit(data, targets)"
   ]
  },
  {
   "cell_type": "code",
   "execution_count": 7,
   "id": "004ad0a9",
   "metadata": {},
   "outputs": [
    {
     "data": {
      "text/plain": [
       "{'kr__alpha': 10}"
      ]
     },
     "execution_count": 7,
     "metadata": {},
     "output_type": "execute_result"
    }
   ],
   "source": [
    "optimizer.best_params_"
   ]
  },
  {
   "cell_type": "code",
   "execution_count": 9,
   "id": "07c82124",
   "metadata": {},
   "outputs": [],
   "source": [
    "scores = evaluate_model(kernel_ridge.KernelRidge(alpha=10),metrics,data,targets)"
   ]
  },
  {
   "cell_type": "code",
   "execution_count": 10,
   "id": "116ddef6",
   "metadata": {},
   "outputs": [
    {
     "data": {
      "text/html": [
       "<div>\n",
       "<style scoped>\n",
       "    .dataframe tbody tr th:only-of-type {\n",
       "        vertical-align: middle;\n",
       "    }\n",
       "\n",
       "    .dataframe tbody tr th {\n",
       "        vertical-align: top;\n",
       "    }\n",
       "\n",
       "    .dataframe thead th {\n",
       "        text-align: right;\n",
       "    }\n",
       "</style>\n",
       "<table border=\"1\" class=\"dataframe\">\n",
       "  <thead>\n",
       "    <tr style=\"text-align: right;\">\n",
       "      <th></th>\n",
       "      <th>fit_time</th>\n",
       "      <th>score_time</th>\n",
       "      <th>test_r2</th>\n",
       "      <th>test_neg_mean_absolute_error</th>\n",
       "      <th>test_neg_root_mean_squared_error</th>\n",
       "    </tr>\n",
       "  </thead>\n",
       "  <tbody>\n",
       "    <tr>\n",
       "      <th>0</th>\n",
       "      <td>2.534089</td>\n",
       "      <td>0.044117</td>\n",
       "      <td>-0.156519</td>\n",
       "      <td>-8.783641e+06</td>\n",
       "      <td>-2.063973e+07</td>\n",
       "    </tr>\n",
       "    <tr>\n",
       "      <th>1</th>\n",
       "      <td>2.506280</td>\n",
       "      <td>0.045136</td>\n",
       "      <td>-0.253605</td>\n",
       "      <td>-5.960049e+06</td>\n",
       "      <td>-1.126665e+07</td>\n",
       "    </tr>\n",
       "    <tr>\n",
       "      <th>2</th>\n",
       "      <td>2.563355</td>\n",
       "      <td>0.044612</td>\n",
       "      <td>-0.071045</td>\n",
       "      <td>-5.806377e+06</td>\n",
       "      <td>-1.593181e+07</td>\n",
       "    </tr>\n",
       "    <tr>\n",
       "      <th>3</th>\n",
       "      <td>2.560350</td>\n",
       "      <td>0.044640</td>\n",
       "      <td>-0.037648</td>\n",
       "      <td>-3.114419e+06</td>\n",
       "      <td>-1.028109e+07</td>\n",
       "    </tr>\n",
       "    <tr>\n",
       "      <th>4</th>\n",
       "      <td>2.562359</td>\n",
       "      <td>0.044121</td>\n",
       "      <td>-0.561338</td>\n",
       "      <td>-2.712654e+06</td>\n",
       "      <td>-4.725487e+06</td>\n",
       "    </tr>\n",
       "  </tbody>\n",
       "</table>\n",
       "</div>"
      ],
      "text/plain": [
       "   fit_time  score_time   test_r2  test_neg_mean_absolute_error  \\\n",
       "0  2.534089    0.044117 -0.156519                 -8.783641e+06   \n",
       "1  2.506280    0.045136 -0.253605                 -5.960049e+06   \n",
       "2  2.563355    0.044612 -0.071045                 -5.806377e+06   \n",
       "3  2.560350    0.044640 -0.037648                 -3.114419e+06   \n",
       "4  2.562359    0.044121 -0.561338                 -2.712654e+06   \n",
       "\n",
       "   test_neg_root_mean_squared_error  \n",
       "0                     -2.063973e+07  \n",
       "1                     -1.126665e+07  \n",
       "2                     -1.593181e+07  \n",
       "3                     -1.028109e+07  \n",
       "4                     -4.725487e+06  "
      ]
     },
     "execution_count": 10,
     "metadata": {},
     "output_type": "execute_result"
    }
   ],
   "source": [
    "pd.DataFrame(scores)"
   ]
  },
  {
   "cell_type": "code",
   "execution_count": null,
   "id": "35fc6b59",
   "metadata": {},
   "outputs": [],
   "source": []
  }
 ],
 "metadata": {
  "kernelspec": {
   "display_name": "Python 3 (ipykernel)",
   "language": "python",
   "name": "python3"
  },
  "language_info": {
   "codemirror_mode": {
    "name": "ipython",
    "version": 3
   },
   "file_extension": ".py",
   "mimetype": "text/x-python",
   "name": "python",
   "nbconvert_exporter": "python",
   "pygments_lexer": "ipython3",
   "version": "3.9.5"
  }
 },
 "nbformat": 4,
 "nbformat_minor": 5
}
