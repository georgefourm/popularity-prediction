{
 "cells": [
  {
   "cell_type": "markdown",
   "id": "0e9f7f0c",
   "metadata": {},
   "source": [
    "# Regression Approach\n",
    "\n",
    "This notebook is dedicated to modelling the problem as a regression problem. Different regression techniques are evaluated, and then the best-performing one is optimized in terms of hyper-parameters"
   ]
  },
  {
   "cell_type": "code",
   "execution_count": 1,
   "id": "696193a8",
   "metadata": {
    "scrolled": true
   },
   "outputs": [
    {
     "name": "stdout",
     "output_type": "stream",
     "text": [
      "C:\\Users\\georg\\Documents\\msc-project\n"
     ]
    }
   ],
   "source": [
    "# Change directory for cleaner path handling\n",
    "%cd .."
   ]
  },
  {
   "cell_type": "code",
   "execution_count": 22,
   "id": "ba8f7913",
   "metadata": {},
   "outputs": [],
   "source": [
    "import pandas as pd\n",
    "import numpy as np\n",
    "import matplotlib.pyplot as plt\n",
    "\n",
    "from sklearn import tree, linear_model, dummy, kernel_ridge, gaussian_process\n",
    "from sklearn.preprocessing import PolynomialFeatures,StandardScaler\n",
    "from sklearn.pipeline import Pipeline\n",
    "from sklearn.model_selection import GridSearchCV\n",
    "\n",
    "from src.evaluation import compare_models"
   ]
  },
  {
   "cell_type": "markdown",
   "id": "ea9640e6",
   "metadata": {},
   "source": [
    "## Feature selection"
   ]
  },
  {
   "cell_type": "code",
   "execution_count": 3,
   "id": "71b0556b",
   "metadata": {},
   "outputs": [],
   "source": [
    "df = pd.read_csv(\"data/interim/tracks.csv\")\n",
    "targets = df['views']\n",
    "features = [\n",
    "    'danceability',\n",
    "    'energy',\n",
    "    'key',\n",
    "    'loudness',\n",
    "    'mode',\n",
    "    'speechiness',\n",
    "    'acousticness',\n",
    "    'instrumentalness',\n",
    "    'liveness',\n",
    "    'valence',\n",
    "    'tempo',\n",
    "    'time_signature',\n",
    "    'duration_ms',\n",
    "    'popularity'\n",
    "]\n",
    "\n",
    "data = df[features]"
   ]
  },
  {
   "cell_type": "markdown",
   "id": "a0ee4af5",
   "metadata": {},
   "source": [
    "## Model comparison\n",
    "Different regression models are compared with their default parameters to establish a baseline"
   ]
  },
  {
   "cell_type": "code",
   "execution_count": 19,
   "id": "3b012e3c",
   "metadata": {},
   "outputs": [
    {
     "name": "stdout",
     "output_type": "stream",
     "text": [
      "Evaluating Baseline\n",
      "Evaluating Linear Regression\n",
      "Evaluating Polynomial Regression\n",
      "Evaluating Decision Tree\n",
      "Evaluating Kernel Ridge\n",
      "Evaluating Gaussian Process\n"
     ]
    },
    {
     "data": {
      "text/html": [
       "<div>\n",
       "<style scoped>\n",
       "    .dataframe tbody tr th:only-of-type {\n",
       "        vertical-align: middle;\n",
       "    }\n",
       "\n",
       "    .dataframe tbody tr th {\n",
       "        vertical-align: top;\n",
       "    }\n",
       "\n",
       "    .dataframe thead th {\n",
       "        text-align: right;\n",
       "    }\n",
       "</style>\n",
       "<table border=\"1\" class=\"dataframe\">\n",
       "  <thead>\n",
       "    <tr style=\"text-align: right;\">\n",
       "      <th></th>\n",
       "      <th>model</th>\n",
       "      <th>fit_time</th>\n",
       "      <th>score_time</th>\n",
       "      <th>test_r2</th>\n",
       "      <th>test_neg_mean_absolute_error</th>\n",
       "      <th>test_neg_root_mean_squared_error</th>\n",
       "    </tr>\n",
       "  </thead>\n",
       "  <tbody>\n",
       "    <tr>\n",
       "      <th>0</th>\n",
       "      <td>Baseline</td>\n",
       "      <td>0.005755</td>\n",
       "      <td>0.001989</td>\n",
       "      <td>-0.070703</td>\n",
       "      <td>-6.882784e+06</td>\n",
       "      <td>-1.324836e+07</td>\n",
       "    </tr>\n",
       "    <tr>\n",
       "      <th>1</th>\n",
       "      <td>Linear Regression</td>\n",
       "      <td>0.006944</td>\n",
       "      <td>0.002281</td>\n",
       "      <td>-0.053032</td>\n",
       "      <td>-6.737619e+06</td>\n",
       "      <td>-1.312380e+07</td>\n",
       "    </tr>\n",
       "    <tr>\n",
       "      <th>2</th>\n",
       "      <td>Polynomial Regression</td>\n",
       "      <td>0.432908</td>\n",
       "      <td>0.012804</td>\n",
       "      <td>-7.952778</td>\n",
       "      <td>-8.266243e+06</td>\n",
       "      <td>-2.533421e+07</td>\n",
       "    </tr>\n",
       "    <tr>\n",
       "      <th>3</th>\n",
       "      <td>Decision Tree</td>\n",
       "      <td>0.113087</td>\n",
       "      <td>0.002678</td>\n",
       "      <td>-1.127108</td>\n",
       "      <td>-8.008613e+06</td>\n",
       "      <td>-1.806972e+07</td>\n",
       "    </tr>\n",
       "    <tr>\n",
       "      <th>4</th>\n",
       "      <td>Kernel Ridge</td>\n",
       "      <td>2.045796</td>\n",
       "      <td>0.040080</td>\n",
       "      <td>-0.126467</td>\n",
       "      <td>-5.664363e+06</td>\n",
       "      <td>-1.367353e+07</td>\n",
       "    </tr>\n",
       "    <tr>\n",
       "      <th>5</th>\n",
       "      <td>Gaussian Process</td>\n",
       "      <td>4.784020</td>\n",
       "      <td>0.812441</td>\n",
       "      <td>-6354.380109</td>\n",
       "      <td>-1.661785e+08</td>\n",
       "      <td>-8.411587e+08</td>\n",
       "    </tr>\n",
       "  </tbody>\n",
       "</table>\n",
       "</div>"
      ],
      "text/plain": [
       "                   model  fit_time  score_time      test_r2  \\\n",
       "0               Baseline  0.005755    0.001989    -0.070703   \n",
       "1      Linear Regression  0.006944    0.002281    -0.053032   \n",
       "2  Polynomial Regression  0.432908    0.012804    -7.952778   \n",
       "3          Decision Tree  0.113087    0.002678    -1.127108   \n",
       "4           Kernel Ridge  2.045796    0.040080    -0.126467   \n",
       "5       Gaussian Process  4.784020    0.812441 -6354.380109   \n",
       "\n",
       "   test_neg_mean_absolute_error  test_neg_root_mean_squared_error  \n",
       "0                 -6.882784e+06                     -1.324836e+07  \n",
       "1                 -6.737619e+06                     -1.312380e+07  \n",
       "2                 -8.266243e+06                     -2.533421e+07  \n",
       "3                 -8.008613e+06                     -1.806972e+07  \n",
       "4                 -5.664363e+06                     -1.367353e+07  \n",
       "5                 -1.661785e+08                     -8.411587e+08  "
      ]
     },
     "execution_count": 19,
     "metadata": {},
     "output_type": "execute_result"
    }
   ],
   "source": [
    "models = [\n",
    "    (\"Baseline\", dummy.DummyRegressor(strategy='mean')),\n",
    "    (\"Linear Regression\", linear_model.LinearRegression()),\n",
    "    (\"Polynomial Regression\", Pipeline([\n",
    "        ('poly', PolynomialFeatures(degree=3)),\n",
    "        ('linear', linear_model.LinearRegression())\n",
    "    ])),\n",
    "    (\"Decision Tree\", tree.DecisionTreeRegressor()),\n",
    "    (\"Kernel Ridge\", kernel_ridge.KernelRidge(),\n",
    "    (\"Gaussian Process\", gaussian_process.GaussianProcessRegressor()),\n",
    "]\n",
    "metrics = [\n",
    "    'r2',\n",
    "    'neg_mean_absolute_error',\n",
    "    'neg_root_mean_squared_error',\n",
    "]\n",
    "compare_models(models, metrics, data, targets)"
   ]
  },
  {
   "cell_type": "markdown",
   "id": "558caf5a",
   "metadata": {},
   "source": [
    "## Model Optimization\n",
    "The best performing model's hyperparameters will be optimized using Grid Search on the hyperparameter space"
   ]
  },
  {
   "cell_type": "code",
   "execution_count": 25,
   "id": "b0b3df5c",
   "metadata": {},
   "outputs": [
    {
     "name": "stdout",
     "output_type": "stream",
     "text": [
      "Fitting 5 folds for each of 15 candidates, totalling 75 fits\n"
     ]
    },
    {
     "name": "stderr",
     "output_type": "stream",
     "text": [
      "c:\\users\\georg\\documents\\msc-project\\venv\\lib\\site-packages\\sklearn\\model_selection\\_validation.py:372: FitFailedWarning: \n",
      "15 fits failed out of a total of 75.\n",
      "The score on these train-test partitions for these parameters will be set to nan.\n",
      "If these failures are not expected, you can try to debug them by setting error_score='raise'.\n",
      "\n",
      "Below are more details about the failures:\n",
      "--------------------------------------------------------------------------------\n",
      "15 fits failed with the following error:\n",
      "Traceback (most recent call last):\n",
      "  File \"c:\\users\\georg\\documents\\msc-project\\venv\\lib\\site-packages\\sklearn\\model_selection\\_validation.py\", line 681, in _fit_and_score\n",
      "    estimator.fit(X_train, y_train, **fit_params)\n",
      "  File \"c:\\users\\georg\\documents\\msc-project\\venv\\lib\\site-packages\\sklearn\\pipeline.py\", line 394, in fit\n",
      "    self._final_estimator.fit(Xt, y, **fit_params_last_step)\n",
      "  File \"c:\\users\\georg\\documents\\msc-project\\venv\\lib\\site-packages\\sklearn\\kernel_ridge.py\", line 197, in fit\n",
      "    K = self._get_kernel(X)\n",
      "  File \"c:\\users\\georg\\documents\\msc-project\\venv\\lib\\site-packages\\sklearn\\kernel_ridge.py\", line 155, in _get_kernel\n",
      "    return pairwise_kernels(X, Y, metric=self.kernel, filter_params=True, **params)\n",
      "  File \"c:\\users\\georg\\documents\\msc-project\\venv\\lib\\site-packages\\sklearn\\metrics\\pairwise.py\", line 2048, in pairwise_kernels\n",
      "    return _parallel_pairwise(X, Y, func, n_jobs, **kwds)\n",
      "  File \"c:\\users\\georg\\documents\\msc-project\\venv\\lib\\site-packages\\sklearn\\metrics\\pairwise.py\", line 1425, in _parallel_pairwise\n",
      "    return func(X, Y, **kwds)\n",
      "  File \"c:\\users\\georg\\documents\\msc-project\\venv\\lib\\site-packages\\sklearn\\metrics\\pairwise.py\", line 1362, in chi2_kernel\n",
      "    K = additive_chi2_kernel(X, Y)\n",
      "  File \"c:\\users\\georg\\documents\\msc-project\\venv\\lib\\site-packages\\sklearn\\metrics\\pairwise.py\", line 1311, in additive_chi2_kernel\n",
      "    raise ValueError(\"X contains negative values.\")\n",
      "ValueError: X contains negative values.\n",
      "\n",
      "  warnings.warn(some_fits_failed_message, FitFailedWarning)\n",
      "c:\\users\\georg\\documents\\msc-project\\venv\\lib\\site-packages\\sklearn\\model_selection\\_search.py:969: UserWarning: One or more of the test scores are non-finite: [-1.26474041e-01 -1.26466917e-01 -1.26396052e-01 -1.07327310e-01\n",
      " -2.99371218e+03             nan -1.13871333e-01 -2.87505837e+05\n",
      "             nan -1.24266815e-01 -1.32162243e+04             nan\n",
      " -7.82579429e-02 -4.64958734e+00 -2.26782685e+03]\n",
      "  warnings.warn(\n"
     ]
    },
    {
     "data": {
      "text/plain": [
       "GridSearchCV(estimator=Pipeline(steps=[('std', StandardScaler()),\n",
       "                                       ('kr', KernelRidge())]),\n",
       "             n_jobs=3,\n",
       "             param_grid=[{'kr__alpha': [0.1, 1, 10]},\n",
       "                         {'kr__gamma': [0.1, 1, 10],\n",
       "                          'kr__kernel': ['rbf', 'sigmoid', 'chi2']},\n",
       "                         {'kr__degree': [2, 3, 4],\n",
       "                          'kr__kernel': ['polynomial']}],\n",
       "             scoring='r2', verbose=4)"
      ]
     },
     "execution_count": 25,
     "metadata": {},
     "output_type": "execute_result"
    }
   ],
   "source": [
    "params = [\n",
    "    {'kr__alpha': [0.1,1,10]},\n",
    "    {'kr__kernel':['rbf','sigmoid','chi2'],'kr__gamma':[0.1,1,10]},\n",
    "    {'kr__kernel':['polynomial'],'kr__degree':[2,3,4]}\n",
    "]\n",
    "\n",
    "model = Pipeline([\n",
    "    (\"std\",StandardScaler()),\n",
    "    (\"kr\",kernel_ridge.KernelRidge())\n",
    "])\n",
    "\n",
    "optimizer = GridSearchCV(\n",
    "    model,\n",
    "    param_grid=params,\n",
    "    scoring='r2',\n",
    "    n_jobs=3,\n",
    "    verbose=4\n",
    ")\n",
    "optimizer.fit(data, targets)"
   ]
  },
  {
   "cell_type": "code",
   "execution_count": null,
   "id": "004ad0a9",
   "metadata": {},
   "outputs": [],
   "source": []
  }
 ],
 "metadata": {
  "kernelspec": {
   "display_name": "Python 3 (ipykernel)",
   "language": "python",
   "name": "python3"
  },
  "language_info": {
   "codemirror_mode": {
    "name": "ipython",
    "version": 3
   },
   "file_extension": ".py",
   "mimetype": "text/x-python",
   "name": "python",
   "nbconvert_exporter": "python",
   "pygments_lexer": "ipython3",
   "version": "3.9.5"
  }
 },
 "nbformat": 4,
 "nbformat_minor": 5
}
