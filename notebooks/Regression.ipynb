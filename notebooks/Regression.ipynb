{
 "cells": [
  {
   "cell_type": "markdown",
   "id": "0e9f7f0c",
   "metadata": {},
   "source": [
    "# Regression Approach\n",
    "\n",
    "This notebook is dedicated to modelling the problem as a regression problem. Different regression techniques are evaluated, and then the best-performing one is optimized in terms of hyper-parameters"
   ]
  },
  {
   "cell_type": "code",
   "execution_count": 1,
   "id": "696193a8",
   "metadata": {
    "scrolled": true
   },
   "outputs": [
    {
     "name": "stdout",
     "output_type": "stream",
     "text": [
      "C:\\Users\\georg\\Documents\\msc-project\n"
     ]
    }
   ],
   "source": [
    "# Change directory for cleaner path handling\n",
    "%cd .."
   ]
  },
  {
   "cell_type": "code",
   "execution_count": 2,
   "id": "ba8f7913",
   "metadata": {},
   "outputs": [],
   "source": [
    "import pandas as pd\n",
    "import numpy as np\n",
    "import seaborn as sns\n",
    "\n",
    "import matplotlib.pyplot as plt\n",
    "from sklearn.preprocessing import StandardScaler,MinMaxScaler\n",
    "from sklearn import linear_model\n",
    "from sklearn.decomposition import PCA\n",
    "\n",
    "from sklearn.model_selection import cross_validate,train_test_split\n",
    "from sklearn import tree, linear_model, dummy, kernel_ridge, gaussian_process\n",
    "from sklearn.preprocessing import PolynomialFeatures\n",
    "from sklearn.pipeline import Pipeline\n",
    "\n",
    "from sklearn.metrics import r2_score, mean_absolute_error, mean_squared_error"
   ]
  },
  {
   "cell_type": "code",
   "execution_count": 3,
   "id": "4dd2cc06",
   "metadata": {},
   "outputs": [],
   "source": [
    "df = pd.read_csv(\"data/interim/tracks.csv\")"
   ]
  },
  {
   "cell_type": "markdown",
   "id": "3b159e4e",
   "metadata": {},
   "source": [
    "## Feature normalization\n",
    "Initially, the target variable is constrained to the 0-100 range so as to account for the large differences between values, as well as the large values themselves.\n",
    "\n",
    "The other features are also scaled to be in the same range, as they are measurements with different initial scales."
   ]
  },
  {
   "cell_type": "code",
   "execution_count": 9,
   "id": "71b0556b",
   "metadata": {},
   "outputs": [],
   "source": [
    "targets = df['views']\n",
    "features = [\n",
    "    'danceability',\n",
    "    'energy',\n",
    "    'key',\n",
    "    'loudness',\n",
    "    'mode',\n",
    "    'speechiness',\n",
    "    'acousticness',\n",
    "    'instrumentalness',\n",
    "    'liveness',\n",
    "    'valence',\n",
    "    'tempo',\n",
    "    'time_signature',\n",
    "    'duration_ms',\n",
    "    'popularity'\n",
    "]\n",
    "\n",
    "data = df[features]"
   ]
  },
  {
   "cell_type": "markdown",
   "id": "a0ee4af5",
   "metadata": {},
   "source": [
    "## Model comparison\n",
    "Different regression models are compared with their default parameters to establish a baseline"
   ]
  },
  {
   "cell_type": "code",
   "execution_count": 24,
   "id": "fed813c4",
   "metadata": {},
   "outputs": [],
   "source": [
    "def evaluate_model(model):\n",
    "    results = cross_validate(model, data, targets, scoring=[\n",
    "        'r2',\n",
    "        'neg_mean_absolute_error',\n",
    "        'neg_root_mean_squared_error',\n",
    "    ])\n",
    "    return results"
   ]
  },
  {
   "cell_type": "code",
   "execution_count": null,
   "id": "2fa39ea9",
   "metadata": {},
   "outputs": [
    {
     "name": "stdout",
     "output_type": "stream",
     "text": [
      "       fit_time    score_time       test_r2  test_neg_mean_absolute_error  \\\n",
      "0  1.983643e-03  1.484871e-03  9.591579e-04                  9.908676e-04   \n",
      "1  4.973412e-04  4.963875e-04  9.930134e-04                  9.918213e-04   \n",
      "2 -5.492043e-02 -2.080874e-02 -3.950145e-04                 -4.663148e-02   \n",
      "3 -9.606872e+06 -6.950660e+06 -6.965370e+06                 -6.336668e+06   \n",
      "4 -2.059365e+07 -1.144987e+07 -1.465914e+07                 -1.100182e+07   \n",
      "\n",
      "   test_neg_root_mean_squared_error  \n",
      "0                      9.920597e-04  \n",
      "1                      9.915829e-04  \n",
      "2                     -2.230797e-01  \n",
      "3                     -5.667681e+06  \n",
      "4                     -1.007470e+07  \n",
      "       fit_time    score_time       test_r2  test_neg_mean_absolute_error  \\\n",
      "0  5.458355e-03  5.952120e-03  5.431652e-03                  3.967285e-03   \n",
      "1  2.973557e-03  2.008438e-03  1.983881e-03                  1.983881e-03   \n",
      "2 -3.030485e-02 -1.333974e-02  2.986672e-02                 -2.206331e-02   \n",
      "3 -9.429460e+06 -6.863584e+06 -6.869542e+06                 -6.184205e+06   \n",
      "4 -2.035196e+07 -1.140790e+07 -1.443572e+07                 -1.087193e+07   \n",
      "\n",
      "   test_neg_root_mean_squared_error  \n",
      "0                      3.968000e-03  \n",
      "1                      1.488209e-03  \n",
      "2                     -2.358543e-01  \n",
      "3                     -5.477752e+06  \n",
      "4                     -1.012718e+07  \n",
      "       fit_time    score_time       test_r2  test_neg_mean_absolute_error  \\\n",
      "0  3.997748e-01  3.987842e-01  4.459023e-01                  4.240794e-01   \n",
      "1  1.190472e-02  1.091146e-02  1.091242e-02                  1.140833e-02   \n",
      "2 -3.148613e-02 -3.775029e-01 -9.460211e-02                 -4.953072e+01   \n",
      "3 -9.574834e+06 -8.299676e+06 -7.278212e+06                 -8.932068e+06   \n",
      "4 -2.036363e+07 -1.330070e+07 -1.533383e+07                 -7.644436e+07   \n",
      "\n",
      "   test_neg_root_mean_squared_error  \n",
      "0                      4.126706e-01  \n",
      "1                      1.094031e-02  \n",
      "2                     -3.745441e-01  \n",
      "3                     -5.889229e+06  \n",
      "4                     -1.068032e+07  \n",
      "       fit_time    score_time       test_r2  test_neg_mean_absolute_error  \\\n",
      "0  1.086507e-01  1.021736e-01  1.200325e-01                  1.160913e-01   \n",
      "1  2.464056e-03  2.480030e-03  2.479076e-03                  1.986980e-03   \n",
      "2 -6.412135e-01 -1.291962e+00 -6.040808e-01                 -1.867423e+00   \n",
      "3 -1.204625e+07 -8.207192e+06 -8.218072e+06                 -7.821247e+06   \n",
      "4 -2.568656e+07 -1.715663e+07 -1.856247e+07                 -1.821015e+07   \n",
      "\n",
      "   test_neg_root_mean_squared_error  \n",
      "0                      1.006937e-01  \n",
      "1                      1.978636e-03  \n",
      "2                     -2.651872e+00  \n",
      "3                     -6.565317e+06  \n",
      "4                     -1.740855e+07  \n",
      "       fit_time    score_time       test_r2  test_neg_mean_absolute_error  \\\n",
      "0  3.745763e+00  3.692682e+00  3.664439e+00                  3.805802e+00   \n",
      "1  4.742069e-01  4.652791e-01  4.835732e-01                  4.856167e-01   \n",
      "2 -2.269047e-01 -2.866636e-01 -3.363612e-02                  2.933281e-03   \n",
      "3 -9.441646e+06 -6.224659e+06 -5.247325e+06                 -3.325187e+06   \n",
      "4 -2.220899e+07 -1.285467e+07 -1.490069e+07                 -1.073816e+07   \n",
      "\n",
      "   test_neg_root_mean_squared_error  \n",
      "0                      3.770085e+00  \n",
      "1                      4.731560e-01  \n",
      "2                     -1.347679e-01  \n",
      "3                     -2.012025e+06  \n",
      "4                     -9.704168e+06  \n"
     ]
    }
   ],
   "source": [
    "def compare_models(data, targets):\n",
    "    models = [\n",
    "        (\"Baseline\", dummy.DummyRegressor(strategy='mean')),\n",
    "        (\"Linear Regression\", linear_model.LinearRegression()),\n",
    "        (\"Polynomial Regression\", Pipeline([\n",
    "            ('poly', PolynomialFeatures(degree=3)),\n",
    "            ('linear', linear_model.LinearRegression())\n",
    "        ])),\n",
    "        (\"Decision Tree\", tree.DecisionTreeRegressor()),\n",
    "        (\"Kernel Ridge\", kernel_ridge.KernelRidge(kernel='rbf')),\n",
    "        (\"Gaussian Process\", gaussian_process.GaussianProcessRegressor()),\n",
    "    ]\n",
    "    \n",
    "    for name, model in models:\n",
    "        scores = evaluate_model(model)\n",
    "        table = pd.DataFrame(scores.values(),columns=scores.keys())\n",
    "        print(table)\n",
    "\n",
    "compare_models(data,targets)"
   ]
  },
  {
   "cell_type": "code",
   "execution_count": null,
   "id": "8e9c5d00",
   "metadata": {},
   "outputs": [],
   "source": []
  }
 ],
 "metadata": {
  "kernelspec": {
   "display_name": "Python 3 (ipykernel)",
   "language": "python",
   "name": "python3"
  },
  "language_info": {
   "codemirror_mode": {
    "name": "ipython",
    "version": 3
   },
   "file_extension": ".py",
   "mimetype": "text/x-python",
   "name": "python",
   "nbconvert_exporter": "python",
   "pygments_lexer": "ipython3",
   "version": "3.9.5"
  }
 },
 "nbformat": 4,
 "nbformat_minor": 5
}
