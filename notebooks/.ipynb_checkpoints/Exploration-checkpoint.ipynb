{
 "cells": [
  {
   "cell_type": "code",
   "execution_count": 3,
   "id": "3157ab0a",
   "metadata": {},
   "outputs": [
    {
     "name": "stdout",
     "output_type": "stream",
     "text": [
      "C:\\Users\\georg\\Documents\\msc-projcet\n"
     ]
    }
   ],
   "source": [
    "%cd .."
   ]
  },
  {
   "cell_type": "code",
   "execution_count": 36,
   "id": "25cc8334",
   "metadata": {},
   "outputs": [],
   "source": [
    "import pandas as pd\n",
    "from src.data.emails import clean_content\n",
    "from textblob import TextBlob\n",
    "from vaderSentiment.vaderSentiment import SentimentIntensityAnalyzer\n",
    "from nltk import tokenize\n",
    "import nltk"
   ]
  },
  {
   "cell_type": "code",
   "execution_count": 37,
   "id": "c1296843",
   "metadata": {},
   "outputs": [
    {
     "name": "stderr",
     "output_type": "stream",
     "text": [
      "[nltk_data] Downloading package punkt to\n",
      "[nltk_data]     C:\\Users\\georg\\AppData\\Roaming\\nltk_data...\n",
      "[nltk_data]   Unzipping tokenizers\\punkt.zip.\n"
     ]
    },
    {
     "data": {
      "text/plain": [
       "True"
      ]
     },
     "execution_count": 37,
     "metadata": {},
     "output_type": "execute_result"
    }
   ],
   "source": [
    "nltk.download('punkt')"
   ]
  },
  {
   "cell_type": "code",
   "execution_count": 5,
   "id": "b791510a",
   "metadata": {},
   "outputs": [],
   "source": [
    "docs_df = pd.read_pickle(\"data/raw/webtrans/documents.pkl\")\n",
    "events_df = pd.read_pickle(\"data/raw/webtrans/events.pkl\")\n",
    "emails_df = pd.read_pickle(\"data/raw/webtransport/emails.pkl\")"
   ]
  },
  {
   "cell_type": "code",
   "execution_count": 6,
   "id": "e4214b31",
   "metadata": {},
   "outputs": [
    {
     "data": {
      "text/html": [
       "<div>\n",
       "<style scoped>\n",
       "    .dataframe tbody tr th:only-of-type {\n",
       "        vertical-align: middle;\n",
       "    }\n",
       "\n",
       "    .dataframe tbody tr th {\n",
       "        vertical-align: top;\n",
       "    }\n",
       "\n",
       "    .dataframe thead th {\n",
       "        text-align: right;\n",
       "    }\n",
       "</style>\n",
       "<table border=\"1\" class=\"dataframe\">\n",
       "  <thead>\n",
       "    <tr style=\"text-align: right;\">\n",
       "      <th></th>\n",
       "      <th>id</th>\n",
       "      <th>name</th>\n",
       "      <th>title</th>\n",
       "      <th>timestamp</th>\n",
       "      <th>rfc_number</th>\n",
       "      <th>expires</th>\n",
       "      <th>revision</th>\n",
       "    </tr>\n",
       "  </thead>\n",
       "  <tbody>\n",
       "    <tr>\n",
       "      <th>0</th>\n",
       "      <td>90872</td>\n",
       "      <td>draft-vvv-webtransport-overview</td>\n",
       "      <td>The WebTransport Protocol Framework</td>\n",
       "      <td>2020-04-15 13:49:33</td>\n",
       "      <td>None</td>\n",
       "      <td>2020-05-06T15:41:29</td>\n",
       "      <td>01</td>\n",
       "    </tr>\n",
       "    <tr>\n",
       "      <th>1</th>\n",
       "      <td>90874</td>\n",
       "      <td>draft-vvv-webtransport-http3</td>\n",
       "      <td>WebTransport over HTTP/3</td>\n",
       "      <td>2021-02-15 13:34:23</td>\n",
       "      <td>None</td>\n",
       "      <td>2021-07-31T15:53:13</td>\n",
       "      <td>03</td>\n",
       "    </tr>\n",
       "    <tr>\n",
       "      <th>2</th>\n",
       "      <td>95552</td>\n",
       "      <td>draft-kinnear-webtransport-http2</td>\n",
       "      <td>WebTransport using HTTP/2</td>\n",
       "      <td>2021-06-17 17:52:38</td>\n",
       "      <td>None</td>\n",
       "      <td>2021-08-26T14:42:26</td>\n",
       "      <td>02</td>\n",
       "    </tr>\n",
       "    <tr>\n",
       "      <th>3</th>\n",
       "      <td>96175</td>\n",
       "      <td>draft-ietf-webtrans-overview</td>\n",
       "      <td>The WebTransport Protocol Framework</td>\n",
       "      <td>2021-07-28 18:00:34</td>\n",
       "      <td>None</td>\n",
       "      <td>2022-01-29T18:00:34</td>\n",
       "      <td>02</td>\n",
       "    </tr>\n",
       "    <tr>\n",
       "      <th>4</th>\n",
       "      <td>100488</td>\n",
       "      <td>draft-ietf-webtrans-http3</td>\n",
       "      <td>WebTransport over HTTP/3</td>\n",
       "      <td>2021-05-19 13:13:57</td>\n",
       "      <td>None</td>\n",
       "      <td>2021-11-20T13:13:57</td>\n",
       "      <td>01</td>\n",
       "    </tr>\n",
       "  </tbody>\n",
       "</table>\n",
       "</div>"
      ],
      "text/plain": [
       "       id                              name  \\\n",
       "0   90872   draft-vvv-webtransport-overview   \n",
       "1   90874      draft-vvv-webtransport-http3   \n",
       "2   95552  draft-kinnear-webtransport-http2   \n",
       "3   96175      draft-ietf-webtrans-overview   \n",
       "4  100488         draft-ietf-webtrans-http3   \n",
       "\n",
       "                                 title           timestamp rfc_number  \\\n",
       "0  The WebTransport Protocol Framework 2020-04-15 13:49:33       None   \n",
       "1             WebTransport over HTTP/3 2021-02-15 13:34:23       None   \n",
       "2            WebTransport using HTTP/2 2021-06-17 17:52:38       None   \n",
       "3  The WebTransport Protocol Framework 2021-07-28 18:00:34       None   \n",
       "4             WebTransport over HTTP/3 2021-05-19 13:13:57       None   \n",
       "\n",
       "               expires revision  \n",
       "0  2020-05-06T15:41:29       01  \n",
       "1  2021-07-31T15:53:13       03  \n",
       "2  2021-08-26T14:42:26       02  \n",
       "3  2022-01-29T18:00:34       02  \n",
       "4  2021-11-20T13:13:57       01  "
      ]
     },
     "execution_count": 6,
     "metadata": {},
     "output_type": "execute_result"
    }
   ],
   "source": [
    "docs_df.head()"
   ]
  },
  {
   "cell_type": "code",
   "execution_count": 7,
   "id": "4d3b8cd3",
   "metadata": {
    "scrolled": true
   },
   "outputs": [
    {
     "data": {
      "text/html": [
       "<div>\n",
       "<style scoped>\n",
       "    .dataframe tbody tr th:only-of-type {\n",
       "        vertical-align: middle;\n",
       "    }\n",
       "\n",
       "    .dataframe tbody tr th {\n",
       "        vertical-align: top;\n",
       "    }\n",
       "\n",
       "    .dataframe thead th {\n",
       "        text-align: right;\n",
       "    }\n",
       "</style>\n",
       "<table border=\"1\" class=\"dataframe\">\n",
       "  <thead>\n",
       "    <tr style=\"text-align: right;\">\n",
       "      <th></th>\n",
       "      <th>id</th>\n",
       "      <th>doc_id</th>\n",
       "      <th>type</th>\n",
       "      <th>timestamp</th>\n",
       "      <th>description</th>\n",
       "    </tr>\n",
       "  </thead>\n",
       "  <tbody>\n",
       "    <tr>\n",
       "      <th>0</th>\n",
       "      <td>664621</td>\n",
       "      <td>90872</td>\n",
       "      <td>new_submission</td>\n",
       "      <td>2019-05-03 00:59:47</td>\n",
       "      <td>Uploaded new revision</td>\n",
       "    </tr>\n",
       "    <tr>\n",
       "      <th>1</th>\n",
       "      <td>664622</td>\n",
       "      <td>90872</td>\n",
       "      <td>new_submission</td>\n",
       "      <td>2019-05-03 01:00:37</td>\n",
       "      <td>Request for posting confirmation emailed  to s...</td>\n",
       "    </tr>\n",
       "    <tr>\n",
       "      <th>2</th>\n",
       "      <td>664623</td>\n",
       "      <td>90872</td>\n",
       "      <td>new_submission</td>\n",
       "      <td>2019-05-03 01:00:56</td>\n",
       "      <td>New version approved</td>\n",
       "    </tr>\n",
       "    <tr>\n",
       "      <th>3</th>\n",
       "      <td>664624</td>\n",
       "      <td>90872</td>\n",
       "      <td>new_revision</td>\n",
       "      <td>2019-05-03 01:00:56</td>\n",
       "      <td>New version available: &lt;b&gt;draft-vvv-webtranspo...</td>\n",
       "    </tr>\n",
       "    <tr>\n",
       "      <th>4</th>\n",
       "      <td>714723</td>\n",
       "      <td>90872</td>\n",
       "      <td>new_submission</td>\n",
       "      <td>2019-11-03 15:41:18</td>\n",
       "      <td>Uploaded new revision</td>\n",
       "    </tr>\n",
       "  </tbody>\n",
       "</table>\n",
       "</div>"
      ],
      "text/plain": [
       "       id  doc_id            type           timestamp  \\\n",
       "0  664621   90872  new_submission 2019-05-03 00:59:47   \n",
       "1  664622   90872  new_submission 2019-05-03 01:00:37   \n",
       "2  664623   90872  new_submission 2019-05-03 01:00:56   \n",
       "3  664624   90872    new_revision 2019-05-03 01:00:56   \n",
       "4  714723   90872  new_submission 2019-11-03 15:41:18   \n",
       "\n",
       "                                         description  \n",
       "0                              Uploaded new revision  \n",
       "1  Request for posting confirmation emailed  to s...  \n",
       "2                               New version approved  \n",
       "3  New version available: <b>draft-vvv-webtranspo...  \n",
       "4                              Uploaded new revision  "
      ]
     },
     "execution_count": 7,
     "metadata": {},
     "output_type": "execute_result"
    }
   ],
   "source": [
    "events_df.head()"
   ]
  },
  {
   "cell_type": "code",
   "execution_count": 8,
   "id": "126d189d",
   "metadata": {},
   "outputs": [
    {
     "data": {
      "text/html": [
       "<div>\n",
       "<style scoped>\n",
       "    .dataframe tbody tr th:only-of-type {\n",
       "        vertical-align: middle;\n",
       "    }\n",
       "\n",
       "    .dataframe tbody tr th {\n",
       "        vertical-align: top;\n",
       "    }\n",
       "\n",
       "    .dataframe thead th {\n",
       "        text-align: right;\n",
       "    }\n",
       "</style>\n",
       "<table border=\"1\" class=\"dataframe\">\n",
       "  <thead>\n",
       "    <tr style=\"text-align: right;\">\n",
       "      <th></th>\n",
       "      <th>timestamp</th>\n",
       "      <th>from</th>\n",
       "      <th>subject</th>\n",
       "      <th>content</th>\n",
       "    </tr>\n",
       "  </thead>\n",
       "  <tbody>\n",
       "    <tr>\n",
       "      <th>0</th>\n",
       "      <td>2019-07-29 16:58:23</td>\n",
       "      <td>Victor Vasiliev &lt;vasilvv@google.com&gt;</td>\n",
       "      <td>[Webtransport] WebTransport Mailing List</td>\n",
       "      <td>b'Hello everyone,\\r\\n\\r\\nJudging from the in-p...</td>\n",
       "    </tr>\n",
       "    <tr>\n",
       "      <th>1</th>\n",
       "      <td>2019-07-29 23:28:57</td>\n",
       "      <td>Eliot Lear &lt;lear@cisco.com&gt;</td>\n",
       "      <td>Re: [Webtransport] WebTransport Mailing List</td>\n",
       "      <td>b'Hi Victor,\\r\\n\\r\\nSorry if this has been cov...</td>\n",
       "    </tr>\n",
       "    <tr>\n",
       "      <th>2</th>\n",
       "      <td>2019-07-29 17:32:30</td>\n",
       "      <td>Victor Vasiliev &lt;vasilvv@google.com&gt;</td>\n",
       "      <td>Re: [Webtransport] WebTransport Mailing List</td>\n",
       "      <td>b'Hi Eliot,\\r\\n\\r\\nWebTransport is roughly \"We...</td>\n",
       "    </tr>\n",
       "    <tr>\n",
       "      <th>3</th>\n",
       "      <td>2019-07-30 03:53:32</td>\n",
       "      <td>\"Martin J. Dürst\" &lt;duerst@it.aoyama.ac.jp&gt;</td>\n",
       "      <td>Re: [Webtransport] [hybi] WebTransport Mailing...</td>\n",
       "      <td>b'I think Eliot\\'s question shows that \"WebTra...</td>\n",
       "    </tr>\n",
       "    <tr>\n",
       "      <th>4</th>\n",
       "      <td>2019-07-30 09:58:11</td>\n",
       "      <td>Lennart Grahl &lt;lennart.grahl@gmail.com&gt;</td>\n",
       "      <td>Re: [Webtransport] [hybi] WebTransport Mailing...</td>\n",
       "      <td>b'Hi,\\r\\n\\r\\nI don\\'t think what Victor said i...</td>\n",
       "    </tr>\n",
       "  </tbody>\n",
       "</table>\n",
       "</div>"
      ],
      "text/plain": [
       "            timestamp                                        from  \\\n",
       "0 2019-07-29 16:58:23        Victor Vasiliev <vasilvv@google.com>   \n",
       "1 2019-07-29 23:28:57                 Eliot Lear <lear@cisco.com>   \n",
       "2 2019-07-29 17:32:30        Victor Vasiliev <vasilvv@google.com>   \n",
       "3 2019-07-30 03:53:32  \"Martin J. Dürst\" <duerst@it.aoyama.ac.jp>   \n",
       "4 2019-07-30 09:58:11     Lennart Grahl <lennart.grahl@gmail.com>   \n",
       "\n",
       "                                             subject  \\\n",
       "0           [Webtransport] WebTransport Mailing List   \n",
       "1       Re: [Webtransport] WebTransport Mailing List   \n",
       "2       Re: [Webtransport] WebTransport Mailing List   \n",
       "3  Re: [Webtransport] [hybi] WebTransport Mailing...   \n",
       "4  Re: [Webtransport] [hybi] WebTransport Mailing...   \n",
       "\n",
       "                                             content  \n",
       "0  b'Hello everyone,\\r\\n\\r\\nJudging from the in-p...  \n",
       "1  b'Hi Victor,\\r\\n\\r\\nSorry if this has been cov...  \n",
       "2  b'Hi Eliot,\\r\\n\\r\\nWebTransport is roughly \"We...  \n",
       "3  b'I think Eliot\\'s question shows that \"WebTra...  \n",
       "4  b'Hi,\\r\\n\\r\\nI don\\'t think what Victor said i...  "
      ]
     },
     "execution_count": 8,
     "metadata": {},
     "output_type": "execute_result"
    }
   ],
   "source": [
    "emails_df.head()"
   ]
  },
  {
   "cell_type": "code",
   "execution_count": 9,
   "id": "896685d0",
   "metadata": {},
   "outputs": [],
   "source": [
    "emails_df['content'] = emails_df['content'].apply(clean_content)"
   ]
  },
  {
   "cell_type": "code",
   "execution_count": 44,
   "id": "e2262ff3",
   "metadata": {},
   "outputs": [],
   "source": [
    "def compute_sentiment(text):\n",
    "    analyzer = SentimentIntensityAnalyzer()\n",
    "    sentences = tokenize.sent_tokenize(text.decode('utf-8'))\n",
    "    overall_polarity = 0\n",
    "    if len(sentences) == 0:\n",
    "        return 0.0\n",
    "    \n",
    "    for sentence in sentences:\n",
    "        scores = analyzer.polarity_scores(sentence)\n",
    "        overall_polarity += scores['compound']\n",
    "    return overall_polarity/len(sentences)"
   ]
  },
  {
   "cell_type": "code",
   "execution_count": 45,
   "id": "d043e075",
   "metadata": {},
   "outputs": [
    {
     "ename": "ZeroDivisionError",
     "evalue": "division by zero",
     "output_type": "error",
     "traceback": [
      "\u001b[1;31m---------------------------------------------------------------------------\u001b[0m",
      "\u001b[1;31mZeroDivisionError\u001b[0m                         Traceback (most recent call last)",
      "\u001b[1;32m~\\AppData\\Local\\Temp/ipykernel_15340/2978134572.py\u001b[0m in \u001b[0;36m<module>\u001b[1;34m\u001b[0m\n\u001b[1;32m----> 1\u001b[1;33m \u001b[0memails_df\u001b[0m\u001b[1;33m[\u001b[0m\u001b[1;34m'sentiment'\u001b[0m\u001b[1;33m]\u001b[0m \u001b[1;33m=\u001b[0m \u001b[0memails_df\u001b[0m\u001b[1;33m[\u001b[0m\u001b[1;34m'content'\u001b[0m\u001b[1;33m]\u001b[0m\u001b[1;33m.\u001b[0m\u001b[0mapply\u001b[0m\u001b[1;33m(\u001b[0m\u001b[0mcompute_sentiment\u001b[0m\u001b[1;33m)\u001b[0m\u001b[1;33m\u001b[0m\u001b[1;33m\u001b[0m\u001b[0m\n\u001b[0m",
      "\u001b[1;32mc:\\users\\georg\\documents\\msc-projcet\\venv\\lib\\site-packages\\pandas\\core\\series.py\u001b[0m in \u001b[0;36mapply\u001b[1;34m(self, func, convert_dtype, args, **kwargs)\u001b[0m\n\u001b[0;32m   4355\u001b[0m         \u001b[0mdtype\u001b[0m\u001b[1;33m:\u001b[0m \u001b[0mfloat64\u001b[0m\u001b[1;33m\u001b[0m\u001b[1;33m\u001b[0m\u001b[0m\n\u001b[0;32m   4356\u001b[0m         \"\"\"\n\u001b[1;32m-> 4357\u001b[1;33m         \u001b[1;32mreturn\u001b[0m \u001b[0mSeriesApply\u001b[0m\u001b[1;33m(\u001b[0m\u001b[0mself\u001b[0m\u001b[1;33m,\u001b[0m \u001b[0mfunc\u001b[0m\u001b[1;33m,\u001b[0m \u001b[0mconvert_dtype\u001b[0m\u001b[1;33m,\u001b[0m \u001b[0margs\u001b[0m\u001b[1;33m,\u001b[0m \u001b[0mkwargs\u001b[0m\u001b[1;33m)\u001b[0m\u001b[1;33m.\u001b[0m\u001b[0mapply\u001b[0m\u001b[1;33m(\u001b[0m\u001b[1;33m)\u001b[0m\u001b[1;33m\u001b[0m\u001b[1;33m\u001b[0m\u001b[0m\n\u001b[0m\u001b[0;32m   4358\u001b[0m \u001b[1;33m\u001b[0m\u001b[0m\n\u001b[0;32m   4359\u001b[0m     def _reduce(\n",
      "\u001b[1;32mc:\\users\\georg\\documents\\msc-projcet\\venv\\lib\\site-packages\\pandas\\core\\apply.py\u001b[0m in \u001b[0;36mapply\u001b[1;34m(self)\u001b[0m\n\u001b[0;32m   1041\u001b[0m             \u001b[1;32mreturn\u001b[0m \u001b[0mself\u001b[0m\u001b[1;33m.\u001b[0m\u001b[0mapply_str\u001b[0m\u001b[1;33m(\u001b[0m\u001b[1;33m)\u001b[0m\u001b[1;33m\u001b[0m\u001b[1;33m\u001b[0m\u001b[0m\n\u001b[0;32m   1042\u001b[0m \u001b[1;33m\u001b[0m\u001b[0m\n\u001b[1;32m-> 1043\u001b[1;33m         \u001b[1;32mreturn\u001b[0m \u001b[0mself\u001b[0m\u001b[1;33m.\u001b[0m\u001b[0mapply_standard\u001b[0m\u001b[1;33m(\u001b[0m\u001b[1;33m)\u001b[0m\u001b[1;33m\u001b[0m\u001b[1;33m\u001b[0m\u001b[0m\n\u001b[0m\u001b[0;32m   1044\u001b[0m \u001b[1;33m\u001b[0m\u001b[0m\n\u001b[0;32m   1045\u001b[0m     \u001b[1;32mdef\u001b[0m \u001b[0magg\u001b[0m\u001b[1;33m(\u001b[0m\u001b[0mself\u001b[0m\u001b[1;33m)\u001b[0m\u001b[1;33m:\u001b[0m\u001b[1;33m\u001b[0m\u001b[1;33m\u001b[0m\u001b[0m\n",
      "\u001b[1;32mc:\\users\\georg\\documents\\msc-projcet\\venv\\lib\\site-packages\\pandas\\core\\apply.py\u001b[0m in \u001b[0;36mapply_standard\u001b[1;34m(self)\u001b[0m\n\u001b[0;32m   1097\u001b[0m                 \u001b[1;31m# List[Union[Callable[..., Any], str]]]]]\"; expected\u001b[0m\u001b[1;33m\u001b[0m\u001b[1;33m\u001b[0m\u001b[1;33m\u001b[0m\u001b[0m\n\u001b[0;32m   1098\u001b[0m                 \u001b[1;31m# \"Callable[[Any], Any]\"\u001b[0m\u001b[1;33m\u001b[0m\u001b[1;33m\u001b[0m\u001b[1;33m\u001b[0m\u001b[0m\n\u001b[1;32m-> 1099\u001b[1;33m                 mapped = lib.map_infer(\n\u001b[0m\u001b[0;32m   1100\u001b[0m                     \u001b[0mvalues\u001b[0m\u001b[1;33m,\u001b[0m\u001b[1;33m\u001b[0m\u001b[1;33m\u001b[0m\u001b[0m\n\u001b[0;32m   1101\u001b[0m                     \u001b[0mf\u001b[0m\u001b[1;33m,\u001b[0m  \u001b[1;31m# type: ignore[arg-type]\u001b[0m\u001b[1;33m\u001b[0m\u001b[1;33m\u001b[0m\u001b[0m\n",
      "\u001b[1;32mc:\\users\\georg\\documents\\msc-projcet\\venv\\lib\\site-packages\\pandas\\_libs\\lib.pyx\u001b[0m in \u001b[0;36mpandas._libs.lib.map_infer\u001b[1;34m()\u001b[0m\n",
      "\u001b[1;32m~\\AppData\\Local\\Temp/ipykernel_15340/2484067011.py\u001b[0m in \u001b[0;36mcompute_sentiment\u001b[1;34m(text)\u001b[0m\n\u001b[0;32m      6\u001b[0m         \u001b[0mscores\u001b[0m \u001b[1;33m=\u001b[0m \u001b[0manalyzer\u001b[0m\u001b[1;33m.\u001b[0m\u001b[0mpolarity_scores\u001b[0m\u001b[1;33m(\u001b[0m\u001b[0msentence\u001b[0m\u001b[1;33m)\u001b[0m\u001b[1;33m\u001b[0m\u001b[1;33m\u001b[0m\u001b[0m\n\u001b[0;32m      7\u001b[0m         \u001b[0moverall_polarity\u001b[0m \u001b[1;33m+=\u001b[0m \u001b[0mscores\u001b[0m\u001b[1;33m[\u001b[0m\u001b[1;34m'compound'\u001b[0m\u001b[1;33m]\u001b[0m\u001b[1;33m\u001b[0m\u001b[1;33m\u001b[0m\u001b[0m\n\u001b[1;32m----> 8\u001b[1;33m     \u001b[1;32mreturn\u001b[0m \u001b[0moverall_polarity\u001b[0m\u001b[1;33m/\u001b[0m\u001b[0mlen\u001b[0m\u001b[1;33m(\u001b[0m\u001b[0msentences\u001b[0m\u001b[1;33m)\u001b[0m\u001b[1;33m\u001b[0m\u001b[1;33m\u001b[0m\u001b[0m\n\u001b[0m",
      "\u001b[1;31mZeroDivisionError\u001b[0m: division by zero"
     ]
    }
   ],
   "source": [
    "emails_df['sentiment'] = emails_df['content'].apply(compute_sentiment)"
   ]
  },
  {
   "cell_type": "code",
   "execution_count": null,
   "id": "e020e4e4",
   "metadata": {},
   "outputs": [],
   "source": []
  }
 ],
 "metadata": {
  "kernelspec": {
   "display_name": "Python 3 (ipykernel)",
   "language": "python",
   "name": "python3"
  },
  "language_info": {
   "codemirror_mode": {
    "name": "ipython",
    "version": 3
   },
   "file_extension": ".py",
   "mimetype": "text/x-python",
   "name": "python",
   "nbconvert_exporter": "python",
   "pygments_lexer": "ipython3",
   "version": "3.9.5"
  }
 },
 "nbformat": 4,
 "nbformat_minor": 5
}
