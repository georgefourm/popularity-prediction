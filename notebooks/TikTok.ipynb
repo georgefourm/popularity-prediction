{
 "cells": [
  {
   "cell_type": "code",
   "execution_count": 2,
   "id": "53dbce72",
   "metadata": {},
   "outputs": [
    {
     "name": "stdout",
     "output_type": "stream",
     "text": [
      "C:\\Users\\georg\\Documents\\msc-projcet\n"
     ]
    }
   ],
   "source": [
    "import pandas as pd\n",
    "%cd .."
   ]
  },
  {
   "cell_type": "code",
   "execution_count": 3,
   "id": "a3aeac65",
   "metadata": {
    "scrolled": true
   },
   "outputs": [],
   "source": [
    "df = pd.read_csv(\"data/interim/tracks.csv\")"
   ]
  },
  {
   "cell_type": "code",
   "execution_count": 4,
   "id": "a8a78262",
   "metadata": {},
   "outputs": [
    {
     "data": {
      "text/html": [
       "<div>\n",
       "<style scoped>\n",
       "    .dataframe tbody tr th:only-of-type {\n",
       "        vertical-align: middle;\n",
       "    }\n",
       "\n",
       "    .dataframe tbody tr th {\n",
       "        vertical-align: top;\n",
       "    }\n",
       "\n",
       "    .dataframe thead th {\n",
       "        text-align: right;\n",
       "    }\n",
       "</style>\n",
       "<table border=\"1\" class=\"dataframe\">\n",
       "  <thead>\n",
       "    <tr style=\"text-align: right;\">\n",
       "      <th></th>\n",
       "      <th>id</th>\n",
       "      <th>title</th>\n",
       "      <th>album</th>\n",
       "      <th>views</th>\n",
       "      <th>videos</th>\n",
       "      <th>danceability</th>\n",
       "      <th>energy</th>\n",
       "      <th>key</th>\n",
       "      <th>loudness</th>\n",
       "      <th>mode</th>\n",
       "      <th>...</th>\n",
       "      <th>instrumentalness</th>\n",
       "      <th>liveness</th>\n",
       "      <th>valence</th>\n",
       "      <th>tempo</th>\n",
       "      <th>type</th>\n",
       "      <th>uri</th>\n",
       "      <th>track_href</th>\n",
       "      <th>analysis_url</th>\n",
       "      <th>duration_ms</th>\n",
       "      <th>time_signature</th>\n",
       "    </tr>\n",
       "  </thead>\n",
       "  <tbody>\n",
       "    <tr>\n",
       "      <th>0</th>\n",
       "      <td>1sx0XsWUusUoPstbvokZjP</td>\n",
       "      <td>A-O-K</td>\n",
       "      <td>A-O-K</td>\n",
       "      <td>9300000</td>\n",
       "      <td>5</td>\n",
       "      <td>0.731</td>\n",
       "      <td>0.626</td>\n",
       "      <td>11</td>\n",
       "      <td>-6.919</td>\n",
       "      <td>1</td>\n",
       "      <td>...</td>\n",
       "      <td>0.000000</td>\n",
       "      <td>0.1830</td>\n",
       "      <td>0.862</td>\n",
       "      <td>82.488</td>\n",
       "      <td>audio_features</td>\n",
       "      <td>spotify:track:1sx0XsWUusUoPstbvokZjP</td>\n",
       "      <td>https://api.spotify.com/v1/tracks/1sx0XsWUusUo...</td>\n",
       "      <td>https://api.spotify.com/v1/audio-analysis/1sx0...</td>\n",
       "      <td>173640</td>\n",
       "      <td>4</td>\n",
       "    </tr>\n",
       "    <tr>\n",
       "      <th>1</th>\n",
       "      <td>6n4U3TlzUGhdSFbUUhTvLP</td>\n",
       "      <td>Walk It Talk It</td>\n",
       "      <td>Culture II</td>\n",
       "      <td>15000</td>\n",
       "      <td>2</td>\n",
       "      <td>0.907</td>\n",
       "      <td>0.633</td>\n",
       "      <td>2</td>\n",
       "      <td>-5.145</td>\n",
       "      <td>1</td>\n",
       "      <td>...</td>\n",
       "      <td>0.000003</td>\n",
       "      <td>0.1060</td>\n",
       "      <td>0.395</td>\n",
       "      <td>145.914</td>\n",
       "      <td>audio_features</td>\n",
       "      <td>spotify:track:6n4U3TlzUGhdSFbUUhTvLP</td>\n",
       "      <td>https://api.spotify.com/v1/tracks/6n4U3TlzUGhd...</td>\n",
       "      <td>https://api.spotify.com/v1/audio-analysis/6n4U...</td>\n",
       "      <td>276147</td>\n",
       "      <td>4</td>\n",
       "    </tr>\n",
       "    <tr>\n",
       "      <th>2</th>\n",
       "      <td>4jDmJ51x1o9NZB5Nxxc7gY</td>\n",
       "      <td>Careless Whisper</td>\n",
       "      <td>Ladies &amp; Gentlemen</td>\n",
       "      <td>331200</td>\n",
       "      <td>27</td>\n",
       "      <td>0.574</td>\n",
       "      <td>0.629</td>\n",
       "      <td>2</td>\n",
       "      <td>-8.815</td>\n",
       "      <td>0</td>\n",
       "      <td>...</td>\n",
       "      <td>0.000000</td>\n",
       "      <td>0.2710</td>\n",
       "      <td>0.786</td>\n",
       "      <td>153.119</td>\n",
       "      <td>audio_features</td>\n",
       "      <td>spotify:track:4jDmJ51x1o9NZB5Nxxc7gY</td>\n",
       "      <td>https://api.spotify.com/v1/tracks/4jDmJ51x1o9N...</td>\n",
       "      <td>https://api.spotify.com/v1/audio-analysis/4jDm...</td>\n",
       "      <td>300107</td>\n",
       "      <td>4</td>\n",
       "    </tr>\n",
       "    <tr>\n",
       "      <th>3</th>\n",
       "      <td>2P5yIMu2DNeMXTyOANKS6k</td>\n",
       "      <td>Nobody</td>\n",
       "      <td>Be the Cowboy</td>\n",
       "      <td>119200</td>\n",
       "      <td>8</td>\n",
       "      <td>0.398</td>\n",
       "      <td>0.717</td>\n",
       "      <td>0</td>\n",
       "      <td>-5.253</td>\n",
       "      <td>1</td>\n",
       "      <td>...</td>\n",
       "      <td>0.000000</td>\n",
       "      <td>0.0850</td>\n",
       "      <td>0.487</td>\n",
       "      <td>117.296</td>\n",
       "      <td>audio_features</td>\n",
       "      <td>spotify:track:2P5yIMu2DNeMXTyOANKS6k</td>\n",
       "      <td>https://api.spotify.com/v1/tracks/2P5yIMu2DNeM...</td>\n",
       "      <td>https://api.spotify.com/v1/audio-analysis/2P5y...</td>\n",
       "      <td>193429</td>\n",
       "      <td>4</td>\n",
       "    </tr>\n",
       "    <tr>\n",
       "      <th>4</th>\n",
       "      <td>1Wdj4wRDYS7aT4CoPS0mAH</td>\n",
       "      <td>You Are Enough</td>\n",
       "      <td>Atlas: I</td>\n",
       "      <td>7900000</td>\n",
       "      <td>6</td>\n",
       "      <td>0.593</td>\n",
       "      <td>0.500</td>\n",
       "      <td>1</td>\n",
       "      <td>-8.532</td>\n",
       "      <td>1</td>\n",
       "      <td>...</td>\n",
       "      <td>0.000012</td>\n",
       "      <td>0.0837</td>\n",
       "      <td>0.465</td>\n",
       "      <td>117.996</td>\n",
       "      <td>audio_features</td>\n",
       "      <td>spotify:track:1Wdj4wRDYS7aT4CoPS0mAH</td>\n",
       "      <td>https://api.spotify.com/v1/tracks/1Wdj4wRDYS7a...</td>\n",
       "      <td>https://api.spotify.com/v1/audio-analysis/1Wdj...</td>\n",
       "      <td>180087</td>\n",
       "      <td>4</td>\n",
       "    </tr>\n",
       "  </tbody>\n",
       "</table>\n",
       "<p>5 rows × 22 columns</p>\n",
       "</div>"
      ],
      "text/plain": [
       "                       id             title               album    views  \\\n",
       "0  1sx0XsWUusUoPstbvokZjP             A-O-K               A-O-K  9300000   \n",
       "1  6n4U3TlzUGhdSFbUUhTvLP   Walk It Talk It          Culture II    15000   \n",
       "2  4jDmJ51x1o9NZB5Nxxc7gY  Careless Whisper  Ladies & Gentlemen   331200   \n",
       "3  2P5yIMu2DNeMXTyOANKS6k            Nobody       Be the Cowboy   119200   \n",
       "4  1Wdj4wRDYS7aT4CoPS0mAH    You Are Enough            Atlas: I  7900000   \n",
       "\n",
       "   videos  danceability  energy  key  loudness  mode  ...  instrumentalness  \\\n",
       "0       5         0.731   0.626   11    -6.919     1  ...          0.000000   \n",
       "1       2         0.907   0.633    2    -5.145     1  ...          0.000003   \n",
       "2      27         0.574   0.629    2    -8.815     0  ...          0.000000   \n",
       "3       8         0.398   0.717    0    -5.253     1  ...          0.000000   \n",
       "4       6         0.593   0.500    1    -8.532     1  ...          0.000012   \n",
       "\n",
       "   liveness  valence    tempo            type  \\\n",
       "0    0.1830    0.862   82.488  audio_features   \n",
       "1    0.1060    0.395  145.914  audio_features   \n",
       "2    0.2710    0.786  153.119  audio_features   \n",
       "3    0.0850    0.487  117.296  audio_features   \n",
       "4    0.0837    0.465  117.996  audio_features   \n",
       "\n",
       "                                    uri  \\\n",
       "0  spotify:track:1sx0XsWUusUoPstbvokZjP   \n",
       "1  spotify:track:6n4U3TlzUGhdSFbUUhTvLP   \n",
       "2  spotify:track:4jDmJ51x1o9NZB5Nxxc7gY   \n",
       "3  spotify:track:2P5yIMu2DNeMXTyOANKS6k   \n",
       "4  spotify:track:1Wdj4wRDYS7aT4CoPS0mAH   \n",
       "\n",
       "                                          track_href  \\\n",
       "0  https://api.spotify.com/v1/tracks/1sx0XsWUusUo...   \n",
       "1  https://api.spotify.com/v1/tracks/6n4U3TlzUGhd...   \n",
       "2  https://api.spotify.com/v1/tracks/4jDmJ51x1o9N...   \n",
       "3  https://api.spotify.com/v1/tracks/2P5yIMu2DNeM...   \n",
       "4  https://api.spotify.com/v1/tracks/1Wdj4wRDYS7a...   \n",
       "\n",
       "                                        analysis_url duration_ms  \\\n",
       "0  https://api.spotify.com/v1/audio-analysis/1sx0...      173640   \n",
       "1  https://api.spotify.com/v1/audio-analysis/6n4U...      276147   \n",
       "2  https://api.spotify.com/v1/audio-analysis/4jDm...      300107   \n",
       "3  https://api.spotify.com/v1/audio-analysis/2P5y...      193429   \n",
       "4  https://api.spotify.com/v1/audio-analysis/1Wdj...      180087   \n",
       "\n",
       "  time_signature  \n",
       "0              4  \n",
       "1              4  \n",
       "2              4  \n",
       "3              4  \n",
       "4              4  \n",
       "\n",
       "[5 rows x 22 columns]"
      ]
     },
     "execution_count": 4,
     "metadata": {},
     "output_type": "execute_result"
    }
   ],
   "source": [
    "df.head()"
   ]
  },
  {
   "cell_type": "code",
   "execution_count": 5,
   "id": "5d9de971",
   "metadata": {},
   "outputs": [
    {
     "data": {
      "text/plain": [
       "(1316, 4)"
      ]
     },
     "execution_count": 5,
     "metadata": {},
     "output_type": "execute_result"
    }
   ],
   "source": [
    "df.shape"
   ]
  },
  {
   "cell_type": "code",
   "execution_count": 8,
   "id": "068b0156",
   "metadata": {},
   "outputs": [
    {
     "data": {
      "text/plain": [
       "(1234,)"
      ]
     },
     "execution_count": 8,
     "metadata": {},
     "output_type": "execute_result"
    }
   ],
   "source": [
    "df['title'].unique().shape"
   ]
  },
  {
   "cell_type": "code",
   "execution_count": null,
   "id": "4fd58562",
   "metadata": {},
   "outputs": [],
   "source": []
  }
 ],
 "metadata": {
  "kernelspec": {
   "display_name": "Python 3 (ipykernel)",
   "language": "python",
   "name": "python3"
  },
  "language_info": {
   "codemirror_mode": {
    "name": "ipython",
    "version": 3
   },
   "file_extension": ".py",
   "mimetype": "text/x-python",
   "name": "python",
   "nbconvert_exporter": "python",
   "pygments_lexer": "ipython3",
   "version": "3.9.5"
  }
 },
 "nbformat": 4,
 "nbformat_minor": 5
}
