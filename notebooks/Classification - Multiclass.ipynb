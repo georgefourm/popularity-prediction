{
 "cells": [
  {
   "cell_type": "markdown",
   "id": "1f476329",
   "metadata": {},
   "source": [
    "# Multiclass Classification\n",
    "In this notebook, the popularity prediction task is approached as a multiclass classification problem, with each video being assigned one of three popularity classes according to its view count"
   ]
  },
  {
   "cell_type": "code",
   "execution_count": 1,
   "id": "53dbce72",
   "metadata": {},
   "outputs": [
    {
     "name": "stdout",
     "output_type": "stream",
     "text": [
      "C:\\Users\\georg\\Documents\\msc-project\n"
     ]
    }
   ],
   "source": [
    "%cd .."
   ]
  },
  {
   "cell_type": "code",
   "execution_count": 42,
   "id": "de612a81",
   "metadata": {},
   "outputs": [],
   "source": [
    "import numpy as np\n",
    "import pandas as pd\n",
    "import matplotlib.pyplot as plt\n",
    "\n",
    "from src.evaluation import compare_models\n",
    "from sklearn.metrics import make_scorer, precision_score, recall_score, f1_score, confusion_matrix, ConfusionMatrixDisplay\n",
    "from sklearn import neighbors,svm, ensemble, linear_model, dummy\n",
    "from sklearn.model_selection import train_test_split\n",
    "\n",
    "from imblearn.over_sampling import ADASYN\n",
    "from imblearn.pipeline import make_pipeline"
   ]
  },
  {
   "cell_type": "code",
   "execution_count": 3,
   "id": "a3aeac65",
   "metadata": {
    "scrolled": true
   },
   "outputs": [],
   "source": [
    "df = pd.read_csv(\"data/interim/tracks.csv\")"
   ]
  },
  {
   "cell_type": "markdown",
   "id": "8858f40a",
   "metadata": {},
   "source": [
    "The views are split into 3 popularity bins according to the histogram presented in the \"Exploration\" notebook"
   ]
  },
  {
   "cell_type": "code",
   "execution_count": 4,
   "id": "0ebac7a4",
   "metadata": {},
   "outputs": [],
   "source": [
    "popularity_bins = [0,5e+04,1e+06,1e+09]\n",
    "features = [\n",
    "    'danceability',\n",
    "    'energy',\n",
    "    'key',\n",
    "    'loudness',\n",
    "    'mode',\n",
    "    'speechiness',\n",
    "    'acousticness',\n",
    "    'instrumentalness',\n",
    "    'liveness',\n",
    "    'valence',\n",
    "    'tempo',\n",
    "    'time_signature',\n",
    "    'duration_ms'\n",
    "]\n",
    "\n",
    "views = df['views']\n",
    "data = df.loc[views > 0,features]\n",
    "targets = views[views > 0].apply(np.digitize,bins=popularity_bins)\n",
    "\n",
    "X, y = data, targets"
   ]
  },
  {
   "cell_type": "code",
   "execution_count": 5,
   "id": "65027623",
   "metadata": {},
   "outputs": [
    {
     "data": {
      "text/plain": [
       "Text(0, 0.5, 'Video count')"
      ]
     },
     "execution_count": 5,
     "metadata": {},
     "output_type": "execute_result"
    },
    {
     "data": {
      "image/png": "[encoded data removed]",
      "text/plain": [
       "<Figure size 432x288 with 1 Axes>"
      ]
     },
     "metadata": {
      "needs_background": "light"
     },
     "output_type": "display_data"
    }
   ],
   "source": [
    "y.hist(bins=3, grid=False)\n",
    "plt.xticks([1,2,3], labels=[\"Not Popular\",\"Medium Popularity\",\"Popular\"])\n",
    "plt.xlabel(\"Popularity category\")\n",
    "plt.ylabel(\"Video count\")"
   ]
  },
  {
   "cell_type": "code",
   "execution_count": 52,
   "id": "17265f00",
   "metadata": {},
   "outputs": [
    {
     "name": "stdout",
     "output_type": "stream",
     "text": [
      "Evaluating Baseline\n",
      "Evaluating 5-KNN\n",
      "Evaluating 10-KNN\n",
      "Evaluating SVM Linear\n",
      "Evaluating SVM RBF\n",
      "Evaluating Random Forest\n",
      "Evaluating Logistic Regression\n"
     ]
    },
    {
     "data": {
      "text/html": [
       "<div>\n",
       "<style scoped>\n",
       "    .dataframe tbody tr th:only-of-type {\n",
       "        vertical-align: middle;\n",
       "    }\n",
       "\n",
       "    .dataframe tbody tr th {\n",
       "        vertical-align: top;\n",
       "    }\n",
       "\n",
       "    .dataframe thead th {\n",
       "        text-align: right;\n",
       "    }\n",
       "</style>\n",
       "<table border=\"1\" class=\"dataframe\">\n",
       "  <thead>\n",
       "    <tr style=\"text-align: right;\">\n",
       "      <th></th>\n",
       "      <th>model</th>\n",
       "      <th>fit_time</th>\n",
       "      <th>score_time</th>\n",
       "      <th>test_precision</th>\n",
       "      <th>test_recall</th>\n",
       "      <th>test_f1</th>\n",
       "    </tr>\n",
       "  </thead>\n",
       "  <tbody>\n",
       "    <tr>\n",
       "      <th>0</th>\n",
       "      <td>Baseline</td>\n",
       "      <td>0.615647</td>\n",
       "      <td>0.004558</td>\n",
       "      <td>0.329883</td>\n",
       "      <td>0.330677</td>\n",
       "      <td>0.317350</td>\n",
       "    </tr>\n",
       "    <tr>\n",
       "      <th>1</th>\n",
       "      <td>5-KNN</td>\n",
       "      <td>0.642605</td>\n",
       "      <td>0.350678</td>\n",
       "      <td>0.352040</td>\n",
       "      <td>0.353282</td>\n",
       "      <td>0.329507</td>\n",
       "    </tr>\n",
       "    <tr>\n",
       "      <th>2</th>\n",
       "      <td>10-KNN</td>\n",
       "      <td>0.671989</td>\n",
       "      <td>0.426154</td>\n",
       "      <td>0.354234</td>\n",
       "      <td>0.356824</td>\n",
       "      <td>0.324539</td>\n",
       "    </tr>\n",
       "    <tr>\n",
       "      <th>3</th>\n",
       "      <td>SVM Linear</td>\n",
       "      <td>9.171703</td>\n",
       "      <td>0.397397</td>\n",
       "      <td>0.267932</td>\n",
       "      <td>0.350681</td>\n",
       "      <td>0.219490</td>\n",
       "    </tr>\n",
       "    <tr>\n",
       "      <th>4</th>\n",
       "      <td>SVM RBF</td>\n",
       "      <td>7.553114</td>\n",
       "      <td>1.719624</td>\n",
       "      <td>0.348199</td>\n",
       "      <td>0.353268</td>\n",
       "      <td>0.313095</td>\n",
       "    </tr>\n",
       "    <tr>\n",
       "      <th>5</th>\n",
       "      <td>Random Forest</td>\n",
       "      <td>3.193863</td>\n",
       "      <td>0.049494</td>\n",
       "      <td>0.350793</td>\n",
       "      <td>0.350839</td>\n",
       "      <td>0.350440</td>\n",
       "    </tr>\n",
       "    <tr>\n",
       "      <th>6</th>\n",
       "      <td>Logistic Regression</td>\n",
       "      <td>0.668049</td>\n",
       "      <td>0.004171</td>\n",
       "      <td>0.345501</td>\n",
       "      <td>0.349758</td>\n",
       "      <td>0.287705</td>\n",
       "    </tr>\n",
       "  </tbody>\n",
       "</table>\n",
       "</div>"
      ],
      "text/plain": [
       "                 model  fit_time  score_time  test_precision  test_recall  \\\n",
       "0             Baseline  0.615647    0.004558        0.329883     0.330677   \n",
       "1                5-KNN  0.642605    0.350678        0.352040     0.353282   \n",
       "2               10-KNN  0.671989    0.426154        0.354234     0.356824   \n",
       "3           SVM Linear  9.171703    0.397397        0.267932     0.350681   \n",
       "4              SVM RBF  7.553114    1.719624        0.348199     0.353268   \n",
       "5        Random Forest  3.193863    0.049494        0.350793     0.350839   \n",
       "6  Logistic Regression  0.668049    0.004171        0.345501     0.349758   \n",
       "\n",
       "    test_f1  \n",
       "0  0.317350  \n",
       "1  0.329507  \n",
       "2  0.324539  \n",
       "3  0.219490  \n",
       "4  0.313095  \n",
       "5  0.350440  \n",
       "6  0.287705  "
      ]
     },
     "execution_count": 52,
     "metadata": {},
     "output_type": "execute_result"
    }
   ],
   "source": [
    "models = [\n",
    "    (\"Baseline\",dummy.DummyClassifier(strategy='stratified')),\n",
    "    (\"5-KNN\",neighbors.KNeighborsClassifier(n_neighbors=5)),\n",
    "    (\"10-KNN\",neighbors.KNeighborsClassifier(n_neighbors=10)),\n",
    "    (\"SVM Linear\", svm.SVC(kernel='linear')),\n",
    "    (\"SVM RBF\", svm.SVC(kernel='rbf')),\n",
    "    (\"Random Forest\",ensemble.RandomForestClassifier()),\n",
    "    (\"Logistic Regression\",linear_model.LogisticRegression())\n",
    "]\n",
    "oversampled_models = []\n",
    "for name, model in models:\n",
    "    combined = make_pipeline(\n",
    "        ADASYN(),\n",
    "        model\n",
    "    )\n",
    "    oversampled_models.append((name,combined))\n",
    "    \n",
    "metrics = {\n",
    "    'precision': make_scorer(precision_score,average='macro',zero_division=0),\n",
    "    'recall': 'recall_macro',\n",
    "    'f1': 'f1_macro'\n",
    "}\n",
    "compare_models(oversampled_models,metrics, data, targets)"
   ]
  },
  {
   "cell_type": "markdown",
   "id": "17e0477f",
   "metadata": {},
   "source": [
    "The most promising model in terms of precision and recall is the RBF kernel SVM. Using a confusion matrix will provide more insight into the performance of the model."
   ]
  },
  {
   "cell_type": "code",
   "execution_count": 57,
   "id": "f6b9f906",
   "metadata": {},
   "outputs": [],
   "source": [
    "X_train, X_test, y_train,y_test = train_test_split(data, targets)\n",
    "X_train, y_train = ADASYN().fit_resample(X_train,y_train)\n",
    "model = ensemble.RandomForestClassifier()\n",
    "model.fit(X_train,y_train)\n",
    "predicted = model.predict(X_test)"
   ]
  },
  {
   "cell_type": "code",
   "execution_count": 58,
   "id": "5e464cc1",
   "metadata": {},
   "outputs": [
    {
     "data": {
      "text/plain": [
       "<sklearn.metrics._plot.confusion_matrix.ConfusionMatrixDisplay at 0x210887c8490>"
      ]
     },
     "execution_count": 58,
     "metadata": {},
     "output_type": "execute_result"
    },
    {
     "data": {
      "image/png": "[encoded data removed]",
      "text/plain": [
       "<Figure size 432x288 with 2 Axes>"
      ]
     },
     "metadata": {
      "needs_background": "light"
     },
     "output_type": "display_data"
    }
   ],
   "source": [
    "ConfusionMatrixDisplay.from_predictions(y_test,predicted)"
   ]
  },
  {
   "cell_type": "code",
   "execution_count": 33,
   "id": "37274195",
   "metadata": {},
   "outputs": [
    {
     "data": {
      "text/plain": [
       "array([2, 2, 2, ..., 2, 2, 2], dtype=int64)"
      ]
     },
     "execution_count": 33,
     "metadata": {},
     "output_type": "execute_result"
    }
   ],
   "source": [
    "predicted"
   ]
  },
  {
   "cell_type": "code",
   "execution_count": null,
   "id": "34b7921c",
   "metadata": {},
   "outputs": [],
   "source": []
  }
 ],
 "metadata": {
  "kernelspec": {
   "display_name": "Python 3 (ipykernel)",
   "language": "python",
   "name": "python3"
  },
  "language_info": {
   "codemirror_mode": {
    "name": "ipython",
    "version": 3
   },
   "file_extension": ".py",
   "mimetype": "text/x-python",
   "name": "python",
   "nbconvert_exporter": "python",
   "pygments_lexer": "ipython3",
   "version": "3.9.5"
  }
 },
 "nbformat": 4,
 "nbformat_minor": 5
}
