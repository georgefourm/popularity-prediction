{
 "cells": [
  {
   "cell_type": "code",
   "execution_count": 1,
   "id": "53dbce72",
   "metadata": {},
   "outputs": [
    {
     "name": "stdout",
     "output_type": "stream",
     "text": [
      "C:\\Users\\georg\\Documents\\msc-project\n"
     ]
    }
   ],
   "source": [
    "import pandas as pd\n",
    "%cd .."
   ]
  },
  {
   "cell_type": "code",
   "execution_count": 2,
   "id": "de612a81",
   "metadata": {},
   "outputs": [],
   "source": [
    "import numpy as np\n",
    "from sklearn.metrics import classification_report\n",
    "from sklearn.model_selection import cross_validate,GridSearchCV\n",
    "from sklearn import svm,tree,naive_bayes,linear_model,dummy,neural_network,ensemble\n",
    "from sklearn.preprocessing import MinMaxScaler,StandardScaler\n",
    "from sklearn.manifold import TSNE\n",
    "from matplotlib import pyplot as plt"
   ]
  },
  {
   "cell_type": "code",
   "execution_count": 3,
   "id": "a3aeac65",
   "metadata": {
    "scrolled": true
   },
   "outputs": [],
   "source": [
    "df = pd.read_csv(\"data/interim/tracks.csv\")"
   ]
  },
  {
   "cell_type": "code",
   "execution_count": 5,
   "id": "5d9de971",
   "metadata": {
    "scrolled": true
   },
   "outputs": [
    {
     "data": {
      "text/html": [
       "<div>\n",
       "<style scoped>\n",
       "    .dataframe tbody tr th:only-of-type {\n",
       "        vertical-align: middle;\n",
       "    }\n",
       "\n",
       "    .dataframe tbody tr th {\n",
       "        vertical-align: top;\n",
       "    }\n",
       "\n",
       "    .dataframe thead th {\n",
       "        text-align: right;\n",
       "    }\n",
       "</style>\n",
       "<table border=\"1\" class=\"dataframe\">\n",
       "  <thead>\n",
       "    <tr style=\"text-align: right;\">\n",
       "      <th></th>\n",
       "      <th>views</th>\n",
       "      <th>videos</th>\n",
       "      <th>tt_id</th>\n",
       "      <th>danceability</th>\n",
       "      <th>energy</th>\n",
       "      <th>key</th>\n",
       "      <th>loudness</th>\n",
       "      <th>mode</th>\n",
       "      <th>speechiness</th>\n",
       "      <th>acousticness</th>\n",
       "      <th>instrumentalness</th>\n",
       "      <th>liveness</th>\n",
       "      <th>valence</th>\n",
       "      <th>tempo</th>\n",
       "      <th>duration_ms</th>\n",
       "      <th>time_signature</th>\n",
       "    </tr>\n",
       "  </thead>\n",
       "  <tbody>\n",
       "    <tr>\n",
       "      <th>count</th>\n",
       "      <td>2.820000e+03</td>\n",
       "      <td>2820.000000</td>\n",
       "      <td>2.820000e+03</td>\n",
       "      <td>2820.000000</td>\n",
       "      <td>2820.000000</td>\n",
       "      <td>2820.000000</td>\n",
       "      <td>2820.000000</td>\n",
       "      <td>2820.000000</td>\n",
       "      <td>2820.000000</td>\n",
       "      <td>2820.000000</td>\n",
       "      <td>2820.000000</td>\n",
       "      <td>2820.000000</td>\n",
       "      <td>2820.000000</td>\n",
       "      <td>2820.000000</td>\n",
       "      <td>2820.000000</td>\n",
       "      <td>2820.000000</td>\n",
       "    </tr>\n",
       "    <tr>\n",
       "      <th>mean</th>\n",
       "      <td>7.197749e+06</td>\n",
       "      <td>6.170213</td>\n",
       "      <td>6.373995e+18</td>\n",
       "      <td>0.645787</td>\n",
       "      <td>0.614693</td>\n",
       "      <td>5.289007</td>\n",
       "      <td>-8.121898</td>\n",
       "      <td>0.558511</td>\n",
       "      <td>0.110805</td>\n",
       "      <td>0.301175</td>\n",
       "      <td>0.137660</td>\n",
       "      <td>0.177717</td>\n",
       "      <td>0.513506</td>\n",
       "      <td>121.933288</td>\n",
       "      <td>198281.758865</td>\n",
       "      <td>3.935106</td>\n",
       "    </tr>\n",
       "    <tr>\n",
       "      <th>std</th>\n",
       "      <td>1.772807e+07</td>\n",
       "      <td>21.471665</td>\n",
       "      <td>1.603434e+18</td>\n",
       "      <td>0.178985</td>\n",
       "      <td>0.227709</td>\n",
       "      <td>3.609311</td>\n",
       "      <td>4.851131</td>\n",
       "      <td>0.496653</td>\n",
       "      <td>0.114070</td>\n",
       "      <td>0.309011</td>\n",
       "      <td>0.299411</td>\n",
       "      <td>0.145904</td>\n",
       "      <td>0.257862</td>\n",
       "      <td>29.429662</td>\n",
       "      <td>71074.420981</td>\n",
       "      <td>0.397368</td>\n",
       "    </tr>\n",
       "    <tr>\n",
       "      <th>min</th>\n",
       "      <td>0.000000e+00</td>\n",
       "      <td>1.000000</td>\n",
       "      <td>6.557410e+05</td>\n",
       "      <td>0.000000</td>\n",
       "      <td>0.000000</td>\n",
       "      <td>0.000000</td>\n",
       "      <td>-60.000000</td>\n",
       "      <td>0.000000</td>\n",
       "      <td>0.000000</td>\n",
       "      <td>0.000000</td>\n",
       "      <td>0.000000</td>\n",
       "      <td>0.000000</td>\n",
       "      <td>0.000000</td>\n",
       "      <td>0.000000</td>\n",
       "      <td>8500.000000</td>\n",
       "      <td>0.000000</td>\n",
       "    </tr>\n",
       "    <tr>\n",
       "      <th>25%</th>\n",
       "      <td>6.400000e+04</td>\n",
       "      <td>1.000000</td>\n",
       "      <td>6.720919e+18</td>\n",
       "      <td>0.543000</td>\n",
       "      <td>0.467750</td>\n",
       "      <td>2.000000</td>\n",
       "      <td>-9.575250</td>\n",
       "      <td>0.000000</td>\n",
       "      <td>0.039500</td>\n",
       "      <td>0.040100</td>\n",
       "      <td>0.000000</td>\n",
       "      <td>0.092200</td>\n",
       "      <td>0.308750</td>\n",
       "      <td>99.718250</td>\n",
       "      <td>158038.500000</td>\n",
       "      <td>4.000000</td>\n",
       "    </tr>\n",
       "    <tr>\n",
       "      <th>50%</th>\n",
       "      <td>2.033500e+05</td>\n",
       "      <td>2.000000</td>\n",
       "      <td>6.808611e+18</td>\n",
       "      <td>0.675000</td>\n",
       "      <td>0.652000</td>\n",
       "      <td>5.000000</td>\n",
       "      <td>-6.896500</td>\n",
       "      <td>1.000000</td>\n",
       "      <td>0.060650</td>\n",
       "      <td>0.181000</td>\n",
       "      <td>0.000012</td>\n",
       "      <td>0.121000</td>\n",
       "      <td>0.514000</td>\n",
       "      <td>122.017000</td>\n",
       "      <td>195829.500000</td>\n",
       "      <td>4.000000</td>\n",
       "    </tr>\n",
       "    <tr>\n",
       "      <th>75%</th>\n",
       "      <td>4.800000e+06</td>\n",
       "      <td>5.000000</td>\n",
       "      <td>6.930808e+18</td>\n",
       "      <td>0.775000</td>\n",
       "      <td>0.792250</td>\n",
       "      <td>8.000000</td>\n",
       "      <td>-5.142250</td>\n",
       "      <td>1.000000</td>\n",
       "      <td>0.133000</td>\n",
       "      <td>0.507500</td>\n",
       "      <td>0.011100</td>\n",
       "      <td>0.213000</td>\n",
       "      <td>0.729000</td>\n",
       "      <td>140.008500</td>\n",
       "      <td>233033.250000</td>\n",
       "      <td>4.000000</td>\n",
       "    </tr>\n",
       "    <tr>\n",
       "      <th>max</th>\n",
       "      <td>2.057000e+08</td>\n",
       "      <td>667.000000</td>\n",
       "      <td>7.014367e+18</td>\n",
       "      <td>0.979000</td>\n",
       "      <td>1.000000</td>\n",
       "      <td>11.000000</td>\n",
       "      <td>1.441000</td>\n",
       "      <td>1.000000</td>\n",
       "      <td>0.935000</td>\n",
       "      <td>0.996000</td>\n",
       "      <td>1.000000</td>\n",
       "      <td>0.979000</td>\n",
       "      <td>1.000000</td>\n",
       "      <td>220.099000</td>\n",
       "      <td>998000.000000</td>\n",
       "      <td>5.000000</td>\n",
       "    </tr>\n",
       "  </tbody>\n",
       "</table>\n",
       "</div>"
      ],
      "text/plain": [
       "              views       videos         tt_id  danceability       energy  \\\n",
       "count  2.820000e+03  2820.000000  2.820000e+03   2820.000000  2820.000000   \n",
       "mean   7.197749e+06     6.170213  6.373995e+18      0.645787     0.614693   \n",
       "std    1.772807e+07    21.471665  1.603434e+18      0.178985     0.227709   \n",
       "min    0.000000e+00     1.000000  6.557410e+05      0.000000     0.000000   \n",
       "25%    6.400000e+04     1.000000  6.720919e+18      0.543000     0.467750   \n",
       "50%    2.033500e+05     2.000000  6.808611e+18      0.675000     0.652000   \n",
       "75%    4.800000e+06     5.000000  6.930808e+18      0.775000     0.792250   \n",
       "max    2.057000e+08   667.000000  7.014367e+18      0.979000     1.000000   \n",
       "\n",
       "               key     loudness         mode  speechiness  acousticness  \\\n",
       "count  2820.000000  2820.000000  2820.000000  2820.000000   2820.000000   \n",
       "mean      5.289007    -8.121898     0.558511     0.110805      0.301175   \n",
       "std       3.609311     4.851131     0.496653     0.114070      0.309011   \n",
       "min       0.000000   -60.000000     0.000000     0.000000      0.000000   \n",
       "25%       2.000000    -9.575250     0.000000     0.039500      0.040100   \n",
       "50%       5.000000    -6.896500     1.000000     0.060650      0.181000   \n",
       "75%       8.000000    -5.142250     1.000000     0.133000      0.507500   \n",
       "max      11.000000     1.441000     1.000000     0.935000      0.996000   \n",
       "\n",
       "       instrumentalness     liveness      valence        tempo    duration_ms  \\\n",
       "count       2820.000000  2820.000000  2820.000000  2820.000000    2820.000000   \n",
       "mean           0.137660     0.177717     0.513506   121.933288  198281.758865   \n",
       "std            0.299411     0.145904     0.257862    29.429662   71074.420981   \n",
       "min            0.000000     0.000000     0.000000     0.000000    8500.000000   \n",
       "25%            0.000000     0.092200     0.308750    99.718250  158038.500000   \n",
       "50%            0.000012     0.121000     0.514000   122.017000  195829.500000   \n",
       "75%            0.011100     0.213000     0.729000   140.008500  233033.250000   \n",
       "max            1.000000     0.979000     1.000000   220.099000  998000.000000   \n",
       "\n",
       "       time_signature  \n",
       "count     2820.000000  \n",
       "mean         3.935106  \n",
       "std          0.397368  \n",
       "min          0.000000  \n",
       "25%          4.000000  \n",
       "50%          4.000000  \n",
       "75%          4.000000  \n",
       "max          5.000000  "
      ]
     },
     "execution_count": 5,
     "metadata": {},
     "output_type": "execute_result"
    }
   ],
   "source": [
    "df.describe()"
   ]
  },
  {
   "cell_type": "code",
   "execution_count": 6,
   "id": "a7aa5c99",
   "metadata": {},
   "outputs": [
    {
     "data": {
      "text/plain": [
       "(array([ 44.,  90.,  96., 716., 641., 256., 253., 307., 355.,  61.]),\n",
       " array([2.72672721, 3.28537792, 3.84402863, 4.40267933, 4.96133004,\n",
       "        5.51998075, 6.07863146, 6.63728217, 7.19593288, 7.75458358,\n",
       "        8.31323429]),\n",
       " <BarContainer object of 10 artists>)"
      ]
     },
     "execution_count": 6,
     "metadata": {},
     "output_type": "execute_result"
    },
    {
     "data": {
      "image/png": "[encoded data removed]",
      "text/plain": [
       "<Figure size 432x288 with 1 Axes>"
      ]
     },
     "metadata": {
      "needs_background": "light"
     },
     "output_type": "display_data"
    }
   ],
   "source": [
    "views= df['views']\n",
    "plt.hist(np.log10(views[views > 0]),bins=10)"
   ]
  },
  {
   "cell_type": "code",
   "execution_count": 7,
   "id": "0ebac7a4",
   "metadata": {},
   "outputs": [],
   "source": [
    "data = df.loc[:,['danceability','energy','key','loudness','mode','instrumentalness','liveness','valence','tempo','duration_ms']]\n",
    "targets = views.apply(np.digitize,bins=[0,5e+04,1e+06,1e+09])\n",
    "\n",
    "nrm = MinMaxScaler()\n",
    "regularized = nrm.fit_transform(data)\n",
    "X, y = regularized, targets"
   ]
  },
  {
   "cell_type": "code",
   "execution_count": 8,
   "id": "65027623",
   "metadata": {},
   "outputs": [
    {
     "data": {
      "text/plain": [
       "<AxesSubplot:>"
      ]
     },
     "execution_count": 8,
     "metadata": {},
     "output_type": "execute_result"
    },
    {
     "data": {
      "image/png": "[encoded data removed]",
      "text/plain": [
       "<Figure size 432x288 with 1 Axes>"
      ]
     },
     "metadata": {
      "needs_background": "light"
     },
     "output_type": "display_data"
    }
   ],
   "source": [
    "y.hist(bins=3)"
   ]
  },
  {
   "cell_type": "code",
   "execution_count": 9,
   "id": "a9c72f0e",
   "metadata": {},
   "outputs": [
    {
     "data": {
      "text/plain": [
       "<matplotlib.collections.PathCollection at 0x2521509aca0>"
      ]
     },
     "execution_count": 9,
     "metadata": {},
     "output_type": "execute_result"
    },
    {
     "data": {
      "image/png": "[encoded data removed]",
      "text/plain": [
       "<Figure size 432x288 with 1 Axes>"
      ]
     },
     "metadata": {
      "needs_background": "light"
     },
     "output_type": "display_data"
    }
   ],
   "source": [
    "X_emb = TSNE(n_components=2,learning_rate='auto',init='random',perplexity=15).fit_transform(X)\n",
    "plt.scatter(X_emb[y==1,0],X_emb[y==1,1],c='r')\n",
    "plt.scatter(X_emb[y==2,0],X_emb[y==2,1],c='b')\n",
    "plt.scatter(X_emb[y==3,0],X_emb[y==3,1],c='g')"
   ]
  },
  {
   "cell_type": "code",
   "execution_count": 10,
   "id": "fea90394",
   "metadata": {},
   "outputs": [],
   "source": [
    "def evaluate_model(model,X,y):\n",
    "    scoring = ['precision_macro','recall_macro','accuracy']\n",
    "    scores = cross_validate(model,X,y,scoring=scoring)\n",
    "    mean_precision = scores['test_precision_macro'].mean()\n",
    "    mean_recall = scores['test_recall_macro'].mean()\n",
    "    mean_accuracy = scores['test_accuracy'].mean()\n",
    "    return mean_precision,mean_recall,mean_accuracy"
   ]
  },
  {
   "cell_type": "code",
   "execution_count": 11,
   "id": "c0980b24",
   "metadata": {},
   "outputs": [
    {
     "name": "stdout",
     "output_type": "stream",
     "text": [
      "Classifier                Pr   Re   Ac  \n",
      "Baseline Classifier       0.36 0.36 0.4 \n",
      "Decision Tree             0.35 0.35 0.38\n",
      "Random Forest             0.35 0.35 0.44\n"
     ]
    },
    {
     "name": "stderr",
     "output_type": "stream",
     "text": [
      "c:\\users\\georg\\documents\\msc-project\\venv\\lib\\site-packages\\sklearn\\metrics\\_classification.py:1308: UndefinedMetricWarning: Precision is ill-defined and being set to 0.0 in labels with no predicted samples. Use `zero_division` parameter to control this behavior.\n",
      "  _warn_prf(average, modifier, msg_start, len(result))\n",
      "c:\\users\\georg\\documents\\msc-project\\venv\\lib\\site-packages\\sklearn\\metrics\\_classification.py:1308: UndefinedMetricWarning: Precision is ill-defined and being set to 0.0 in labels with no predicted samples. Use `zero_division` parameter to control this behavior.\n",
      "  _warn_prf(average, modifier, msg_start, len(result))\n",
      "c:\\users\\georg\\documents\\msc-project\\venv\\lib\\site-packages\\sklearn\\metrics\\_classification.py:1308: UndefinedMetricWarning: Precision is ill-defined and being set to 0.0 in labels with no predicted samples. Use `zero_division` parameter to control this behavior.\n",
      "  _warn_prf(average, modifier, msg_start, len(result))\n",
      "c:\\users\\georg\\documents\\msc-project\\venv\\lib\\site-packages\\sklearn\\metrics\\_classification.py:1308: UndefinedMetricWarning: Precision is ill-defined and being set to 0.0 in labels with no predicted samples. Use `zero_division` parameter to control this behavior.\n",
      "  _warn_prf(average, modifier, msg_start, len(result))\n",
      "c:\\users\\georg\\documents\\msc-project\\venv\\lib\\site-packages\\sklearn\\metrics\\_classification.py:1308: UndefinedMetricWarning: Precision is ill-defined and being set to 0.0 in labels with no predicted samples. Use `zero_division` parameter to control this behavior.\n",
      "  _warn_prf(average, modifier, msg_start, len(result))\n",
      "c:\\users\\georg\\documents\\msc-project\\venv\\lib\\site-packages\\sklearn\\metrics\\_classification.py:1308: UndefinedMetricWarning: Precision is ill-defined and being set to 0.0 in labels with no predicted samples. Use `zero_division` parameter to control this behavior.\n",
      "  _warn_prf(average, modifier, msg_start, len(result))\n",
      "c:\\users\\georg\\documents\\msc-project\\venv\\lib\\site-packages\\sklearn\\metrics\\_classification.py:1308: UndefinedMetricWarning: Precision is ill-defined and being set to 0.0 in labels with no predicted samples. Use `zero_division` parameter to control this behavior.\n",
      "  _warn_prf(average, modifier, msg_start, len(result))\n",
      "c:\\users\\georg\\documents\\msc-project\\venv\\lib\\site-packages\\sklearn\\metrics\\_classification.py:1308: UndefinedMetricWarning: Precision is ill-defined and being set to 0.0 in labels with no predicted samples. Use `zero_division` parameter to control this behavior.\n",
      "  _warn_prf(average, modifier, msg_start, len(result))\n"
     ]
    },
    {
     "name": "stdout",
     "output_type": "stream",
     "text": [
      "SVC                       0.25 0.33 0.45\n"
     ]
    },
    {
     "name": "stderr",
     "output_type": "stream",
     "text": [
      "c:\\users\\georg\\documents\\msc-project\\venv\\lib\\site-packages\\sklearn\\metrics\\_classification.py:1308: UndefinedMetricWarning: Precision is ill-defined and being set to 0.0 in labels with no predicted samples. Use `zero_division` parameter to control this behavior.\n",
      "  _warn_prf(average, modifier, msg_start, len(result))\n",
      "c:\\users\\georg\\documents\\msc-project\\venv\\lib\\site-packages\\sklearn\\metrics\\_classification.py:1308: UndefinedMetricWarning: Precision is ill-defined and being set to 0.0 in labels with no predicted samples. Use `zero_division` parameter to control this behavior.\n",
      "  _warn_prf(average, modifier, msg_start, len(result))\n"
     ]
    },
    {
     "name": "stdout",
     "output_type": "stream",
     "text": [
      "Logistic Regression       0.25 0.33 0.45\n",
      "Complement Naive Bayes    0.29 0.34 0.29\n"
     ]
    },
    {
     "name": "stderr",
     "output_type": "stream",
     "text": [
      "c:\\users\\georg\\documents\\msc-project\\venv\\lib\\site-packages\\sklearn\\neural_network\\_multilayer_perceptron.py:692: ConvergenceWarning: Stochastic Optimizer: Maximum iterations (400) reached and the optimization hasn't converged yet.\n",
      "  warnings.warn(\n"
     ]
    },
    {
     "name": "stdout",
     "output_type": "stream",
     "text": [
      "Multi-Layer Perceptron    0.35 0.35 0.39\n"
     ]
    }
   ],
   "source": [
    "models = [\n",
    "    (\"Baseline Classifier\",dummy.DummyClassifier(strategy='stratified')),\n",
    "    (\"Decision Tree\",tree.DecisionTreeClassifier()),\n",
    "    (\"Random Forest\",ensemble.RandomForestClassifier()),\n",
    "    (\"SVC\",svm.SVC()),\n",
    "    (\"Logistic Regression\",linear_model.LogisticRegression()),\n",
    "    (\"Complement Naive Bayes\",naive_bayes.ComplementNB()),\n",
    "    (\"Multi-Layer Perceptron\",neural_network.MLPClassifier(random_state=1,max_iter=400,hidden_layer_sizes=(256,128)))\n",
    "]\n",
    "template = \"{0:<25} {1:<4.2} {2:<4.2} {3:<4.2}\"\n",
    "print(str.format(template,\"Classifier\",\"Precision\",\"Recall\",\"Accuracy\"))\n",
    "for name, model in models:\n",
    "    scores = evaluate_model(model,X,y)\n",
    "    print(str.format(template,name,*scores))"
   ]
  },
  {
   "cell_type": "code",
   "execution_count": 83,
   "id": "76beaea7",
   "metadata": {},
   "outputs": [
    {
     "name": "stdout",
     "output_type": "stream",
     "text": [
      "Fitting 5 folds for each of 45 candidates, totalling 225 fits\n"
     ]
    },
    {
     "data": {
      "text/plain": [
       "GridSearchCV(estimator=SVC(), n_jobs=3,\n",
       "             param_grid=[{'C': [0.1, 1, 10], 'kernel': ['linear']},\n",
       "                         {'C': [0.1, 1, 10], 'gamma': ['scale', 0.1, 0.5],\n",
       "                          'kernel': ['rbf', 'sigmoid']},\n",
       "                         {'C': [0.1, 1, 10], 'degree': [3, 4],\n",
       "                          'gamma': ['scale', 0.1, 0.5, 0.9],\n",
       "                          'kernel': ['poly']}],\n",
       "             scoring='precision_macro', verbose=4)"
      ]
     },
     "execution_count": 83,
     "metadata": {},
     "output_type": "execute_result"
    }
   ],
   "source": [
    "params = [\n",
    "    {'C':[0.1,1,10],'kernel':['linear']},\n",
    "    {'C':[0.1,1,10],'gamma':['scale',0.1,0.5],'kernel':['rbf','sigmoid']},\n",
    "    {'C':[0.1,1,10],'gamma':['scale',0.1,0.5,0.9],'kernel':['poly'],'degree':[3,4]}\n",
    "]\n",
    "optimizer = GridSearchCV(\n",
    "    svm.SVC(),\n",
    "    param_grid=params,\n",
    "    scoring='precision_macro',\n",
    "    n_jobs=3,\n",
    "    refit=True,\n",
    "    verbose=4\n",
    ")\n",
    "optimizer.fit(X,y)"
   ]
  },
  {
   "cell_type": "code",
   "execution_count": 32,
   "id": "298ca3be",
   "metadata": {},
   "outputs": [
    {
     "data": {
      "text/plain": [
       "{'C': 1, 'gamma': 'scale', 'kernel': 'rbf'}"
      ]
     },
     "execution_count": 32,
     "metadata": {},
     "output_type": "execute_result"
    }
   ],
   "source": [
    "optimizer.best_params_"
   ]
  },
  {
   "cell_type": "code",
   "execution_count": 84,
   "id": "1b9cc8da",
   "metadata": {},
   "outputs": [],
   "source": [
    "est = optimizer.best_estimator_"
   ]
  },
  {
   "cell_type": "code",
   "execution_count": 85,
   "id": "36f1b921",
   "metadata": {},
   "outputs": [
    {
     "data": {
      "text/plain": [
       "(0.3383406412359107, 0.3273712587023366, 0.3475177304964539)"
      ]
     },
     "execution_count": 85,
     "metadata": {},
     "output_type": "execute_result"
    }
   ],
   "source": [
    "evaluate_model(est,X,y)"
   ]
  },
  {
   "cell_type": "code",
   "execution_count": null,
   "id": "1518ebdc",
   "metadata": {},
   "outputs": [],
   "source": []
  }
 ],
 "metadata": {
  "kernelspec": {
   "display_name": "Python 3 (ipykernel)",
   "language": "python",
   "name": "python3"
  },
  "language_info": {
   "codemirror_mode": {
    "name": "ipython",
    "version": 3
   },
   "file_extension": ".py",
   "mimetype": "text/x-python",
   "name": "python",
   "nbconvert_exporter": "python",
   "pygments_lexer": "ipython3",
   "version": "3.9.5"
  }
 },
 "nbformat": 4,
 "nbformat_minor": 5
}
