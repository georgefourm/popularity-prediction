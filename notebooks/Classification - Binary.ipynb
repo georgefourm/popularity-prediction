{
 "cells": [
  {
   "cell_type": "code",
   "execution_count": 1,
   "id": "53dbce72",
   "metadata": {},
   "outputs": [
    {
     "name": "stdout",
     "output_type": "stream",
     "text": [
      "C:\\Users\\georg\\Documents\\msc-project\n"
     ]
    }
   ],
   "source": [
    "%cd .."
   ]
  },
  {
   "cell_type": "code",
   "execution_count": 14,
   "id": "de612a81",
   "metadata": {},
   "outputs": [],
   "source": [
    "import pandas as pd\n",
    "import numpy as np\n",
    "\n",
    "from sklearn import svm,tree,naive_bayes,linear_model,dummy,ensemble\n",
    "from sklearn.preprocessing import MinMaxScaler,StandardScaler\n",
    "from sklearn.model_selection import GridSearchCV\n",
    "\n",
    "from matplotlib import pyplot as plt\n",
    "\n",
    "from src.optimization import optimize_svm,optimize_random_forest,optimize_lr\n",
    "from src.evaluation import evaluate_model, compare_classification_models"
   ]
  },
  {
   "cell_type": "code",
   "execution_count": 3,
   "id": "a3aeac65",
   "metadata": {
    "scrolled": true
   },
   "outputs": [],
   "source": [
    "df = pd.read_csv(\"data/interim/tracks.csv\")"
   ]
  },
  {
   "cell_type": "code",
   "execution_count": 9,
   "id": "0ebac7a4",
   "metadata": {
    "scrolled": false
   },
   "outputs": [
    {
     "data": {
      "text/plain": [
       "<AxesSubplot:>"
      ]
     },
     "execution_count": 9,
     "metadata": {},
     "output_type": "execute_result"
    },
    {
     "data": {
      "image/png": "[encoded data removed]",
      "text/plain": [
       "<Figure size 432x288 with 1 Axes>"
      ]
     },
     "metadata": {
      "needs_background": "light"
     },
     "output_type": "display_data"
    }
   ],
   "source": [
    "viral_threshold = 1e+06\n",
    "features = [\n",
    "    'danceability',\n",
    "    'energy',\n",
    "    'key',\n",
    "    'loudness',\n",
    "    'mode',\n",
    "    'speechiness',\n",
    "    'acousticness',\n",
    "    'instrumentalness',\n",
    "    'liveness',\n",
    "    'valence',\n",
    "    'tempo',\n",
    "    'time_signature',\n",
    "    'duration_ms'\n",
    "]\n",
    "\n",
    "def get_data_for_threshold(threshold):\n",
    "    views = df['views']\n",
    "    data = df.loc[:,features]\n",
    "    targets = views.apply(np.digitize,bins=[0,threshold,views.max() +1])\n",
    "\n",
    "    nrm = MinMaxScaler()\n",
    "    regularized = nrm.fit_transform(data)\n",
    "    return regularized, targets\n",
    "\n",
    "X,y = get_data_for_threshold(viral_threshold)\n",
    "y.hist(bins=2, grid=False)"
   ]
  },
  {
   "cell_type": "code",
   "execution_count": 10,
   "id": "c0980b24",
   "metadata": {},
   "outputs": [
    {
     "name": "stdout",
     "output_type": "stream",
     "text": [
      "Classifier                Pr   Re   Ac  \n",
      "Baseline                  0.5  0.5  0.54\n",
      "Decision Tree             0.5  0.5  0.54\n",
      "Random Forest             0.56 0.53 0.63\n"
     ]
    },
    {
     "name": "stderr",
     "output_type": "stream",
     "text": [
      "c:\\users\\georg\\documents\\msc-project\\venv\\lib\\site-packages\\sklearn\\metrics\\_classification.py:1308: UndefinedMetricWarning: Precision is ill-defined and being set to 0.0 in labels with no predicted samples. Use `zero_division` parameter to control this behavior.\n",
      "  _warn_prf(average, modifier, msg_start, len(result))\n",
      "c:\\users\\georg\\documents\\msc-project\\venv\\lib\\site-packages\\sklearn\\metrics\\_classification.py:1308: UndefinedMetricWarning: Precision is ill-defined and being set to 0.0 in labels with no predicted samples. Use `zero_division` parameter to control this behavior.\n",
      "  _warn_prf(average, modifier, msg_start, len(result))\n",
      "c:\\users\\georg\\documents\\msc-project\\venv\\lib\\site-packages\\sklearn\\metrics\\_classification.py:1308: UndefinedMetricWarning: Precision is ill-defined and being set to 0.0 in labels with no predicted samples. Use `zero_division` parameter to control this behavior.\n",
      "  _warn_prf(average, modifier, msg_start, len(result))\n"
     ]
    },
    {
     "name": "stdout",
     "output_type": "stream",
     "text": [
      "SVC                       0.32 0.5  0.64\n",
      "Logistic Regression       0.62 0.5  0.64\n",
      "Complement Naive Bayes    0.5  0.5  0.54\n"
     ]
    },
    {
     "name": "stderr",
     "output_type": "stream",
     "text": [
      "c:\\users\\georg\\documents\\msc-project\\venv\\lib\\site-packages\\sklearn\\metrics\\_classification.py:1308: UndefinedMetricWarning: Precision is ill-defined and being set to 0.0 in labels with no predicted samples. Use `zero_division` parameter to control this behavior.\n",
      "  _warn_prf(average, modifier, msg_start, len(result))\n"
     ]
    }
   ],
   "source": [
    "compare_classification_models(X,y)"
   ]
  },
  {
   "cell_type": "code",
   "execution_count": 19,
   "id": "05d598c3",
   "metadata": {
    "scrolled": true
   },
   "outputs": [
    {
     "name": "stdout",
     "output_type": "stream",
     "text": [
      "Fitting 5 folds for each of 72 candidates, totalling 360 fits\n"
     ]
    },
    {
     "data": {
      "text/plain": [
       "GridSearchCV(estimator=LogisticRegression(), n_jobs=3,\n",
       "             param_grid=[{'C': [0.1, 1, 10], 'class_weight': ['balanced', None],\n",
       "                          'l1_ratio': [0.1, 0.5, 1],\n",
       "                          'penalty': ['elasticnet', 'l1', 'l2', 'none'],\n",
       "                          'solver': ['saga']}],\n",
       "             scoring='f1_macro', verbose=4)"
      ]
     },
     "execution_count": 19,
     "metadata": {},
     "output_type": "execute_result"
    }
   ],
   "source": [
    "params = [{\n",
    "    'penalty': ['elasticnet', 'l1', 'l2', 'none'],\n",
    "    'C': [0.1, 1, 10],\n",
    "    'class_weight': ['balanced', None],\n",
    "    'solver': ['saga'],\n",
    "    'l1_ratio': [0.1,0.5,1]\n",
    "}]\n",
    "optimizer = GridSearchCV(\n",
    "    linear_model.LogisticRegression(),\n",
    "    param_grid=params,\n",
    "    scoring='f1_macro',\n",
    "    n_jobs=3,\n",
    "    verbose=4\n",
    ")\n",
    "optimizer.fit(X, y)"
   ]
  },
  {
   "cell_type": "code",
   "execution_count": 21,
   "id": "1763d240",
   "metadata": {},
   "outputs": [
    {
     "data": {
      "text/plain": [
       "{'C': 0.1,\n",
       " 'class_weight': 'balanced',\n",
       " 'l1_ratio': 0.5,\n",
       " 'penalty': 'elasticnet',\n",
       " 'solver': 'saga'}"
      ]
     },
     "execution_count": 21,
     "metadata": {},
     "output_type": "execute_result"
    }
   ],
   "source": [
    "optimizer.best_params_"
   ]
  },
  {
   "cell_type": "code",
   "execution_count": 22,
   "id": "fc35da53",
   "metadata": {
    "scrolled": true
   },
   "outputs": [
    {
     "data": {
      "text/plain": [
       "[0.6186274148660589, 0.4995957708165972, 0.6362559779344708]"
      ]
     },
     "execution_count": 22,
     "metadata": {},
     "output_type": "execute_result"
    }
   ],
   "source": [
    "estimator = optimizer.best_estimator_\n",
    "evaluate_model(linear_model.LogisticRegression(),X,y)"
   ]
  },
  {
   "cell_type": "code",
   "execution_count": null,
   "id": "7ac939a9",
   "metadata": {},
   "outputs": [],
   "source": []
  }
 ],
 "metadata": {
  "kernelspec": {
   "display_name": "Python 3 (ipykernel)",
   "language": "python",
   "name": "python3"
  },
  "language_info": {
   "codemirror_mode": {
    "name": "ipython",
    "version": 3
   },
   "file_extension": ".py",
   "mimetype": "text/x-python",
   "name": "python",
   "nbconvert_exporter": "python",
   "pygments_lexer": "ipython3",
   "version": "3.9.5"
  }
 },
 "nbformat": 4,
 "nbformat_minor": 5
}
