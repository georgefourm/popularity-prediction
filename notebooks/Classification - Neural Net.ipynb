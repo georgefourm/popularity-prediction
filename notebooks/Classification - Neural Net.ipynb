{
 "cells": [
  {
   "cell_type": "code",
   "execution_count": 1,
   "id": "5b6b63e6",
   "metadata": {},
   "outputs": [
    {
     "name": "stdout",
     "output_type": "stream",
     "text": [
      "C:\\Users\\georg\\Documents\\msc-project\n"
     ]
    }
   ],
   "source": [
    "%cd .."
   ]
  },
  {
   "cell_type": "code",
   "execution_count": 31,
   "id": "bb5fc5aa",
   "metadata": {},
   "outputs": [],
   "source": [
    "import pandas as pd\n",
    "import numpy as np\n",
    "\n",
    "import tensorflow as tf\n",
    "from tensorflow import keras\n",
    "from tensorflow.keras import layers\n",
    "\n",
    "from sklearn import preprocessing"
   ]
  },
  {
   "cell_type": "code",
   "execution_count": 3,
   "id": "c46760b3",
   "metadata": {},
   "outputs": [],
   "source": [
    "df = pd.read_csv(\"data/interim/tracks.csv\")"
   ]
  },
  {
   "cell_type": "code",
   "execution_count": 6,
   "id": "062f0328",
   "metadata": {
    "scrolled": true
   },
   "outputs": [
    {
     "data": {
      "text/plain": [
       "(4127, 23)"
      ]
     },
     "execution_count": 6,
     "metadata": {},
     "output_type": "execute_result"
    }
   ],
   "source": [
    "df.shape"
   ]
  },
  {
   "cell_type": "code",
   "execution_count": 67,
   "id": "9b854187",
   "metadata": {},
   "outputs": [],
   "source": [
    "features = [\n",
    "    'danceability',\n",
    "    'energy',\n",
    "    'key',\n",
    "    'loudness',\n",
    "    'mode',\n",
    "    'speechiness',\n",
    "    'acousticness',\n",
    "    'instrumentalness',\n",
    "    'liveness',\n",
    "    'valence',\n",
    "    'tempo',\n",
    "    'time_signature',\n",
    "    'duration_ms'\n",
    "]\n",
    "\n",
    "popularity_bins = [0,1e+4,1e+5,1e+6,1e+9]\n",
    "\n",
    "data = preprocessing.MinMaxScaler().fit_transform(df[features])\n",
    "targets = df['views'].apply(np.digitize,bins=popularity_bins)"
   ]
  },
  {
   "cell_type": "code",
   "execution_count": 68,
   "id": "8b41d4aa",
   "metadata": {},
   "outputs": [
    {
     "data": {
      "text/plain": [
       "<AxesSubplot:>"
      ]
     },
     "execution_count": 68,
     "metadata": {},
     "output_type": "execute_result"
    },
    {
     "data": {
      "image/png": "[encoded data removed]",
      "text/plain": [
       "<Figure size 432x288 with 1 Axes>"
      ]
     },
     "metadata": {
      "needs_background": "light"
     },
     "output_type": "display_data"
    }
   ],
   "source": [
    "targets.hist(bins=4)"
   ]
  },
  {
   "cell_type": "code",
   "execution_count": 69,
   "id": "7790f177",
   "metadata": {},
   "outputs": [],
   "source": [
    "classes = preprocessing.OneHotEncoder(sparse=False).fit_transform(targets.values.reshape(-1,1))"
   ]
  },
  {
   "cell_type": "code",
   "execution_count": 70,
   "id": "0f5ee4c4",
   "metadata": {},
   "outputs": [
    {
     "name": "stdout",
     "output_type": "stream",
     "text": [
      "Epoch 1/100\n",
      "104/104 [==============================] - 0s 2ms/step - loss: 1.2688 - categorical_accuracy: 0.3511 - val_loss: 1.2975 - val_categorical_accuracy: 0.3232\n",
      "Epoch 2/100\n",
      "104/104 [==============================] - 0s 1ms/step - loss: 1.2498 - categorical_accuracy: 0.3644 - val_loss: 1.2751 - val_categorical_accuracy: 0.3232\n",
      "Epoch 3/100\n",
      "104/104 [==============================] - 0s 1ms/step - loss: 1.2453 - categorical_accuracy: 0.3599 - val_loss: 1.2729 - val_categorical_accuracy: 0.3232\n",
      "Epoch 4/100\n",
      "104/104 [==============================] - 0s 1ms/step - loss: 1.2462 - categorical_accuracy: 0.3644 - val_loss: 1.2873 - val_categorical_accuracy: 0.3232\n",
      "Epoch 5/100\n",
      "104/104 [==============================] - 0s 857us/step - loss: 1.2459 - categorical_accuracy: 0.3587 - val_loss: 1.2834 - val_categorical_accuracy: 0.3232\n",
      "Epoch 6/100\n",
      "104/104 [==============================] - 0s 852us/step - loss: 1.2466 - categorical_accuracy: 0.3496 - val_loss: 1.2751 - val_categorical_accuracy: 0.3232\n",
      "Epoch 7/100\n",
      "104/104 [==============================] - 0s 1ms/step - loss: 1.2455 - categorical_accuracy: 0.3587 - val_loss: 1.2777 - val_categorical_accuracy: 0.3232\n",
      "Epoch 8/100\n",
      "104/104 [==============================] - 0s 1ms/step - loss: 1.2464 - categorical_accuracy: 0.3566 - val_loss: 1.2708 - val_categorical_accuracy: 0.3232\n",
      "Epoch 9/100\n",
      "104/104 [==============================] - 0s 929us/step - loss: 1.2451 - categorical_accuracy: 0.3526 - val_loss: 1.2749 - val_categorical_accuracy: 0.3232\n",
      "Epoch 10/100\n",
      "104/104 [==============================] - 0s 833us/step - loss: 1.2452 - categorical_accuracy: 0.3650 - val_loss: 1.2767 - val_categorical_accuracy: 0.2869\n",
      "Epoch 11/100\n",
      "104/104 [==============================] - 0s 857us/step - loss: 1.2458 - categorical_accuracy: 0.3614 - val_loss: 1.2753 - val_categorical_accuracy: 0.3232\n",
      "Epoch 12/100\n",
      "104/104 [==============================] - 0s 881us/step - loss: 1.2448 - categorical_accuracy: 0.3566 - val_loss: 1.2686 - val_categorical_accuracy: 0.3232\n",
      "Epoch 13/100\n",
      "104/104 [==============================] - 0s 891us/step - loss: 1.2441 - categorical_accuracy: 0.3569 - val_loss: 1.2917 - val_categorical_accuracy: 0.3232\n",
      "Epoch 14/100\n",
      "104/104 [==============================] - 0s 1ms/step - loss: 1.2475 - categorical_accuracy: 0.3581 - val_loss: 1.2824 - val_categorical_accuracy: 0.3232\n",
      "Epoch 15/100\n",
      "104/104 [==============================] - 0s 934us/step - loss: 1.2464 - categorical_accuracy: 0.3644 - val_loss: 1.2740 - val_categorical_accuracy: 0.3232\n",
      "Epoch 16/100\n",
      "104/104 [==============================] - 0s 973us/step - loss: 1.2443 - categorical_accuracy: 0.3611 - val_loss: 1.2760 - val_categorical_accuracy: 0.3232\n",
      "Epoch 17/100\n",
      "104/104 [==============================] - 0s 848us/step - loss: 1.2459 - categorical_accuracy: 0.3617 - val_loss: 1.2760 - val_categorical_accuracy: 0.3232\n",
      "Epoch 18/100\n",
      "104/104 [==============================] - 0s 848us/step - loss: 1.2450 - categorical_accuracy: 0.3626 - val_loss: 1.2759 - val_categorical_accuracy: 0.2869\n",
      "Epoch 19/100\n",
      "104/104 [==============================] - 0s 852us/step - loss: 1.2464 - categorical_accuracy: 0.3520 - val_loss: 1.2718 - val_categorical_accuracy: 0.3232\n",
      "Epoch 20/100\n",
      "104/104 [==============================] - 0s 843us/step - loss: 1.2448 - categorical_accuracy: 0.3556 - val_loss: 1.2844 - val_categorical_accuracy: 0.3232\n",
      "Epoch 21/100\n",
      "104/104 [==============================] - 0s 862us/step - loss: 1.2457 - categorical_accuracy: 0.3532 - val_loss: 1.2744 - val_categorical_accuracy: 0.3232\n",
      "Epoch 22/100\n",
      "104/104 [==============================] - 0s 857us/step - loss: 1.2457 - categorical_accuracy: 0.3505 - val_loss: 1.2707 - val_categorical_accuracy: 0.2869\n",
      "Epoch 23/100\n",
      "104/104 [==============================] - 0s 848us/step - loss: 1.2452 - categorical_accuracy: 0.3535 - val_loss: 1.2792 - val_categorical_accuracy: 0.3232\n",
      "Epoch 24/100\n",
      "104/104 [==============================] - 0s 978us/step - loss: 1.2445 - categorical_accuracy: 0.3605 - val_loss: 1.2762 - val_categorical_accuracy: 0.3232\n",
      "Epoch 25/100\n",
      "104/104 [==============================] - 0s 939us/step - loss: 1.2455 - categorical_accuracy: 0.3644 - val_loss: 1.2692 - val_categorical_accuracy: 0.3232\n",
      "Epoch 26/100\n",
      "104/104 [==============================] - 0s 1ms/step - loss: 1.2446 - categorical_accuracy: 0.3644 - val_loss: 1.2816 - val_categorical_accuracy: 0.3232\n",
      "Epoch 27/100\n",
      "104/104 [==============================] - 0s 963us/step - loss: 1.2454 - categorical_accuracy: 0.3544 - val_loss: 1.2741 - val_categorical_accuracy: 0.3232\n",
      "Epoch 28/100\n",
      "104/104 [==============================] - 0s 1ms/step - loss: 1.2484 - categorical_accuracy: 0.3447 - val_loss: 1.2752 - val_categorical_accuracy: 0.3232\n",
      "Epoch 29/100\n",
      "104/104 [==============================] - 0s 939us/step - loss: 1.2445 - categorical_accuracy: 0.3614 - val_loss: 1.2683 - val_categorical_accuracy: 0.3232\n",
      "Epoch 30/100\n",
      "104/104 [==============================] - 0s 963us/step - loss: 1.2452 - categorical_accuracy: 0.3578 - val_loss: 1.2725 - val_categorical_accuracy: 0.3232\n",
      "Epoch 31/100\n",
      "104/104 [==============================] - 0s 963us/step - loss: 1.2449 - categorical_accuracy: 0.3644 - val_loss: 1.2725 - val_categorical_accuracy: 0.3232\n",
      "Epoch 32/100\n",
      "104/104 [==============================] - 0s 925us/step - loss: 1.2444 - categorical_accuracy: 0.3617 - val_loss: 1.2706 - val_categorical_accuracy: 0.3232\n",
      "Epoch 33/100\n",
      "104/104 [==============================] - 0s 953us/step - loss: 1.2456 - categorical_accuracy: 0.3526 - val_loss: 1.2790 - val_categorical_accuracy: 0.3232\n",
      "Epoch 34/100\n",
      "104/104 [==============================] - 0s 901us/step - loss: 1.2451 - categorical_accuracy: 0.3608 - val_loss: 1.2769 - val_categorical_accuracy: 0.3232\n",
      "Epoch 35/100\n",
      "104/104 [==============================] - 0s 852us/step - loss: 1.2462 - categorical_accuracy: 0.3584 - val_loss: 1.2823 - val_categorical_accuracy: 0.3232\n",
      "Epoch 36/100\n",
      "104/104 [==============================] - 0s 857us/step - loss: 1.2453 - categorical_accuracy: 0.3484 - val_loss: 1.2689 - val_categorical_accuracy: 0.3245\n",
      "Epoch 37/100\n",
      "104/104 [==============================] - 0s 843us/step - loss: 1.2467 - categorical_accuracy: 0.3517 - val_loss: 1.2752 - val_categorical_accuracy: 0.3232\n",
      "Epoch 38/100\n",
      "104/104 [==============================] - 0s 843us/step - loss: 1.2464 - categorical_accuracy: 0.3541 - val_loss: 1.2753 - val_categorical_accuracy: 0.3232\n",
      "Epoch 39/100\n",
      "104/104 [==============================] - 0s 857us/step - loss: 1.2459 - categorical_accuracy: 0.3608 - val_loss: 1.2704 - val_categorical_accuracy: 0.3245\n",
      "Epoch 40/100\n",
      "104/104 [==============================] - 0s 843us/step - loss: 1.2464 - categorical_accuracy: 0.3602 - val_loss: 1.2760 - val_categorical_accuracy: 0.3232\n",
      "Epoch 41/100\n",
      "104/104 [==============================] - 0s 876us/step - loss: 1.2459 - categorical_accuracy: 0.3644 - val_loss: 1.2847 - val_categorical_accuracy: 0.3232\n",
      "Epoch 42/100\n",
      "104/104 [==============================] - 0s 1ms/step - loss: 1.2482 - categorical_accuracy: 0.3602 - val_loss: 1.2689 - val_categorical_accuracy: 0.3232\n",
      "Epoch 43/100\n",
      "104/104 [==============================] - 0s 857us/step - loss: 1.2454 - categorical_accuracy: 0.3644 - val_loss: 1.2843 - val_categorical_accuracy: 0.3232\n",
      "Epoch 44/100\n",
      "104/104 [==============================] - 0s 896us/step - loss: 1.2463 - categorical_accuracy: 0.3644 - val_loss: 1.2691 - val_categorical_accuracy: 0.3232\n",
      "Epoch 45/100\n",
      "104/104 [==============================] - 0s 881us/step - loss: 1.2464 - categorical_accuracy: 0.3508 - val_loss: 1.2813 - val_categorical_accuracy: 0.3232\n",
      "Epoch 46/100\n",
      "104/104 [==============================] - 0s 1ms/step - loss: 1.2442 - categorical_accuracy: 0.3605 - val_loss: 1.2793 - val_categorical_accuracy: 0.3232\n",
      "Epoch 47/100\n",
      "104/104 [==============================] - 0s 939us/step - loss: 1.2447 - categorical_accuracy: 0.3644 - val_loss: 1.2725 - val_categorical_accuracy: 0.3232\n",
      "Epoch 48/100\n",
      "104/104 [==============================] - 0s 848us/step - loss: 1.2456 - categorical_accuracy: 0.3556 - val_loss: 1.2791 - val_categorical_accuracy: 0.3232\n",
      "Epoch 49/100\n"
     ]
    },
    {
     "name": "stdout",
     "output_type": "stream",
     "text": [
      "104/104 [==============================] - 0s 857us/step - loss: 1.2445 - categorical_accuracy: 0.3541 - val_loss: 1.2703 - val_categorical_accuracy: 0.3232\n",
      "Epoch 50/100\n",
      "104/104 [==============================] - 0s 862us/step - loss: 1.2464 - categorical_accuracy: 0.3578 - val_loss: 1.2785 - val_categorical_accuracy: 0.3232\n",
      "Epoch 51/100\n",
      "104/104 [==============================] - 0s 891us/step - loss: 1.2466 - categorical_accuracy: 0.3644 - val_loss: 1.2699 - val_categorical_accuracy: 0.3232\n",
      "Epoch 52/100\n",
      "104/104 [==============================] - 0s 867us/step - loss: 1.2458 - categorical_accuracy: 0.3644 - val_loss: 1.2726 - val_categorical_accuracy: 0.3232\n",
      "Epoch 53/100\n",
      "104/104 [==============================] - 0s 857us/step - loss: 1.2467 - categorical_accuracy: 0.3644 - val_loss: 1.2754 - val_categorical_accuracy: 0.3232\n",
      "Epoch 54/100\n",
      "104/104 [==============================] - 0s 857us/step - loss: 1.2445 - categorical_accuracy: 0.3566 - val_loss: 1.2730 - val_categorical_accuracy: 0.3232\n",
      "Epoch 55/100\n",
      "104/104 [==============================] - 0s 823us/step - loss: 1.2443 - categorical_accuracy: 0.3587 - val_loss: 1.2871 - val_categorical_accuracy: 0.3232\n",
      "Epoch 56/100\n",
      "104/104 [==============================] - 0s 867us/step - loss: 1.2461 - categorical_accuracy: 0.3547 - val_loss: 1.2726 - val_categorical_accuracy: 0.3232\n",
      "Epoch 57/100\n",
      "104/104 [==============================] - 0s 876us/step - loss: 1.2449 - categorical_accuracy: 0.3644 - val_loss: 1.2741 - val_categorical_accuracy: 0.3232\n",
      "Epoch 58/100\n",
      "104/104 [==============================] - 0s 862us/step - loss: 1.2458 - categorical_accuracy: 0.3569 - val_loss: 1.2690 - val_categorical_accuracy: 0.3232\n",
      "Epoch 59/100\n",
      "104/104 [==============================] - 0s 848us/step - loss: 1.2476 - categorical_accuracy: 0.3520 - val_loss: 1.2783 - val_categorical_accuracy: 0.3232\n",
      "Epoch 60/100\n",
      "104/104 [==============================] - 0s 857us/step - loss: 1.2457 - categorical_accuracy: 0.3629 - val_loss: 1.2858 - val_categorical_accuracy: 0.3232\n",
      "Epoch 61/100\n",
      "104/104 [==============================] - 0s 838us/step - loss: 1.2466 - categorical_accuracy: 0.3569 - val_loss: 1.2771 - val_categorical_accuracy: 0.3232\n",
      "Epoch 62/100\n",
      "104/104 [==============================] - 0s 872us/step - loss: 1.2456 - categorical_accuracy: 0.3590 - val_loss: 1.2786 - val_categorical_accuracy: 0.3232\n",
      "Epoch 63/100\n",
      "104/104 [==============================] - 0s 862us/step - loss: 1.2463 - categorical_accuracy: 0.3644 - val_loss: 1.2748 - val_categorical_accuracy: 0.3232\n",
      "Epoch 64/100\n",
      "104/104 [==============================] - 0s 862us/step - loss: 1.2445 - categorical_accuracy: 0.3644 - val_loss: 1.2819 - val_categorical_accuracy: 0.3232\n",
      "Epoch 65/100\n",
      "104/104 [==============================] - 0s 838us/step - loss: 1.2469 - categorical_accuracy: 0.3644 - val_loss: 1.2764 - val_categorical_accuracy: 0.3232\n",
      "Epoch 66/100\n",
      "104/104 [==============================] - 0s 867us/step - loss: 1.2472 - categorical_accuracy: 0.3463 - val_loss: 1.2859 - val_categorical_accuracy: 0.3232\n",
      "Epoch 67/100\n",
      "104/104 [==============================] - 0s 852us/step - loss: 1.2471 - categorical_accuracy: 0.3547 - val_loss: 1.2782 - val_categorical_accuracy: 0.3232\n",
      "Epoch 68/100\n",
      "104/104 [==============================] - 0s 867us/step - loss: 1.2457 - categorical_accuracy: 0.3614 - val_loss: 1.2764 - val_categorical_accuracy: 0.3232\n",
      "Epoch 69/100\n",
      "104/104 [==============================] - 0s 867us/step - loss: 1.2455 - categorical_accuracy: 0.3575 - val_loss: 1.2875 - val_categorical_accuracy: 0.3232\n",
      "Epoch 70/100\n",
      "104/104 [==============================] - 0s 862us/step - loss: 1.2456 - categorical_accuracy: 0.3553 - val_loss: 1.2832 - val_categorical_accuracy: 0.3232\n",
      "Epoch 71/100\n",
      "104/104 [==============================] - 0s 857us/step - loss: 1.2461 - categorical_accuracy: 0.3496 - val_loss: 1.2880 - val_categorical_accuracy: 0.3232\n",
      "Epoch 72/100\n",
      "104/104 [==============================] - 0s 876us/step - loss: 1.2471 - categorical_accuracy: 0.3547 - val_loss: 1.2757 - val_categorical_accuracy: 0.3232\n",
      "Epoch 73/100\n",
      "104/104 [==============================] - 0s 872us/step - loss: 1.2443 - categorical_accuracy: 0.3541 - val_loss: 1.2680 - val_categorical_accuracy: 0.3245\n",
      "Epoch 74/100\n",
      "104/104 [==============================] - 0s 876us/step - loss: 1.2449 - categorical_accuracy: 0.3596 - val_loss: 1.2845 - val_categorical_accuracy: 0.3232\n",
      "Epoch 75/100\n",
      "104/104 [==============================] - 0s 838us/step - loss: 1.2452 - categorical_accuracy: 0.3644 - val_loss: 1.2699 - val_categorical_accuracy: 0.3232\n",
      "Epoch 76/100\n",
      "104/104 [==============================] - 0s 828us/step - loss: 1.2471 - categorical_accuracy: 0.3602 - val_loss: 1.2717 - val_categorical_accuracy: 0.3232\n",
      "Epoch 77/100\n",
      "104/104 [==============================] - 0s 881us/step - loss: 1.2454 - categorical_accuracy: 0.3581 - val_loss: 1.2720 - val_categorical_accuracy: 0.3232\n",
      "Epoch 78/100\n",
      "104/104 [==============================] - 0s 862us/step - loss: 1.2451 - categorical_accuracy: 0.3566 - val_loss: 1.2776 - val_categorical_accuracy: 0.3232\n",
      "Epoch 79/100\n",
      "104/104 [==============================] - 0s 876us/step - loss: 1.2460 - categorical_accuracy: 0.3484 - val_loss: 1.2781 - val_categorical_accuracy: 0.3232\n",
      "Epoch 80/100\n",
      "104/104 [==============================] - 0s 934us/step - loss: 1.2456 - categorical_accuracy: 0.3644 - val_loss: 1.2802 - val_categorical_accuracy: 0.3232\n",
      "Epoch 81/100\n",
      "104/104 [==============================] - 0s 992us/step - loss: 1.2457 - categorical_accuracy: 0.3620 - val_loss: 1.2683 - val_categorical_accuracy: 0.3232\n",
      "Epoch 82/100\n",
      "104/104 [==============================] - 0s 944us/step - loss: 1.2452 - categorical_accuracy: 0.3547 - val_loss: 1.2786 - val_categorical_accuracy: 0.3232\n",
      "Epoch 83/100\n",
      "104/104 [==============================] - 0s 843us/step - loss: 1.2462 - categorical_accuracy: 0.3532 - val_loss: 1.2939 - val_categorical_accuracy: 0.3232\n",
      "Epoch 84/100\n",
      "104/104 [==============================] - 0s 896us/step - loss: 1.2463 - categorical_accuracy: 0.3575 - val_loss: 1.2695 - val_categorical_accuracy: 0.3245\n",
      "Epoch 85/100\n",
      "104/104 [==============================] - 0s 896us/step - loss: 1.2474 - categorical_accuracy: 0.3414 - val_loss: 1.2897 - val_categorical_accuracy: 0.3232\n",
      "Epoch 86/100\n",
      "104/104 [==============================] - 0s 843us/step - loss: 1.2465 - categorical_accuracy: 0.3499 - val_loss: 1.2684 - val_categorical_accuracy: 0.3232\n",
      "Epoch 87/100\n",
      "104/104 [==============================] - 0s 848us/step - loss: 1.2492 - categorical_accuracy: 0.3323 - val_loss: 1.2727 - val_categorical_accuracy: 0.3232\n",
      "Epoch 88/100\n",
      "104/104 [==============================] - 0s 910us/step - loss: 1.2453 - categorical_accuracy: 0.3617 - val_loss: 1.2739 - val_categorical_accuracy: 0.2869\n",
      "Epoch 89/100\n",
      "104/104 [==============================] - 0s 867us/step - loss: 1.2458 - categorical_accuracy: 0.3572 - val_loss: 1.2716 - val_categorical_accuracy: 0.3232\n",
      "Epoch 90/100\n",
      "104/104 [==============================] - 0s 833us/step - loss: 1.2482 - categorical_accuracy: 0.3563 - val_loss: 1.2862 - val_categorical_accuracy: 0.2869\n",
      "Epoch 91/100\n",
      "104/104 [==============================] - 0s 891us/step - loss: 1.2462 - categorical_accuracy: 0.3529 - val_loss: 1.2859 - val_categorical_accuracy: 0.3232\n",
      "Epoch 92/100\n",
      "104/104 [==============================] - 0s 872us/step - loss: 1.2459 - categorical_accuracy: 0.3644 - val_loss: 1.2840 - val_categorical_accuracy: 0.3232\n",
      "Epoch 93/100\n",
      "104/104 [==============================] - 0s 867us/step - loss: 1.2464 - categorical_accuracy: 0.3608 - val_loss: 1.2745 - val_categorical_accuracy: 0.2869\n",
      "Epoch 94/100\n",
      "104/104 [==============================] - 0s 838us/step - loss: 1.2454 - categorical_accuracy: 0.3538 - val_loss: 1.2778 - val_categorical_accuracy: 0.3232\n",
      "Epoch 95/100\n",
      "104/104 [==============================] - 0s 857us/step - loss: 1.2456 - categorical_accuracy: 0.3578 - val_loss: 1.2780 - val_categorical_accuracy: 0.3232\n",
      "Epoch 96/100\n",
      "104/104 [==============================] - 0s 857us/step - loss: 1.2474 - categorical_accuracy: 0.3429 - val_loss: 1.2773 - val_categorical_accuracy: 0.3232\n",
      "Epoch 97/100\n"
     ]
    },
    {
     "name": "stdout",
     "output_type": "stream",
     "text": [
      "104/104 [==============================] - 0s 833us/step - loss: 1.2459 - categorical_accuracy: 0.3644 - val_loss: 1.2779 - val_categorical_accuracy: 0.3232\n",
      "Epoch 98/100\n",
      "104/104 [==============================] - 0s 838us/step - loss: 1.2461 - categorical_accuracy: 0.3644 - val_loss: 1.2679 - val_categorical_accuracy: 0.3232\n",
      "Epoch 99/100\n",
      "104/104 [==============================] - 0s 876us/step - loss: 1.2456 - categorical_accuracy: 0.3553 - val_loss: 1.2742 - val_categorical_accuracy: 0.3232\n",
      "Epoch 100/100\n",
      "104/104 [==============================] - 0s 843us/step - loss: 1.2469 - categorical_accuracy: 0.3520 - val_loss: 1.2861 - val_categorical_accuracy: 0.3232\n"
     ]
    },
    {
     "data": {
      "text/plain": [
       "<keras.callbacks.History at 0x247e6931a30>"
      ]
     },
     "execution_count": 70,
     "metadata": {},
     "output_type": "execute_result"
    }
   ],
   "source": [
    "model = keras.Sequential(\n",
    "    [\n",
    "        keras.Input(shape=(data.shape[1])),\n",
    "        layers.Dense(128, activation=\"relu\"),\n",
    "        layers.Dense(64, activation=\"relu\"),\n",
    "        layers.Dense(16, activation=\"relu\"),\n",
    "        layers.Dense(4, activation=\"softmax\",name=\"predictions\"),\n",
    "    ]\n",
    ")\n",
    "model.compile(\n",
    "    optimizer=tf.optimizers.Adam(learning_rate=0.05),\n",
    "    loss=tf.keras.losses.CategoricalCrossentropy(),\n",
    "    metrics=[keras.metrics.CategoricalAccuracy()],\n",
    ")\n",
    "model.fit(data,classes,validation_split=.2,epochs=100,batch_size=32)"
   ]
  },
  {
   "cell_type": "code",
   "execution_count": null,
   "id": "d8c417c0",
   "metadata": {},
   "outputs": [],
   "source": []
  }
 ],
 "metadata": {
  "kernelspec": {
   "display_name": "Python 3 (ipykernel)",
   "language": "python",
   "name": "python3"
  },
  "language_info": {
   "codemirror_mode": {
    "name": "ipython",
    "version": 3
   },
   "file_extension": ".py",
   "mimetype": "text/x-python",
   "name": "python",
   "nbconvert_exporter": "python",
   "pygments_lexer": "ipython3",
   "version": "3.9.5"
  }
 },
 "nbformat": 4,
 "nbformat_minor": 5
}
