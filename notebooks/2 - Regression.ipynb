{
 "cells": [
  {
   "cell_type": "markdown",
   "id": "0e9f7f0c",
   "metadata": {},
   "source": [
    "# Regression Approach\n",
    "\n",
    "This notebook is dedicated to modelling the problem as a regression problem. Different regression techniques are evaluated, and then the best-performing one is optimized in terms of hyper-parameters"
   ]
  },
  {
   "cell_type": "code",
   "execution_count": null,
   "id": "696193a8",
   "metadata": {
    "scrolled": true
   },
   "outputs": [],
   "source": [
    "# Change directory for cleaner path handling\n",
    "%%capture\n",
    "%cd .."
   ]
  },
  {
   "cell_type": "code",
   "execution_count": 3,
   "id": "ba8f7913",
   "metadata": {},
   "outputs": [],
   "source": [
    "import pandas as pd\n",
    "import numpy as np\n",
    "import matplotlib.pyplot as plt\n",
    "\n",
    "from sklearn import tree, linear_model, dummy, kernel_ridge, gaussian_process\n",
    "from sklearn.preprocessing import PolynomialFeatures,StandardScaler\n",
    "from sklearn.pipeline import Pipeline\n",
    "from sklearn.model_selection import train_test_split, KFold, GridSearchCV\n",
    "from sklearn.feature_selection import RFECV\n",
    "\n",
    "from src.evaluation import compare_models, evaluate_model"
   ]
  },
  {
   "cell_type": "code",
   "execution_count": 4,
   "id": "71b0556b",
   "metadata": {},
   "outputs": [],
   "source": [
    "df = pd.read_csv(\"data/processed/tracks.csv\")\n",
    "targets = df['views']\n",
    "features = [\n",
    "    'danceability',\n",
    "    'energy',\n",
    "    'key',\n",
    "    'loudness',\n",
    "    'mode',\n",
    "    'speechiness',\n",
    "    'acousticness',\n",
    "    'instrumentalness',\n",
    "    'liveness',\n",
    "    'valence',\n",
    "    'tempo',\n",
    "    'time_signature',\n",
    "    'duration_ms',\n",
    "    'popularity'\n",
    "]\n",
    "\n",
    "data = df[features]"
   ]
  },
  {
   "cell_type": "markdown",
   "id": "a0ee4af5",
   "metadata": {},
   "source": [
    "## Model comparison\n",
    "Different regression models are compared with their default parameters to establish a baseline. The evaluation includes standard scaling as part of a pipeline, so no further pre-processing is needed."
   ]
  },
  {
   "cell_type": "code",
   "execution_count": 5,
   "id": "3b012e3c",
   "metadata": {},
   "outputs": [
    {
     "name": "stdout",
     "output_type": "stream",
     "text": [
      "Evaluating Baseline\n",
      "Evaluating Linear Regression\n",
      "Evaluating Polynomial Regression\n",
      "Evaluating Decision Tree\n",
      "Evaluating Kernel Ridge\n",
      "Evaluating Gaussian Process\n"
     ]
    },
    {
     "data": {
      "text/html": [
       "<div>\n",
       "<style scoped>\n",
       "    .dataframe tbody tr th:only-of-type {\n",
       "        vertical-align: middle;\n",
       "    }\n",
       "\n",
       "    .dataframe tbody tr th {\n",
       "        vertical-align: top;\n",
       "    }\n",
       "\n",
       "    .dataframe thead th {\n",
       "        text-align: right;\n",
       "    }\n",
       "</style>\n",
       "<table border=\"1\" class=\"dataframe\">\n",
       "  <thead>\n",
       "    <tr style=\"text-align: right;\">\n",
       "      <th></th>\n",
       "      <th>model</th>\n",
       "      <th>fit_time</th>\n",
       "      <th>score_time</th>\n",
       "      <th>test_r2</th>\n",
       "      <th>test_neg_mean_absolute_error</th>\n",
       "      <th>test_neg_root_mean_squared_error</th>\n",
       "    </tr>\n",
       "  </thead>\n",
       "  <tbody>\n",
       "    <tr>\n",
       "      <th>0</th>\n",
       "      <td>Baseline</td>\n",
       "      <td>0.006748</td>\n",
       "      <td>0.001785</td>\n",
       "      <td>-0.000490</td>\n",
       "      <td>-6.919707e+06</td>\n",
       "      <td>-1.388126e+07</td>\n",
       "    </tr>\n",
       "    <tr>\n",
       "      <th>1</th>\n",
       "      <td>Linear Regression</td>\n",
       "      <td>0.011114</td>\n",
       "      <td>0.002221</td>\n",
       "      <td>0.029208</td>\n",
       "      <td>-6.719111e+06</td>\n",
       "      <td>-1.367420e+07</td>\n",
       "    </tr>\n",
       "    <tr>\n",
       "      <th>2</th>\n",
       "      <td>Polynomial Regression</td>\n",
       "      <td>0.516653</td>\n",
       "      <td>0.014402</td>\n",
       "      <td>-2.891988</td>\n",
       "      <td>-7.783316e+06</td>\n",
       "      <td>-2.331822e+07</td>\n",
       "    </tr>\n",
       "    <tr>\n",
       "      <th>3</th>\n",
       "      <td>Decision Tree</td>\n",
       "      <td>0.148316</td>\n",
       "      <td>0.003164</td>\n",
       "      <td>-0.749538</td>\n",
       "      <td>-7.938193e+06</td>\n",
       "      <td>-1.835514e+07</td>\n",
       "    </tr>\n",
       "    <tr>\n",
       "      <th>4</th>\n",
       "      <td>Kernel Ridge</td>\n",
       "      <td>3.706343</td>\n",
       "      <td>0.060602</td>\n",
       "      <td>-0.090724</td>\n",
       "      <td>-5.855657e+06</td>\n",
       "      <td>-1.449240e+07</td>\n",
       "    </tr>\n",
       "    <tr>\n",
       "      <th>5</th>\n",
       "      <td>Gaussian Process</td>\n",
       "      <td>9.938632</td>\n",
       "      <td>1.379045</td>\n",
       "      <td>-2.742904</td>\n",
       "      <td>-1.270916e+07</td>\n",
       "      <td>-2.626599e+07</td>\n",
       "    </tr>\n",
       "  </tbody>\n",
       "</table>\n",
       "</div>"
      ],
      "text/plain": [
       "                   model  fit_time  score_time   test_r2  \\\n",
       "0               Baseline  0.006748    0.001785 -0.000490   \n",
       "1      Linear Regression  0.011114    0.002221  0.029208   \n",
       "2  Polynomial Regression  0.516653    0.014402 -2.891988   \n",
       "3          Decision Tree  0.148316    0.003164 -0.749538   \n",
       "4           Kernel Ridge  3.706343    0.060602 -0.090724   \n",
       "5       Gaussian Process  9.938632    1.379045 -2.742904   \n",
       "\n",
       "   test_neg_mean_absolute_error  test_neg_root_mean_squared_error  \n",
       "0                 -6.919707e+06                     -1.388126e+07  \n",
       "1                 -6.719111e+06                     -1.367420e+07  \n",
       "2                 -7.783316e+06                     -2.331822e+07  \n",
       "3                 -7.938193e+06                     -1.835514e+07  \n",
       "4                 -5.855657e+06                     -1.449240e+07  \n",
       "5                 -1.270916e+07                     -2.626599e+07  "
      ]
     },
     "execution_count": 5,
     "metadata": {},
     "output_type": "execute_result"
    }
   ],
   "source": [
    "models = [\n",
    "    (\"Baseline\", dummy.DummyRegressor(strategy='mean')),\n",
    "    (\"Linear Regression\", linear_model.LinearRegression()),\n",
    "    (\"Polynomial Regression\", Pipeline([\n",
    "        ('poly', PolynomialFeatures(degree=3)),\n",
    "        ('linear', linear_model.LinearRegression())\n",
    "    ])),\n",
    "    (\"Decision Tree\", tree.DecisionTreeRegressor()),\n",
    "    (\"Kernel Ridge\", kernel_ridge.KernelRidge()),\n",
    "    (\"Gaussian Process\", gaussian_process.GaussianProcessRegressor()),\n",
    "]\n",
    "metrics = [\n",
    "    'r2',\n",
    "    'neg_mean_absolute_error',\n",
    "    'neg_root_mean_squared_error',\n",
    "]\n",
    "compare_models(models, metrics, data, targets, regression=True)"
   ]
  },
  {
   "cell_type": "markdown",
   "id": "53489120",
   "metadata": {},
   "source": [
    "None of the selected models seem to be able to model the data, resulting in negative R2 scores, and significantly large errors, except linear regression."
   ]
  },
  {
   "cell_type": "markdown",
   "id": "59d815ae",
   "metadata": {},
   "source": [
    "### Feature Selection\n",
    "In an attempt to improve prediction metrics, feature selection is performed via 5-fold cross validation using Recursive Feature Elimination"
   ]
  },
  {
   "cell_type": "code",
   "execution_count": 6,
   "id": "7b7a743f",
   "metadata": {},
   "outputs": [
    {
     "data": {
      "text/plain": [
       "array(['danceability', 'instrumentalness', 'popularity'], dtype='<U16')"
      ]
     },
     "execution_count": 6,
     "metadata": {},
     "output_type": "execute_result"
    }
   ],
   "source": [
    "train_X, test_X, train_y, test_y = train_test_split(data, targets, test_size=.2,random_state=1)\n",
    "model = Pipeline([\n",
    "    ('std', StandardScaler()),\n",
    "    ('reg',linear_model.LinearRegression())\n",
    "])\n",
    "selector = RFECV(model, cv=KFold(shuffle=True, random_state=1),scoring=\"r2\", importance_getter='named_steps.reg.coef_')\n",
    "selector.fit(train_X.values,train_y)\n",
    "selected_features = np.array(features)[selector.ranking_ == 1]\n",
    "selected_features"
   ]
  },
  {
   "cell_type": "code",
   "execution_count": 7,
   "id": "ac88c0e3",
   "metadata": {},
   "outputs": [
    {
     "name": "stdout",
     "output_type": "stream",
     "text": [
      "Evaluating Baseline\n",
      "Evaluating Linear Regression\n",
      "Evaluating Polynomial Regression\n",
      "Evaluating Decision Tree\n",
      "Evaluating Kernel Ridge\n",
      "Evaluating Gaussian Process\n"
     ]
    },
    {
     "data": {
      "text/html": [
       "<div>\n",
       "<style scoped>\n",
       "    .dataframe tbody tr th:only-of-type {\n",
       "        vertical-align: middle;\n",
       "    }\n",
       "\n",
       "    .dataframe tbody tr th {\n",
       "        vertical-align: top;\n",
       "    }\n",
       "\n",
       "    .dataframe thead th {\n",
       "        text-align: right;\n",
       "    }\n",
       "</style>\n",
       "<table border=\"1\" class=\"dataframe\">\n",
       "  <thead>\n",
       "    <tr style=\"text-align: right;\">\n",
       "      <th></th>\n",
       "      <th>model</th>\n",
       "      <th>fit_time</th>\n",
       "      <th>score_time</th>\n",
       "      <th>test_r2</th>\n",
       "      <th>test_neg_mean_absolute_error</th>\n",
       "      <th>test_neg_root_mean_squared_error</th>\n",
       "    </tr>\n",
       "  </thead>\n",
       "  <tbody>\n",
       "    <tr>\n",
       "      <th>0</th>\n",
       "      <td>Baseline</td>\n",
       "      <td>0.003660</td>\n",
       "      <td>0.001998</td>\n",
       "      <td>-0.000490</td>\n",
       "      <td>-6.919707e+06</td>\n",
       "      <td>-1.388126e+07</td>\n",
       "    </tr>\n",
       "    <tr>\n",
       "      <th>1</th>\n",
       "      <td>Linear Regression</td>\n",
       "      <td>0.003873</td>\n",
       "      <td>0.001878</td>\n",
       "      <td>0.029636</td>\n",
       "      <td>-6.711314e+06</td>\n",
       "      <td>-1.367122e+07</td>\n",
       "    </tr>\n",
       "    <tr>\n",
       "      <th>2</th>\n",
       "      <td>Polynomial Regression</td>\n",
       "      <td>0.009773</td>\n",
       "      <td>0.002390</td>\n",
       "      <td>0.042456</td>\n",
       "      <td>-6.554856e+06</td>\n",
       "      <td>-1.357894e+07</td>\n",
       "    </tr>\n",
       "    <tr>\n",
       "      <th>3</th>\n",
       "      <td>Decision Tree</td>\n",
       "      <td>0.028774</td>\n",
       "      <td>0.002477</td>\n",
       "      <td>-0.781480</td>\n",
       "      <td>-7.946711e+06</td>\n",
       "      <td>-1.848165e+07</td>\n",
       "    </tr>\n",
       "    <tr>\n",
       "      <th>4</th>\n",
       "      <td>Kernel Ridge</td>\n",
       "      <td>3.998189</td>\n",
       "      <td>0.062590</td>\n",
       "      <td>-0.090376</td>\n",
       "      <td>-5.829469e+06</td>\n",
       "      <td>-1.449011e+07</td>\n",
       "    </tr>\n",
       "    <tr>\n",
       "      <th>5</th>\n",
       "      <td>Gaussian Process</td>\n",
       "      <td>9.721217</td>\n",
       "      <td>1.322720</td>\n",
       "      <td>-462.395484</td>\n",
       "      <td>-1.923280e+07</td>\n",
       "      <td>-2.573207e+08</td>\n",
       "    </tr>\n",
       "  </tbody>\n",
       "</table>\n",
       "</div>"
      ],
      "text/plain": [
       "                   model  fit_time  score_time     test_r2  \\\n",
       "0               Baseline  0.003660    0.001998   -0.000490   \n",
       "1      Linear Regression  0.003873    0.001878    0.029636   \n",
       "2  Polynomial Regression  0.009773    0.002390    0.042456   \n",
       "3          Decision Tree  0.028774    0.002477   -0.781480   \n",
       "4           Kernel Ridge  3.998189    0.062590   -0.090376   \n",
       "5       Gaussian Process  9.721217    1.322720 -462.395484   \n",
       "\n",
       "   test_neg_mean_absolute_error  test_neg_root_mean_squared_error  \n",
       "0                 -6.919707e+06                     -1.388126e+07  \n",
       "1                 -6.711314e+06                     -1.367122e+07  \n",
       "2                 -6.554856e+06                     -1.357894e+07  \n",
       "3                 -7.946711e+06                     -1.848165e+07  \n",
       "4                 -5.829469e+06                     -1.449011e+07  \n",
       "5                 -1.923280e+07                     -2.573207e+08  "
      ]
     },
     "execution_count": 7,
     "metadata": {},
     "output_type": "execute_result"
    }
   ],
   "source": [
    "compare_models(models, metrics, data[selected_features], targets, regression=True)"
   ]
  },
  {
   "cell_type": "markdown",
   "id": "8ba2a095",
   "metadata": {},
   "source": [
    "Using the best performing features, polynomial regression seems to achieve higher R2 scores. By further adding L2 regularization, we can further increase the R2 score."
   ]
  },
  {
   "cell_type": "code",
   "execution_count": 60,
   "id": "7c2e18ee",
   "metadata": {},
   "outputs": [
    {
     "data": {
      "text/plain": [
       "GridSearchCV(estimator=Pipeline(steps=[('std', StandardScaler()),\n",
       "                                       ('poly', PolynomialFeatures(degree=3)),\n",
       "                                       ('reg', Ridge())]),\n",
       "             param_grid={'reg__alpha': [0.1, 1, 10, 100, 1000, 10000]},\n",
       "             scoring='r2')"
      ]
     },
     "execution_count": 60,
     "metadata": {},
     "output_type": "execute_result"
    }
   ],
   "source": [
    "model = Pipeline([\n",
    "    ('std', StandardScaler()),\n",
    "    ('poly', PolynomialFeatures(degree=3)),\n",
    "    ('reg',linear_model.Ridge())\n",
    "])\n",
    "params = {\n",
    "    'reg__alpha' : [0.1,1,10,100,1000,10000],\n",
    "}\n",
    "optimizer = GridSearchCV(model, params ,scoring='r2')\n",
    "optimizer.fit(train_X[selected_features],train_y)"
   ]
  },
  {
   "cell_type": "code",
   "execution_count": 61,
   "id": "e421d0d8",
   "metadata": {},
   "outputs": [
    {
     "data": {
      "text/plain": [
       "{'reg__alpha': 1000}"
      ]
     },
     "execution_count": 61,
     "metadata": {},
     "output_type": "execute_result"
    }
   ],
   "source": [
    "optimizer.best_params_"
   ]
  },
  {
   "cell_type": "code",
   "execution_count": 62,
   "id": "e805c660",
   "metadata": {},
   "outputs": [
    {
     "data": {
      "text/plain": [
       "0.043466959443468414"
      ]
     },
     "execution_count": 62,
     "metadata": {},
     "output_type": "execute_result"
    }
   ],
   "source": [
    "optimizer.best_score_"
   ]
  },
  {
   "cell_type": "code",
   "execution_count": 63,
   "id": "3f1ff3ce",
   "metadata": {},
   "outputs": [
    {
     "data": {
      "text/plain": [
       "0.03957779938682138"
      ]
     },
     "execution_count": 63,
     "metadata": {},
     "output_type": "execute_result"
    }
   ],
   "source": [
    "optimizer.score(test_X[selected_features],test_y)"
   ]
  }
 ],
 "metadata": {
  "kernelspec": {
   "display_name": "Python 3 (ipykernel)",
   "language": "python",
   "name": "python3"
  },
  "language_info": {
   "codemirror_mode": {
    "name": "ipython",
    "version": 3
   },
   "file_extension": ".py",
   "mimetype": "text/x-python",
   "name": "python",
   "nbconvert_exporter": "python",
   "pygments_lexer": "ipython3",
   "version": "3.9.5"
  }
 },
 "nbformat": 4,
 "nbformat_minor": 5
}
