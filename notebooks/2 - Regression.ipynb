{
 "cells": [
  {
   "cell_type": "markdown",
   "id": "0e9f7f0c",
   "metadata": {},
   "source": [
    "# Regression Approach\n",
    "\n",
    "This notebook is dedicated to modelling the problem as a regression problem. Different regression techniques are evaluated, and then the best-performing one is optimized in terms of hyper-parameters"
   ]
  },
  {
   "cell_type": "code",
   "execution_count": 1,
   "id": "696193a8",
   "metadata": {
    "scrolled": true
   },
   "outputs": [
    {
     "name": "stdout",
     "output_type": "stream",
     "text": [
      "C:\\Users\\georg\\Documents\\msc-project\n"
     ]
    }
   ],
   "source": [
    "# Change directory for cleaner path handling\n",
    "%cd .."
   ]
  },
  {
   "cell_type": "code",
   "execution_count": 54,
   "id": "ba8f7913",
   "metadata": {},
   "outputs": [],
   "source": [
    "import pandas as pd\n",
    "import numpy as np\n",
    "import matplotlib.pyplot as plt\n",
    "\n",
    "from sklearn import tree, linear_model, dummy, kernel_ridge, gaussian_process\n",
    "from sklearn.preprocessing import PolynomialFeatures,StandardScaler\n",
    "from sklearn.pipeline import Pipeline\n",
    "from sklearn.model_selection import train_test_split, KFold\n",
    "from sklearn.feature_selection import RFECV\n",
    "\n",
    "from src.evaluation import compare_models, evaluate_model"
   ]
  },
  {
   "cell_type": "code",
   "execution_count": 51,
   "id": "71b0556b",
   "metadata": {},
   "outputs": [],
   "source": [
    "df = pd.read_csv(\"data/processed/tracks.csv\")\n",
    "targets = df['views']\n",
    "features = [\n",
    "    'danceability',\n",
    "    'energy',\n",
    "    'key',\n",
    "    'loudness',\n",
    "    'mode',\n",
    "    'speechiness',\n",
    "    'acousticness',\n",
    "    'instrumentalness',\n",
    "    'liveness',\n",
    "    'valence',\n",
    "    'tempo',\n",
    "    'time_signature',\n",
    "    'duration_ms',\n",
    "    'popularity'\n",
    "]\n",
    "\n",
    "data = df[features]"
   ]
  },
  {
   "cell_type": "markdown",
   "id": "a0ee4af5",
   "metadata": {},
   "source": [
    "## Model comparison\n",
    "Different regression models are compared with their default parameters to establish a baseline. The evaluation includes standard scaling as part of a pipeline, so no further pre-processing is needed."
   ]
  },
  {
   "cell_type": "code",
   "execution_count": 79,
   "id": "3b012e3c",
   "metadata": {},
   "outputs": [],
   "source": [
    "models = [\n",
    "    (\"Baseline\", dummy.DummyRegressor(strategy='mean')),\n",
    "    (\"Linear Regression\", linear_model.ElasticNet()),\n",
    "    (\"Polynomial Regression\", Pipeline([\n",
    "        ('poly', PolynomialFeatures(degree=3)),\n",
    "        ('linear', linear_model.LinearRegression())\n",
    "    ])),\n",
    "    (\"Decision Tree\", tree.DecisionTreeRegressor()),\n",
    "    (\"Kernel Ridge\", kernel_ridge.KernelRidge()),\n",
    "    (\"Gaussian Process\", gaussian_process.GaussianProcessRegressor()),\n",
    "]\n",
    "metrics = [\n",
    "    'r2',\n",
    "    'neg_mean_absolute_error',\n",
    "    'neg_root_mean_squared_error',\n",
    "]\n",
    "compare_models(models, metrics, data, targets, regression=True)"
   ]
  },
  {
   "cell_type": "markdown",
   "id": "53489120",
   "metadata": {},
   "source": [
    "None of the selected models seem to be able to model the data, resulting in negative R2 scores, and significantly large errors, except linear regression."
   ]
  },
  {
   "cell_type": "markdown",
   "id": "3d2674c1",
   "metadata": {},
   "source": [
    "### Feature Selection\n",
    "In an attempt to improve prediction metrics, feature selection is performed via 5-fold cross validation using Recursive Feature Elimination"
   ]
  },
  {
   "cell_type": "code",
   "execution_count": 70,
   "id": "c2e10ca3",
   "metadata": {},
   "outputs": [
    {
     "data": {
      "text/plain": [
       "RFECV(cv=KFold(n_splits=5, random_state=1, shuffle=True),\n",
       "      estimator=Pipeline(steps=[('std', StandardScaler()),\n",
       "                                ('reg', ElasticNet(l1_ratio=1))]),\n",
       "      importance_getter='named_steps.reg.coef_', scoring='r2')"
      ]
     },
     "execution_count": 70,
     "metadata": {},
     "output_type": "execute_result"
    }
   ],
   "source": [
    "train_X, test_X, train_y, test_y = train_test_split(data, targets, test_size=.2,random_state=1)\n",
    "model = Pipeline([\n",
    "    ('std', StandardScaler()),\n",
    "    ('reg',linear_model.ElasticNet(l1_ratio=1))\n",
    "])\n",
    "selector = RFECV(model, cv=KFold(shuffle=True, random_state=1),scoring=\"r2\", importance_getter='named_steps.reg.coef_')\n",
    "selector.fit(train_X.values,train_y)\n",
    "selected_features = np.array(features)[selector.ranking_ == 1]\n",
    "selected_features"
   ]
  },
  {
   "cell_type": "code",
   "execution_count": 80,
   "id": "cb912cdd",
   "metadata": {},
   "outputs": [
    {
     "name": "stdout",
     "output_type": "stream",
     "text": [
      "Evaluating Baseline\n",
      "Evaluating Linear Regression\n",
      "Evaluating Polynomial Regression\n",
      "Evaluating Decision Tree\n",
      "Evaluating Kernel Ridge\n",
      "Evaluating Gaussian Process\n"
     ]
    },
    {
     "data": {
      "text/html": [
       "<div>\n",
       "<style scoped>\n",
       "    .dataframe tbody tr th:only-of-type {\n",
       "        vertical-align: middle;\n",
       "    }\n",
       "\n",
       "    .dataframe tbody tr th {\n",
       "        vertical-align: top;\n",
       "    }\n",
       "\n",
       "    .dataframe thead th {\n",
       "        text-align: right;\n",
       "    }\n",
       "</style>\n",
       "<table border=\"1\" class=\"dataframe\">\n",
       "  <thead>\n",
       "    <tr style=\"text-align: right;\">\n",
       "      <th></th>\n",
       "      <th>model</th>\n",
       "      <th>fit_time</th>\n",
       "      <th>score_time</th>\n",
       "      <th>test_r2</th>\n",
       "      <th>test_neg_mean_absolute_error</th>\n",
       "      <th>test_neg_root_mean_squared_error</th>\n",
       "    </tr>\n",
       "  </thead>\n",
       "  <tbody>\n",
       "    <tr>\n",
       "      <th>0</th>\n",
       "      <td>Baseline</td>\n",
       "      <td>0.003571</td>\n",
       "      <td>0.001978</td>\n",
       "      <td>-0.000490</td>\n",
       "      <td>-6.919707e+06</td>\n",
       "      <td>-1.388126e+07</td>\n",
       "    </tr>\n",
       "    <tr>\n",
       "      <th>1</th>\n",
       "      <td>Linear Regression</td>\n",
       "      <td>0.003758</td>\n",
       "      <td>0.001694</td>\n",
       "      <td>0.025061</td>\n",
       "      <td>-6.722681e+06</td>\n",
       "      <td>-1.370349e+07</td>\n",
       "    </tr>\n",
       "    <tr>\n",
       "      <th>2</th>\n",
       "      <td>Polynomial Regression</td>\n",
       "      <td>0.010015</td>\n",
       "      <td>0.002384</td>\n",
       "      <td>0.042456</td>\n",
       "      <td>-6.554856e+06</td>\n",
       "      <td>-1.357894e+07</td>\n",
       "    </tr>\n",
       "    <tr>\n",
       "      <th>3</th>\n",
       "      <td>Decision Tree</td>\n",
       "      <td>0.028568</td>\n",
       "      <td>0.002386</td>\n",
       "      <td>-0.793068</td>\n",
       "      <td>-7.931063e+06</td>\n",
       "      <td>-1.854475e+07</td>\n",
       "    </tr>\n",
       "    <tr>\n",
       "      <th>4</th>\n",
       "      <td>Kernel Ridge</td>\n",
       "      <td>3.655520</td>\n",
       "      <td>0.061206</td>\n",
       "      <td>-0.090376</td>\n",
       "      <td>-5.829469e+06</td>\n",
       "      <td>-1.449011e+07</td>\n",
       "    </tr>\n",
       "    <tr>\n",
       "      <th>5</th>\n",
       "      <td>Gaussian Process</td>\n",
       "      <td>9.322730</td>\n",
       "      <td>1.339202</td>\n",
       "      <td>-462.395484</td>\n",
       "      <td>-1.923280e+07</td>\n",
       "      <td>-2.573207e+08</td>\n",
       "    </tr>\n",
       "  </tbody>\n",
       "</table>\n",
       "</div>"
      ],
      "text/plain": [
       "                   model  fit_time  score_time     test_r2  \\\n",
       "0               Baseline  0.003571    0.001978   -0.000490   \n",
       "1      Linear Regression  0.003758    0.001694    0.025061   \n",
       "2  Polynomial Regression  0.010015    0.002384    0.042456   \n",
       "3          Decision Tree  0.028568    0.002386   -0.793068   \n",
       "4           Kernel Ridge  3.655520    0.061206   -0.090376   \n",
       "5       Gaussian Process  9.322730    1.339202 -462.395484   \n",
       "\n",
       "   test_neg_mean_absolute_error  test_neg_root_mean_squared_error  \n",
       "0                 -6.919707e+06                     -1.388126e+07  \n",
       "1                 -6.722681e+06                     -1.370349e+07  \n",
       "2                 -6.554856e+06                     -1.357894e+07  \n",
       "3                 -7.931063e+06                     -1.854475e+07  \n",
       "4                 -5.829469e+06                     -1.449011e+07  \n",
       "5                 -1.923280e+07                     -2.573207e+08  "
      ]
     },
     "execution_count": 80,
     "metadata": {},
     "output_type": "execute_result"
    }
   ],
   "source": [
    "compare_models(models, metrics, data[selected_features], targets, regression=True)"
   ]
  },
  {
   "cell_type": "code",
   "execution_count": null,
   "id": "18f6eddc",
   "metadata": {},
   "outputs": [],
   "source": []
  }
 ],
 "metadata": {
  "kernelspec": {
   "display_name": "Python 3 (ipykernel)",
   "language": "python",
   "name": "python3"
  },
  "language_info": {
   "codemirror_mode": {
    "name": "ipython",
    "version": 3
   },
   "file_extension": ".py",
   "mimetype": "text/x-python",
   "name": "python",
   "nbconvert_exporter": "python",
   "pygments_lexer": "ipython3",
   "version": "3.9.5"
  }
 },
 "nbformat": 4,
 "nbformat_minor": 5
}
