{
 "cells": [
  {
   "cell_type": "markdown",
   "id": "0e9f7f0c",
   "metadata": {},
   "source": [
    "# Regression Approach\n",
    "\n",
    "This notebook is dedicated to modelling the problem as a regression problem. Different regression techniques are evaluated, and then the best-performing one is optimized in terms of hyper-parameters"
   ]
  },
  {
   "cell_type": "code",
   "execution_count": null,
   "id": "696193a8",
   "metadata": {
    "scrolled": true
   },
   "outputs": [],
   "source": [
    "# Change directory for cleaner path handling\n",
    "%cd .."
   ]
  },
  {
   "cell_type": "code",
   "execution_count": 2,
   "id": "ba8f7913",
   "metadata": {},
   "outputs": [],
   "source": [
    "import pandas as pd\n",
    "import numpy as np\n",
    "import matplotlib.pyplot as plt\n",
    "\n",
    "from sklearn import tree, linear_model, dummy, kernel_ridge, gaussian_process\n",
    "from sklearn.preprocessing import PolynomialFeatures,StandardScaler\n",
    "from sklearn.pipeline import Pipeline\n",
    "from sklearn.model_selection import GridSearchCV\n",
    "\n",
    "from src.evaluation import compare_models, evaluate_model"
   ]
  },
  {
   "cell_type": "code",
   "execution_count": 3,
   "id": "71b0556b",
   "metadata": {},
   "outputs": [],
   "source": [
    "df = pd.read_csv(\"data/processed/tracks.csv\")\n",
    "targets = df['views']\n",
    "features = [\n",
    "    'danceability',\n",
    "    'energy',\n",
    "    'key',\n",
    "    'loudness',\n",
    "    'mode',\n",
    "    'speechiness',\n",
    "    'acousticness',\n",
    "    'instrumentalness',\n",
    "    'liveness',\n",
    "    'valence',\n",
    "    'tempo',\n",
    "    'time_signature',\n",
    "    'duration_ms',\n",
    "    'popularity'\n",
    "]\n",
    "\n",
    "data = df[features]"
   ]
  },
  {
   "cell_type": "markdown",
   "id": "a0ee4af5",
   "metadata": {},
   "source": [
    "## Model comparison\n",
    "Different regression models are compared with their default parameters to establish a baseline. The evaluation includes standard scaling as part of a pipeline, so no further pre-processing is needed."
   ]
  },
  {
   "cell_type": "code",
   "execution_count": 4,
   "id": "3b012e3c",
   "metadata": {},
   "outputs": [
    {
     "name": "stdout",
     "output_type": "stream",
     "text": [
      "Evaluating Baseline\n",
      "Evaluating Linear Regression\n",
      "Evaluating Polynomial Regression\n",
      "Evaluating Decision Tree\n",
      "Evaluating Kernel Ridge\n",
      "Evaluating Gaussian Process\n"
     ]
    },
    {
     "data": {
      "text/html": [
       "<div>\n",
       "<style scoped>\n",
       "    .dataframe tbody tr th:only-of-type {\n",
       "        vertical-align: middle;\n",
       "    }\n",
       "\n",
       "    .dataframe tbody tr th {\n",
       "        vertical-align: top;\n",
       "    }\n",
       "\n",
       "    .dataframe thead th {\n",
       "        text-align: right;\n",
       "    }\n",
       "</style>\n",
       "<table border=\"1\" class=\"dataframe\">\n",
       "  <thead>\n",
       "    <tr style=\"text-align: right;\">\n",
       "      <th></th>\n",
       "      <th>model</th>\n",
       "      <th>fit_time</th>\n",
       "      <th>score_time</th>\n",
       "      <th>test_r2</th>\n",
       "      <th>test_neg_mean_absolute_error</th>\n",
       "      <th>test_neg_root_mean_squared_error</th>\n",
       "    </tr>\n",
       "  </thead>\n",
       "  <tbody>\n",
       "    <tr>\n",
       "      <th>0</th>\n",
       "      <td>Baseline</td>\n",
       "      <td>0.004766</td>\n",
       "      <td>0.001787</td>\n",
       "      <td>-0.250216</td>\n",
       "      <td>-7.019707e+06</td>\n",
       "      <td>-1.290020e+07</td>\n",
       "    </tr>\n",
       "    <tr>\n",
       "      <th>1</th>\n",
       "      <td>Linear Regression</td>\n",
       "      <td>0.009721</td>\n",
       "      <td>0.002183</td>\n",
       "      <td>-0.229132</td>\n",
       "      <td>-6.822186e+06</td>\n",
       "      <td>-1.276379e+07</td>\n",
       "    </tr>\n",
       "    <tr>\n",
       "      <th>2</th>\n",
       "      <td>Polynomial Regression</td>\n",
       "      <td>0.465134</td>\n",
       "      <td>0.013007</td>\n",
       "      <td>-11.271168</td>\n",
       "      <td>-8.038891e+06</td>\n",
       "      <td>-2.297194e+07</td>\n",
       "    </tr>\n",
       "    <tr>\n",
       "      <th>3</th>\n",
       "      <td>Decision Tree</td>\n",
       "      <td>0.136889</td>\n",
       "      <td>0.002778</td>\n",
       "      <td>-2.719684</td>\n",
       "      <td>-8.317683e+06</td>\n",
       "      <td>-1.876993e+07</td>\n",
       "    </tr>\n",
       "    <tr>\n",
       "      <th>4</th>\n",
       "      <td>Kernel Ridge</td>\n",
       "      <td>2.626323</td>\n",
       "      <td>0.047413</td>\n",
       "      <td>-0.237200</td>\n",
       "      <td>-5.941487e+06</td>\n",
       "      <td>-1.322591e+07</td>\n",
       "    </tr>\n",
       "    <tr>\n",
       "      <th>5</th>\n",
       "      <td>Gaussian Process</td>\n",
       "      <td>7.335853</td>\n",
       "      <td>0.998132</td>\n",
       "      <td>-9621.142582</td>\n",
       "      <td>-1.558024e+08</td>\n",
       "      <td>-7.413793e+08</td>\n",
       "    </tr>\n",
       "  </tbody>\n",
       "</table>\n",
       "</div>"
      ],
      "text/plain": [
       "                   model  fit_time  score_time      test_r2  \\\n",
       "0               Baseline  0.004766    0.001787    -0.250216   \n",
       "1      Linear Regression  0.009721    0.002183    -0.229132   \n",
       "2  Polynomial Regression  0.465134    0.013007   -11.271168   \n",
       "3          Decision Tree  0.136889    0.002778    -2.719684   \n",
       "4           Kernel Ridge  2.626323    0.047413    -0.237200   \n",
       "5       Gaussian Process  7.335853    0.998132 -9621.142582   \n",
       "\n",
       "   test_neg_mean_absolute_error  test_neg_root_mean_squared_error  \n",
       "0                 -7.019707e+06                     -1.290020e+07  \n",
       "1                 -6.822186e+06                     -1.276379e+07  \n",
       "2                 -8.038891e+06                     -2.297194e+07  \n",
       "3                 -8.317683e+06                     -1.876993e+07  \n",
       "4                 -5.941487e+06                     -1.322591e+07  \n",
       "5                 -1.558024e+08                     -7.413793e+08  "
      ]
     },
     "execution_count": 4,
     "metadata": {},
     "output_type": "execute_result"
    }
   ],
   "source": [
    "models = [\n",
    "    (\"Baseline\", dummy.DummyRegressor(strategy='mean')),\n",
    "    (\"Linear Regression\", linear_model.LinearRegression()),\n",
    "    (\"Polynomial Regression\", Pipeline([\n",
    "        ('poly', PolynomialFeatures(degree=3)),\n",
    "        ('linear', linear_model.LinearRegression())\n",
    "    ])),\n",
    "    (\"Decision Tree\", tree.DecisionTreeRegressor()),\n",
    "    (\"Kernel Ridge\", kernel_ridge.KernelRidge()),\n",
    "    (\"Gaussian Process\", gaussian_process.GaussianProcessRegressor()),\n",
    "]\n",
    "metrics = [\n",
    "    'r2',\n",
    "    'neg_mean_absolute_error',\n",
    "    'neg_root_mean_squared_error',\n",
    "]\n",
    "compare_models(models, metrics, data, targets)"
   ]
  },
  {
   "cell_type": "markdown",
   "id": "53489120",
   "metadata": {},
   "source": [
    "None of the selected models seem to be able to model the data, resulting in negative R2 scores, and significantly large errors."
   ]
  }
 ],
 "metadata": {
  "kernelspec": {
   "display_name": "Python 3 (ipykernel)",
   "language": "python",
   "name": "python3"
  },
  "language_info": {
   "codemirror_mode": {
    "name": "ipython",
    "version": 3
   },
   "file_extension": ".py",
   "mimetype": "text/x-python",
   "name": "python",
   "nbconvert_exporter": "python",
   "pygments_lexer": "ipython3",
   "version": "3.9.5"
  }
 },
 "nbformat": 4,
 "nbformat_minor": 5
}
