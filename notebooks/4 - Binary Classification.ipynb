{
 "cells": [
  {
   "cell_type": "markdown",
   "id": "db16ebc0",
   "metadata": {},
   "source": [
    "# Binary Classification\n",
    "This notebook will approach the popularity prediction task as a binary classification problem. The videos will either be classified as viral or non-viral"
   ]
  },
  {
   "cell_type": "code",
   "execution_count": 1,
   "id": "53dbce72",
   "metadata": {},
   "outputs": [],
   "source": [
    "%%capture\n",
    "%cd .."
   ]
  },
  {
   "cell_type": "code",
   "execution_count": 2,
   "id": "de612a81",
   "metadata": {},
   "outputs": [],
   "source": [
    "import pandas as pd\n",
    "import numpy as np\n",
    "from matplotlib import pyplot as plt\n",
    "\n",
    "from sklearn import neighbors, svm, linear_model,dummy,ensemble\n",
    "from sklearn.metrics import make_scorer, precision_score, ConfusionMatrixDisplay, roc_curve\n",
    "from sklearn.model_selection import train_test_split, GridSearchCV\n",
    "from sklearn.preprocessing import StandardScaler\n",
    "from sklearn.pipeline import Pipeline\n",
    "\n",
    "from src.evaluation import compare_models\n",
    "from imblearn.over_sampling import ADASYN\n",
    "from imblearn.pipeline import make_pipeline"
   ]
  },
  {
   "cell_type": "code",
   "execution_count": 3,
   "id": "a3aeac65",
   "metadata": {
    "scrolled": true
   },
   "outputs": [],
   "source": [
    "df = pd.read_csv(\"data/processed/tracks.csv\")"
   ]
  },
  {
   "cell_type": "markdown",
   "id": "6d0d1004",
   "metadata": {},
   "source": [
    "The threshold chosen for the viral videos will be 1e+06, as most videos seem to be below this threshold."
   ]
  },
  {
   "cell_type": "code",
   "execution_count": 4,
   "id": "0ebac7a4",
   "metadata": {
    "scrolled": true
   },
   "outputs": [
    {
     "data": {
      "text/plain": [
       "<AxesSubplot:ylabel='View count'>"
      ]
     },
     "execution_count": 4,
     "metadata": {},
     "output_type": "execute_result"
    },
    {
     "data": {
      "image/png": "[encoded data removed]",
      "text/plain": [
       "<Figure size 432x288 with 1 Axes>"
      ]
     },
     "metadata": {
      "needs_background": "light"
     },
     "output_type": "display_data"
    }
   ],
   "source": [
    "viral_threshold = 1e+06\n",
    "features = [\n",
    "    'danceability',\n",
    "    'energy',\n",
    "    'key',\n",
    "    'loudness',\n",
    "    'mode',\n",
    "    'speechiness',\n",
    "    'acousticness',\n",
    "    'instrumentalness',\n",
    "    'liveness',\n",
    "    'valence',\n",
    "    'tempo',\n",
    "    'time_signature',\n",
    "    'duration_ms',\n",
    "    'popularity'\n",
    "]\n",
    "\n",
    "def get_data_for_threshold(threshold):\n",
    "    views = df['views']\n",
    "    data = df.loc[:,features]\n",
    "    targets = views.apply(np.digitize,bins=[0,threshold,views.max() +1])\n",
    "\n",
    "    return data, targets\n",
    "\n",
    "data, targets = get_data_for_threshold(viral_threshold)\n",
    "plt.xticks([1,2],[\"Non-Viral\",\"Viral\"])\n",
    "plt.ylabel(\"View count\")\n",
    "targets.hist(bins=2, grid=False)"
   ]
  },
  {
   "cell_type": "markdown",
   "id": "64617555",
   "metadata": {},
   "source": [
    "## Model Comparison\n",
    "Similar to the multiclass classification task, multiple models are evaluated and compared"
   ]
  },
  {
   "cell_type": "code",
   "execution_count": 5,
   "id": "c0980b24",
   "metadata": {
    "scrolled": true
   },
   "outputs": [
    {
     "name": "stdout",
     "output_type": "stream",
     "text": [
      "Evaluating Baseline\n",
      "Evaluating 5-KNN\n",
      "Evaluating 10-KNN\n",
      "Evaluating SVM Linear\n",
      "Evaluating SVM RBF\n",
      "Evaluating Random Forest\n",
      "Evaluating Logistic Regression\n"
     ]
    },
    {
     "data": {
      "text/html": [
       "<div>\n",
       "<style scoped>\n",
       "    .dataframe tbody tr th:only-of-type {\n",
       "        vertical-align: middle;\n",
       "    }\n",
       "\n",
       "    .dataframe tbody tr th {\n",
       "        vertical-align: top;\n",
       "    }\n",
       "\n",
       "    .dataframe thead th {\n",
       "        text-align: right;\n",
       "    }\n",
       "</style>\n",
       "<table border=\"1\" class=\"dataframe\">\n",
       "  <thead>\n",
       "    <tr style=\"text-align: right;\">\n",
       "      <th></th>\n",
       "      <th>model</th>\n",
       "      <th>fit_time</th>\n",
       "      <th>score_time</th>\n",
       "      <th>test_precision</th>\n",
       "      <th>test_recall</th>\n",
       "      <th>test_accuracy</th>\n",
       "    </tr>\n",
       "  </thead>\n",
       "  <tbody>\n",
       "    <tr>\n",
       "      <th>0</th>\n",
       "      <td>Baseline</td>\n",
       "      <td>0.767518</td>\n",
       "      <td>0.004469</td>\n",
       "      <td>0.499728</td>\n",
       "      <td>0.499691</td>\n",
       "      <td>0.501230</td>\n",
       "    </tr>\n",
       "    <tr>\n",
       "      <th>1</th>\n",
       "      <td>5-KNN</td>\n",
       "      <td>0.790628</td>\n",
       "      <td>0.527839</td>\n",
       "      <td>0.538563</td>\n",
       "      <td>0.544005</td>\n",
       "      <td>0.534261</td>\n",
       "    </tr>\n",
       "    <tr>\n",
       "      <th>2</th>\n",
       "      <td>10-KNN</td>\n",
       "      <td>0.789147</td>\n",
       "      <td>0.580911</td>\n",
       "      <td>0.545463</td>\n",
       "      <td>0.551383</td>\n",
       "      <td>0.562182</td>\n",
       "    </tr>\n",
       "    <tr>\n",
       "      <th>3</th>\n",
       "      <td>SVM Linear</td>\n",
       "      <td>8.738333</td>\n",
       "      <td>0.473283</td>\n",
       "      <td>0.587428</td>\n",
       "      <td>0.596853</td>\n",
       "      <td>0.554704</td>\n",
       "    </tr>\n",
       "    <tr>\n",
       "      <th>4</th>\n",
       "      <td>SVM RBF</td>\n",
       "      <td>6.578259</td>\n",
       "      <td>2.031903</td>\n",
       "      <td>0.574545</td>\n",
       "      <td>0.585003</td>\n",
       "      <td>0.579405</td>\n",
       "    </tr>\n",
       "    <tr>\n",
       "      <th>5</th>\n",
       "      <td>Random Forest</td>\n",
       "      <td>3.420811</td>\n",
       "      <td>0.061318</td>\n",
       "      <td>0.564197</td>\n",
       "      <td>0.560909</td>\n",
       "      <td>0.625592</td>\n",
       "    </tr>\n",
       "    <tr>\n",
       "      <th>6</th>\n",
       "      <td>Logistic Regression</td>\n",
       "      <td>0.755712</td>\n",
       "      <td>0.004254</td>\n",
       "      <td>0.590088</td>\n",
       "      <td>0.602726</td>\n",
       "      <td>0.584611</td>\n",
       "    </tr>\n",
       "  </tbody>\n",
       "</table>\n",
       "</div>"
      ],
      "text/plain": [
       "                 model  fit_time  score_time  test_precision  test_recall  \\\n",
       "0             Baseline  0.767518    0.004469        0.499728     0.499691   \n",
       "1                5-KNN  0.790628    0.527839        0.538563     0.544005   \n",
       "2               10-KNN  0.789147    0.580911        0.545463     0.551383   \n",
       "3           SVM Linear  8.738333    0.473283        0.587428     0.596853   \n",
       "4              SVM RBF  6.578259    2.031903        0.574545     0.585003   \n",
       "5        Random Forest  3.420811    0.061318        0.564197     0.560909   \n",
       "6  Logistic Regression  0.755712    0.004254        0.590088     0.602726   \n",
       "\n",
       "   test_accuracy  \n",
       "0       0.501230  \n",
       "1       0.534261  \n",
       "2       0.562182  \n",
       "3       0.554704  \n",
       "4       0.579405  \n",
       "5       0.625592  \n",
       "6       0.584611  "
      ]
     },
     "execution_count": 5,
     "metadata": {},
     "output_type": "execute_result"
    }
   ],
   "source": [
    "models = [\n",
    "    (\"Baseline\",dummy.DummyClassifier(strategy='stratified')),\n",
    "    (\"5-KNN\",neighbors.KNeighborsClassifier(n_neighbors=5)),\n",
    "    (\"10-KNN\",neighbors.KNeighborsClassifier(n_neighbors=10)),\n",
    "    (\"SVM Linear\", svm.SVC(kernel='linear')),\n",
    "    (\"SVM RBF\", svm.SVC(kernel='rbf')),\n",
    "    (\"Random Forest\",ensemble.RandomForestClassifier()),\n",
    "    (\"Logistic Regression\",linear_model.LogisticRegression())\n",
    "]\n",
    "\n",
    "oversampled_models = []\n",
    "for name, model in models:\n",
    "    combined = make_pipeline(\n",
    "        ADASYN(),\n",
    "        model\n",
    "    )\n",
    "    oversampled_models.append((name,combined))\n",
    "    \n",
    "metrics = {\n",
    "    'precision': make_scorer(precision_score,average='macro',zero_division=0),\n",
    "    'recall': 'recall_macro',\n",
    "    'accuracy': 'accuracy'\n",
    "}\n",
    "compare_models(oversampled_models, metrics, data, targets)"
   ]
  },
  {
   "cell_type": "markdown",
   "id": "dc9c7fd6",
   "metadata": {},
   "source": [
    "Random forest appears to outperform the rest of the models in terms of accuracy, as in the multiclass attempt. Logistic regression on the other hand performs better in terms of precision and recall."
   ]
  },
  {
   "cell_type": "code",
   "execution_count": 6,
   "id": "2c367a2b",
   "metadata": {},
   "outputs": [
    {
     "data": {
      "text/plain": [
       "<sklearn.metrics._plot.confusion_matrix.ConfusionMatrixDisplay at 0x1fad5baaaf0>"
      ]
     },
     "execution_count": 6,
     "metadata": {},
     "output_type": "execute_result"
    },
    {
     "data": {
      "image/png": "[encoded data removed]",
      "text/plain": [
       "<Figure size 432x288 with 2 Axes>"
      ]
     },
     "metadata": {
      "needs_background": "light"
     },
     "output_type": "display_data"
    }
   ],
   "source": [
    "X_train, X_test, y_train,y_test = train_test_split(data, targets, random_state=1)\n",
    "X_train, y_train = ADASYN().fit_resample(X_train,y_train)\n",
    "model = ensemble.RandomForestClassifier()\n",
    "model.fit(X_train,y_train)\n",
    "predicted = model.predict(X_test)\n",
    "ConfusionMatrixDisplay.from_predictions(y_test,predicted)"
   ]
  },
  {
   "cell_type": "markdown",
   "id": "6e10a761",
   "metadata": {},
   "source": [
    "By examining the confusion matrix of the Random Forest Classifier we see that the non-popular class had the most true positives, while a lot of the datapoint of the popular class were also classified as non-popular. This seems to be due to the class imbalance even after synthetic resampling."
   ]
  },
  {
   "cell_type": "markdown",
   "id": "671a7540",
   "metadata": {},
   "source": [
    "## Model Optimization\n",
    "We further optimize the Logistic Regression model by performing a grid search over its hyperparameter space"
   ]
  },
  {
   "cell_type": "code",
   "execution_count": 7,
   "id": "21ec1d8b",
   "metadata": {},
   "outputs": [
    {
     "data": {
      "text/plain": [
       "GridSearchCV(estimator=Pipeline(steps=[('std', StandardScaler()),\n",
       "                                       ('lr', LogisticRegression())]),\n",
       "             param_grid=[{'lr__C': [0.1, 1, 10],\n",
       "                          'lr__class_weight': ['balanced'],\n",
       "                          'lr__penalty': ['l1', 'l2'], 'lr__random_state': [1],\n",
       "                          'lr__solver': ['saga']},\n",
       "                         {'lr__class_weight': ['balanced'],\n",
       "                          'lr__penalty': ['none'], 'lr__random_state': [1],\n",
       "                          'lr__solver': ['saga']},\n",
       "                         {'lr__C': [0.1, 1, 10],\n",
       "                          'lr__class_weight': ['balanced'],\n",
       "                          'lr__l1_ratio': [0.01, 0.1, 1],\n",
       "                          'lr__penalty': ['elasticnet'],\n",
       "                          'lr__random_state': [1], 'lr__solver': ['saga']}],\n",
       "             scoring='precision_macro')"
      ]
     },
     "execution_count": 7,
     "metadata": {},
     "output_type": "execute_result"
    }
   ],
   "source": [
    "train_X, test_X, train_y, test_y = train_test_split(data, targets, random_state=1)\n",
    "model = Pipeline([\n",
    "    ('std',StandardScaler()),\n",
    "    ('lr',linear_model.LogisticRegression())\n",
    "])\n",
    "\n",
    "params = [\n",
    "    {\n",
    "        'lr__penalty':['l1','l2'],\n",
    "        'lr__C':[0.1,1,10],\n",
    "        'lr__class_weight':['balanced'],\n",
    "        'lr__solver':['saga'],\n",
    "        'lr__random_state':[1],\n",
    "    },\n",
    "    {\n",
    "        'lr__penalty':['none'],\n",
    "        'lr__class_weight':['balanced'],\n",
    "        'lr__solver':['saga'],\n",
    "        'lr__random_state':[1],\n",
    "    },\n",
    "    {\n",
    "        'lr__penalty':['elasticnet'],\n",
    "        'lr__l1_ratio':[0.01,0.1,1],\n",
    "        'lr__C':[0.1,1,10],\n",
    "        'lr__class_weight':['balanced'],\n",
    "        'lr__solver':['saga'],\n",
    "        'lr__random_state':[1],\n",
    "    }\n",
    "]\n",
    "optimizer = GridSearchCV(model, params,scoring='precision_macro')\n",
    "optimizer.fit(train_X,train_y)"
   ]
  },
  {
   "cell_type": "code",
   "execution_count": 8,
   "id": "2ec633c8",
   "metadata": {},
   "outputs": [
    {
     "data": {
      "text/plain": [
       "{'lr__C': 0.1,\n",
       " 'lr__class_weight': 'balanced',\n",
       " 'lr__penalty': 'l2',\n",
       " 'lr__random_state': 1,\n",
       " 'lr__solver': 'saga'}"
      ]
     },
     "execution_count": 8,
     "metadata": {},
     "output_type": "execute_result"
    }
   ],
   "source": [
    "optimizer.best_params_"
   ]
  },
  {
   "cell_type": "code",
   "execution_count": 9,
   "id": "c343d03b",
   "metadata": {},
   "outputs": [
    {
     "data": {
      "text/plain": [
       "0.5940561288987979"
      ]
     },
     "execution_count": 9,
     "metadata": {},
     "output_type": "execute_result"
    }
   ],
   "source": [
    "optimizer.score(test_X,test_y)"
   ]
  },
  {
   "cell_type": "markdown",
   "id": "903ea4d9",
   "metadata": {},
   "source": [
    "Hyperparameter optimization achieved a slight improvement in accuracy, now further optimization will be performed using AdaBoost"
   ]
  },
  {
   "cell_type": "code",
   "execution_count": 10,
   "id": "631fb675",
   "metadata": {},
   "outputs": [
    {
     "name": "stderr",
     "output_type": "stream",
     "text": [
      "c:\\users\\georg\\documents\\msc-project\\venv\\lib\\site-packages\\sklearn\\linear_model\\_sag.py:352: ConvergenceWarning: The max_iter was reached which means the coef_ did not converge\n",
      "  warnings.warn(\n",
      "c:\\users\\georg\\documents\\msc-project\\venv\\lib\\site-packages\\sklearn\\linear_model\\_sag.py:352: ConvergenceWarning: The max_iter was reached which means the coef_ did not converge\n",
      "  warnings.warn(\n",
      "c:\\users\\georg\\documents\\msc-project\\venv\\lib\\site-packages\\sklearn\\linear_model\\_sag.py:352: ConvergenceWarning: The max_iter was reached which means the coef_ did not converge\n",
      "  warnings.warn(\n",
      "c:\\users\\georg\\documents\\msc-project\\venv\\lib\\site-packages\\sklearn\\linear_model\\_sag.py:352: ConvergenceWarning: The max_iter was reached which means the coef_ did not converge\n",
      "  warnings.warn(\n",
      "c:\\users\\georg\\documents\\msc-project\\venv\\lib\\site-packages\\sklearn\\linear_model\\_sag.py:352: ConvergenceWarning: The max_iter was reached which means the coef_ did not converge\n",
      "  warnings.warn(\n",
      "c:\\users\\georg\\documents\\msc-project\\venv\\lib\\site-packages\\sklearn\\linear_model\\_sag.py:352: ConvergenceWarning: The max_iter was reached which means the coef_ did not converge\n",
      "  warnings.warn(\n",
      "c:\\users\\georg\\documents\\msc-project\\venv\\lib\\site-packages\\sklearn\\linear_model\\_sag.py:352: ConvergenceWarning: The max_iter was reached which means the coef_ did not converge\n",
      "  warnings.warn(\n",
      "c:\\users\\georg\\documents\\msc-project\\venv\\lib\\site-packages\\sklearn\\linear_model\\_sag.py:352: ConvergenceWarning: The max_iter was reached which means the coef_ did not converge\n",
      "  warnings.warn(\n",
      "c:\\users\\georg\\documents\\msc-project\\venv\\lib\\site-packages\\sklearn\\linear_model\\_sag.py:352: ConvergenceWarning: The max_iter was reached which means the coef_ did not converge\n",
      "  warnings.warn(\n",
      "c:\\users\\georg\\documents\\msc-project\\venv\\lib\\site-packages\\sklearn\\linear_model\\_sag.py:352: ConvergenceWarning: The max_iter was reached which means the coef_ did not converge\n",
      "  warnings.warn(\n",
      "c:\\users\\georg\\documents\\msc-project\\venv\\lib\\site-packages\\sklearn\\linear_model\\_sag.py:352: ConvergenceWarning: The max_iter was reached which means the coef_ did not converge\n",
      "  warnings.warn(\n",
      "c:\\users\\georg\\documents\\msc-project\\venv\\lib\\site-packages\\sklearn\\linear_model\\_sag.py:352: ConvergenceWarning: The max_iter was reached which means the coef_ did not converge\n",
      "  warnings.warn(\n",
      "c:\\users\\georg\\documents\\msc-project\\venv\\lib\\site-packages\\sklearn\\linear_model\\_sag.py:352: ConvergenceWarning: The max_iter was reached which means the coef_ did not converge\n",
      "  warnings.warn(\n",
      "c:\\users\\georg\\documents\\msc-project\\venv\\lib\\site-packages\\sklearn\\linear_model\\_sag.py:352: ConvergenceWarning: The max_iter was reached which means the coef_ did not converge\n",
      "  warnings.warn(\n",
      "c:\\users\\georg\\documents\\msc-project\\venv\\lib\\site-packages\\sklearn\\linear_model\\_sag.py:352: ConvergenceWarning: The max_iter was reached which means the coef_ did not converge\n",
      "  warnings.warn(\n",
      "c:\\users\\georg\\documents\\msc-project\\venv\\lib\\site-packages\\sklearn\\linear_model\\_sag.py:352: ConvergenceWarning: The max_iter was reached which means the coef_ did not converge\n",
      "  warnings.warn(\n",
      "c:\\users\\georg\\documents\\msc-project\\venv\\lib\\site-packages\\sklearn\\linear_model\\_sag.py:352: ConvergenceWarning: The max_iter was reached which means the coef_ did not converge\n",
      "  warnings.warn(\n",
      "c:\\users\\georg\\documents\\msc-project\\venv\\lib\\site-packages\\sklearn\\linear_model\\_sag.py:352: ConvergenceWarning: The max_iter was reached which means the coef_ did not converge\n",
      "  warnings.warn(\n",
      "c:\\users\\georg\\documents\\msc-project\\venv\\lib\\site-packages\\sklearn\\linear_model\\_sag.py:352: ConvergenceWarning: The max_iter was reached which means the coef_ did not converge\n",
      "  warnings.warn(\n",
      "c:\\users\\georg\\documents\\msc-project\\venv\\lib\\site-packages\\sklearn\\linear_model\\_sag.py:352: ConvergenceWarning: The max_iter was reached which means the coef_ did not converge\n",
      "  warnings.warn(\n",
      "c:\\users\\georg\\documents\\msc-project\\venv\\lib\\site-packages\\sklearn\\linear_model\\_sag.py:352: ConvergenceWarning: The max_iter was reached which means the coef_ did not converge\n",
      "  warnings.warn(\n",
      "c:\\users\\georg\\documents\\msc-project\\venv\\lib\\site-packages\\sklearn\\linear_model\\_sag.py:352: ConvergenceWarning: The max_iter was reached which means the coef_ did not converge\n",
      "  warnings.warn(\n",
      "c:\\users\\georg\\documents\\msc-project\\venv\\lib\\site-packages\\sklearn\\linear_model\\_sag.py:352: ConvergenceWarning: The max_iter was reached which means the coef_ did not converge\n",
      "  warnings.warn(\n",
      "c:\\users\\georg\\documents\\msc-project\\venv\\lib\\site-packages\\sklearn\\linear_model\\_sag.py:352: ConvergenceWarning: The max_iter was reached which means the coef_ did not converge\n",
      "  warnings.warn(\n",
      "c:\\users\\georg\\documents\\msc-project\\venv\\lib\\site-packages\\sklearn\\linear_model\\_sag.py:352: ConvergenceWarning: The max_iter was reached which means the coef_ did not converge\n",
      "  warnings.warn(\n",
      "c:\\users\\georg\\documents\\msc-project\\venv\\lib\\site-packages\\sklearn\\linear_model\\_sag.py:352: ConvergenceWarning: The max_iter was reached which means the coef_ did not converge\n",
      "  warnings.warn(\n",
      "c:\\users\\georg\\documents\\msc-project\\venv\\lib\\site-packages\\sklearn\\linear_model\\_sag.py:352: ConvergenceWarning: The max_iter was reached which means the coef_ did not converge\n",
      "  warnings.warn(\n",
      "c:\\users\\georg\\documents\\msc-project\\venv\\lib\\site-packages\\sklearn\\linear_model\\_sag.py:352: ConvergenceWarning: The max_iter was reached which means the coef_ did not converge\n",
      "  warnings.warn(\n",
      "c:\\users\\georg\\documents\\msc-project\\venv\\lib\\site-packages\\sklearn\\linear_model\\_sag.py:352: ConvergenceWarning: The max_iter was reached which means the coef_ did not converge\n",
      "  warnings.warn(\n",
      "c:\\users\\georg\\documents\\msc-project\\venv\\lib\\site-packages\\sklearn\\linear_model\\_sag.py:352: ConvergenceWarning: The max_iter was reached which means the coef_ did not converge\n",
      "  warnings.warn(\n",
      "c:\\users\\georg\\documents\\msc-project\\venv\\lib\\site-packages\\sklearn\\linear_model\\_sag.py:352: ConvergenceWarning: The max_iter was reached which means the coef_ did not converge\n",
      "  warnings.warn(\n",
      "c:\\users\\georg\\documents\\msc-project\\venv\\lib\\site-packages\\sklearn\\linear_model\\_sag.py:352: ConvergenceWarning: The max_iter was reached which means the coef_ did not converge\n",
      "  warnings.warn(\n",
      "c:\\users\\georg\\documents\\msc-project\\venv\\lib\\site-packages\\sklearn\\linear_model\\_sag.py:352: ConvergenceWarning: The max_iter was reached which means the coef_ did not converge\n",
      "  warnings.warn(\n",
      "c:\\users\\georg\\documents\\msc-project\\venv\\lib\\site-packages\\sklearn\\linear_model\\_sag.py:352: ConvergenceWarning: The max_iter was reached which means the coef_ did not converge\n",
      "  warnings.warn(\n",
      "c:\\users\\georg\\documents\\msc-project\\venv\\lib\\site-packages\\sklearn\\linear_model\\_sag.py:352: ConvergenceWarning: The max_iter was reached which means the coef_ did not converge\n",
      "  warnings.warn(\n",
      "c:\\users\\georg\\documents\\msc-project\\venv\\lib\\site-packages\\sklearn\\linear_model\\_sag.py:352: ConvergenceWarning: The max_iter was reached which means the coef_ did not converge\n",
      "  warnings.warn(\n",
      "c:\\users\\georg\\documents\\msc-project\\venv\\lib\\site-packages\\sklearn\\linear_model\\_sag.py:352: ConvergenceWarning: The max_iter was reached which means the coef_ did not converge\n",
      "  warnings.warn(\n",
      "c:\\users\\georg\\documents\\msc-project\\venv\\lib\\site-packages\\sklearn\\linear_model\\_sag.py:352: ConvergenceWarning: The max_iter was reached which means the coef_ did not converge\n",
      "  warnings.warn(\n",
      "c:\\users\\georg\\documents\\msc-project\\venv\\lib\\site-packages\\sklearn\\linear_model\\_sag.py:352: ConvergenceWarning: The max_iter was reached which means the coef_ did not converge\n",
      "  warnings.warn(\n",
      "c:\\users\\georg\\documents\\msc-project\\venv\\lib\\site-packages\\sklearn\\linear_model\\_sag.py:352: ConvergenceWarning: The max_iter was reached which means the coef_ did not converge\n",
      "  warnings.warn(\n",
      "c:\\users\\georg\\documents\\msc-project\\venv\\lib\\site-packages\\sklearn\\linear_model\\_sag.py:352: ConvergenceWarning: The max_iter was reached which means the coef_ did not converge\n",
      "  warnings.warn(\n",
      "c:\\users\\georg\\documents\\msc-project\\venv\\lib\\site-packages\\sklearn\\linear_model\\_sag.py:352: ConvergenceWarning: The max_iter was reached which means the coef_ did not converge\n",
      "  warnings.warn(\n",
      "c:\\users\\georg\\documents\\msc-project\\venv\\lib\\site-packages\\sklearn\\linear_model\\_sag.py:352: ConvergenceWarning: The max_iter was reached which means the coef_ did not converge\n",
      "  warnings.warn(\n"
     ]
    },
    {
     "name": "stderr",
     "output_type": "stream",
     "text": [
      "c:\\users\\georg\\documents\\msc-project\\venv\\lib\\site-packages\\sklearn\\linear_model\\_sag.py:352: ConvergenceWarning: The max_iter was reached which means the coef_ did not converge\n",
      "  warnings.warn(\n",
      "c:\\users\\georg\\documents\\msc-project\\venv\\lib\\site-packages\\sklearn\\linear_model\\_sag.py:352: ConvergenceWarning: The max_iter was reached which means the coef_ did not converge\n",
      "  warnings.warn(\n",
      "c:\\users\\georg\\documents\\msc-project\\venv\\lib\\site-packages\\sklearn\\linear_model\\_sag.py:352: ConvergenceWarning: The max_iter was reached which means the coef_ did not converge\n",
      "  warnings.warn(\n",
      "c:\\users\\georg\\documents\\msc-project\\venv\\lib\\site-packages\\sklearn\\linear_model\\_sag.py:352: ConvergenceWarning: The max_iter was reached which means the coef_ did not converge\n",
      "  warnings.warn(\n",
      "c:\\users\\georg\\documents\\msc-project\\venv\\lib\\site-packages\\sklearn\\linear_model\\_sag.py:352: ConvergenceWarning: The max_iter was reached which means the coef_ did not converge\n",
      "  warnings.warn(\n",
      "c:\\users\\georg\\documents\\msc-project\\venv\\lib\\site-packages\\sklearn\\linear_model\\_sag.py:352: ConvergenceWarning: The max_iter was reached which means the coef_ did not converge\n",
      "  warnings.warn(\n",
      "c:\\users\\georg\\documents\\msc-project\\venv\\lib\\site-packages\\sklearn\\linear_model\\_sag.py:352: ConvergenceWarning: The max_iter was reached which means the coef_ did not converge\n",
      "  warnings.warn(\n",
      "c:\\users\\georg\\documents\\msc-project\\venv\\lib\\site-packages\\sklearn\\linear_model\\_sag.py:352: ConvergenceWarning: The max_iter was reached which means the coef_ did not converge\n",
      "  warnings.warn(\n",
      "c:\\users\\georg\\documents\\msc-project\\venv\\lib\\site-packages\\sklearn\\linear_model\\_sag.py:352: ConvergenceWarning: The max_iter was reached which means the coef_ did not converge\n",
      "  warnings.warn(\n",
      "c:\\users\\georg\\documents\\msc-project\\venv\\lib\\site-packages\\sklearn\\linear_model\\_sag.py:352: ConvergenceWarning: The max_iter was reached which means the coef_ did not converge\n",
      "  warnings.warn(\n",
      "c:\\users\\georg\\documents\\msc-project\\venv\\lib\\site-packages\\sklearn\\linear_model\\_sag.py:352: ConvergenceWarning: The max_iter was reached which means the coef_ did not converge\n",
      "  warnings.warn(\n",
      "c:\\users\\georg\\documents\\msc-project\\venv\\lib\\site-packages\\sklearn\\linear_model\\_sag.py:352: ConvergenceWarning: The max_iter was reached which means the coef_ did not converge\n",
      "  warnings.warn(\n",
      "c:\\users\\georg\\documents\\msc-project\\venv\\lib\\site-packages\\sklearn\\linear_model\\_sag.py:352: ConvergenceWarning: The max_iter was reached which means the coef_ did not converge\n",
      "  warnings.warn(\n",
      "c:\\users\\georg\\documents\\msc-project\\venv\\lib\\site-packages\\sklearn\\linear_model\\_sag.py:352: ConvergenceWarning: The max_iter was reached which means the coef_ did not converge\n",
      "  warnings.warn(\n",
      "c:\\users\\georg\\documents\\msc-project\\venv\\lib\\site-packages\\sklearn\\linear_model\\_sag.py:352: ConvergenceWarning: The max_iter was reached which means the coef_ did not converge\n",
      "  warnings.warn(\n",
      "c:\\users\\georg\\documents\\msc-project\\venv\\lib\\site-packages\\sklearn\\linear_model\\_sag.py:352: ConvergenceWarning: The max_iter was reached which means the coef_ did not converge\n",
      "  warnings.warn(\n",
      "c:\\users\\georg\\documents\\msc-project\\venv\\lib\\site-packages\\sklearn\\linear_model\\_sag.py:352: ConvergenceWarning: The max_iter was reached which means the coef_ did not converge\n",
      "  warnings.warn(\n",
      "c:\\users\\georg\\documents\\msc-project\\venv\\lib\\site-packages\\sklearn\\linear_model\\_sag.py:352: ConvergenceWarning: The max_iter was reached which means the coef_ did not converge\n",
      "  warnings.warn(\n",
      "c:\\users\\georg\\documents\\msc-project\\venv\\lib\\site-packages\\sklearn\\linear_model\\_sag.py:352: ConvergenceWarning: The max_iter was reached which means the coef_ did not converge\n",
      "  warnings.warn(\n",
      "c:\\users\\georg\\documents\\msc-project\\venv\\lib\\site-packages\\sklearn\\linear_model\\_sag.py:352: ConvergenceWarning: The max_iter was reached which means the coef_ did not converge\n",
      "  warnings.warn(\n",
      "c:\\users\\georg\\documents\\msc-project\\venv\\lib\\site-packages\\sklearn\\linear_model\\_sag.py:352: ConvergenceWarning: The max_iter was reached which means the coef_ did not converge\n",
      "  warnings.warn(\n",
      "c:\\users\\georg\\documents\\msc-project\\venv\\lib\\site-packages\\sklearn\\linear_model\\_sag.py:352: ConvergenceWarning: The max_iter was reached which means the coef_ did not converge\n",
      "  warnings.warn(\n",
      "c:\\users\\georg\\documents\\msc-project\\venv\\lib\\site-packages\\sklearn\\linear_model\\_sag.py:352: ConvergenceWarning: The max_iter was reached which means the coef_ did not converge\n",
      "  warnings.warn(\n",
      "c:\\users\\georg\\documents\\msc-project\\venv\\lib\\site-packages\\sklearn\\linear_model\\_sag.py:352: ConvergenceWarning: The max_iter was reached which means the coef_ did not converge\n",
      "  warnings.warn(\n",
      "c:\\users\\georg\\documents\\msc-project\\venv\\lib\\site-packages\\sklearn\\linear_model\\_sag.py:352: ConvergenceWarning: The max_iter was reached which means the coef_ did not converge\n",
      "  warnings.warn(\n",
      "c:\\users\\georg\\documents\\msc-project\\venv\\lib\\site-packages\\sklearn\\linear_model\\_sag.py:352: ConvergenceWarning: The max_iter was reached which means the coef_ did not converge\n",
      "  warnings.warn(\n",
      "c:\\users\\georg\\documents\\msc-project\\venv\\lib\\site-packages\\sklearn\\linear_model\\_sag.py:352: ConvergenceWarning: The max_iter was reached which means the coef_ did not converge\n",
      "  warnings.warn(\n",
      "c:\\users\\georg\\documents\\msc-project\\venv\\lib\\site-packages\\sklearn\\linear_model\\_sag.py:352: ConvergenceWarning: The max_iter was reached which means the coef_ did not converge\n",
      "  warnings.warn(\n",
      "c:\\users\\georg\\documents\\msc-project\\venv\\lib\\site-packages\\sklearn\\linear_model\\_sag.py:352: ConvergenceWarning: The max_iter was reached which means the coef_ did not converge\n",
      "  warnings.warn(\n",
      "c:\\users\\georg\\documents\\msc-project\\venv\\lib\\site-packages\\sklearn\\linear_model\\_sag.py:352: ConvergenceWarning: The max_iter was reached which means the coef_ did not converge\n",
      "  warnings.warn(\n",
      "c:\\users\\georg\\documents\\msc-project\\venv\\lib\\site-packages\\sklearn\\linear_model\\_sag.py:352: ConvergenceWarning: The max_iter was reached which means the coef_ did not converge\n",
      "  warnings.warn(\n",
      "c:\\users\\georg\\documents\\msc-project\\venv\\lib\\site-packages\\sklearn\\linear_model\\_sag.py:352: ConvergenceWarning: The max_iter was reached which means the coef_ did not converge\n",
      "  warnings.warn(\n",
      "c:\\users\\georg\\documents\\msc-project\\venv\\lib\\site-packages\\sklearn\\linear_model\\_sag.py:352: ConvergenceWarning: The max_iter was reached which means the coef_ did not converge\n",
      "  warnings.warn(\n",
      "c:\\users\\georg\\documents\\msc-project\\venv\\lib\\site-packages\\sklearn\\linear_model\\_sag.py:352: ConvergenceWarning: The max_iter was reached which means the coef_ did not converge\n",
      "  warnings.warn(\n",
      "c:\\users\\georg\\documents\\msc-project\\venv\\lib\\site-packages\\sklearn\\linear_model\\_sag.py:352: ConvergenceWarning: The max_iter was reached which means the coef_ did not converge\n",
      "  warnings.warn(\n",
      "c:\\users\\georg\\documents\\msc-project\\venv\\lib\\site-packages\\sklearn\\linear_model\\_sag.py:352: ConvergenceWarning: The max_iter was reached which means the coef_ did not converge\n",
      "  warnings.warn(\n",
      "c:\\users\\georg\\documents\\msc-project\\venv\\lib\\site-packages\\sklearn\\linear_model\\_sag.py:352: ConvergenceWarning: The max_iter was reached which means the coef_ did not converge\n",
      "  warnings.warn(\n",
      "c:\\users\\georg\\documents\\msc-project\\venv\\lib\\site-packages\\sklearn\\linear_model\\_sag.py:352: ConvergenceWarning: The max_iter was reached which means the coef_ did not converge\n",
      "  warnings.warn(\n",
      "c:\\users\\georg\\documents\\msc-project\\venv\\lib\\site-packages\\sklearn\\linear_model\\_sag.py:352: ConvergenceWarning: The max_iter was reached which means the coef_ did not converge\n",
      "  warnings.warn(\n",
      "c:\\users\\georg\\documents\\msc-project\\venv\\lib\\site-packages\\sklearn\\linear_model\\_sag.py:352: ConvergenceWarning: The max_iter was reached which means the coef_ did not converge\n",
      "  warnings.warn(\n",
      "c:\\users\\georg\\documents\\msc-project\\venv\\lib\\site-packages\\sklearn\\linear_model\\_sag.py:352: ConvergenceWarning: The max_iter was reached which means the coef_ did not converge\n",
      "  warnings.warn(\n",
      "c:\\users\\georg\\documents\\msc-project\\venv\\lib\\site-packages\\sklearn\\linear_model\\_sag.py:352: ConvergenceWarning: The max_iter was reached which means the coef_ did not converge\n",
      "  warnings.warn(\n",
      "c:\\users\\georg\\documents\\msc-project\\venv\\lib\\site-packages\\sklearn\\linear_model\\_sag.py:352: ConvergenceWarning: The max_iter was reached which means the coef_ did not converge\n",
      "  warnings.warn(\n"
     ]
    },
    {
     "name": "stderr",
     "output_type": "stream",
     "text": [
      "c:\\users\\georg\\documents\\msc-project\\venv\\lib\\site-packages\\sklearn\\linear_model\\_sag.py:352: ConvergenceWarning: The max_iter was reached which means the coef_ did not converge\n",
      "  warnings.warn(\n",
      "c:\\users\\georg\\documents\\msc-project\\venv\\lib\\site-packages\\sklearn\\linear_model\\_sag.py:352: ConvergenceWarning: The max_iter was reached which means the coef_ did not converge\n",
      "  warnings.warn(\n",
      "c:\\users\\georg\\documents\\msc-project\\venv\\lib\\site-packages\\sklearn\\linear_model\\_sag.py:352: ConvergenceWarning: The max_iter was reached which means the coef_ did not converge\n",
      "  warnings.warn(\n",
      "c:\\users\\georg\\documents\\msc-project\\venv\\lib\\site-packages\\sklearn\\linear_model\\_sag.py:352: ConvergenceWarning: The max_iter was reached which means the coef_ did not converge\n",
      "  warnings.warn(\n",
      "c:\\users\\georg\\documents\\msc-project\\venv\\lib\\site-packages\\sklearn\\linear_model\\_sag.py:352: ConvergenceWarning: The max_iter was reached which means the coef_ did not converge\n",
      "  warnings.warn(\n",
      "c:\\users\\georg\\documents\\msc-project\\venv\\lib\\site-packages\\sklearn\\linear_model\\_sag.py:352: ConvergenceWarning: The max_iter was reached which means the coef_ did not converge\n",
      "  warnings.warn(\n",
      "c:\\users\\georg\\documents\\msc-project\\venv\\lib\\site-packages\\sklearn\\linear_model\\_sag.py:352: ConvergenceWarning: The max_iter was reached which means the coef_ did not converge\n",
      "  warnings.warn(\n",
      "c:\\users\\georg\\documents\\msc-project\\venv\\lib\\site-packages\\sklearn\\linear_model\\_sag.py:352: ConvergenceWarning: The max_iter was reached which means the coef_ did not converge\n",
      "  warnings.warn(\n",
      "c:\\users\\georg\\documents\\msc-project\\venv\\lib\\site-packages\\sklearn\\linear_model\\_sag.py:352: ConvergenceWarning: The max_iter was reached which means the coef_ did not converge\n",
      "  warnings.warn(\n",
      "c:\\users\\georg\\documents\\msc-project\\venv\\lib\\site-packages\\sklearn\\linear_model\\_sag.py:352: ConvergenceWarning: The max_iter was reached which means the coef_ did not converge\n",
      "  warnings.warn(\n",
      "c:\\users\\georg\\documents\\msc-project\\venv\\lib\\site-packages\\sklearn\\linear_model\\_sag.py:352: ConvergenceWarning: The max_iter was reached which means the coef_ did not converge\n",
      "  warnings.warn(\n",
      "c:\\users\\georg\\documents\\msc-project\\venv\\lib\\site-packages\\sklearn\\linear_model\\_sag.py:352: ConvergenceWarning: The max_iter was reached which means the coef_ did not converge\n",
      "  warnings.warn(\n",
      "c:\\users\\georg\\documents\\msc-project\\venv\\lib\\site-packages\\sklearn\\linear_model\\_sag.py:352: ConvergenceWarning: The max_iter was reached which means the coef_ did not converge\n",
      "  warnings.warn(\n",
      "c:\\users\\georg\\documents\\msc-project\\venv\\lib\\site-packages\\sklearn\\linear_model\\_sag.py:352: ConvergenceWarning: The max_iter was reached which means the coef_ did not converge\n",
      "  warnings.warn(\n"
     ]
    },
    {
     "data": {
      "text/plain": [
       "AdaBoostClassifier(base_estimator=LogisticRegression(C=0.1,\n",
       "                                                     class_weight='balanced',\n",
       "                                                     random_state=1,\n",
       "                                                     solver='saga'),\n",
       "                   n_estimators=100, random_state=1)"
      ]
     },
     "execution_count": 10,
     "metadata": {},
     "output_type": "execute_result"
    }
   ],
   "source": [
    "base = linear_model.LogisticRegression(C=0.1,class_weight='balanced',penalty='l2',random_state=1,solver='saga')\n",
    "boosted = ensemble.AdaBoostClassifier(\n",
    "    base_estimator = base,\n",
    "    random_state=1,\n",
    "    n_estimators=100\n",
    ")\n",
    "boosted.fit(train_X,train_y)"
   ]
  },
  {
   "cell_type": "code",
   "execution_count": 11,
   "id": "de0b1c8b",
   "metadata": {
    "scrolled": true
   },
   "outputs": [
    {
     "name": "stderr",
     "output_type": "stream",
     "text": [
      "c:\\users\\georg\\documents\\msc-project\\venv\\lib\\site-packages\\sklearn\\base.py:441: UserWarning: X does not have valid feature names, but AdaBoostClassifier was fitted with feature names\n",
      "  warnings.warn(\n"
     ]
    },
    {
     "data": {
      "text/plain": [
       "0.6725965177895533"
      ]
     },
     "execution_count": 11,
     "metadata": {},
     "output_type": "execute_result"
    }
   ],
   "source": [
    "boosted.score(test_X,test_y)"
   ]
  }
 ],
 "metadata": {
  "kernelspec": {
   "display_name": "Python 3 (ipykernel)",
   "language": "python",
   "name": "python3"
  },
  "language_info": {
   "codemirror_mode": {
    "name": "ipython",
    "version": 3
   },
   "file_extension": ".py",
   "mimetype": "text/x-python",
   "name": "python",
   "nbconvert_exporter": "python",
   "pygments_lexer": "ipython3",
   "version": "3.9.5"
  }
 },
 "nbformat": 4,
 "nbformat_minor": 5
}
