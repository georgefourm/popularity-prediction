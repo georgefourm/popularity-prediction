{
 "cells": [
  {
   "cell_type": "markdown",
   "id": "db16ebc0",
   "metadata": {},
   "source": [
    "# Binary Classification\n",
    "This notebook will approach the popularity prediction task as a binary classification problem. The videos will either be classified as viral or non-viral"
   ]
  },
  {
   "cell_type": "code",
   "execution_count": 1,
   "id": "53dbce72",
   "metadata": {},
   "outputs": [
    {
     "name": "stdout",
     "output_type": "stream",
     "text": [
      "C:\\Users\\georg\\Documents\\msc-project\n"
     ]
    }
   ],
   "source": [
    "%cd .."
   ]
  },
  {
   "cell_type": "code",
   "execution_count": 24,
   "id": "de612a81",
   "metadata": {},
   "outputs": [],
   "source": [
    "import pandas as pd\n",
    "import numpy as np\n",
    "from matplotlib import pyplot as plt\n",
    "\n",
    "from sklearn import neighbors, svm, linear_model,dummy,ensemble\n",
    "from sklearn.metrics import make_scorer, precision_score, ConfusionMatrixDisplay, roc_curve\n",
    "from sklearn.model_selection import train_test_split, GridSearchCV\n",
    "from sklearn.preprocessing import StandardScaler\n",
    "from sklearn.pipeline import Pipeline\n",
    "\n",
    "from src.evaluation import compare_models\n",
    "from imblearn.over_sampling import ADASYN\n",
    "from imblearn.pipeline import make_pipeline"
   ]
  },
  {
   "cell_type": "code",
   "execution_count": 3,
   "id": "a3aeac65",
   "metadata": {
    "scrolled": true
   },
   "outputs": [],
   "source": [
    "df = pd.read_csv(\"data/processed/tracks.csv\")"
   ]
  },
  {
   "cell_type": "markdown",
   "id": "6d0d1004",
   "metadata": {},
   "source": [
    "The threshold chosen for the viral videos will be 1e+06, as most videos seem to be below this threshold."
   ]
  },
  {
   "cell_type": "code",
   "execution_count": 19,
   "id": "0ebac7a4",
   "metadata": {
    "scrolled": true
   },
   "outputs": [
    {
     "data": {
      "text/plain": [
       "<AxesSubplot:ylabel='View count'>"
      ]
     },
     "execution_count": 19,
     "metadata": {},
     "output_type": "execute_result"
    },
    {
     "data": {
      "image/png": "[encoded data removed]",
      "text/plain": [
       "<Figure size 432x288 with 1 Axes>"
      ]
     },
     "metadata": {
      "needs_background": "light"
     },
     "output_type": "display_data"
    }
   ],
   "source": [
    "viral_threshold = 1e+06\n",
    "features = [\n",
    "    'danceability',\n",
    "    'energy',\n",
    "    'key',\n",
    "    'loudness',\n",
    "    'mode',\n",
    "    'speechiness',\n",
    "    'acousticness',\n",
    "    'instrumentalness',\n",
    "    'liveness',\n",
    "    'valence',\n",
    "    'tempo',\n",
    "    'time_signature',\n",
    "    'duration_ms',\n",
    "    'popularity'\n",
    "]\n",
    "\n",
    "def get_data_for_threshold(threshold):\n",
    "    views = df['views']\n",
    "    data = df.loc[:,features]\n",
    "    targets = views.apply(np.digitize,bins=[0,threshold,views.max() +1])\n",
    "\n",
    "    return data, targets\n",
    "\n",
    "data, targets = get_data_for_threshold(viral_threshold)\n",
    "plt.xticks([1,2],[\"Non-Viral\",\"Viral\"])\n",
    "plt.ylabel(\"View count\")\n",
    "targets.hist(bins=2, grid=False)"
   ]
  },
  {
   "cell_type": "markdown",
   "id": "64617555",
   "metadata": {},
   "source": [
    "## Model Comparison\n",
    "Similar to the multiclass classification task, multiple models are evaluated and compared"
   ]
  },
  {
   "cell_type": "code",
   "execution_count": 23,
   "id": "c0980b24",
   "metadata": {
    "scrolled": true
   },
   "outputs": [
    {
     "name": "stdout",
     "output_type": "stream",
     "text": [
      "Evaluating Baseline\n",
      "Evaluating 5-KNN\n",
      "Evaluating 10-KNN\n",
      "Evaluating SVM Linear\n",
      "Evaluating SVM RBF\n",
      "Evaluating Random Forest\n",
      "Evaluating Logistic Regression\n"
     ]
    },
    {
     "data": {
      "text/html": [
       "<div>\n",
       "<style scoped>\n",
       "    .dataframe tbody tr th:only-of-type {\n",
       "        vertical-align: middle;\n",
       "    }\n",
       "\n",
       "    .dataframe tbody tr th {\n",
       "        vertical-align: top;\n",
       "    }\n",
       "\n",
       "    .dataframe thead th {\n",
       "        text-align: right;\n",
       "    }\n",
       "</style>\n",
       "<table border=\"1\" class=\"dataframe\">\n",
       "  <thead>\n",
       "    <tr style=\"text-align: right;\">\n",
       "      <th></th>\n",
       "      <th>model</th>\n",
       "      <th>fit_time</th>\n",
       "      <th>score_time</th>\n",
       "      <th>test_precision</th>\n",
       "      <th>test_recall</th>\n",
       "      <th>test_accuracy</th>\n",
       "    </tr>\n",
       "  </thead>\n",
       "  <tbody>\n",
       "    <tr>\n",
       "      <th>0</th>\n",
       "      <td>Baseline</td>\n",
       "      <td>0.743018</td>\n",
       "      <td>0.004365</td>\n",
       "      <td>0.490593</td>\n",
       "      <td>0.489241</td>\n",
       "      <td>0.494660</td>\n",
       "    </tr>\n",
       "    <tr>\n",
       "      <th>1</th>\n",
       "      <td>5-KNN</td>\n",
       "      <td>0.776737</td>\n",
       "      <td>0.534776</td>\n",
       "      <td>0.527154</td>\n",
       "      <td>0.531066</td>\n",
       "      <td>0.525522</td>\n",
       "    </tr>\n",
       "    <tr>\n",
       "      <th>2</th>\n",
       "      <td>10-KNN</td>\n",
       "      <td>0.787553</td>\n",
       "      <td>0.590329</td>\n",
       "      <td>0.533459</td>\n",
       "      <td>0.537597</td>\n",
       "      <td>0.555989</td>\n",
       "    </tr>\n",
       "    <tr>\n",
       "      <th>3</th>\n",
       "      <td>SVM Linear</td>\n",
       "      <td>7.129192</td>\n",
       "      <td>0.433409</td>\n",
       "      <td>0.577899</td>\n",
       "      <td>0.586305</td>\n",
       "      <td>0.544723</td>\n",
       "    </tr>\n",
       "    <tr>\n",
       "      <th>4</th>\n",
       "      <td>SVM RBF</td>\n",
       "      <td>5.976191</td>\n",
       "      <td>1.811489</td>\n",
       "      <td>0.575006</td>\n",
       "      <td>0.585630</td>\n",
       "      <td>0.582834</td>\n",
       "    </tr>\n",
       "    <tr>\n",
       "      <th>5</th>\n",
       "      <td>Random Forest</td>\n",
       "      <td>3.198795</td>\n",
       "      <td>0.054854</td>\n",
       "      <td>0.551736</td>\n",
       "      <td>0.548719</td>\n",
       "      <td>0.617223</td>\n",
       "    </tr>\n",
       "    <tr>\n",
       "      <th>6</th>\n",
       "      <td>Logistic Regression</td>\n",
       "      <td>0.733083</td>\n",
       "      <td>0.003774</td>\n",
       "      <td>0.581632</td>\n",
       "      <td>0.593212</td>\n",
       "      <td>0.577543</td>\n",
       "    </tr>\n",
       "  </tbody>\n",
       "</table>\n",
       "</div>"
      ],
      "text/plain": [
       "                 model  fit_time  score_time  test_precision  test_recall  \\\n",
       "0             Baseline  0.743018    0.004365        0.490593     0.489241   \n",
       "1                5-KNN  0.776737    0.534776        0.527154     0.531066   \n",
       "2               10-KNN  0.787553    0.590329        0.533459     0.537597   \n",
       "3           SVM Linear  7.129192    0.433409        0.577899     0.586305   \n",
       "4              SVM RBF  5.976191    1.811489        0.575006     0.585630   \n",
       "5        Random Forest  3.198795    0.054854        0.551736     0.548719   \n",
       "6  Logistic Regression  0.733083    0.003774        0.581632     0.593212   \n",
       "\n",
       "   test_accuracy  \n",
       "0       0.494660  \n",
       "1       0.525522  \n",
       "2       0.555989  \n",
       "3       0.544723  \n",
       "4       0.582834  \n",
       "5       0.617223  \n",
       "6       0.577543  "
      ]
     },
     "execution_count": 23,
     "metadata": {},
     "output_type": "execute_result"
    }
   ],
   "source": [
    "models = [\n",
    "    (\"Baseline\",dummy.DummyClassifier(strategy='stratified')),\n",
    "    (\"5-KNN\",neighbors.KNeighborsClassifier(n_neighbors=5)),\n",
    "    (\"10-KNN\",neighbors.KNeighborsClassifier(n_neighbors=10)),\n",
    "    (\"SVM Linear\", svm.SVC(kernel='linear')),\n",
    "    (\"SVM RBF\", svm.SVC(kernel='rbf')),\n",
    "    (\"Random Forest\",ensemble.RandomForestClassifier()),\n",
    "    (\"Logistic Regression\",linear_model.LogisticRegression())\n",
    "]\n",
    "\n",
    "oversampled_models = []\n",
    "for name, model in models:\n",
    "    combined = make_pipeline(\n",
    "        ADASYN(),\n",
    "        model\n",
    "    )\n",
    "    oversampled_models.append((name,combined))\n",
    "    \n",
    "metrics = {\n",
    "    'precision': make_scorer(precision_score,average='macro',zero_division=0),\n",
    "    'recall': 'recall_macro',\n",
    "    'accuracy': 'accuracy'\n",
    "}\n",
    "compare_models(oversampled_models, metrics, data, targets)"
   ]
  },
  {
   "cell_type": "markdown",
   "id": "dc9c7fd6",
   "metadata": {},
   "source": [
    "Random forest appears to outperform the rest of the models in terms of accuracy, as in the multiclass attempt. Logistic regression on the other hand performs better in terms of precision and recall."
   ]
  },
  {
   "cell_type": "code",
   "execution_count": 6,
   "id": "2c367a2b",
   "metadata": {},
   "outputs": [
    {
     "data": {
      "text/plain": [
       "<sklearn.metrics._plot.confusion_matrix.ConfusionMatrixDisplay at 0x270364d3be0>"
      ]
     },
     "execution_count": 6,
     "metadata": {},
     "output_type": "execute_result"
    },
    {
     "data": {
      "image/png": "[encoded data removed]",
      "text/plain": [
       "<Figure size 432x288 with 2 Axes>"
      ]
     },
     "metadata": {
      "needs_background": "light"
     },
     "output_type": "display_data"
    }
   ],
   "source": [
    "X_train, X_test, y_train,y_test = train_test_split(data, targets, random_state=1)\n",
    "X_train, y_train = ADASYN().fit_resample(X_train,y_train)\n",
    "model = ensemble.RandomForestClassifier()\n",
    "model.fit(X_train,y_train)\n",
    "predicted = model.predict(X_test)\n",
    "ConfusionMatrixDisplay.from_predictions(y_test,predicted)"
   ]
  },
  {
   "cell_type": "markdown",
   "id": "6e10a761",
   "metadata": {},
   "source": [
    "By examining the confusion matrix of the Random Forest Classifier we see that the non-popular class had the most true positives, while a lot of the datapoint of the popular class were also classified as non-popular. This seems to be due to the class imbalance even after synthetic resampling."
   ]
  },
  {
   "cell_type": "code",
   "execution_count": null,
   "id": "19958691",
   "metadata": {},
   "outputs": [],
   "source": []
  },
  {
   "cell_type": "markdown",
   "id": "671a7540",
   "metadata": {},
   "source": [
    "## Model Optimization\n",
    "We further optimize the Logistic Regression model by performing a grid search over its hyperparameter space"
   ]
  },
  {
   "cell_type": "code",
   "execution_count": 7,
   "id": "21ec1d8b",
   "metadata": {},
   "outputs": [
    {
     "data": {
      "text/plain": [
       "GridSearchCV(estimator=Pipeline(steps=[('std', StandardScaler()),\n",
       "                                       ('lr', LogisticRegression())]),\n",
       "             param_grid=[{'lr__C': [0.1, 1, 10],\n",
       "                          'lr__class_weight': ['balanced'],\n",
       "                          'lr__penalty': ['l1', 'l2'], 'lr__random_state': [1],\n",
       "                          'lr__solver': ['saga']},\n",
       "                         {'lr__class_weight': ['balanced'],\n",
       "                          'lr__penalty': ['none'], 'lr__random_state': [1],\n",
       "                          'lr__solver': ['saga']},\n",
       "                         {'lr__C': [0.1, 1, 10],\n",
       "                          'lr__class_weight': ['balanced'],\n",
       "                          'lr__l1_ratio': [0.01, 0.1, 1],\n",
       "                          'lr__penalty': ['elasticnet'],\n",
       "                          'lr__random_state': [1], 'lr__solver': ['saga']}],\n",
       "             scoring='precision_macro')"
      ]
     },
     "execution_count": 7,
     "metadata": {},
     "output_type": "execute_result"
    }
   ],
   "source": [
    "train_X, test_X, train_y, test_y = train_test_split(data, targets, random_state=1)\n",
    "model = Pipeline([\n",
    "    ('std',StandardScaler()),\n",
    "    ('lr',linear_model.LogisticRegression())\n",
    "])\n",
    "\n",
    "params = [\n",
    "    {\n",
    "        'lr__penalty':['l1','l2'],\n",
    "        'lr__C':[0.1,1,10],\n",
    "        'lr__class_weight':['balanced'],\n",
    "        'lr__solver':['saga'],\n",
    "        'lr__random_state':[1],\n",
    "    },\n",
    "    {\n",
    "        'lr__penalty':['none'],\n",
    "        'lr__class_weight':['balanced'],\n",
    "        'lr__solver':['saga'],\n",
    "        'lr__random_state':[1],\n",
    "    },\n",
    "    {\n",
    "        'lr__penalty':['elasticnet'],\n",
    "        'lr__l1_ratio':[0.01,0.1,1],\n",
    "        'lr__C':[0.1,1,10],\n",
    "        'lr__class_weight':['balanced'],\n",
    "        'lr__solver':['saga'],\n",
    "        'lr__random_state':[1],\n",
    "    }\n",
    "]\n",
    "optimizer = GridSearchCV(model, params,scoring='precision_macro')\n",
    "optimizer.fit(train_X,train_y)"
   ]
  },
  {
   "cell_type": "code",
   "execution_count": 8,
   "id": "2ec633c8",
   "metadata": {},
   "outputs": [
    {
     "data": {
      "text/plain": [
       "{'lr__C': 1,\n",
       " 'lr__class_weight': 'balanced',\n",
       " 'lr__penalty': 'l2',\n",
       " 'lr__random_state': 1,\n",
       " 'lr__solver': 'saga'}"
      ]
     },
     "execution_count": 8,
     "metadata": {},
     "output_type": "execute_result"
    }
   ],
   "source": [
    "optimizer.best_params_"
   ]
  },
  {
   "cell_type": "code",
   "execution_count": 9,
   "id": "c343d03b",
   "metadata": {},
   "outputs": [
    {
     "data": {
      "text/plain": [
       "0.581537961703251"
      ]
     },
     "execution_count": 9,
     "metadata": {},
     "output_type": "execute_result"
    }
   ],
   "source": [
    "optimizer.score(test_X,test_y)"
   ]
  },
  {
   "cell_type": "markdown",
   "id": "903ea4d9",
   "metadata": {},
   "source": [
    "Hyperparameter optimization achieved a slight improvement in precision, now further optimization will be performed using AdaBoost"
   ]
  },
  {
   "cell_type": "code",
   "execution_count": 45,
   "id": "631fb675",
   "metadata": {},
   "outputs": [
    {
     "name": "stderr",
     "output_type": "stream",
     "text": [
      "c:\\users\\georg\\documents\\msc-project\\venv\\lib\\site-packages\\sklearn\\linear_model\\_sag.py:352: ConvergenceWarning: The max_iter was reached which means the coef_ did not converge\n",
      "  warnings.warn(\n",
      "c:\\users\\georg\\documents\\msc-project\\venv\\lib\\site-packages\\sklearn\\linear_model\\_sag.py:352: ConvergenceWarning: The max_iter was reached which means the coef_ did not converge\n",
      "  warnings.warn(\n",
      "c:\\users\\georg\\documents\\msc-project\\venv\\lib\\site-packages\\sklearn\\linear_model\\_sag.py:352: ConvergenceWarning: The max_iter was reached which means the coef_ did not converge\n",
      "  warnings.warn(\n",
      "c:\\users\\georg\\documents\\msc-project\\venv\\lib\\site-packages\\sklearn\\linear_model\\_sag.py:352: ConvergenceWarning: The max_iter was reached which means the coef_ did not converge\n",
      "  warnings.warn(\n",
      "c:\\users\\georg\\documents\\msc-project\\venv\\lib\\site-packages\\sklearn\\linear_model\\_sag.py:352: ConvergenceWarning: The max_iter was reached which means the coef_ did not converge\n",
      "  warnings.warn(\n",
      "c:\\users\\georg\\documents\\msc-project\\venv\\lib\\site-packages\\sklearn\\linear_model\\_sag.py:352: ConvergenceWarning: The max_iter was reached which means the coef_ did not converge\n",
      "  warnings.warn(\n",
      "c:\\users\\georg\\documents\\msc-project\\venv\\lib\\site-packages\\sklearn\\linear_model\\_sag.py:352: ConvergenceWarning: The max_iter was reached which means the coef_ did not converge\n",
      "  warnings.warn(\n",
      "c:\\users\\georg\\documents\\msc-project\\venv\\lib\\site-packages\\sklearn\\linear_model\\_sag.py:352: ConvergenceWarning: The max_iter was reached which means the coef_ did not converge\n",
      "  warnings.warn(\n",
      "c:\\users\\georg\\documents\\msc-project\\venv\\lib\\site-packages\\sklearn\\linear_model\\_sag.py:352: ConvergenceWarning: The max_iter was reached which means the coef_ did not converge\n",
      "  warnings.warn(\n",
      "c:\\users\\georg\\documents\\msc-project\\venv\\lib\\site-packages\\sklearn\\linear_model\\_sag.py:352: ConvergenceWarning: The max_iter was reached which means the coef_ did not converge\n",
      "  warnings.warn(\n",
      "c:\\users\\georg\\documents\\msc-project\\venv\\lib\\site-packages\\sklearn\\linear_model\\_sag.py:352: ConvergenceWarning: The max_iter was reached which means the coef_ did not converge\n",
      "  warnings.warn(\n",
      "c:\\users\\georg\\documents\\msc-project\\venv\\lib\\site-packages\\sklearn\\linear_model\\_sag.py:352: ConvergenceWarning: The max_iter was reached which means the coef_ did not converge\n",
      "  warnings.warn(\n",
      "c:\\users\\georg\\documents\\msc-project\\venv\\lib\\site-packages\\sklearn\\linear_model\\_sag.py:352: ConvergenceWarning: The max_iter was reached which means the coef_ did not converge\n",
      "  warnings.warn(\n",
      "c:\\users\\georg\\documents\\msc-project\\venv\\lib\\site-packages\\sklearn\\linear_model\\_sag.py:352: ConvergenceWarning: The max_iter was reached which means the coef_ did not converge\n",
      "  warnings.warn(\n",
      "c:\\users\\georg\\documents\\msc-project\\venv\\lib\\site-packages\\sklearn\\linear_model\\_sag.py:352: ConvergenceWarning: The max_iter was reached which means the coef_ did not converge\n",
      "  warnings.warn(\n",
      "c:\\users\\georg\\documents\\msc-project\\venv\\lib\\site-packages\\sklearn\\linear_model\\_sag.py:352: ConvergenceWarning: The max_iter was reached which means the coef_ did not converge\n",
      "  warnings.warn(\n",
      "c:\\users\\georg\\documents\\msc-project\\venv\\lib\\site-packages\\sklearn\\linear_model\\_sag.py:352: ConvergenceWarning: The max_iter was reached which means the coef_ did not converge\n",
      "  warnings.warn(\n",
      "c:\\users\\georg\\documents\\msc-project\\venv\\lib\\site-packages\\sklearn\\linear_model\\_sag.py:352: ConvergenceWarning: The max_iter was reached which means the coef_ did not converge\n",
      "  warnings.warn(\n",
      "c:\\users\\georg\\documents\\msc-project\\venv\\lib\\site-packages\\sklearn\\linear_model\\_sag.py:352: ConvergenceWarning: The max_iter was reached which means the coef_ did not converge\n",
      "  warnings.warn(\n",
      "c:\\users\\georg\\documents\\msc-project\\venv\\lib\\site-packages\\sklearn\\linear_model\\_sag.py:352: ConvergenceWarning: The max_iter was reached which means the coef_ did not converge\n",
      "  warnings.warn(\n",
      "c:\\users\\georg\\documents\\msc-project\\venv\\lib\\site-packages\\sklearn\\linear_model\\_sag.py:352: ConvergenceWarning: The max_iter was reached which means the coef_ did not converge\n",
      "  warnings.warn(\n",
      "c:\\users\\georg\\documents\\msc-project\\venv\\lib\\site-packages\\sklearn\\linear_model\\_sag.py:352: ConvergenceWarning: The max_iter was reached which means the coef_ did not converge\n",
      "  warnings.warn(\n",
      "c:\\users\\georg\\documents\\msc-project\\venv\\lib\\site-packages\\sklearn\\linear_model\\_sag.py:352: ConvergenceWarning: The max_iter was reached which means the coef_ did not converge\n",
      "  warnings.warn(\n",
      "c:\\users\\georg\\documents\\msc-project\\venv\\lib\\site-packages\\sklearn\\linear_model\\_sag.py:352: ConvergenceWarning: The max_iter was reached which means the coef_ did not converge\n",
      "  warnings.warn(\n",
      "c:\\users\\georg\\documents\\msc-project\\venv\\lib\\site-packages\\sklearn\\linear_model\\_sag.py:352: ConvergenceWarning: The max_iter was reached which means the coef_ did not converge\n",
      "  warnings.warn(\n",
      "c:\\users\\georg\\documents\\msc-project\\venv\\lib\\site-packages\\sklearn\\linear_model\\_sag.py:352: ConvergenceWarning: The max_iter was reached which means the coef_ did not converge\n",
      "  warnings.warn(\n",
      "c:\\users\\georg\\documents\\msc-project\\venv\\lib\\site-packages\\sklearn\\linear_model\\_sag.py:352: ConvergenceWarning: The max_iter was reached which means the coef_ did not converge\n",
      "  warnings.warn(\n",
      "c:\\users\\georg\\documents\\msc-project\\venv\\lib\\site-packages\\sklearn\\linear_model\\_sag.py:352: ConvergenceWarning: The max_iter was reached which means the coef_ did not converge\n",
      "  warnings.warn(\n",
      "c:\\users\\georg\\documents\\msc-project\\venv\\lib\\site-packages\\sklearn\\linear_model\\_sag.py:352: ConvergenceWarning: The max_iter was reached which means the coef_ did not converge\n",
      "  warnings.warn(\n",
      "c:\\users\\georg\\documents\\msc-project\\venv\\lib\\site-packages\\sklearn\\linear_model\\_sag.py:352: ConvergenceWarning: The max_iter was reached which means the coef_ did not converge\n",
      "  warnings.warn(\n",
      "c:\\users\\georg\\documents\\msc-project\\venv\\lib\\site-packages\\sklearn\\linear_model\\_sag.py:352: ConvergenceWarning: The max_iter was reached which means the coef_ did not converge\n",
      "  warnings.warn(\n",
      "c:\\users\\georg\\documents\\msc-project\\venv\\lib\\site-packages\\sklearn\\linear_model\\_sag.py:352: ConvergenceWarning: The max_iter was reached which means the coef_ did not converge\n",
      "  warnings.warn(\n",
      "c:\\users\\georg\\documents\\msc-project\\venv\\lib\\site-packages\\sklearn\\linear_model\\_sag.py:352: ConvergenceWarning: The max_iter was reached which means the coef_ did not converge\n",
      "  warnings.warn(\n",
      "c:\\users\\georg\\documents\\msc-project\\venv\\lib\\site-packages\\sklearn\\linear_model\\_sag.py:352: ConvergenceWarning: The max_iter was reached which means the coef_ did not converge\n",
      "  warnings.warn(\n",
      "c:\\users\\georg\\documents\\msc-project\\venv\\lib\\site-packages\\sklearn\\linear_model\\_sag.py:352: ConvergenceWarning: The max_iter was reached which means the coef_ did not converge\n",
      "  warnings.warn(\n",
      "c:\\users\\georg\\documents\\msc-project\\venv\\lib\\site-packages\\sklearn\\linear_model\\_sag.py:352: ConvergenceWarning: The max_iter was reached which means the coef_ did not converge\n",
      "  warnings.warn(\n",
      "c:\\users\\georg\\documents\\msc-project\\venv\\lib\\site-packages\\sklearn\\linear_model\\_sag.py:352: ConvergenceWarning: The max_iter was reached which means the coef_ did not converge\n",
      "  warnings.warn(\n",
      "c:\\users\\georg\\documents\\msc-project\\venv\\lib\\site-packages\\sklearn\\linear_model\\_sag.py:352: ConvergenceWarning: The max_iter was reached which means the coef_ did not converge\n",
      "  warnings.warn(\n",
      "c:\\users\\georg\\documents\\msc-project\\venv\\lib\\site-packages\\sklearn\\linear_model\\_sag.py:352: ConvergenceWarning: The max_iter was reached which means the coef_ did not converge\n",
      "  warnings.warn(\n",
      "c:\\users\\georg\\documents\\msc-project\\venv\\lib\\site-packages\\sklearn\\linear_model\\_sag.py:352: ConvergenceWarning: The max_iter was reached which means the coef_ did not converge\n",
      "  warnings.warn(\n",
      "c:\\users\\georg\\documents\\msc-project\\venv\\lib\\site-packages\\sklearn\\linear_model\\_sag.py:352: ConvergenceWarning: The max_iter was reached which means the coef_ did not converge\n",
      "  warnings.warn(\n",
      "c:\\users\\georg\\documents\\msc-project\\venv\\lib\\site-packages\\sklearn\\linear_model\\_sag.py:352: ConvergenceWarning: The max_iter was reached which means the coef_ did not converge\n",
      "  warnings.warn(\n",
      "c:\\users\\georg\\documents\\msc-project\\venv\\lib\\site-packages\\sklearn\\linear_model\\_sag.py:352: ConvergenceWarning: The max_iter was reached which means the coef_ did not converge\n",
      "  warnings.warn(\n",
      "c:\\users\\georg\\documents\\msc-project\\venv\\lib\\site-packages\\sklearn\\linear_model\\_sag.py:352: ConvergenceWarning: The max_iter was reached which means the coef_ did not converge\n",
      "  warnings.warn(\n"
     ]
    },
    {
     "name": "stderr",
     "output_type": "stream",
     "text": [
      "c:\\users\\georg\\documents\\msc-project\\venv\\lib\\site-packages\\sklearn\\linear_model\\_sag.py:352: ConvergenceWarning: The max_iter was reached which means the coef_ did not converge\n",
      "  warnings.warn(\n",
      "c:\\users\\georg\\documents\\msc-project\\venv\\lib\\site-packages\\sklearn\\linear_model\\_sag.py:352: ConvergenceWarning: The max_iter was reached which means the coef_ did not converge\n",
      "  warnings.warn(\n",
      "c:\\users\\georg\\documents\\msc-project\\venv\\lib\\site-packages\\sklearn\\linear_model\\_sag.py:352: ConvergenceWarning: The max_iter was reached which means the coef_ did not converge\n",
      "  warnings.warn(\n",
      "c:\\users\\georg\\documents\\msc-project\\venv\\lib\\site-packages\\sklearn\\linear_model\\_sag.py:352: ConvergenceWarning: The max_iter was reached which means the coef_ did not converge\n",
      "  warnings.warn(\n",
      "c:\\users\\georg\\documents\\msc-project\\venv\\lib\\site-packages\\sklearn\\linear_model\\_sag.py:352: ConvergenceWarning: The max_iter was reached which means the coef_ did not converge\n",
      "  warnings.warn(\n",
      "c:\\users\\georg\\documents\\msc-project\\venv\\lib\\site-packages\\sklearn\\linear_model\\_sag.py:352: ConvergenceWarning: The max_iter was reached which means the coef_ did not converge\n",
      "  warnings.warn(\n",
      "c:\\users\\georg\\documents\\msc-project\\venv\\lib\\site-packages\\sklearn\\linear_model\\_sag.py:352: ConvergenceWarning: The max_iter was reached which means the coef_ did not converge\n",
      "  warnings.warn(\n",
      "c:\\users\\georg\\documents\\msc-project\\venv\\lib\\site-packages\\sklearn\\linear_model\\_sag.py:352: ConvergenceWarning: The max_iter was reached which means the coef_ did not converge\n",
      "  warnings.warn(\n",
      "c:\\users\\georg\\documents\\msc-project\\venv\\lib\\site-packages\\sklearn\\linear_model\\_sag.py:352: ConvergenceWarning: The max_iter was reached which means the coef_ did not converge\n",
      "  warnings.warn(\n",
      "c:\\users\\georg\\documents\\msc-project\\venv\\lib\\site-packages\\sklearn\\linear_model\\_sag.py:352: ConvergenceWarning: The max_iter was reached which means the coef_ did not converge\n",
      "  warnings.warn(\n",
      "c:\\users\\georg\\documents\\msc-project\\venv\\lib\\site-packages\\sklearn\\linear_model\\_sag.py:352: ConvergenceWarning: The max_iter was reached which means the coef_ did not converge\n",
      "  warnings.warn(\n",
      "c:\\users\\georg\\documents\\msc-project\\venv\\lib\\site-packages\\sklearn\\linear_model\\_sag.py:352: ConvergenceWarning: The max_iter was reached which means the coef_ did not converge\n",
      "  warnings.warn(\n",
      "c:\\users\\georg\\documents\\msc-project\\venv\\lib\\site-packages\\sklearn\\linear_model\\_sag.py:352: ConvergenceWarning: The max_iter was reached which means the coef_ did not converge\n",
      "  warnings.warn(\n",
      "c:\\users\\georg\\documents\\msc-project\\venv\\lib\\site-packages\\sklearn\\linear_model\\_sag.py:352: ConvergenceWarning: The max_iter was reached which means the coef_ did not converge\n",
      "  warnings.warn(\n",
      "c:\\users\\georg\\documents\\msc-project\\venv\\lib\\site-packages\\sklearn\\linear_model\\_sag.py:352: ConvergenceWarning: The max_iter was reached which means the coef_ did not converge\n",
      "  warnings.warn(\n",
      "c:\\users\\georg\\documents\\msc-project\\venv\\lib\\site-packages\\sklearn\\linear_model\\_sag.py:352: ConvergenceWarning: The max_iter was reached which means the coef_ did not converge\n",
      "  warnings.warn(\n",
      "c:\\users\\georg\\documents\\msc-project\\venv\\lib\\site-packages\\sklearn\\linear_model\\_sag.py:352: ConvergenceWarning: The max_iter was reached which means the coef_ did not converge\n",
      "  warnings.warn(\n",
      "c:\\users\\georg\\documents\\msc-project\\venv\\lib\\site-packages\\sklearn\\linear_model\\_sag.py:352: ConvergenceWarning: The max_iter was reached which means the coef_ did not converge\n",
      "  warnings.warn(\n",
      "c:\\users\\georg\\documents\\msc-project\\venv\\lib\\site-packages\\sklearn\\linear_model\\_sag.py:352: ConvergenceWarning: The max_iter was reached which means the coef_ did not converge\n",
      "  warnings.warn(\n",
      "c:\\users\\georg\\documents\\msc-project\\venv\\lib\\site-packages\\sklearn\\linear_model\\_sag.py:352: ConvergenceWarning: The max_iter was reached which means the coef_ did not converge\n",
      "  warnings.warn(\n",
      "c:\\users\\georg\\documents\\msc-project\\venv\\lib\\site-packages\\sklearn\\linear_model\\_sag.py:352: ConvergenceWarning: The max_iter was reached which means the coef_ did not converge\n",
      "  warnings.warn(\n",
      "c:\\users\\georg\\documents\\msc-project\\venv\\lib\\site-packages\\sklearn\\linear_model\\_sag.py:352: ConvergenceWarning: The max_iter was reached which means the coef_ did not converge\n",
      "  warnings.warn(\n",
      "c:\\users\\georg\\documents\\msc-project\\venv\\lib\\site-packages\\sklearn\\linear_model\\_sag.py:352: ConvergenceWarning: The max_iter was reached which means the coef_ did not converge\n",
      "  warnings.warn(\n",
      "c:\\users\\georg\\documents\\msc-project\\venv\\lib\\site-packages\\sklearn\\linear_model\\_sag.py:352: ConvergenceWarning: The max_iter was reached which means the coef_ did not converge\n",
      "  warnings.warn(\n",
      "c:\\users\\georg\\documents\\msc-project\\venv\\lib\\site-packages\\sklearn\\linear_model\\_sag.py:352: ConvergenceWarning: The max_iter was reached which means the coef_ did not converge\n",
      "  warnings.warn(\n",
      "c:\\users\\georg\\documents\\msc-project\\venv\\lib\\site-packages\\sklearn\\linear_model\\_sag.py:352: ConvergenceWarning: The max_iter was reached which means the coef_ did not converge\n",
      "  warnings.warn(\n",
      "c:\\users\\georg\\documents\\msc-project\\venv\\lib\\site-packages\\sklearn\\linear_model\\_sag.py:352: ConvergenceWarning: The max_iter was reached which means the coef_ did not converge\n",
      "  warnings.warn(\n",
      "c:\\users\\georg\\documents\\msc-project\\venv\\lib\\site-packages\\sklearn\\linear_model\\_sag.py:352: ConvergenceWarning: The max_iter was reached which means the coef_ did not converge\n",
      "  warnings.warn(\n",
      "c:\\users\\georg\\documents\\msc-project\\venv\\lib\\site-packages\\sklearn\\linear_model\\_sag.py:352: ConvergenceWarning: The max_iter was reached which means the coef_ did not converge\n",
      "  warnings.warn(\n",
      "c:\\users\\georg\\documents\\msc-project\\venv\\lib\\site-packages\\sklearn\\linear_model\\_sag.py:352: ConvergenceWarning: The max_iter was reached which means the coef_ did not converge\n",
      "  warnings.warn(\n",
      "c:\\users\\georg\\documents\\msc-project\\venv\\lib\\site-packages\\sklearn\\linear_model\\_sag.py:352: ConvergenceWarning: The max_iter was reached which means the coef_ did not converge\n",
      "  warnings.warn(\n",
      "c:\\users\\georg\\documents\\msc-project\\venv\\lib\\site-packages\\sklearn\\linear_model\\_sag.py:352: ConvergenceWarning: The max_iter was reached which means the coef_ did not converge\n",
      "  warnings.warn(\n",
      "c:\\users\\georg\\documents\\msc-project\\venv\\lib\\site-packages\\sklearn\\linear_model\\_sag.py:352: ConvergenceWarning: The max_iter was reached which means the coef_ did not converge\n",
      "  warnings.warn(\n",
      "c:\\users\\georg\\documents\\msc-project\\venv\\lib\\site-packages\\sklearn\\linear_model\\_sag.py:352: ConvergenceWarning: The max_iter was reached which means the coef_ did not converge\n",
      "  warnings.warn(\n",
      "c:\\users\\georg\\documents\\msc-project\\venv\\lib\\site-packages\\sklearn\\linear_model\\_sag.py:352: ConvergenceWarning: The max_iter was reached which means the coef_ did not converge\n",
      "  warnings.warn(\n",
      "c:\\users\\georg\\documents\\msc-project\\venv\\lib\\site-packages\\sklearn\\linear_model\\_sag.py:352: ConvergenceWarning: The max_iter was reached which means the coef_ did not converge\n",
      "  warnings.warn(\n",
      "c:\\users\\georg\\documents\\msc-project\\venv\\lib\\site-packages\\sklearn\\linear_model\\_sag.py:352: ConvergenceWarning: The max_iter was reached which means the coef_ did not converge\n",
      "  warnings.warn(\n",
      "c:\\users\\georg\\documents\\msc-project\\venv\\lib\\site-packages\\sklearn\\linear_model\\_sag.py:352: ConvergenceWarning: The max_iter was reached which means the coef_ did not converge\n",
      "  warnings.warn(\n",
      "c:\\users\\georg\\documents\\msc-project\\venv\\lib\\site-packages\\sklearn\\linear_model\\_sag.py:352: ConvergenceWarning: The max_iter was reached which means the coef_ did not converge\n",
      "  warnings.warn(\n",
      "c:\\users\\georg\\documents\\msc-project\\venv\\lib\\site-packages\\sklearn\\linear_model\\_sag.py:352: ConvergenceWarning: The max_iter was reached which means the coef_ did not converge\n",
      "  warnings.warn(\n",
      "c:\\users\\georg\\documents\\msc-project\\venv\\lib\\site-packages\\sklearn\\linear_model\\_sag.py:352: ConvergenceWarning: The max_iter was reached which means the coef_ did not converge\n",
      "  warnings.warn(\n",
      "c:\\users\\georg\\documents\\msc-project\\venv\\lib\\site-packages\\sklearn\\linear_model\\_sag.py:352: ConvergenceWarning: The max_iter was reached which means the coef_ did not converge\n",
      "  warnings.warn(\n",
      "c:\\users\\georg\\documents\\msc-project\\venv\\lib\\site-packages\\sklearn\\linear_model\\_sag.py:352: ConvergenceWarning: The max_iter was reached which means the coef_ did not converge\n",
      "  warnings.warn(\n",
      "c:\\users\\georg\\documents\\msc-project\\venv\\lib\\site-packages\\sklearn\\linear_model\\_sag.py:352: ConvergenceWarning: The max_iter was reached which means the coef_ did not converge\n",
      "  warnings.warn(\n"
     ]
    },
    {
     "name": "stderr",
     "output_type": "stream",
     "text": [
      "c:\\users\\georg\\documents\\msc-project\\venv\\lib\\site-packages\\sklearn\\linear_model\\_sag.py:352: ConvergenceWarning: The max_iter was reached which means the coef_ did not converge\n",
      "  warnings.warn(\n",
      "c:\\users\\georg\\documents\\msc-project\\venv\\lib\\site-packages\\sklearn\\linear_model\\_sag.py:352: ConvergenceWarning: The max_iter was reached which means the coef_ did not converge\n",
      "  warnings.warn(\n",
      "c:\\users\\georg\\documents\\msc-project\\venv\\lib\\site-packages\\sklearn\\linear_model\\_sag.py:352: ConvergenceWarning: The max_iter was reached which means the coef_ did not converge\n",
      "  warnings.warn(\n",
      "c:\\users\\georg\\documents\\msc-project\\venv\\lib\\site-packages\\sklearn\\linear_model\\_sag.py:352: ConvergenceWarning: The max_iter was reached which means the coef_ did not converge\n",
      "  warnings.warn(\n",
      "c:\\users\\georg\\documents\\msc-project\\venv\\lib\\site-packages\\sklearn\\linear_model\\_sag.py:352: ConvergenceWarning: The max_iter was reached which means the coef_ did not converge\n",
      "  warnings.warn(\n",
      "c:\\users\\georg\\documents\\msc-project\\venv\\lib\\site-packages\\sklearn\\linear_model\\_sag.py:352: ConvergenceWarning: The max_iter was reached which means the coef_ did not converge\n",
      "  warnings.warn(\n",
      "c:\\users\\georg\\documents\\msc-project\\venv\\lib\\site-packages\\sklearn\\linear_model\\_sag.py:352: ConvergenceWarning: The max_iter was reached which means the coef_ did not converge\n",
      "  warnings.warn(\n",
      "c:\\users\\georg\\documents\\msc-project\\venv\\lib\\site-packages\\sklearn\\linear_model\\_sag.py:352: ConvergenceWarning: The max_iter was reached which means the coef_ did not converge\n",
      "  warnings.warn(\n",
      "c:\\users\\georg\\documents\\msc-project\\venv\\lib\\site-packages\\sklearn\\linear_model\\_sag.py:352: ConvergenceWarning: The max_iter was reached which means the coef_ did not converge\n",
      "  warnings.warn(\n",
      "c:\\users\\georg\\documents\\msc-project\\venv\\lib\\site-packages\\sklearn\\linear_model\\_sag.py:352: ConvergenceWarning: The max_iter was reached which means the coef_ did not converge\n",
      "  warnings.warn(\n",
      "c:\\users\\georg\\documents\\msc-project\\venv\\lib\\site-packages\\sklearn\\linear_model\\_sag.py:352: ConvergenceWarning: The max_iter was reached which means the coef_ did not converge\n",
      "  warnings.warn(\n",
      "c:\\users\\georg\\documents\\msc-project\\venv\\lib\\site-packages\\sklearn\\linear_model\\_sag.py:352: ConvergenceWarning: The max_iter was reached which means the coef_ did not converge\n",
      "  warnings.warn(\n"
     ]
    },
    {
     "data": {
      "text/plain": [
       "AdaBoostClassifier(base_estimator=LogisticRegression(class_weight='balanced',\n",
       "                                                     random_state=1,\n",
       "                                                     solver='saga'),\n",
       "                   n_estimators=100, random_state=1)"
      ]
     },
     "execution_count": 45,
     "metadata": {},
     "output_type": "execute_result"
    }
   ],
   "source": [
    "base = linear_model.LogisticRegression(C=1.0,class_weight='balanced',penalty='l2',random_state=1,solver='saga')\n",
    "boosted = ensemble.AdaBoostClassifier(\n",
    "    base_estimator = base,\n",
    "    random_state=1,\n",
    "    n_estimators=100\n",
    ")\n",
    "boosted.fit(train_X,train_y)"
   ]
  },
  {
   "cell_type": "code",
   "execution_count": 46,
   "id": "de0b1c8b",
   "metadata": {
    "scrolled": true
   },
   "outputs": [
    {
     "name": "stderr",
     "output_type": "stream",
     "text": [
      "c:\\users\\georg\\documents\\msc-project\\venv\\lib\\site-packages\\sklearn\\base.py:441: UserWarning: X does not have valid feature names, but AdaBoostClassifier was fitted with feature names\n",
      "  warnings.warn(\n"
     ]
    },
    {
     "data": {
      "text/plain": [
       "0.6790752351097179"
      ]
     },
     "execution_count": 46,
     "metadata": {},
     "output_type": "execute_result"
    }
   ],
   "source": [
    "boosted.score(test_X,test_y)"
   ]
  },
  {
   "cell_type": "code",
   "execution_count": 47,
   "id": "7709e9e5",
   "metadata": {},
   "outputs": [
    {
     "name": "stderr",
     "output_type": "stream",
     "text": [
      "c:\\users\\georg\\documents\\msc-project\\venv\\lib\\site-packages\\sklearn\\base.py:441: UserWarning: X does not have valid feature names, but AdaBoostClassifier was fitted with feature names\n",
      "  warnings.warn(\n"
     ]
    },
    {
     "data": {
      "text/plain": [
       "[<matplotlib.lines.Line2D at 0x27045b59250>]"
      ]
     },
     "execution_count": 47,
     "metadata": {},
     "output_type": "execute_result"
    },
    {
     "data": {
      "image/png": "[encoded data removed]",
      "text/plain": [
       "<Figure size 432x288 with 1 Axes>"
      ]
     },
     "metadata": {
      "needs_background": "light"
     },
     "output_type": "display_data"
    }
   ],
   "source": [
    "probabilities = boosted.predict_proba(test_X)\n",
    "fpr, tpr, thresholds = roc_curve(test_y - 1, probabilities[:,1])\n",
    "plt.plot(fpr, tpr)"
   ]
  },
  {
   "cell_type": "code",
   "execution_count": null,
   "id": "9133ca59",
   "metadata": {},
   "outputs": [],
   "source": []
  }
 ],
 "metadata": {
  "kernelspec": {
   "display_name": "Python 3 (ipykernel)",
   "language": "python",
   "name": "python3"
  },
  "language_info": {
   "codemirror_mode": {
    "name": "ipython",
    "version": 3
   },
   "file_extension": ".py",
   "mimetype": "text/x-python",
   "name": "python",
   "nbconvert_exporter": "python",
   "pygments_lexer": "ipython3",
   "version": "3.9.5"
  }
 },
 "nbformat": 4,
 "nbformat_minor": 5
}
