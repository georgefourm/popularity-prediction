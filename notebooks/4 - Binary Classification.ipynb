{
 "cells": [
  {
   "cell_type": "markdown",
   "id": "db16ebc0",
   "metadata": {},
   "source": [
    "# Binary Classification\n",
    "This notebook will approach the popularity prediction task as a binary classification problem. The videos will either be classified as viral or non-viral"
   ]
  },
  {
   "cell_type": "code",
   "execution_count": 1,
   "id": "53dbce72",
   "metadata": {},
   "outputs": [
    {
     "name": "stdout",
     "output_type": "stream",
     "text": [
      "C:\\Users\\georg\\Documents\\msc-project\n"
     ]
    }
   ],
   "source": [
    "%cd .."
   ]
  },
  {
   "cell_type": "code",
   "execution_count": 2,
   "id": "de612a81",
   "metadata": {},
   "outputs": [],
   "source": [
    "import pandas as pd\n",
    "import numpy as np\n",
    "from matplotlib import pyplot as plt\n",
    "\n",
    "from sklearn import neighbors, svm, linear_model,dummy,ensemble\n",
    "from sklearn.metrics import make_scorer, precision_score, recall_score,f1_score, ConfusionMatrixDisplay\n",
    "from sklearn.model_selection import train_test_split\n",
    "\n",
    "from src.evaluation import compare_models\n",
    "from imblearn.over_sampling import ADASYN\n",
    "from imblearn.pipeline import make_pipeline"
   ]
  },
  {
   "cell_type": "code",
   "execution_count": 3,
   "id": "a3aeac65",
   "metadata": {
    "scrolled": true
   },
   "outputs": [],
   "source": [
    "df = pd.read_csv(\"data/interim/tracks_clean.csv\")"
   ]
  },
  {
   "cell_type": "markdown",
   "id": "6d0d1004",
   "metadata": {},
   "source": [
    "The threshold chosen for the viral videos will be 1e+06, as most videos seem to be below this threshold."
   ]
  },
  {
   "cell_type": "code",
   "execution_count": 4,
   "id": "0ebac7a4",
   "metadata": {
    "scrolled": true
   },
   "outputs": [
    {
     "data": {
      "text/plain": [
       "<AxesSubplot:ylabel='View count'>"
      ]
     },
     "execution_count": 4,
     "metadata": {},
     "output_type": "execute_result"
    },
    {
     "data": {
      "image/png": "[encoded data removed]",
      "text/plain": [
       "<Figure size 432x288 with 1 Axes>"
      ]
     },
     "metadata": {
      "needs_background": "light"
     },
     "output_type": "display_data"
    }
   ],
   "source": [
    "viral_threshold = 1e+06\n",
    "features = [\n",
    "    'danceability',\n",
    "    'energy',\n",
    "    'key',\n",
    "    'loudness',\n",
    "    'mode',\n",
    "    'speechiness',\n",
    "    'acousticness',\n",
    "    'instrumentalness',\n",
    "    'liveness',\n",
    "    'valence',\n",
    "    'tempo',\n",
    "    'time_signature',\n",
    "    'duration_ms',\n",
    "    'popularity'\n",
    "]\n",
    "\n",
    "def get_data_for_threshold(threshold):\n",
    "    views = df['views']\n",
    "    data = df.loc[:,features]\n",
    "    targets = views.apply(np.digitize,bins=[0,threshold,views.max() +1])\n",
    "\n",
    "    return data, targets\n",
    "\n",
    "data, targets = get_data_for_threshold(viral_threshold)\n",
    "plt.xticks([1,2],[\"Non-Viral\",\"Viral\"])\n",
    "plt.ylabel(\"View count\")\n",
    "targets.hist(bins=2, grid=False)"
   ]
  },
  {
   "cell_type": "markdown",
   "id": "64617555",
   "metadata": {},
   "source": [
    "## Model Comparison\n",
    "Similar to the multiclass classification task, multiple models are evaluated and compared"
   ]
  },
  {
   "cell_type": "code",
   "execution_count": 5,
   "id": "c0980b24",
   "metadata": {
    "scrolled": true
   },
   "outputs": [
    {
     "name": "stdout",
     "output_type": "stream",
     "text": [
      "Evaluating Baseline\n",
      "Evaluating 5-KNN\n",
      "Evaluating 10-KNN\n",
      "Evaluating SVM Linear\n",
      "Evaluating SVM RBF\n",
      "Evaluating Random Forest\n",
      "Evaluating Logistic Regression\n"
     ]
    },
    {
     "data": {
      "text/html": [
       "<div>\n",
       "<style scoped>\n",
       "    .dataframe tbody tr th:only-of-type {\n",
       "        vertical-align: middle;\n",
       "    }\n",
       "\n",
       "    .dataframe tbody tr th {\n",
       "        vertical-align: top;\n",
       "    }\n",
       "\n",
       "    .dataframe thead th {\n",
       "        text-align: right;\n",
       "    }\n",
       "</style>\n",
       "<table border=\"1\" class=\"dataframe\">\n",
       "  <thead>\n",
       "    <tr style=\"text-align: right;\">\n",
       "      <th></th>\n",
       "      <th>model</th>\n",
       "      <th>fit_time</th>\n",
       "      <th>score_time</th>\n",
       "      <th>test_precision</th>\n",
       "      <th>test_recall</th>\n",
       "      <th>test_f1</th>\n",
       "    </tr>\n",
       "  </thead>\n",
       "  <tbody>\n",
       "    <tr>\n",
       "      <th>0</th>\n",
       "      <td>Baseline</td>\n",
       "      <td>0.534687</td>\n",
       "      <td>0.004564</td>\n",
       "      <td>0.496143</td>\n",
       "      <td>0.495562</td>\n",
       "      <td>0.481043</td>\n",
       "    </tr>\n",
       "    <tr>\n",
       "      <th>1</th>\n",
       "      <td>5-KNN</td>\n",
       "      <td>0.586652</td>\n",
       "      <td>0.454953</td>\n",
       "      <td>0.531840</td>\n",
       "      <td>0.536605</td>\n",
       "      <td>0.516033</td>\n",
       "    </tr>\n",
       "    <tr>\n",
       "      <th>2</th>\n",
       "      <td>10-KNN</td>\n",
       "      <td>0.572868</td>\n",
       "      <td>0.491548</td>\n",
       "      <td>0.540013</td>\n",
       "      <td>0.545094</td>\n",
       "      <td>0.534656</td>\n",
       "    </tr>\n",
       "    <tr>\n",
       "      <th>3</th>\n",
       "      <td>SVM Linear</td>\n",
       "      <td>5.845238</td>\n",
       "      <td>0.340875</td>\n",
       "      <td>0.587034</td>\n",
       "      <td>0.596557</td>\n",
       "      <td>0.550089</td>\n",
       "    </tr>\n",
       "    <tr>\n",
       "      <th>4</th>\n",
       "      <td>SVM RBF</td>\n",
       "      <td>5.036466</td>\n",
       "      <td>1.585821</td>\n",
       "      <td>0.578239</td>\n",
       "      <td>0.589514</td>\n",
       "      <td>0.568031</td>\n",
       "    </tr>\n",
       "    <tr>\n",
       "      <th>5</th>\n",
       "      <td>Random Forest</td>\n",
       "      <td>2.696661</td>\n",
       "      <td>0.049591</td>\n",
       "      <td>0.557292</td>\n",
       "      <td>0.553977</td>\n",
       "      <td>0.554315</td>\n",
       "    </tr>\n",
       "    <tr>\n",
       "      <th>6</th>\n",
       "      <td>Logistic Regression</td>\n",
       "      <td>0.543200</td>\n",
       "      <td>0.004377</td>\n",
       "      <td>0.591917</td>\n",
       "      <td>0.604213</td>\n",
       "      <td>0.575245</td>\n",
       "    </tr>\n",
       "  </tbody>\n",
       "</table>\n",
       "</div>"
      ],
      "text/plain": [
       "                 model  fit_time  score_time  test_precision  test_recall  \\\n",
       "0             Baseline  0.534687    0.004564        0.496143     0.495562   \n",
       "1                5-KNN  0.586652    0.454953        0.531840     0.536605   \n",
       "2               10-KNN  0.572868    0.491548        0.540013     0.545094   \n",
       "3           SVM Linear  5.845238    0.340875        0.587034     0.596557   \n",
       "4              SVM RBF  5.036466    1.585821        0.578239     0.589514   \n",
       "5        Random Forest  2.696661    0.049591        0.557292     0.553977   \n",
       "6  Logistic Regression  0.543200    0.004377        0.591917     0.604213   \n",
       "\n",
       "    test_f1  \n",
       "0  0.481043  \n",
       "1  0.516033  \n",
       "2  0.534656  \n",
       "3  0.550089  \n",
       "4  0.568031  \n",
       "5  0.554315  \n",
       "6  0.575245  "
      ]
     },
     "execution_count": 5,
     "metadata": {},
     "output_type": "execute_result"
    }
   ],
   "source": [
    "models = [\n",
    "    (\"Baseline\",dummy.DummyClassifier(strategy='stratified')),\n",
    "    (\"5-KNN\",neighbors.KNeighborsClassifier(n_neighbors=5)),\n",
    "    (\"10-KNN\",neighbors.KNeighborsClassifier(n_neighbors=10)),\n",
    "    (\"SVM Linear\", svm.SVC(kernel='linear')),\n",
    "    (\"SVM RBF\", svm.SVC(kernel='rbf')),\n",
    "    (\"Random Forest\",ensemble.RandomForestClassifier()),\n",
    "    (\"Logistic Regression\",linear_model.LogisticRegression())\n",
    "]\n",
    "\n",
    "oversampled_models = []\n",
    "for name, model in models:\n",
    "    combined = make_pipeline(\n",
    "        ADASYN(),\n",
    "        model\n",
    "    )\n",
    "    oversampled_models.append((name,combined))\n",
    "    \n",
    "metrics = {\n",
    "    'precision': make_scorer(precision_score,average='macro',zero_division=0),\n",
    "    'recall': make_scorer(recall_score,average='macro'),\n",
    "    'f1': make_scorer(f1_score,average='macro')\n",
    "}\n",
    "compare_models(oversampled_models, metrics, data, targets)"
   ]
  },
  {
   "cell_type": "markdown",
   "id": "dc9c7fd6",
   "metadata": {},
   "source": [
    "Logistic regression appears to outperform the rest of the models, although not by a significant margin"
   ]
  },
  {
   "cell_type": "code",
   "execution_count": 10,
   "id": "2c367a2b",
   "metadata": {},
   "outputs": [
    {
     "data": {
      "text/plain": [
       "<sklearn.metrics._plot.confusion_matrix.ConfusionMatrixDisplay at 0x2425dccf610>"
      ]
     },
     "execution_count": 10,
     "metadata": {},
     "output_type": "execute_result"
    },
    {
     "data": {
      "image/png": "[encoded data removed]",
      "text/plain": [
       "<Figure size 432x288 with 2 Axes>"
      ]
     },
     "metadata": {
      "needs_background": "light"
     },
     "output_type": "display_data"
    }
   ],
   "source": [
    "X_train, X_test, y_train,y_test = train_test_split(data, targets)\n",
    "X_train, y_train = ADASYN().fit_resample(X_train,y_train)\n",
    "model = linear_model.SVC(kernel='linear')\n",
    "model.fit(X_train,y_train)\n",
    "predicted = model.predict(X_test)\n",
    "ConfusionMatrixDisplay.from_predictions(y_test,predicted)"
   ]
  },
  {
   "cell_type": "code",
   "execution_count": null,
   "id": "d2026433",
   "metadata": {},
   "outputs": [],
   "source": []
  }
 ],
 "metadata": {
  "kernelspec": {
   "display_name": "Python 3 (ipykernel)",
   "language": "python",
   "name": "python3"
  },
  "language_info": {
   "codemirror_mode": {
    "name": "ipython",
    "version": 3
   },
   "file_extension": ".py",
   "mimetype": "text/x-python",
   "name": "python",
   "nbconvert_exporter": "python",
   "pygments_lexer": "ipython3",
   "version": "3.9.5"
  }
 },
 "nbformat": 4,
 "nbformat_minor": 5
}
