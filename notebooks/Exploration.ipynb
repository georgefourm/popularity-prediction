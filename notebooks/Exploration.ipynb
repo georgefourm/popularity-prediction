{
 "cells": [
  {
   "cell_type": "code",
   "execution_count": 3,
   "id": "25cc8334",
   "metadata": {},
   "outputs": [],
   "source": [
    "import pandas as pd"
   ]
  },
  {
   "cell_type": "code",
   "execution_count": null,
   "id": "9f848311",
   "metadata": {},
   "outputs": [],
   "source": [
    "docs_df = pd.read_pickle(\"../data/raw/webtrans/documents.pkl\")\n",
    "events_df = pd.read_pickle(\"../data/raw/webtran\")"
   ]
  }
 ],
 "metadata": {
  "kernelspec": {
   "display_name": "Python 3 (ipykernel)",
   "language": "python",
   "name": "python3"
  },
  "language_info": {
   "codemirror_mode": {
    "name": "ipython",
    "version": 3
   },
   "file_extension": ".py",
   "mimetype": "text/x-python",
   "name": "python",
   "nbconvert_exporter": "python",
   "pygments_lexer": "ipython3",
   "version": "3.9.5"
  }
 },
 "nbformat": 4,
 "nbformat_minor": 5
}
