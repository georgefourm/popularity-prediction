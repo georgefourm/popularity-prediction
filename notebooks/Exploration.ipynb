{
 "cells": [
  {
   "cell_type": "code",
   "execution_count": 1,
   "id": "29204aff",
   "metadata": {},
   "outputs": [
    {
     "name": "stdout",
     "output_type": "stream",
     "text": [
      "C:\\Users\\georg\\Documents\\msc-project\n"
     ]
    }
   ],
   "source": [
    "%cd .."
   ]
  },
  {
   "cell_type": "code",
   "execution_count": 15,
   "id": "9d94bb78",
   "metadata": {},
   "outputs": [],
   "source": [
    "import pandas as pd\n",
    "import numpy as np\n",
    "\n",
    "import matplotlib.pyplot as plt\n",
    "from sklearn.preprocessing import StandardScaler"
   ]
  },
  {
   "cell_type": "code",
   "execution_count": 5,
   "id": "98b241c9",
   "metadata": {},
   "outputs": [],
   "source": [
    "df = pd.read_csv(\"data/interim/tracks.csv\")"
   ]
  },
  {
   "cell_type": "code",
   "execution_count": 6,
   "id": "5374eef9",
   "metadata": {},
   "outputs": [
    {
     "data": {
      "text/html": [
       "<div>\n",
       "<style scoped>\n",
       "    .dataframe tbody tr th:only-of-type {\n",
       "        vertical-align: middle;\n",
       "    }\n",
       "\n",
       "    .dataframe tbody tr th {\n",
       "        vertical-align: top;\n",
       "    }\n",
       "\n",
       "    .dataframe thead th {\n",
       "        text-align: right;\n",
       "    }\n",
       "</style>\n",
       "<table border=\"1\" class=\"dataframe\">\n",
       "  <thead>\n",
       "    <tr style=\"text-align: right;\">\n",
       "      <th></th>\n",
       "      <th>views</th>\n",
       "      <th>videos</th>\n",
       "      <th>tt_id</th>\n",
       "      <th>danceability</th>\n",
       "      <th>energy</th>\n",
       "      <th>key</th>\n",
       "      <th>loudness</th>\n",
       "      <th>mode</th>\n",
       "      <th>speechiness</th>\n",
       "      <th>acousticness</th>\n",
       "      <th>instrumentalness</th>\n",
       "      <th>liveness</th>\n",
       "      <th>valence</th>\n",
       "      <th>tempo</th>\n",
       "      <th>duration_ms</th>\n",
       "      <th>time_signature</th>\n",
       "    </tr>\n",
       "  </thead>\n",
       "  <tbody>\n",
       "    <tr>\n",
       "      <th>count</th>\n",
       "      <td>3.354000e+03</td>\n",
       "      <td>3354.000000</td>\n",
       "      <td>3.354000e+03</td>\n",
       "      <td>3354.000000</td>\n",
       "      <td>3354.000000</td>\n",
       "      <td>3354.000000</td>\n",
       "      <td>3354.000000</td>\n",
       "      <td>3354.000000</td>\n",
       "      <td>3354.000000</td>\n",
       "      <td>3354.000000</td>\n",
       "      <td>3354.000000</td>\n",
       "      <td>3354.000000</td>\n",
       "      <td>3354.000000</td>\n",
       "      <td>3354.000000</td>\n",
       "      <td>3.354000e+03</td>\n",
       "      <td>3354.000000</td>\n",
       "    </tr>\n",
       "    <tr>\n",
       "      <th>mean</th>\n",
       "      <td>7.129140e+06</td>\n",
       "      <td>6.316339</td>\n",
       "      <td>6.378242e+18</td>\n",
       "      <td>0.647710</td>\n",
       "      <td>0.614631</td>\n",
       "      <td>5.242993</td>\n",
       "      <td>-8.167195</td>\n",
       "      <td>0.554264</td>\n",
       "      <td>0.111272</td>\n",
       "      <td>0.298066</td>\n",
       "      <td>0.133000</td>\n",
       "      <td>0.177991</td>\n",
       "      <td>0.514274</td>\n",
       "      <td>121.932583</td>\n",
       "      <td>1.989653e+05</td>\n",
       "      <td>3.934109</td>\n",
       "    </tr>\n",
       "    <tr>\n",
       "      <th>std</th>\n",
       "      <td>1.796760e+07</td>\n",
       "      <td>28.200812</td>\n",
       "      <td>1.595981e+18</td>\n",
       "      <td>0.177919</td>\n",
       "      <td>0.227560</td>\n",
       "      <td>3.621726</td>\n",
       "      <td>5.002758</td>\n",
       "      <td>0.497121</td>\n",
       "      <td>0.113839</td>\n",
       "      <td>0.307798</td>\n",
       "      <td>0.293954</td>\n",
       "      <td>0.145062</td>\n",
       "      <td>0.258563</td>\n",
       "      <td>29.254753</td>\n",
       "      <td>7.497830e+04</td>\n",
       "      <td>0.394730</td>\n",
       "    </tr>\n",
       "    <tr>\n",
       "      <th>min</th>\n",
       "      <td>0.000000e+00</td>\n",
       "      <td>1.000000</td>\n",
       "      <td>6.557410e+05</td>\n",
       "      <td>0.000000</td>\n",
       "      <td>0.000000</td>\n",
       "      <td>0.000000</td>\n",
       "      <td>-60.000000</td>\n",
       "      <td>0.000000</td>\n",
       "      <td>0.000000</td>\n",
       "      <td>0.000000</td>\n",
       "      <td>0.000000</td>\n",
       "      <td>0.000000</td>\n",
       "      <td>0.000000</td>\n",
       "      <td>0.000000</td>\n",
       "      <td>8.500000e+03</td>\n",
       "      <td>0.000000</td>\n",
       "    </tr>\n",
       "    <tr>\n",
       "      <th>25%</th>\n",
       "      <td>6.420000e+04</td>\n",
       "      <td>1.000000</td>\n",
       "      <td>6.729660e+18</td>\n",
       "      <td>0.545000</td>\n",
       "      <td>0.469250</td>\n",
       "      <td>2.000000</td>\n",
       "      <td>-9.635500</td>\n",
       "      <td>0.000000</td>\n",
       "      <td>0.039625</td>\n",
       "      <td>0.040100</td>\n",
       "      <td>0.000000</td>\n",
       "      <td>0.092600</td>\n",
       "      <td>0.309000</td>\n",
       "      <td>99.899500</td>\n",
       "      <td>1.584360e+05</td>\n",
       "      <td>4.000000</td>\n",
       "    </tr>\n",
       "    <tr>\n",
       "      <th>50%</th>\n",
       "      <td>2.211500e+05</td>\n",
       "      <td>2.000000</td>\n",
       "      <td>6.810646e+18</td>\n",
       "      <td>0.679000</td>\n",
       "      <td>0.652000</td>\n",
       "      <td>5.000000</td>\n",
       "      <td>-6.898500</td>\n",
       "      <td>1.000000</td>\n",
       "      <td>0.060950</td>\n",
       "      <td>0.177000</td>\n",
       "      <td>0.000012</td>\n",
       "      <td>0.121000</td>\n",
       "      <td>0.517000</td>\n",
       "      <td>122.011000</td>\n",
       "      <td>1.959755e+05</td>\n",
       "      <td>4.000000</td>\n",
       "    </tr>\n",
       "    <tr>\n",
       "      <th>75%</th>\n",
       "      <td>4.800000e+06</td>\n",
       "      <td>5.000000</td>\n",
       "      <td>6.931050e+18</td>\n",
       "      <td>0.775750</td>\n",
       "      <td>0.793000</td>\n",
       "      <td>8.000000</td>\n",
       "      <td>-5.129250</td>\n",
       "      <td>1.000000</td>\n",
       "      <td>0.134000</td>\n",
       "      <td>0.499750</td>\n",
       "      <td>0.010275</td>\n",
       "      <td>0.214000</td>\n",
       "      <td>0.731000</td>\n",
       "      <td>140.003500</td>\n",
       "      <td>2.329130e+05</td>\n",
       "      <td>4.000000</td>\n",
       "    </tr>\n",
       "    <tr>\n",
       "      <th>max</th>\n",
       "      <td>3.040000e+08</td>\n",
       "      <td>811.000000</td>\n",
       "      <td>7.016016e+18</td>\n",
       "      <td>0.980000</td>\n",
       "      <td>1.000000</td>\n",
       "      <td>11.000000</td>\n",
       "      <td>1.906000</td>\n",
       "      <td>1.000000</td>\n",
       "      <td>0.935000</td>\n",
       "      <td>0.996000</td>\n",
       "      <td>1.000000</td>\n",
       "      <td>0.979000</td>\n",
       "      <td>1.000000</td>\n",
       "      <td>220.099000</td>\n",
       "      <td>1.231568e+06</td>\n",
       "      <td>5.000000</td>\n",
       "    </tr>\n",
       "  </tbody>\n",
       "</table>\n",
       "</div>"
      ],
      "text/plain": [
       "              views       videos         tt_id  danceability       energy  \\\n",
       "count  3.354000e+03  3354.000000  3.354000e+03   3354.000000  3354.000000   \n",
       "mean   7.129140e+06     6.316339  6.378242e+18      0.647710     0.614631   \n",
       "std    1.796760e+07    28.200812  1.595981e+18      0.177919     0.227560   \n",
       "min    0.000000e+00     1.000000  6.557410e+05      0.000000     0.000000   \n",
       "25%    6.420000e+04     1.000000  6.729660e+18      0.545000     0.469250   \n",
       "50%    2.211500e+05     2.000000  6.810646e+18      0.679000     0.652000   \n",
       "75%    4.800000e+06     5.000000  6.931050e+18      0.775750     0.793000   \n",
       "max    3.040000e+08   811.000000  7.016016e+18      0.980000     1.000000   \n",
       "\n",
       "               key     loudness         mode  speechiness  acousticness  \\\n",
       "count  3354.000000  3354.000000  3354.000000  3354.000000   3354.000000   \n",
       "mean      5.242993    -8.167195     0.554264     0.111272      0.298066   \n",
       "std       3.621726     5.002758     0.497121     0.113839      0.307798   \n",
       "min       0.000000   -60.000000     0.000000     0.000000      0.000000   \n",
       "25%       2.000000    -9.635500     0.000000     0.039625      0.040100   \n",
       "50%       5.000000    -6.898500     1.000000     0.060950      0.177000   \n",
       "75%       8.000000    -5.129250     1.000000     0.134000      0.499750   \n",
       "max      11.000000     1.906000     1.000000     0.935000      0.996000   \n",
       "\n",
       "       instrumentalness     liveness      valence        tempo   duration_ms  \\\n",
       "count       3354.000000  3354.000000  3354.000000  3354.000000  3.354000e+03   \n",
       "mean           0.133000     0.177991     0.514274   121.932583  1.989653e+05   \n",
       "std            0.293954     0.145062     0.258563    29.254753  7.497830e+04   \n",
       "min            0.000000     0.000000     0.000000     0.000000  8.500000e+03   \n",
       "25%            0.000000     0.092600     0.309000    99.899500  1.584360e+05   \n",
       "50%            0.000012     0.121000     0.517000   122.011000  1.959755e+05   \n",
       "75%            0.010275     0.214000     0.731000   140.003500  2.329130e+05   \n",
       "max            1.000000     0.979000     1.000000   220.099000  1.231568e+06   \n",
       "\n",
       "       time_signature  \n",
       "count     3354.000000  \n",
       "mean         3.934109  \n",
       "std          0.394730  \n",
       "min          0.000000  \n",
       "25%          4.000000  \n",
       "50%          4.000000  \n",
       "75%          4.000000  \n",
       "max          5.000000  "
      ]
     },
     "execution_count": 6,
     "metadata": {},
     "output_type": "execute_result"
    }
   ],
   "source": [
    "df.describe()"
   ]
  },
  {
   "cell_type": "code",
   "execution_count": 9,
   "id": "ce6fc2c2",
   "metadata": {},
   "outputs": [
    {
     "data": {
      "text/plain": [
       "(array([ 59., 107., 136., 930., 673., 325., 325., 424., 337.,  37.]),\n",
       " array([2.72672721, 3.30234185, 3.87795648, 4.45357112, 5.02918576,\n",
       "        5.6048004 , 6.18041503, 6.75602967, 7.33164431, 7.90725895,\n",
       "        8.48287358]),\n",
       " <BarContainer object of 10 artists>)"
      ]
     },
     "execution_count": 9,
     "metadata": {},
     "output_type": "execute_result"
    },
    {
     "data": {
      "image/png": "[encoded data removed]",
      "text/plain": [
       "<Figure size 432x288 with 1 Axes>"
      ]
     },
     "metadata": {
      "needs_background": "light"
     },
     "output_type": "display_data"
    }
   ],
   "source": [
    "views = df['views']\n",
    "\n",
    "plt.xlabel(\"View count (log10)\")\n",
    "plt.ylabel(\"Video count\")\n",
    "plt.hist(np.log10(views[views >0]),bins=10)"
   ]
  },
  {
   "cell_type": "code",
   "execution_count": 23,
   "id": "18118149",
   "metadata": {},
   "outputs": [],
   "source": [
    "data = df[['danceability','energy','key','loudness','mode','speechiness','acousticness','instrumentalness','liveness','tempo','duration_ms','time_signature','views']]\n",
    "data_std = StandardScaler().fit_transform(data)"
   ]
  },
  {
   "cell_type": "code",
   "execution_count": 25,
   "id": "394e1a1b",
   "metadata": {},
   "outputs": [],
   "source": [
    "df_std = pd.DataFrame(data_std,columns = data.columns)"
   ]
  },
  {
   "cell_type": "code",
   "execution_count": 63,
   "id": "54593162",
   "metadata": {},
   "outputs": [
    {
     "data": {
      "text/plain": [
       "<matplotlib.collections.PathCollection at 0x170c017dfd0>"
      ]
     },
     "execution_count": 63,
     "metadata": {},
     "output_type": "execute_result"
    },
    {
     "data": {
      "image/png": "[encoded data removed]",
      "text/plain": [
       "<Figure size 432x288 with 1 Axes>"
      ]
     },
     "metadata": {
      "needs_background": "light"
     },
     "output_type": "display_data"
    }
   ],
   "source": [
    "views = df['views']\n",
    "duration = df['duration_ms'] / (1000 * 60)\n",
    "\n",
    "plt.ylabel(\"Views\")\n",
    "plt.xlabel(\"Duration (minutes)\")\n",
    "mask = (views > 1e6)\n",
    "plt.scatter(duration[mask],views[mask])"
   ]
  },
  {
   "cell_type": "code",
   "execution_count": 64,
   "id": "99f17c5a",
   "metadata": {},
   "outputs": [
    {
     "data": {
      "text/plain": [
       "<matplotlib.collections.PathCollection at 0x170c0382f40>"
      ]
     },
     "execution_count": 64,
     "metadata": {},
     "output_type": "execute_result"
    },
    {
     "data": {
      "image/png": "[encoded data removed]",
      "text/plain": [
       "<Figure size 432x288 with 1 Axes>"
      ]
     },
     "metadata": {
      "needs_background": "light"
     },
     "output_type": "display_data"
    }
   ],
   "source": [
    "loudness = df['loudness']\n",
    "\n",
    "plt.ylabel(\"Views\")\n",
    "plt.xlabel(\"Loudness\")\n",
    "mask = (views > 1e6)\n",
    "plt.scatter(loudness[mask],views[mask])"
   ]
  },
  {
   "cell_type": "code",
   "execution_count": 66,
   "id": "7cc45226",
   "metadata": {},
   "outputs": [
    {
     "data": {
      "text/plain": [
       "<matplotlib.collections.PathCollection at 0x170c03b5520>"
      ]
     },
     "execution_count": 66,
     "metadata": {},
     "output_type": "execute_result"
    },
    {
     "data": {
      "image/png": "[encoded data removed]",
      "text/plain": [
       "<Figure size 432x288 with 1 Axes>"
      ]
     },
     "metadata": {
      "needs_background": "light"
     },
     "output_type": "display_data"
    }
   ],
   "source": [
    "danceability = df['speechiness']\n",
    "\n",
    "plt.ylabel(\"Views\")\n",
    "plt.xlabel(\"Danceability\")\n",
    "mask = (views > 1e6)\n",
    "plt.scatter(danceability[mask],views[mask])"
   ]
  },
  {
   "cell_type": "code",
   "execution_count": null,
   "id": "637940cd",
   "metadata": {},
   "outputs": [],
   "source": []
  }
 ],
 "metadata": {
  "kernelspec": {
   "display_name": "Python 3 (ipykernel)",
   "language": "python",
   "name": "python3"
  },
  "language_info": {
   "codemirror_mode": {
    "name": "ipython",
    "version": 3
   },
   "file_extension": ".py",
   "mimetype": "text/x-python",
   "name": "python",
   "nbconvert_exporter": "python",
   "pygments_lexer": "ipython3",
   "version": "3.9.5"
  }
 },
 "nbformat": 4,
 "nbformat_minor": 5
}
