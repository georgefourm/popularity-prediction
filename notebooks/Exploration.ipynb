{
 "cells": [
  {
   "cell_type": "markdown",
   "id": "26f214a7",
   "metadata": {},
   "source": [
    "# Dataset Exploration\n",
    "In this notebook, exploratory analysis is performed on the dataset in order to identify patterns, attributes, or other important information that could be of help in the subsequent modelling and predictions. The fully-featured dataset will be loaded and standardized before use"
   ]
  },
  {
   "cell_type": "code",
   "execution_count": 13,
   "id": "29204aff",
   "metadata": {},
   "outputs": [
    {
     "name": "stdout",
     "output_type": "stream",
     "text": [
      "C:\\Users\\georg\\Documents\\msc-project\n"
     ]
    }
   ],
   "source": [
    "# Change directory for cleaner paths\n",
    "%cd .."
   ]
  },
  {
   "cell_type": "code",
   "execution_count": 43,
   "id": "9d94bb78",
   "metadata": {},
   "outputs": [],
   "source": [
    "import pandas as pd\n",
    "import numpy as np\n",
    "\n",
    "import matplotlib.pyplot as plt\n",
    "from sklearn.preprocessing import StandardScaler\n",
    "from sklearn.decomposition import PCA"
   ]
  },
  {
   "cell_type": "code",
   "execution_count": 15,
   "id": "98b241c9",
   "metadata": {},
   "outputs": [],
   "source": [
    "df = pd.read_csv(\"data/interim/tracks.csv\")"
   ]
  },
  {
   "cell_type": "markdown",
   "id": "56aef0a5",
   "metadata": {},
   "source": [
    "### Data Overview\n",
    "We initially generate an overview of the dataset using Pandas' `describe()`"
   ]
  },
  {
   "cell_type": "code",
   "execution_count": 16,
   "id": "5374eef9",
   "metadata": {},
   "outputs": [
    {
     "data": {
      "text/html": [
       "<div>\n",
       "<style scoped>\n",
       "    .dataframe tbody tr th:only-of-type {\n",
       "        vertical-align: middle;\n",
       "    }\n",
       "\n",
       "    .dataframe tbody tr th {\n",
       "        vertical-align: top;\n",
       "    }\n",
       "\n",
       "    .dataframe thead th {\n",
       "        text-align: right;\n",
       "    }\n",
       "</style>\n",
       "<table border=\"1\" class=\"dataframe\">\n",
       "  <thead>\n",
       "    <tr style=\"text-align: right;\">\n",
       "      <th></th>\n",
       "      <th>views</th>\n",
       "      <th>videos</th>\n",
       "      <th>tt_id</th>\n",
       "      <th>danceability</th>\n",
       "      <th>energy</th>\n",
       "      <th>key</th>\n",
       "      <th>loudness</th>\n",
       "      <th>mode</th>\n",
       "      <th>speechiness</th>\n",
       "      <th>acousticness</th>\n",
       "      <th>instrumentalness</th>\n",
       "      <th>liveness</th>\n",
       "      <th>valence</th>\n",
       "      <th>tempo</th>\n",
       "      <th>duration_ms</th>\n",
       "      <th>time_signature</th>\n",
       "    </tr>\n",
       "  </thead>\n",
       "  <tbody>\n",
       "    <tr>\n",
       "      <th>count</th>\n",
       "      <td>4.127000e+03</td>\n",
       "      <td>4127.000000</td>\n",
       "      <td>4.127000e+03</td>\n",
       "      <td>4127.000000</td>\n",
       "      <td>4127.000000</td>\n",
       "      <td>4127.000000</td>\n",
       "      <td>4127.000000</td>\n",
       "      <td>4127.000000</td>\n",
       "      <td>4127.000000</td>\n",
       "      <td>4127.000000</td>\n",
       "      <td>4127.000000</td>\n",
       "      <td>4127.000000</td>\n",
       "      <td>4127.000000</td>\n",
       "      <td>4127.000000</td>\n",
       "      <td>4.127000e+03</td>\n",
       "      <td>4127.000000</td>\n",
       "    </tr>\n",
       "    <tr>\n",
       "      <th>mean</th>\n",
       "      <td>6.420877e+06</td>\n",
       "      <td>5.503513</td>\n",
       "      <td>6.372173e+18</td>\n",
       "      <td>0.646406</td>\n",
       "      <td>0.613840</td>\n",
       "      <td>5.261934</td>\n",
       "      <td>-8.167107</td>\n",
       "      <td>0.560213</td>\n",
       "      <td>0.108988</td>\n",
       "      <td>0.299641</td>\n",
       "      <td>0.133451</td>\n",
       "      <td>0.179293</td>\n",
       "      <td>0.514660</td>\n",
       "      <td>121.486662</td>\n",
       "      <td>2.001802e+05</td>\n",
       "      <td>3.934577</td>\n",
       "    </tr>\n",
       "    <tr>\n",
       "      <th>std</th>\n",
       "      <td>1.677796e+07</td>\n",
       "      <td>25.608455</td>\n",
       "      <td>1.616754e+18</td>\n",
       "      <td>0.177457</td>\n",
       "      <td>0.228123</td>\n",
       "      <td>3.638135</td>\n",
       "      <td>4.998115</td>\n",
       "      <td>0.496421</td>\n",
       "      <td>0.112595</td>\n",
       "      <td>0.308538</td>\n",
       "      <td>0.294092</td>\n",
       "      <td>0.146287</td>\n",
       "      <td>0.258459</td>\n",
       "      <td>29.232317</td>\n",
       "      <td>7.724697e+04</td>\n",
       "      <td>0.392716</td>\n",
       "    </tr>\n",
       "    <tr>\n",
       "      <th>min</th>\n",
       "      <td>0.000000e+00</td>\n",
       "      <td>1.000000</td>\n",
       "      <td>6.557410e+05</td>\n",
       "      <td>0.000000</td>\n",
       "      <td>0.000000</td>\n",
       "      <td>0.000000</td>\n",
       "      <td>-60.000000</td>\n",
       "      <td>0.000000</td>\n",
       "      <td>0.000000</td>\n",
       "      <td>0.000000</td>\n",
       "      <td>0.000000</td>\n",
       "      <td>0.000000</td>\n",
       "      <td>0.000000</td>\n",
       "      <td>0.000000</td>\n",
       "      <td>8.500000e+03</td>\n",
       "      <td>0.000000</td>\n",
       "    </tr>\n",
       "    <tr>\n",
       "      <th>25%</th>\n",
       "      <td>6.370000e+04</td>\n",
       "      <td>1.000000</td>\n",
       "      <td>6.729971e+18</td>\n",
       "      <td>0.545000</td>\n",
       "      <td>0.466000</td>\n",
       "      <td>2.000000</td>\n",
       "      <td>-9.658000</td>\n",
       "      <td>0.000000</td>\n",
       "      <td>0.039450</td>\n",
       "      <td>0.039550</td>\n",
       "      <td>0.000000</td>\n",
       "      <td>0.092700</td>\n",
       "      <td>0.308500</td>\n",
       "      <td>98.964000</td>\n",
       "      <td>1.591130e+05</td>\n",
       "      <td>4.000000</td>\n",
       "    </tr>\n",
       "    <tr>\n",
       "      <th>50%</th>\n",
       "      <td>2.277000e+05</td>\n",
       "      <td>2.000000</td>\n",
       "      <td>6.812554e+18</td>\n",
       "      <td>0.676000</td>\n",
       "      <td>0.651000</td>\n",
       "      <td>5.000000</td>\n",
       "      <td>-6.901000</td>\n",
       "      <td>1.000000</td>\n",
       "      <td>0.059500</td>\n",
       "      <td>0.179000</td>\n",
       "      <td>0.000012</td>\n",
       "      <td>0.122000</td>\n",
       "      <td>0.517000</td>\n",
       "      <td>121.550000</td>\n",
       "      <td>1.975470e+05</td>\n",
       "      <td>4.000000</td>\n",
       "    </tr>\n",
       "    <tr>\n",
       "      <th>75%</th>\n",
       "      <td>4.000000e+06</td>\n",
       "      <td>4.000000</td>\n",
       "      <td>6.934949e+18</td>\n",
       "      <td>0.773000</td>\n",
       "      <td>0.792500</td>\n",
       "      <td>8.000000</td>\n",
       "      <td>-5.119000</td>\n",
       "      <td>1.000000</td>\n",
       "      <td>0.128000</td>\n",
       "      <td>0.505000</td>\n",
       "      <td>0.011100</td>\n",
       "      <td>0.215500</td>\n",
       "      <td>0.730000</td>\n",
       "      <td>139.974000</td>\n",
       "      <td>2.335695e+05</td>\n",
       "      <td>4.000000</td>\n",
       "    </tr>\n",
       "    <tr>\n",
       "      <th>max</th>\n",
       "      <td>3.040000e+08</td>\n",
       "      <td>811.000000</td>\n",
       "      <td>7.016731e+18</td>\n",
       "      <td>0.980000</td>\n",
       "      <td>1.000000</td>\n",
       "      <td>11.000000</td>\n",
       "      <td>1.906000</td>\n",
       "      <td>1.000000</td>\n",
       "      <td>0.956000</td>\n",
       "      <td>0.996000</td>\n",
       "      <td>1.000000</td>\n",
       "      <td>0.979000</td>\n",
       "      <td>1.000000</td>\n",
       "      <td>220.099000</td>\n",
       "      <td>1.266547e+06</td>\n",
       "      <td>5.000000</td>\n",
       "    </tr>\n",
       "  </tbody>\n",
       "</table>\n",
       "</div>"
      ],
      "text/plain": [
       "              views       videos         tt_id  danceability       energy  \\\n",
       "count  4.127000e+03  4127.000000  4.127000e+03   4127.000000  4127.000000   \n",
       "mean   6.420877e+06     5.503513  6.372173e+18      0.646406     0.613840   \n",
       "std    1.677796e+07    25.608455  1.616754e+18      0.177457     0.228123   \n",
       "min    0.000000e+00     1.000000  6.557410e+05      0.000000     0.000000   \n",
       "25%    6.370000e+04     1.000000  6.729971e+18      0.545000     0.466000   \n",
       "50%    2.277000e+05     2.000000  6.812554e+18      0.676000     0.651000   \n",
       "75%    4.000000e+06     4.000000  6.934949e+18      0.773000     0.792500   \n",
       "max    3.040000e+08   811.000000  7.016731e+18      0.980000     1.000000   \n",
       "\n",
       "               key     loudness         mode  speechiness  acousticness  \\\n",
       "count  4127.000000  4127.000000  4127.000000  4127.000000   4127.000000   \n",
       "mean      5.261934    -8.167107     0.560213     0.108988      0.299641   \n",
       "std       3.638135     4.998115     0.496421     0.112595      0.308538   \n",
       "min       0.000000   -60.000000     0.000000     0.000000      0.000000   \n",
       "25%       2.000000    -9.658000     0.000000     0.039450      0.039550   \n",
       "50%       5.000000    -6.901000     1.000000     0.059500      0.179000   \n",
       "75%       8.000000    -5.119000     1.000000     0.128000      0.505000   \n",
       "max      11.000000     1.906000     1.000000     0.956000      0.996000   \n",
       "\n",
       "       instrumentalness     liveness      valence        tempo   duration_ms  \\\n",
       "count       4127.000000  4127.000000  4127.000000  4127.000000  4.127000e+03   \n",
       "mean           0.133451     0.179293     0.514660   121.486662  2.001802e+05   \n",
       "std            0.294092     0.146287     0.258459    29.232317  7.724697e+04   \n",
       "min            0.000000     0.000000     0.000000     0.000000  8.500000e+03   \n",
       "25%            0.000000     0.092700     0.308500    98.964000  1.591130e+05   \n",
       "50%            0.000012     0.122000     0.517000   121.550000  1.975470e+05   \n",
       "75%            0.011100     0.215500     0.730000   139.974000  2.335695e+05   \n",
       "max            1.000000     0.979000     1.000000   220.099000  1.266547e+06   \n",
       "\n",
       "       time_signature  \n",
       "count     4127.000000  \n",
       "mean         3.934577  \n",
       "std          0.392716  \n",
       "min          0.000000  \n",
       "25%          4.000000  \n",
       "50%          4.000000  \n",
       "75%          4.000000  \n",
       "max          5.000000  "
      ]
     },
     "execution_count": 16,
     "metadata": {},
     "output_type": "execute_result"
    }
   ],
   "source": [
    "df.describe()"
   ]
  },
  {
   "cell_type": "markdown",
   "id": "84227bf7",
   "metadata": {},
   "source": [
    "### Distribution analysis\n",
    "The target variable (`views`) varies vastly in terms of magnitude, with values ranging from <1000 to millions. In order to attempt to create a reasonable separation of different video popularities, a histogram of view counts is created using 10 different orders of magnitude as buckets."
   ]
  },
  {
   "cell_type": "code",
   "execution_count": 17,
   "id": "ce6fc2c2",
   "metadata": {},
   "outputs": [
    {
     "data": {
      "text/plain": [
       "(array([  39.,  156.,  127., 1016.,  928.,  480.,  444.,  520.,  372.,\n",
       "          44.]),\n",
       " array([2.5965971 , 3.18522474, 3.77385239, 4.36248004, 4.95110769,\n",
       "        5.53973534, 6.12836299, 6.71699064, 7.30561829, 7.89424593,\n",
       "        8.48287358]),\n",
       " <BarContainer object of 10 artists>)"
      ]
     },
     "execution_count": 17,
     "metadata": {},
     "output_type": "execute_result"
    },
    {
     "data": {
      "image/png": "[encoded data removed]",
      "text/plain": [
       "<Figure size 432x288 with 1 Axes>"
      ]
     },
     "metadata": {
      "needs_background": "light"
     },
     "output_type": "display_data"
    }
   ],
   "source": [
    "views = df['views']\n",
    "\n",
    "plt.xlabel(\"View count (log10)\")\n",
    "plt.ylabel(\"Video count\")\n",
    "plt.hist(np.log10(views[views >0]),bins=10)"
   ]
  },
  {
   "cell_type": "markdown",
   "id": "cf3ee535",
   "metadata": {},
   "source": [
    "The above histogram suggests that the majority of tracks have views in the (5e+04, 1e05) range. As such, at least 3 different popularity ranges can be identified. The ones below this range, in the range, and above the range. A reasonable definition for a \"viral\" video is one whose views are above this middle range."
   ]
  },
  {
   "cell_type": "code",
   "execution_count": 26,
   "id": "18118149",
   "metadata": {},
   "outputs": [],
   "source": [
    "features = [\n",
    "    'danceability',\n",
    "    'energy',\n",
    "    'key',\n",
    "    'loudness',\n",
    "    'mode',\n",
    "    'speechiness',\n",
    "    'acousticness',\n",
    "    'instrumentalness',\n",
    "    'liveness',\n",
    "    'valence',\n",
    "    'tempo',\n",
    "    'time_signature',\n",
    "    'duration_ms'\n",
    "]\n",
    "\n",
    "data = df[features]\n",
    "data_std = StandardScaler().fit_transform(data)"
   ]
  },
  {
   "cell_type": "code",
   "execution_count": 20,
   "id": "54593162",
   "metadata": {},
   "outputs": [
    {
     "data": {
      "text/plain": [
       "<matplotlib.collections.PathCollection at 0x20090167100>"
      ]
     },
     "execution_count": 20,
     "metadata": {},
     "output_type": "execute_result"
    },
    {
     "data": {
      "image/png": "[encoded data removed]",
      "text/plain": [
       "<Figure size 432x288 with 1 Axes>"
      ]
     },
     "metadata": {
      "needs_background": "light"
     },
     "output_type": "display_data"
    }
   ],
   "source": [
    "views = df['views']\n",
    "duration = df['duration_ms'] / (1000 * 60)\n",
    "\n",
    "plt.ylabel(\"Views\")\n",
    "plt.xlabel(\"Duration (minutes)\")\n",
    "mask = (views > 1e6)\n",
    "plt.scatter(duration[mask],views[mask])"
   ]
  },
  {
   "cell_type": "code",
   "execution_count": 21,
   "id": "99f17c5a",
   "metadata": {},
   "outputs": [
    {
     "data": {
      "text/plain": [
       "<matplotlib.collections.PathCollection at 0x2009022da30>"
      ]
     },
     "execution_count": 21,
     "metadata": {},
     "output_type": "execute_result"
    },
    {
     "data": {
      "image/png": "[encoded data removed]",
      "text/plain": [
       "<Figure size 432x288 with 1 Axes>"
      ]
     },
     "metadata": {
      "needs_background": "light"
     },
     "output_type": "display_data"
    }
   ],
   "source": [
    "loudness = df['loudness']\n",
    "\n",
    "plt.ylabel(\"Views\")\n",
    "plt.xlabel(\"Loudness\")\n",
    "mask = (views > 1e6)\n",
    "plt.scatter(loudness[mask],views[mask])"
   ]
  },
  {
   "cell_type": "code",
   "execution_count": 22,
   "id": "7cc45226",
   "metadata": {},
   "outputs": [
    {
     "data": {
      "text/plain": [
       "<matplotlib.collections.PathCollection at 0x20090116070>"
      ]
     },
     "execution_count": 22,
     "metadata": {},
     "output_type": "execute_result"
    },
    {
     "data": {
      "image/png": "[encoded data removed]",
      "text/plain": [
       "<Figure size 432x288 with 1 Axes>"
      ]
     },
     "metadata": {
      "needs_background": "light"
     },
     "output_type": "display_data"
    }
   ],
   "source": [
    "danceability = df['danceability']\n",
    "\n",
    "plt.ylabel(\"Views\")\n",
    "plt.xlabel(\"Danceability\")\n",
    "mask = (views > 1e6)\n",
    "plt.scatter(danceability[mask],views[mask])"
   ]
  },
  {
   "cell_type": "markdown",
   "id": "984a30f6",
   "metadata": {},
   "source": [
    "### Correlation\n",
    "The graph below visualizes the correlation between the features and target variables. There seems to be astrong correlation between loudness and energy, as well as valence and danceability. Other noteble correlations are energy and danceability, and loudness and valence. A relatively strong negative correlation can be observed between "
   ]
  },
  {
   "cell_type": "code",
   "execution_count": 42,
   "id": "637940cd",
   "metadata": {},
   "outputs": [
    {
     "data": {
      "image/png": "[encoded data removed]",
      "text/plain": [
       "<Figure size 432x288 with 2 Axes>"
      ]
     },
     "metadata": {
      "needs_background": "light"
     },
     "output_type": "display_data"
    }
   ],
   "source": [
    "labels = features + ['views']\n",
    "fig, ax = plt.subplots()\n",
    "im = ax.imshow(df[labels].corr(),cmap='YlOrBr')\n",
    "\n",
    "ax.set_xticks(np.arange(len(labels)))\n",
    "ax.set_yticks(np.arange(len(labels)))\n",
    "\n",
    "ax.set_yticklabels(labels)\n",
    "ax.set_xticklabels(labels)\n",
    "\n",
    "plt.setp(ax.get_xticklabels(), rotation=45, ha=\"right\",rotation_mode=\"anchor\")\n",
    "\n",
    "cbar = ax.figure.colorbar(im, ax=ax)\n",
    "plt.show()"
   ]
  },
  {
   "cell_type": "code",
   "execution_count": 55,
   "id": "bcb1681e",
   "metadata": {},
   "outputs": [
    {
     "data": {
      "text/plain": [
       "array([3.24580039, 1.24377789, 1.14568153, 1.13406181, 0.99780476,\n",
       "       0.96781712, 0.8978655 , 0.83558244, 0.75117374, 0.72054979,\n",
       "       0.48468955, 0.40224761])"
      ]
     },
     "execution_count": 55,
     "metadata": {},
     "output_type": "execute_result"
    }
   ],
   "source": [
    "pca = PCA(n_components='mle')\n",
    "pca.fit(data_std)\n",
    "pca.explained_variance_"
   ]
  },
  {
   "cell_type": "code",
   "execution_count": null,
   "id": "31060c34",
   "metadata": {},
   "outputs": [],
   "source": []
  }
 ],
 "metadata": {
  "kernelspec": {
   "display_name": "Python 3 (ipykernel)",
   "language": "python",
   "name": "python3"
  },
  "language_info": {
   "codemirror_mode": {
    "name": "ipython",
    "version": 3
   },
   "file_extension": ".py",
   "mimetype": "text/x-python",
   "name": "python",
   "nbconvert_exporter": "python",
   "pygments_lexer": "ipython3",
   "version": "3.9.5"
  }
 },
 "nbformat": 4,
 "nbformat_minor": 5
}
