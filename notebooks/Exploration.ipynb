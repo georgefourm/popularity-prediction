{
 "cells": [
  {
   "cell_type": "code",
   "execution_count": 1,
   "id": "3157ab0a",
   "metadata": {},
   "outputs": [
    {
     "name": "stdout",
     "output_type": "stream",
     "text": [
      "C:\\Users\\georg\\Documents\\msc-projcet\n"
     ]
    }
   ],
   "source": [
    "%cd .."
   ]
  },
  {
   "cell_type": "code",
   "execution_count": 2,
   "id": "25cc8334",
   "metadata": {},
   "outputs": [],
   "source": [
    "import pandas as pd\n",
    "from src.data.emails import clean_content,compute_sentiment\n",
    "from textblob import TextBlob\n",
    "import nltk\n",
    "from datetime import date"
   ]
  },
  {
   "cell_type": "code",
   "execution_count": 3,
   "id": "b0f473a7",
   "metadata": {},
   "outputs": [],
   "source": [
    "# nltk.download('punkt')"
   ]
  },
  {
   "cell_type": "code",
   "execution_count": 4,
   "id": "b791510a",
   "metadata": {},
   "outputs": [
    {
     "name": "stdout",
     "output_type": "stream",
     "text": [
      "Loaded 20 documents, 1293 events, and 3048 emails\n"
     ]
    }
   ],
   "source": [
    "wg = \"calext\"\n",
    "ml = \"calsify\"\n",
    "docs_df = pd.read_pickle(f\"data/raw/{wg}/documents.pkl\")\n",
    "events_df = pd.read_pickle(f\"data/raw/{wg}/events.pkl\")\n",
    "emails_df = pd.read_pickle(f\"data/raw/{ml}/emails.pkl\")\n",
    "\n",
    "print(f\"Loaded {docs_df.shape[0]} documents, {events_df.shape[0]} events, and {emails_df.shape[0]} emails\")"
   ]
  },
  {
   "cell_type": "code",
   "execution_count": 5,
   "id": "896685d0",
   "metadata": {
    "scrolled": true
   },
   "outputs": [],
   "source": [
    "emails_df['content'] = emails_df['content'].apply(clean_content)\n",
    "emails_df['sentiment'] = emails_df.apply(compute_sentiment,axis=1)\n",
    "events_df['timestamp'] = events_df['timestamp'].apply(pd.to_datetime)"
   ]
  },
  {
   "cell_type": "code",
   "execution_count": 6,
   "id": "366e63b6",
   "metadata": {},
   "outputs": [],
   "source": [
    "emails_df = emails_df[emails_df['sentiment'].notnull()]"
   ]
  },
  {
   "cell_type": "code",
   "execution_count": 13,
   "id": "f57f588f",
   "metadata": {},
   "outputs": [],
   "source": [
    "filter_revisions = (events_df['type'] == 'new_revision') | (events_df['type'] == 'rfc_published')\n",
    "grouped_events = events_df[filter_revisions].groupby('doc_id')"
   ]
  },
  {
   "cell_type": "code",
   "execution_count": 39,
   "id": "4332e924",
   "metadata": {},
   "outputs": [
    {
     "data": {
      "text/plain": [
       "{'neg': 0.0, 'neu': 1.0, 'pos': 0.0, 'compound': 0.0}"
      ]
     },
     "execution_count": 39,
     "metadata": {},
     "output_type": "execute_result"
    }
   ],
   "source": [
    "from vaderSentiment.vaderSentiment import SentimentIntensityAnalyzer\n",
    "analyzer = SentimentIntensityAnalyzer()\n",
    "analyzer.polarity_scores(\"I think this is not correct\")"
   ]
  },
  {
   "cell_type": "code",
   "execution_count": 13,
   "id": "3d2c7dd1",
   "metadata": {},
   "outputs": [
    {
     "data": {
      "text/html": [
       "<div>\n",
       "<style scoped>\n",
       "    .dataframe tbody tr th:only-of-type {\n",
       "        vertical-align: middle;\n",
       "    }\n",
       "\n",
       "    .dataframe tbody tr th {\n",
       "        vertical-align: top;\n",
       "    }\n",
       "\n",
       "    .dataframe thead th {\n",
       "        text-align: right;\n",
       "    }\n",
       "</style>\n",
       "<table border=\"1\" class=\"dataframe\">\n",
       "  <thead>\n",
       "    <tr style=\"text-align: right;\">\n",
       "      <th></th>\n",
       "      <th>timestamp</th>\n",
       "      <th>from</th>\n",
       "      <th>subject</th>\n",
       "      <th>content</th>\n",
       "      <th>charset</th>\n",
       "      <th>sentiment</th>\n",
       "    </tr>\n",
       "  </thead>\n",
       "  <tbody>\n",
       "    <tr>\n",
       "      <th>2978</th>\n",
       "      <td>2021-02-24 23:00:02</td>\n",
       "      <td>Murray Kucherawy via Datatracker &lt;noreply@ietf...</td>\n",
       "      <td>[calsify] Murray Kucherawy's No Objection on d...</td>\n",
       "      <td>b'Murray Kucherawy has entered the following b...</td>\n",
       "      <td>utf-8</td>\n",
       "      <td>0.250287</td>\n",
       "    </tr>\n",
       "    <tr>\n",
       "      <th>289</th>\n",
       "      <td>2005-04-15 01:32:18</td>\n",
       "      <td>\"reinhold at kainhofer.com\"</td>\n",
       "      <td>[Ietf-calsify] PERIOD types</td>\n",
       "      <td>b' But we agree that you have to have the time...</td>\n",
       "      <td>None</td>\n",
       "      <td>0.050200</td>\n",
       "    </tr>\n",
       "    <tr>\n",
       "      <th>17</th>\n",
       "      <td>2004-08-17 12:45:53</td>\n",
       "      <td>\"lisa at osafoundation.org\"</td>\n",
       "      <td>[Ietf-calsify] Just for the record. Notes has ...</td>\n",
       "      <td>b\"I think Cameron may be right, even though I'...</td>\n",
       "      <td>None</td>\n",
       "      <td>0.090300</td>\n",
       "    </tr>\n",
       "    <tr>\n",
       "      <th>319</th>\n",
       "      <td>2005-08-08 22:28:24</td>\n",
       "      <td>\"lisa at osafoundation.org\"</td>\n",
       "      <td>[Ietf-calsify] Timezone registration</td>\n",
       "      <td>b'That\\'s not a bad scheme but unnecessary wit...</td>\n",
       "      <td>None</td>\n",
       "      <td>0.316243</td>\n",
       "    </tr>\n",
       "    <tr>\n",
       "      <th>2669</th>\n",
       "      <td>2020-07-13 11:31:22</td>\n",
       "      <td>internet-drafts@ietf.org</td>\n",
       "      <td>[calsify] I-D Action: draft-ietf-calext-valarm...</td>\n",
       "      <td>b'A New Internet-Draft is available from the o...</td>\n",
       "      <td>utf-8</td>\n",
       "      <td>0.104100</td>\n",
       "    </tr>\n",
       "    <tr>\n",
       "      <th>1776</th>\n",
       "      <td>2017-02-10 22:56:08</td>\n",
       "      <td>Michael Douglass &lt;mikeadouglass@gmail.com&gt;</td>\n",
       "      <td>Re: [calsify] Review of draft-ietf-calext-ical...</td>\n",
       "      <td>b\"Thanks Philipp. I'll resubmit with some of t...</td>\n",
       "      <td>windows-1252</td>\n",
       "      <td>0.122187</td>\n",
       "    </tr>\n",
       "    <tr>\n",
       "      <th>342</th>\n",
       "      <td>2005-09-02 09:11:24</td>\n",
       "      <td>\"Carsten.Guenther at scalix.com\"</td>\n",
       "      <td>[Ietf-calsify] DTEND for day events</td>\n",
       "      <td>b\"Unfortunately it's not just iCal. Just to na...</td>\n",
       "      <td>None</td>\n",
       "      <td>0.047575</td>\n",
       "    </tr>\n",
       "    <tr>\n",
       "      <th>2001</th>\n",
       "      <td>2018-08-13 18:09:08</td>\n",
       "      <td>Robert Stepanek &lt;rsto@fastmailteam.com&gt;</td>\n",
       "      <td>[calsify] Requesting JSCalendar WGLC</td>\n",
       "      <td>b\"About a month ago we updated the JSCalendar ...</td>\n",
       "      <td>utf-8</td>\n",
       "      <td>0.208750</td>\n",
       "    </tr>\n",
       "    <tr>\n",
       "      <th>563</th>\n",
       "      <td>2006-10-11 08:37:23</td>\n",
       "      <td>\"cyrus at daboo.name\"</td>\n",
       "      <td>[Ietf-calsify] summary of jabber sessions and ...</td>\n",
       "      <td>b'Hi Reinhold, -- An instance representing the...</td>\n",
       "      <td>None</td>\n",
       "      <td>-0.034175</td>\n",
       "    </tr>\n",
       "    <tr>\n",
       "      <th>1557</th>\n",
       "      <td>2015-02-05 11:16:30</td>\n",
       "      <td>Cyrus Daboo &lt;cyrus@daboo.name&gt;</td>\n",
       "      <td>Re: [calsify] SKIP was Re: AD review of draft-...</td>\n",
       "      <td>b'Hi Barry, -- I am not convinced that there i...</td>\n",
       "      <td>us-ascii</td>\n",
       "      <td>0.045571</td>\n",
       "    </tr>\n",
       "  </tbody>\n",
       "</table>\n",
       "</div>"
      ],
      "text/plain": [
       "               timestamp                                               from  \\\n",
       "2978 2021-02-24 23:00:02  Murray Kucherawy via Datatracker <noreply@ietf...   \n",
       "289  2005-04-15 01:32:18                        \"reinhold at kainhofer.com\"   \n",
       "17   2004-08-17 12:45:53                        \"lisa at osafoundation.org\"   \n",
       "319  2005-08-08 22:28:24                        \"lisa at osafoundation.org\"   \n",
       "2669 2020-07-13 11:31:22                           internet-drafts@ietf.org   \n",
       "1776 2017-02-10 22:56:08         Michael Douglass <mikeadouglass@gmail.com>   \n",
       "342  2005-09-02 09:11:24                   \"Carsten.Guenther at scalix.com\"   \n",
       "2001 2018-08-13 18:09:08            Robert Stepanek <rsto@fastmailteam.com>   \n",
       "563  2006-10-11 08:37:23                              \"cyrus at daboo.name\"   \n",
       "1557 2015-02-05 11:16:30                     Cyrus Daboo <cyrus@daboo.name>   \n",
       "\n",
       "                                                subject  \\\n",
       "2978  [calsify] Murray Kucherawy's No Objection on d...   \n",
       "289                         [Ietf-calsify] PERIOD types   \n",
       "17    [Ietf-calsify] Just for the record. Notes has ...   \n",
       "319                [Ietf-calsify] Timezone registration   \n",
       "2669  [calsify] I-D Action: draft-ietf-calext-valarm...   \n",
       "1776  Re: [calsify] Review of draft-ietf-calext-ical...   \n",
       "342                 [Ietf-calsify] DTEND for day events   \n",
       "2001               [calsify] Requesting JSCalendar WGLC   \n",
       "563   [Ietf-calsify] summary of jabber sessions and ...   \n",
       "1557  Re: [calsify] SKIP was Re: AD review of draft-...   \n",
       "\n",
       "                                                content       charset  \\\n",
       "2978  b'Murray Kucherawy has entered the following b...         utf-8   \n",
       "289   b' But we agree that you have to have the time...          None   \n",
       "17    b\"I think Cameron may be right, even though I'...          None   \n",
       "319   b'That\\'s not a bad scheme but unnecessary wit...          None   \n",
       "2669  b'A New Internet-Draft is available from the o...         utf-8   \n",
       "1776  b\"Thanks Philipp. I'll resubmit with some of t...  windows-1252   \n",
       "342   b\"Unfortunately it's not just iCal. Just to na...          None   \n",
       "2001  b\"About a month ago we updated the JSCalendar ...         utf-8   \n",
       "563   b'Hi Reinhold, -- An instance representing the...          None   \n",
       "1557  b'Hi Barry, -- I am not convinced that there i...      us-ascii   \n",
       "\n",
       "      sentiment  \n",
       "2978   0.250287  \n",
       "289    0.050200  \n",
       "17     0.090300  \n",
       "319    0.316243  \n",
       "2669   0.104100  \n",
       "1776   0.122187  \n",
       "342    0.047575  \n",
       "2001   0.208750  \n",
       "563   -0.034175  \n",
       "1557   0.045571  "
      ]
     },
     "execution_count": 13,
     "metadata": {},
     "output_type": "execute_result"
    }
   ],
   "source": [
    "sample = emails_df.sample(10)\n",
    "sample"
   ]
  },
  {
   "cell_type": "code",
   "execution_count": 17,
   "id": "483b6748",
   "metadata": {},
   "outputs": [
    {
     "data": {
      "text/plain": [
       "b'That\\'s not a bad scheme but unnecessary with iCalendar. In iCalendar you can define a timezone that is -0800 from 1987 until 2007 and then something else from 2007 onward. In fact it\\'s necessary to put both the pre and post-2007 rules into one timezone because a meeting that recurs over a time period that crosses from 2006 into 2007 needs to have its recurrences calculated out according to both the old and the new DST rules. I quite liked what I heard from Patrik at the meeting, that people actually schedule meetings with reference to the time in a particular *place* rather than in a particular timezone. I\\'ve seen more software recently, probably based on the Olsen database, allow the user to pick a place like \"America/San Francisco\" rather than a timezone like PST. I hope that means is that when I schedule recurring meetings in San Francisco the recurrence is always calculated according to the best known time in San Francisco even if San Francisco were to secede from PST. Lisa '"
      ]
     },
     "execution_count": 17,
     "metadata": {},
     "output_type": "execute_result"
    }
   ],
   "source": [
    "sample.loc[319]['content']"
   ]
  },
  {
   "cell_type": "code",
   "execution_count": null,
   "id": "f17a2866",
   "metadata": {},
   "outputs": [],
   "source": []
  }
 ],
 "metadata": {
  "kernelspec": {
   "display_name": "Python 3 (ipykernel)",
   "language": "python",
   "name": "python3"
  },
  "language_info": {
   "codemirror_mode": {
    "name": "ipython",
    "version": 3
   },
   "file_extension": ".py",
   "mimetype": "text/x-python",
   "name": "python",
   "nbconvert_exporter": "python",
   "pygments_lexer": "ipython3",
   "version": "3.9.5"
  }
 },
 "nbformat": 4,
 "nbformat_minor": 5
}
