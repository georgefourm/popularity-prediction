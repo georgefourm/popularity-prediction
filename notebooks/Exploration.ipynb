{
 "cells": [
  {
   "cell_type": "code",
   "execution_count": 1,
   "id": "3157ab0a",
   "metadata": {},
   "outputs": [
    {
     "name": "stdout",
     "output_type": "stream",
     "text": [
      "C:\\Users\\georg\\Documents\\msc-projcet\n"
     ]
    }
   ],
   "source": [
    "%cd .."
   ]
  },
  {
   "cell_type": "code",
   "execution_count": 2,
   "id": "25cc8334",
   "metadata": {},
   "outputs": [],
   "source": [
    "import pandas as pd\n",
    "from src.data.emails import clean_content,compute_sentiment\n",
    "from textblob import TextBlob\n",
    "import nltk\n",
    "from datetime import date"
   ]
  },
  {
   "cell_type": "code",
   "execution_count": 3,
   "id": "b0f473a7",
   "metadata": {},
   "outputs": [],
   "source": [
    "# nltk.download('punkt')"
   ]
  },
  {
   "cell_type": "code",
   "execution_count": 4,
   "id": "b791510a",
   "metadata": {},
   "outputs": [
    {
     "name": "stdout",
     "output_type": "stream",
     "text": [
      "Loaded 20 documents, 1293 events, and 3048 emails\n"
     ]
    }
   ],
   "source": [
    "wg = \"calext\"\n",
    "ml = \"calsify\"\n",
    "docs_df = pd.read_pickle(f\"data/raw/{wg}/documents.pkl\")\n",
    "events_df = pd.read_pickle(f\"data/raw/{wg}/events.pkl\")\n",
    "emails_df = pd.read_pickle(f\"data/raw/{ml}/emails.pkl\")\n",
    "\n",
    "print(f\"Loaded {docs_df.shape[0]} documents, {events_df.shape[0]} events, and {emails_df.shape[0]} emails\")"
   ]
  },
  {
   "cell_type": "code",
   "execution_count": 16,
   "id": "896685d0",
   "metadata": {
    "scrolled": true
   },
   "outputs": [],
   "source": [
    "emails_df['content'] = emails_df['content'].apply(clean_content)\n",
    "emails_df['sentiment'] = emails_df.apply(compute_sentiment,axis=1)\n",
    "events_df['timestamp'] = events_df['timestamp'].apply(pd.to_datetime)"
   ]
  },
  {
   "cell_type": "code",
   "execution_count": 18,
   "id": "366e63b6",
   "metadata": {},
   "outputs": [],
   "source": [
    "emails_df = emails_df[emails_df['sentiment'].notnull()]"
   ]
  },
  {
   "cell_type": "code",
   "execution_count": 13,
   "id": "f57f588f",
   "metadata": {},
   "outputs": [],
   "source": [
    "filter_revisions = (events_df['type'] == 'new_revision') | (events_df['type'] == 'rfc_published')\n",
    "grouped_events = events_df[filter_revisions].groupby('doc_id')"
   ]
  },
  {
   "cell_type": "code",
   "execution_count": 35,
   "id": "c889825a",
   "metadata": {},
   "outputs": [
    {
     "name": "stdout",
     "output_type": "stream",
     "text": [
      "0   2013-04-26 07:12:36\n",
      "1   2013-07-15 14:40:11\n",
      "2   2014-01-07 08:14:22\n",
      "3   2014-03-15 09:40:37\n",
      "4   2014-06-11 09:18:39\n",
      "Name: timestamp, dtype: datetime64[ns]\n",
      "9    2006-11-15 00:00:00\n",
      "10   2008-11-03 00:00:01\n",
      "11   2011-04-14 00:00:02\n",
      "13   2012-09-27 08:23:58\n",
      "14   2014-01-13 07:11:07\n",
      "15   2014-01-30 07:21:29\n",
      "Name: timestamp, dtype: datetime64[ns]\n",
      "22   2010-02-26 00:00:00\n",
      "23   2010-07-12 00:00:01\n",
      "24   2010-10-25 00:00:02\n",
      "25   2011-03-14 00:00:03\n",
      "26   2011-04-07 00:00:04\n",
      "28   2012-06-09 19:24:16\n",
      "29   2013-01-31 16:15:40\n",
      "30   2013-09-12 07:18:38\n",
      "31   2014-03-16 18:56:09\n",
      "32   2014-07-26 08:29:21\n",
      "Name: timestamp, dtype: datetime64[ns]\n",
      "38   2014-10-04 10:19:33\n",
      "42   2014-11-11 08:03:39\n",
      "45   2014-12-10 07:25:24\n",
      "49   2015-01-07 07:21:14\n",
      "63   2015-02-11 09:24:05\n",
      "Name: timestamp, dtype: datetime64[ns]\n",
      "126   2015-03-23 08:29:11\n",
      "127   2015-11-23 13:46:44\n",
      "136   2016-05-23 07:28:39\n",
      "148   2016-06-22 09:20:29\n",
      "190   2016-07-07 09:08:54\n",
      "Name: timestamp, dtype: datetime64[ns]\n",
      "224   2015-04-06 07:55:36\n",
      "225   2015-10-08 11:41:36\n",
      "234   2016-05-24 09:51:54\n",
      "241   2016-06-04 05:42:15\n",
      "285   2016-06-29 07:02:21\n",
      "300   2016-08-22 12:30:38\n",
      "Name: timestamp, dtype: datetime64[ns]\n",
      "340   2016-08-25 06:15:59\n",
      "347   2017-02-03 10:14:33\n",
      "351   2017-02-10 20:07:19\n",
      "356   2017-10-11 22:06:55\n",
      "361   2018-05-05 19:02:26\n",
      "370   2020-07-29 08:57:42\n",
      "374   2020-12-31 13:59:28\n",
      "384   2021-07-30 20:28:00\n",
      "Name: timestamp, dtype: datetime64[ns]\n",
      "397   2016-08-25 06:16:24\n",
      "403   2017-03-05 21:49:10\n",
      "407   2017-04-21 20:37:48\n",
      "414   2017-05-04 07:54:46\n",
      "418   2017-10-10 15:47:42\n",
      "422   2017-10-11 20:51:57\n",
      "427   2018-05-05 19:20:34\n",
      "431   2018-05-15 22:29:42\n",
      "436   2018-08-06 20:45:25\n",
      "441   2018-08-30 20:16:12\n",
      "446   2018-10-19 13:17:29\n",
      "461   2019-02-27 20:29:49\n",
      "469   2019-04-08 19:31:08\n",
      "507   2019-05-26 20:18:28\n",
      "532   2019-08-02 13:40:41\n",
      "540   2019-10-08 13:01:58\n",
      "551   2020-10-16 11:34:37\n",
      "557   2021-01-03 13:17:40\n",
      "569   2021-01-13 12:52:47\n",
      "595   2021-03-26 10:22:39\n",
      "Name: timestamp, dtype: datetime64[ns]\n",
      "612   2016-10-17 08:33:27\n",
      "616   2017-03-10 14:45:42\n",
      "620   2017-03-13 12:53:18\n",
      "657   2017-07-24 12:14:04\n",
      "700   2019-03-05 08:45:00\n",
      "Name: timestamp, dtype: datetime64[ns]\n",
      "742   2019-06-10 10:28:42\n",
      "750   2020-01-17 12:54:41\n",
      "758   2020-07-13 11:31:18\n",
      "766   2020-11-25 16:04:09\n",
      "778   2021-02-01 07:38:45\n",
      "801   2021-02-15 11:55:55\n",
      "843   2021-03-02 13:00:55\n",
      "854   2021-03-03 07:04:34\n",
      "Name: timestamp, dtype: datetime64[ns]\n",
      "882   2019-06-07 08:43:11\n",
      "886   2019-11-03 21:20:13\n",
      "894   2020-07-29 20:35:20\n",
      "899   2021-02-01 14:12:13\n",
      "906   2021-07-26 09:34:14\n",
      "Name: timestamp, dtype: datetime64[ns]\n",
      "910   2017-08-09 00:29:59\n",
      "914   2017-09-20 03:11:12\n",
      "918   2017-11-12 01:56:24\n",
      "922   2017-12-13 03:15:04\n",
      "926   2018-01-12 02:51:11\n",
      "930   2018-01-19 02:29:38\n",
      "Name: timestamp, dtype: datetime64[ns]\n",
      "941    2018-01-29 06:57:55\n",
      "946    2018-03-02 01:32:54\n",
      "950    2018-03-05 02:47:16\n",
      "954    2018-05-09 07:08:49\n",
      "958    2018-05-25 01:24:39\n",
      "962    2018-07-02 04:54:49\n",
      "967    2018-08-30 02:05:06\n",
      "971    2018-09-20 02:54:16\n",
      "975    2018-10-08 02:52:59\n",
      "979    2018-11-05 01:30:24\n",
      "987    2018-11-22 05:49:13\n",
      "991    2018-12-10 07:12:53\n",
      "995    2019-03-05 04:42:34\n",
      "1000   2019-05-02 07:59:48\n",
      "1004   2019-06-06 03:12:56\n",
      "1008   2019-06-17 09:09:47\n",
      "1012   2019-06-24 06:01:50\n",
      "1016   2019-06-29 08:57:20\n",
      "1020   2019-07-23 12:02:33\n",
      "1023   2019-10-03 01:20:12\n",
      "1027   2019-10-15 08:49:11\n",
      "1031   2019-10-27 17:27:19\n",
      "1036   2019-12-04 20:56:13\n",
      "1040   2020-02-18 02:07:54\n",
      "1053   2020-02-19 21:17:13\n",
      "1063   2020-02-23 18:43:53\n",
      "1076   2020-03-07 18:56:35\n",
      "1088   2020-06-14 16:53:04\n",
      "1093   2020-07-26 20:17:11\n",
      "1097   2020-08-18 21:38:02\n",
      "1100   2020-09-06 07:47:47\n",
      "1135   2020-09-29 20:31:10\n",
      "1145   2020-10-15 23:07:39\n",
      "Name: timestamp, dtype: datetime64[ns]\n",
      "1188   2019-03-26 04:07:12\n",
      "Name: timestamp, dtype: datetime64[ns]\n",
      "1196   2019-05-02 08:03:31\n",
      "1201   2019-06-29 08:57:36\n",
      "1206   2020-07-29 21:06:15\n",
      "1210   2021-01-25 08:53:40\n",
      "1214   2021-02-20 22:03:19\n",
      "1221   2021-07-08 22:15:23\n",
      "Name: timestamp, dtype: datetime64[ns]\n",
      "1225   2019-10-30 20:53:40\n",
      "1234   2020-07-28 17:16:42\n",
      "1238   2020-10-14 19:13:51\n",
      "1243   2021-04-12 21:44:31\n",
      "Name: timestamp, dtype: datetime64[ns]\n",
      "1249   2019-11-21 00:14:21\n",
      "1257   2020-10-14 18:21:50\n",
      "1265   2021-07-26 09:27:39\n",
      "Name: timestamp, dtype: datetime64[ns]\n",
      "1268   2020-01-17 07:19:45\n",
      "Name: timestamp, dtype: datetime64[ns]\n",
      "1273   2020-07-28 09:52:08\n",
      "1279   2021-02-01 20:19:55\n",
      "Name: timestamp, dtype: datetime64[ns]\n",
      "1289   2021-08-22 21:37:28\n",
      "Name: timestamp, dtype: datetime64[ns]\n"
     ]
    },
    {
     "data": {
      "text/plain": [
       "[None,\n",
       " None,\n",
       " None,\n",
       " None,\n",
       " None,\n",
       " None,\n",
       " None,\n",
       " None,\n",
       " None,\n",
       " None,\n",
       " None,\n",
       " None,\n",
       " None,\n",
       " None,\n",
       " None,\n",
       " None,\n",
       " None,\n",
       " None,\n",
       " None,\n",
       " None]"
      ]
     },
     "execution_count": 35,
     "metadata": {},
     "output_type": "execute_result"
    }
   ],
   "source": [
    "[print(group['timestamp']) for label, group in grouped_events]"
   ]
  },
  {
   "cell_type": "code",
   "execution_count": 33,
   "id": "e5df9a8c",
   "metadata": {},
   "outputs": [
    {
     "data": {
      "text/plain": [
       "doc_id\n",
       "20524       102 days 18:31:30.750000\n",
       "33571       526 days 15:52:17.800000\n",
       "38594    179 days 00:56:35.666666666\n",
       "57188               32 days 11:46:08\n",
       "60075       118 days 00:09:55.750000\n",
       "60779       100 days 20:07:00.400000\n",
       "68427    257 days 05:27:25.857142856\n",
       "68428     88 days 02:44:32.368421053\n",
       "68802       217 days 06:02:53.250000\n",
       "78120               90 days 06:22:16\n",
       "79650       195 days 00:12:45.750000\n",
       "79681        32 days 14:47:55.800000\n",
       "82274        30 days 23:00:18.250000\n",
       "89913                            NaT\n",
       "90871       159 days 17:14:22.400000\n",
       "93190              176 days 16:16:57\n",
       "94375              306 days 16:36:39\n",
       "95074                            NaT\n",
       "97617              188 days 10:27:47\n",
       "104012                           NaT\n",
       "Name: timestamp, dtype: timedelta64[ns]"
      ]
     },
     "execution_count": 33,
     "metadata": {},
     "output_type": "execute_result"
    }
   ],
   "source": [
    "grouped_events['timestamp'].agg(lambda group : group.diff().mean())"
   ]
  },
  {
   "cell_type": "code",
   "execution_count": 39,
   "id": "4332e924",
   "metadata": {},
   "outputs": [
    {
     "data": {
      "text/plain": [
       "{'neg': 0.0, 'neu': 1.0, 'pos': 0.0, 'compound': 0.0}"
      ]
     },
     "execution_count": 39,
     "metadata": {},
     "output_type": "execute_result"
    }
   ],
   "source": [
    "from vaderSentiment.vaderSentiment import SentimentIntensityAnalyzer\n",
    "analyzer = SentimentIntensityAnalyzer()\n",
    "analyzer.polarity_scores(\"I think this is not correct\")"
   ]
  },
  {
   "cell_type": "code",
   "execution_count": null,
   "id": "3d2c7dd1",
   "metadata": {},
   "outputs": [],
   "source": []
  }
 ],
 "metadata": {
  "kernelspec": {
   "display_name": "Python 3 (ipykernel)",
   "language": "python",
   "name": "python3"
  },
  "language_info": {
   "codemirror_mode": {
    "name": "ipython",
    "version": 3
   },
   "file_extension": ".py",
   "mimetype": "text/x-python",
   "name": "python",
   "nbconvert_exporter": "python",
   "pygments_lexer": "ipython3",
   "version": "3.9.5"
  }
 },
 "nbformat": 4,
 "nbformat_minor": 5
}
