{
 "cells": [
  {
   "cell_type": "markdown",
   "id": "18982f88",
   "metadata": {},
   "source": [
    "# Dataset Exploration\n",
    "In this notebook, exploratory analysis is performed on the dataset in order to identify patterns, attributes, or other important information that could be of help in the subsequent modelling and predictions."
   ]
  },
  {
   "cell_type": "code",
   "execution_count": 1,
   "id": "29204aff",
   "metadata": {},
   "outputs": [
    {
     "name": "stdout",
     "output_type": "stream",
     "text": [
      "C:\\Users\\georg\\Documents\\msc-project\n"
     ]
    }
   ],
   "source": [
    "# Change directory for cleaner paths\n",
    "%cd .."
   ]
  },
  {
   "cell_type": "code",
   "execution_count": 2,
   "id": "9d94bb78",
   "metadata": {},
   "outputs": [],
   "source": [
    "import pandas as pd\n",
    "import numpy as np\n",
    "\n",
    "import matplotlib.pyplot as plt\n",
    "from sklearn.preprocessing import StandardScaler,MinMaxScaler"
   ]
  },
  {
   "cell_type": "code",
   "execution_count": 91,
   "id": "98b241c9",
   "metadata": {},
   "outputs": [],
   "source": [
    "df = pd.read_csv(\"data/interim/tracks.csv\")"
   ]
  },
  {
   "cell_type": "markdown",
   "id": "347928f5",
   "metadata": {},
   "source": [
    "### Data Overview\n",
    "We initially generate an overview of the dataset using Pandas' `describe()`, and display a sample of it."
   ]
  },
  {
   "cell_type": "code",
   "execution_count": 92,
   "id": "5374eef9",
   "metadata": {
    "scrolled": false
   },
   "outputs": [
    {
     "data": {
      "text/html": [
       "<div>\n",
       "<style scoped>\n",
       "    .dataframe tbody tr th:only-of-type {\n",
       "        vertical-align: middle;\n",
       "    }\n",
       "\n",
       "    .dataframe tbody tr th {\n",
       "        vertical-align: top;\n",
       "    }\n",
       "\n",
       "    .dataframe thead th {\n",
       "        text-align: right;\n",
       "    }\n",
       "</style>\n",
       "<table border=\"1\" class=\"dataframe\">\n",
       "  <thead>\n",
       "    <tr style=\"text-align: right;\">\n",
       "      <th></th>\n",
       "      <th>views</th>\n",
       "      <th>videos</th>\n",
       "      <th>tt_id</th>\n",
       "      <th>popularity</th>\n",
       "      <th>danceability</th>\n",
       "      <th>energy</th>\n",
       "      <th>key</th>\n",
       "      <th>loudness</th>\n",
       "      <th>mode</th>\n",
       "      <th>speechiness</th>\n",
       "      <th>acousticness</th>\n",
       "      <th>instrumentalness</th>\n",
       "      <th>liveness</th>\n",
       "      <th>valence</th>\n",
       "      <th>tempo</th>\n",
       "      <th>duration_ms</th>\n",
       "      <th>time_signature</th>\n",
       "    </tr>\n",
       "  </thead>\n",
       "  <tbody>\n",
       "    <tr>\n",
       "      <th>count</th>\n",
       "      <td>1.152600e+04</td>\n",
       "      <td>11526.000000</td>\n",
       "      <td>1.152500e+04</td>\n",
       "      <td>10434.000000</td>\n",
       "      <td>10430.00000</td>\n",
       "      <td>10430.000000</td>\n",
       "      <td>10430.000000</td>\n",
       "      <td>10430.000000</td>\n",
       "      <td>10430.000000</td>\n",
       "      <td>10430.000000</td>\n",
       "      <td>10430.000000</td>\n",
       "      <td>10430.000000</td>\n",
       "      <td>10430.000000</td>\n",
       "      <td>10430.000000</td>\n",
       "      <td>10430.000000</td>\n",
       "      <td>1.043000e+04</td>\n",
       "      <td>10430.000000</td>\n",
       "    </tr>\n",
       "    <tr>\n",
       "      <th>mean</th>\n",
       "      <td>4.648054e+06</td>\n",
       "      <td>9.761322</td>\n",
       "      <td>6.459683e+18</td>\n",
       "      <td>51.623059</td>\n",
       "      <td>0.63839</td>\n",
       "      <td>0.616643</td>\n",
       "      <td>5.275551</td>\n",
       "      <td>-8.170753</td>\n",
       "      <td>0.556855</td>\n",
       "      <td>0.101943</td>\n",
       "      <td>0.311132</td>\n",
       "      <td>0.132521</td>\n",
       "      <td>0.180624</td>\n",
       "      <td>0.518100</td>\n",
       "      <td>122.203509</td>\n",
       "      <td>2.071107e+05</td>\n",
       "      <td>3.934612</td>\n",
       "    </tr>\n",
       "    <tr>\n",
       "      <th>std</th>\n",
       "      <td>1.350749e+07</td>\n",
       "      <td>53.285773</td>\n",
       "      <td>1.498424e+18</td>\n",
       "      <td>23.700244</td>\n",
       "      <td>0.17523</td>\n",
       "      <td>0.230890</td>\n",
       "      <td>3.589814</td>\n",
       "      <td>5.005374</td>\n",
       "      <td>0.496781</td>\n",
       "      <td>0.108137</td>\n",
       "      <td>0.309876</td>\n",
       "      <td>0.293737</td>\n",
       "      <td>0.145064</td>\n",
       "      <td>0.256364</td>\n",
       "      <td>29.493578</td>\n",
       "      <td>1.194100e+05</td>\n",
       "      <td>0.385444</td>\n",
       "    </tr>\n",
       "    <tr>\n",
       "      <th>min</th>\n",
       "      <td>0.000000e+00</td>\n",
       "      <td>1.000000</td>\n",
       "      <td>5.234000e+03</td>\n",
       "      <td>0.000000</td>\n",
       "      <td>0.00000</td>\n",
       "      <td>0.000000</td>\n",
       "      <td>0.000000</td>\n",
       "      <td>-60.000000</td>\n",
       "      <td>0.000000</td>\n",
       "      <td>0.000000</td>\n",
       "      <td>0.000000</td>\n",
       "      <td>0.000000</td>\n",
       "      <td>0.000000</td>\n",
       "      <td>0.000000</td>\n",
       "      <td>0.000000</td>\n",
       "      <td>6.654000e+03</td>\n",
       "      <td>0.000000</td>\n",
       "    </tr>\n",
       "    <tr>\n",
       "      <th>25%</th>\n",
       "      <td>6.760000e+04</td>\n",
       "      <td>1.000000</td>\n",
       "      <td>6.739876e+18</td>\n",
       "      <td>36.000000</td>\n",
       "      <td>0.54200</td>\n",
       "      <td>0.468000</td>\n",
       "      <td>2.000000</td>\n",
       "      <td>-9.611750</td>\n",
       "      <td>0.000000</td>\n",
       "      <td>0.038100</td>\n",
       "      <td>0.046100</td>\n",
       "      <td>0.000000</td>\n",
       "      <td>0.094800</td>\n",
       "      <td>0.314000</td>\n",
       "      <td>99.713750</td>\n",
       "      <td>1.639020e+05</td>\n",
       "      <td>4.000000</td>\n",
       "    </tr>\n",
       "    <tr>\n",
       "      <th>50%</th>\n",
       "      <td>2.456500e+05</td>\n",
       "      <td>2.000000</td>\n",
       "      <td>6.828640e+18</td>\n",
       "      <td>56.000000</td>\n",
       "      <td>0.66300</td>\n",
       "      <td>0.651000</td>\n",
       "      <td>5.000000</td>\n",
       "      <td>-6.836000</td>\n",
       "      <td>1.000000</td>\n",
       "      <td>0.054850</td>\n",
       "      <td>0.198500</td>\n",
       "      <td>0.000009</td>\n",
       "      <td>0.124000</td>\n",
       "      <td>0.529000</td>\n",
       "      <td>122.005000</td>\n",
       "      <td>2.022990e+05</td>\n",
       "      <td>4.000000</td>\n",
       "    </tr>\n",
       "    <tr>\n",
       "      <th>75%</th>\n",
       "      <td>2.100000e+06</td>\n",
       "      <td>5.000000</td>\n",
       "      <td>6.945834e+18</td>\n",
       "      <td>71.000000</td>\n",
       "      <td>0.76500</td>\n",
       "      <td>0.800000</td>\n",
       "      <td>8.000000</td>\n",
       "      <td>-5.182250</td>\n",
       "      <td>1.000000</td>\n",
       "      <td>0.116000</td>\n",
       "      <td>0.528000</td>\n",
       "      <td>0.008945</td>\n",
       "      <td>0.221000</td>\n",
       "      <td>0.721000</td>\n",
       "      <td>140.099000</td>\n",
       "      <td>2.381932e+05</td>\n",
       "      <td>4.000000</td>\n",
       "    </tr>\n",
       "    <tr>\n",
       "      <th>max</th>\n",
       "      <td>3.102000e+08</td>\n",
       "      <td>2433.000000</td>\n",
       "      <td>7.026185e+18</td>\n",
       "      <td>100.000000</td>\n",
       "      <td>0.99200</td>\n",
       "      <td>1.000000</td>\n",
       "      <td>11.000000</td>\n",
       "      <td>1.906000</td>\n",
       "      <td>1.000000</td>\n",
       "      <td>0.956000</td>\n",
       "      <td>0.996000</td>\n",
       "      <td>1.000000</td>\n",
       "      <td>0.995000</td>\n",
       "      <td>1.000000</td>\n",
       "      <td>220.099000</td>\n",
       "      <td>5.951139e+06</td>\n",
       "      <td>5.000000</td>\n",
       "    </tr>\n",
       "  </tbody>\n",
       "</table>\n",
       "</div>"
      ],
      "text/plain": [
       "              views        videos         tt_id    popularity  danceability  \\\n",
       "count  1.152600e+04  11526.000000  1.152500e+04  10434.000000   10430.00000   \n",
       "mean   4.648054e+06      9.761322  6.459683e+18     51.623059       0.63839   \n",
       "std    1.350749e+07     53.285773  1.498424e+18     23.700244       0.17523   \n",
       "min    0.000000e+00      1.000000  5.234000e+03      0.000000       0.00000   \n",
       "25%    6.760000e+04      1.000000  6.739876e+18     36.000000       0.54200   \n",
       "50%    2.456500e+05      2.000000  6.828640e+18     56.000000       0.66300   \n",
       "75%    2.100000e+06      5.000000  6.945834e+18     71.000000       0.76500   \n",
       "max    3.102000e+08   2433.000000  7.026185e+18    100.000000       0.99200   \n",
       "\n",
       "             energy           key      loudness          mode   speechiness  \\\n",
       "count  10430.000000  10430.000000  10430.000000  10430.000000  10430.000000   \n",
       "mean       0.616643      5.275551     -8.170753      0.556855      0.101943   \n",
       "std        0.230890      3.589814      5.005374      0.496781      0.108137   \n",
       "min        0.000000      0.000000    -60.000000      0.000000      0.000000   \n",
       "25%        0.468000      2.000000     -9.611750      0.000000      0.038100   \n",
       "50%        0.651000      5.000000     -6.836000      1.000000      0.054850   \n",
       "75%        0.800000      8.000000     -5.182250      1.000000      0.116000   \n",
       "max        1.000000     11.000000      1.906000      1.000000      0.956000   \n",
       "\n",
       "       acousticness  instrumentalness      liveness       valence  \\\n",
       "count  10430.000000      10430.000000  10430.000000  10430.000000   \n",
       "mean       0.311132          0.132521      0.180624      0.518100   \n",
       "std        0.309876          0.293737      0.145064      0.256364   \n",
       "min        0.000000          0.000000      0.000000      0.000000   \n",
       "25%        0.046100          0.000000      0.094800      0.314000   \n",
       "50%        0.198500          0.000009      0.124000      0.529000   \n",
       "75%        0.528000          0.008945      0.221000      0.721000   \n",
       "max        0.996000          1.000000      0.995000      1.000000   \n",
       "\n",
       "              tempo   duration_ms  time_signature  \n",
       "count  10430.000000  1.043000e+04    10430.000000  \n",
       "mean     122.203509  2.071107e+05        3.934612  \n",
       "std       29.493578  1.194100e+05        0.385444  \n",
       "min        0.000000  6.654000e+03        0.000000  \n",
       "25%       99.713750  1.639020e+05        4.000000  \n",
       "50%      122.005000  2.022990e+05        4.000000  \n",
       "75%      140.099000  2.381932e+05        4.000000  \n",
       "max      220.099000  5.951139e+06        5.000000  "
      ]
     },
     "execution_count": 92,
     "metadata": {},
     "output_type": "execute_result"
    }
   ],
   "source": [
    "df.describe()"
   ]
  },
  {
   "cell_type": "code",
   "execution_count": 32,
   "id": "f0823a51",
   "metadata": {
    "scrolled": true
   },
   "outputs": [
    {
     "data": {
      "text/html": [
       "<div>\n",
       "<style scoped>\n",
       "    .dataframe tbody tr th:only-of-type {\n",
       "        vertical-align: middle;\n",
       "    }\n",
       "\n",
       "    .dataframe tbody tr th {\n",
       "        vertical-align: top;\n",
       "    }\n",
       "\n",
       "    .dataframe thead th {\n",
       "        text-align: right;\n",
       "    }\n",
       "</style>\n",
       "<table border=\"1\" class=\"dataframe\">\n",
       "  <thead>\n",
       "    <tr style=\"text-align: right;\">\n",
       "      <th></th>\n",
       "      <th>id</th>\n",
       "      <th>title</th>\n",
       "      <th>album</th>\n",
       "      <th>views</th>\n",
       "      <th>videos</th>\n",
       "      <th>tt_id</th>\n",
       "      <th>popularity</th>\n",
       "      <th>danceability</th>\n",
       "      <th>energy</th>\n",
       "      <th>key</th>\n",
       "      <th>...</th>\n",
       "      <th>instrumentalness</th>\n",
       "      <th>liveness</th>\n",
       "      <th>valence</th>\n",
       "      <th>tempo</th>\n",
       "      <th>type</th>\n",
       "      <th>uri</th>\n",
       "      <th>track_href</th>\n",
       "      <th>analysis_url</th>\n",
       "      <th>duration_ms</th>\n",
       "      <th>time_signature</th>\n",
       "    </tr>\n",
       "  </thead>\n",
       "  <tbody>\n",
       "    <tr>\n",
       "      <th>2205</th>\n",
       "      <td>0DmEzg3O3uEWSPnCflPbD0</td>\n",
       "      <td>Future Funk</td>\n",
       "      <td>Pick Your Poison Vol. 01</td>\n",
       "      <td>9500000</td>\n",
       "      <td>1</td>\n",
       "      <td>6.759316e+18</td>\n",
       "      <td>36.0</td>\n",
       "      <td>0.688</td>\n",
       "      <td>0.533</td>\n",
       "      <td>11.0</td>\n",
       "      <td>...</td>\n",
       "      <td>0.148000</td>\n",
       "      <td>0.1520</td>\n",
       "      <td>0.664</td>\n",
       "      <td>127.981</td>\n",
       "      <td>audio_features</td>\n",
       "      <td>spotify:track:0DmEzg3O3uEWSPnCflPbD0</td>\n",
       "      <td>https://api.spotify.com/v1/tracks/0DmEzg3O3uEW...</td>\n",
       "      <td>https://api.spotify.com/v1/audio-analysis/0DmE...</td>\n",
       "      <td>185630.0</td>\n",
       "      <td>4.0</td>\n",
       "    </tr>\n",
       "    <tr>\n",
       "      <th>140</th>\n",
       "      <td>6Knv6wdA0luoMUuuoYi2i1</td>\n",
       "      <td>My House</td>\n",
       "      <td>My House</td>\n",
       "      <td>73800</td>\n",
       "      <td>11</td>\n",
       "      <td>6.704989e+18</td>\n",
       "      <td>77.0</td>\n",
       "      <td>0.688</td>\n",
       "      <td>0.702</td>\n",
       "      <td>7.0</td>\n",
       "      <td>...</td>\n",
       "      <td>0.000000</td>\n",
       "      <td>0.1280</td>\n",
       "      <td>0.740</td>\n",
       "      <td>94.006</td>\n",
       "      <td>audio_features</td>\n",
       "      <td>spotify:track:6Knv6wdA0luoMUuuoYi2i1</td>\n",
       "      <td>https://api.spotify.com/v1/tracks/6Knv6wdA0luo...</td>\n",
       "      <td>https://api.spotify.com/v1/audio-analysis/6Knv...</td>\n",
       "      <td>192191.0</td>\n",
       "      <td>4.0</td>\n",
       "    </tr>\n",
       "    <tr>\n",
       "      <th>10612</th>\n",
       "      <td>NaN</td>\n",
       "      <td>Live music Akogi ♪ Refreshing bright company ♪...</td>\n",
       "      <td>NaN</td>\n",
       "      <td>40100</td>\n",
       "      <td>2</td>\n",
       "      <td>6.817423e+18</td>\n",
       "      <td>NaN</td>\n",
       "      <td>NaN</td>\n",
       "      <td>NaN</td>\n",
       "      <td>NaN</td>\n",
       "      <td>...</td>\n",
       "      <td>NaN</td>\n",
       "      <td>NaN</td>\n",
       "      <td>NaN</td>\n",
       "      <td>NaN</td>\n",
       "      <td>NaN</td>\n",
       "      <td>NaN</td>\n",
       "      <td>NaN</td>\n",
       "      <td>NaN</td>\n",
       "      <td>NaN</td>\n",
       "      <td>NaN</td>\n",
       "    </tr>\n",
       "    <tr>\n",
       "      <th>11054</th>\n",
       "      <td>NaN</td>\n",
       "      <td>HABITS (FEAT. DJ LEE)</td>\n",
       "      <td>NaN</td>\n",
       "      <td>20400</td>\n",
       "      <td>1</td>\n",
       "      <td>6.768653e+18</td>\n",
       "      <td>NaN</td>\n",
       "      <td>NaN</td>\n",
       "      <td>NaN</td>\n",
       "      <td>NaN</td>\n",
       "      <td>...</td>\n",
       "      <td>NaN</td>\n",
       "      <td>NaN</td>\n",
       "      <td>NaN</td>\n",
       "      <td>NaN</td>\n",
       "      <td>NaN</td>\n",
       "      <td>NaN</td>\n",
       "      <td>NaN</td>\n",
       "      <td>NaN</td>\n",
       "      <td>NaN</td>\n",
       "      <td>NaN</td>\n",
       "    </tr>\n",
       "    <tr>\n",
       "      <th>4884</th>\n",
       "      <td>2zJYBaZ1cDqTRvocoU5Vbv</td>\n",
       "      <td>Fuego</td>\n",
       "      <td>Fuego</td>\n",
       "      <td>73800</td>\n",
       "      <td>1</td>\n",
       "      <td>6.818639e+18</td>\n",
       "      <td>67.0</td>\n",
       "      <td>0.868</td>\n",
       "      <td>0.596</td>\n",
       "      <td>9.0</td>\n",
       "      <td>...</td>\n",
       "      <td>0.001860</td>\n",
       "      <td>0.1140</td>\n",
       "      <td>0.706</td>\n",
       "      <td>93.016</td>\n",
       "      <td>audio_features</td>\n",
       "      <td>spotify:track:2zJYBaZ1cDqTRvocoU5Vbv</td>\n",
       "      <td>https://api.spotify.com/v1/tracks/2zJYBaZ1cDqT...</td>\n",
       "      <td>https://api.spotify.com/v1/audio-analysis/2zJY...</td>\n",
       "      <td>159504.0</td>\n",
       "      <td>4.0</td>\n",
       "    </tr>\n",
       "    <tr>\n",
       "      <th>10300</th>\n",
       "      <td>NaN</td>\n",
       "      <td>Talk BGM sloppy loop processed(959442)</td>\n",
       "      <td>NaN</td>\n",
       "      <td>113300</td>\n",
       "      <td>11</td>\n",
       "      <td>6.925911e+18</td>\n",
       "      <td>NaN</td>\n",
       "      <td>NaN</td>\n",
       "      <td>NaN</td>\n",
       "      <td>NaN</td>\n",
       "      <td>...</td>\n",
       "      <td>NaN</td>\n",
       "      <td>NaN</td>\n",
       "      <td>NaN</td>\n",
       "      <td>NaN</td>\n",
       "      <td>NaN</td>\n",
       "      <td>NaN</td>\n",
       "      <td>NaN</td>\n",
       "      <td>NaN</td>\n",
       "      <td>NaN</td>\n",
       "      <td>NaN</td>\n",
       "    </tr>\n",
       "    <tr>\n",
       "      <th>1229</th>\n",
       "      <td>3lTSwwXElxIAh0LeUnX7Cp</td>\n",
       "      <td>Funk it up</td>\n",
       "      <td>NaN</td>\n",
       "      <td>206500000</td>\n",
       "      <td>79</td>\n",
       "      <td>6.756444e+18</td>\n",
       "      <td>0.0</td>\n",
       "      <td>0.749</td>\n",
       "      <td>0.651</td>\n",
       "      <td>11.0</td>\n",
       "      <td>...</td>\n",
       "      <td>0.924000</td>\n",
       "      <td>0.1190</td>\n",
       "      <td>0.334</td>\n",
       "      <td>90.034</td>\n",
       "      <td>audio_features</td>\n",
       "      <td>spotify:track:3lTSwwXElxIAh0LeUnX7Cp</td>\n",
       "      <td>https://api.spotify.com/v1/tracks/3lTSwwXElxIA...</td>\n",
       "      <td>https://api.spotify.com/v1/audio-analysis/3lTS...</td>\n",
       "      <td>141333.0</td>\n",
       "      <td>4.0</td>\n",
       "    </tr>\n",
       "    <tr>\n",
       "      <th>1653</th>\n",
       "      <td>4bF2y8rR7GUjrd5LNEvej3</td>\n",
       "      <td>París</td>\n",
       "      <td>París</td>\n",
       "      <td>10100000</td>\n",
       "      <td>14</td>\n",
       "      <td>6.980541e+18</td>\n",
       "      <td>90.0</td>\n",
       "      <td>0.570</td>\n",
       "      <td>0.455</td>\n",
       "      <td>1.0</td>\n",
       "      <td>...</td>\n",
       "      <td>0.000746</td>\n",
       "      <td>0.0654</td>\n",
       "      <td>0.399</td>\n",
       "      <td>167.933</td>\n",
       "      <td>audio_features</td>\n",
       "      <td>spotify:track:4bF2y8rR7GUjrd5LNEvej3</td>\n",
       "      <td>https://api.spotify.com/v1/tracks/4bF2y8rR7GUj...</td>\n",
       "      <td>https://api.spotify.com/v1/audio-analysis/4bF2...</td>\n",
       "      <td>151429.0</td>\n",
       "      <td>4.0</td>\n",
       "    </tr>\n",
       "    <tr>\n",
       "      <th>2109</th>\n",
       "      <td>3aT3WjedGuR6CP3owxDMnI</td>\n",
       "      <td>Faron Young (2007 Remastered Version)</td>\n",
       "      <td>Steve McQueen</td>\n",
       "      <td>1700000</td>\n",
       "      <td>1</td>\n",
       "      <td>6.701939e+18</td>\n",
       "      <td>41.0</td>\n",
       "      <td>0.621</td>\n",
       "      <td>0.938</td>\n",
       "      <td>10.0</td>\n",
       "      <td>...</td>\n",
       "      <td>0.026900</td>\n",
       "      <td>0.1050</td>\n",
       "      <td>0.833</td>\n",
       "      <td>120.638</td>\n",
       "      <td>audio_features</td>\n",
       "      <td>spotify:track:3aT3WjedGuR6CP3owxDMnI</td>\n",
       "      <td>https://api.spotify.com/v1/tracks/3aT3WjedGuR6...</td>\n",
       "      <td>https://api.spotify.com/v1/audio-analysis/3aT3...</td>\n",
       "      <td>223040.0</td>\n",
       "      <td>4.0</td>\n",
       "    </tr>\n",
       "    <tr>\n",
       "      <th>7031</th>\n",
       "      <td>4kIpBfvK44bxqX7zo8K1oP</td>\n",
       "      <td>시작</td>\n",
       "      <td>NaN</td>\n",
       "      <td>372</td>\n",
       "      <td>1</td>\n",
       "      <td>6.795126e+18</td>\n",
       "      <td>66.0</td>\n",
       "      <td>0.591</td>\n",
       "      <td>0.818</td>\n",
       "      <td>4.0</td>\n",
       "      <td>...</td>\n",
       "      <td>0.000000</td>\n",
       "      <td>0.1260</td>\n",
       "      <td>0.574</td>\n",
       "      <td>108.107</td>\n",
       "      <td>audio_features</td>\n",
       "      <td>spotify:track:4kIpBfvK44bxqX7zo8K1oP</td>\n",
       "      <td>https://api.spotify.com/v1/tracks/4kIpBfvK44bx...</td>\n",
       "      <td>https://api.spotify.com/v1/audio-analysis/4kIp...</td>\n",
       "      <td>202440.0</td>\n",
       "      <td>4.0</td>\n",
       "    </tr>\n",
       "  </tbody>\n",
       "</table>\n",
       "<p>10 rows × 24 columns</p>\n",
       "</div>"
      ],
      "text/plain": [
       "                           id  \\\n",
       "2205   0DmEzg3O3uEWSPnCflPbD0   \n",
       "140    6Knv6wdA0luoMUuuoYi2i1   \n",
       "10612                     NaN   \n",
       "11054                     NaN   \n",
       "4884   2zJYBaZ1cDqTRvocoU5Vbv   \n",
       "10300                     NaN   \n",
       "1229   3lTSwwXElxIAh0LeUnX7Cp   \n",
       "1653   4bF2y8rR7GUjrd5LNEvej3   \n",
       "2109   3aT3WjedGuR6CP3owxDMnI   \n",
       "7031   4kIpBfvK44bxqX7zo8K1oP   \n",
       "\n",
       "                                                   title  \\\n",
       "2205                                         Future Funk   \n",
       "140                                             My House   \n",
       "10612  Live music Akogi ♪ Refreshing bright company ♪...   \n",
       "11054                              HABITS (FEAT. DJ LEE)   \n",
       "4884                                               Fuego   \n",
       "10300             Talk BGM sloppy loop processed(959442)   \n",
       "1229                                          Funk it up   \n",
       "1653                                              París   \n",
       "2109               Faron Young (2007 Remastered Version)   \n",
       "7031                                                  시작   \n",
       "\n",
       "                          album      views  videos         tt_id  popularity  \\\n",
       "2205   Pick Your Poison Vol. 01    9500000       1  6.759316e+18        36.0   \n",
       "140                    My House      73800      11  6.704989e+18        77.0   \n",
       "10612                       NaN      40100       2  6.817423e+18         NaN   \n",
       "11054                       NaN      20400       1  6.768653e+18         NaN   \n",
       "4884                      Fuego      73800       1  6.818639e+18        67.0   \n",
       "10300                       NaN     113300      11  6.925911e+18         NaN   \n",
       "1229                        NaN  206500000      79  6.756444e+18         0.0   \n",
       "1653                     París   10100000      14  6.980541e+18        90.0   \n",
       "2109              Steve McQueen    1700000       1  6.701939e+18        41.0   \n",
       "7031                        NaN        372       1  6.795126e+18        66.0   \n",
       "\n",
       "       danceability  energy   key  ...  instrumentalness  liveness  valence  \\\n",
       "2205          0.688   0.533  11.0  ...          0.148000    0.1520    0.664   \n",
       "140           0.688   0.702   7.0  ...          0.000000    0.1280    0.740   \n",
       "10612           NaN     NaN   NaN  ...               NaN       NaN      NaN   \n",
       "11054           NaN     NaN   NaN  ...               NaN       NaN      NaN   \n",
       "4884          0.868   0.596   9.0  ...          0.001860    0.1140    0.706   \n",
       "10300           NaN     NaN   NaN  ...               NaN       NaN      NaN   \n",
       "1229          0.749   0.651  11.0  ...          0.924000    0.1190    0.334   \n",
       "1653          0.570   0.455   1.0  ...          0.000746    0.0654    0.399   \n",
       "2109          0.621   0.938  10.0  ...          0.026900    0.1050    0.833   \n",
       "7031          0.591   0.818   4.0  ...          0.000000    0.1260    0.574   \n",
       "\n",
       "         tempo            type                                   uri  \\\n",
       "2205   127.981  audio_features  spotify:track:0DmEzg3O3uEWSPnCflPbD0   \n",
       "140     94.006  audio_features  spotify:track:6Knv6wdA0luoMUuuoYi2i1   \n",
       "10612      NaN             NaN                                   NaN   \n",
       "11054      NaN             NaN                                   NaN   \n",
       "4884    93.016  audio_features  spotify:track:2zJYBaZ1cDqTRvocoU5Vbv   \n",
       "10300      NaN             NaN                                   NaN   \n",
       "1229    90.034  audio_features  spotify:track:3lTSwwXElxIAh0LeUnX7Cp   \n",
       "1653   167.933  audio_features  spotify:track:4bF2y8rR7GUjrd5LNEvej3   \n",
       "2109   120.638  audio_features  spotify:track:3aT3WjedGuR6CP3owxDMnI   \n",
       "7031   108.107  audio_features  spotify:track:4kIpBfvK44bxqX7zo8K1oP   \n",
       "\n",
       "                                              track_href  \\\n",
       "2205   https://api.spotify.com/v1/tracks/0DmEzg3O3uEW...   \n",
       "140    https://api.spotify.com/v1/tracks/6Knv6wdA0luo...   \n",
       "10612                                                NaN   \n",
       "11054                                                NaN   \n",
       "4884   https://api.spotify.com/v1/tracks/2zJYBaZ1cDqT...   \n",
       "10300                                                NaN   \n",
       "1229   https://api.spotify.com/v1/tracks/3lTSwwXElxIA...   \n",
       "1653   https://api.spotify.com/v1/tracks/4bF2y8rR7GUj...   \n",
       "2109   https://api.spotify.com/v1/tracks/3aT3WjedGuR6...   \n",
       "7031   https://api.spotify.com/v1/tracks/4kIpBfvK44bx...   \n",
       "\n",
       "                                            analysis_url duration_ms  \\\n",
       "2205   https://api.spotify.com/v1/audio-analysis/0DmE...    185630.0   \n",
       "140    https://api.spotify.com/v1/audio-analysis/6Knv...    192191.0   \n",
       "10612                                                NaN         NaN   \n",
       "11054                                                NaN         NaN   \n",
       "4884   https://api.spotify.com/v1/audio-analysis/2zJY...    159504.0   \n",
       "10300                                                NaN         NaN   \n",
       "1229   https://api.spotify.com/v1/audio-analysis/3lTS...    141333.0   \n",
       "1653   https://api.spotify.com/v1/audio-analysis/4bF2...    151429.0   \n",
       "2109   https://api.spotify.com/v1/audio-analysis/3aT3...    223040.0   \n",
       "7031   https://api.spotify.com/v1/audio-analysis/4kIp...    202440.0   \n",
       "\n",
       "      time_signature  \n",
       "2205             4.0  \n",
       "140              4.0  \n",
       "10612            NaN  \n",
       "11054            NaN  \n",
       "4884             4.0  \n",
       "10300            NaN  \n",
       "1229             4.0  \n",
       "1653             4.0  \n",
       "2109             4.0  \n",
       "7031             4.0  \n",
       "\n",
       "[10 rows x 24 columns]"
      ]
     },
     "execution_count": 32,
     "metadata": {},
     "output_type": "execute_result"
    }
   ],
   "source": [
    "df.sample(10)"
   ]
  },
  {
   "cell_type": "code",
   "execution_count": 93,
   "id": "a7729f5b",
   "metadata": {},
   "outputs": [
    {
     "data": {
      "text/plain": [
       "(224, 24)"
      ]
     },
     "execution_count": 93,
     "metadata": {},
     "output_type": "execute_result"
    }
   ],
   "source": [
    "# Some tracks are original but aren't flagged as such by the TikTok API, so \n",
    "# we have to manually identify and remove them either by their title or their missing tt_id\n",
    "df[(df['title'] == 'Original Sound') | (df['tt_id'].isna())].shape"
   ]
  },
  {
   "cell_type": "code",
   "execution_count": 100,
   "id": "a02f9abd",
   "metadata": {},
   "outputs": [
    {
     "data": {
      "text/plain": [
       "(1096, 24)"
      ]
     },
     "execution_count": 100,
     "metadata": {},
     "output_type": "execute_result"
    }
   ],
   "source": [
    "# Tracks that don't have spotify metadata\n",
    "df[df[features].isna().any(axis=1)].shape"
   ]
  },
  {
   "cell_type": "markdown",
   "id": "aa06bb1b",
   "metadata": {},
   "source": [
    "### Preprocessing\n",
    "It looks like some values are missing, we'll drop these, as well as any original sounds that managed to pass through.\n",
    "The final dataframe will then be written back."
   ]
  },
  {
   "cell_type": "code",
   "execution_count": 101,
   "id": "08aa4beb",
   "metadata": {},
   "outputs": [
    {
     "data": {
      "text/plain": [
       "(10207, 24)"
      ]
     },
     "execution_count": 101,
     "metadata": {},
     "output_type": "execute_result"
    }
   ],
   "source": [
    "df = df.dropna(subset=['id','tt_id'] + features)\n",
    "df = df[df['title'] != 'Original Sound']\n",
    "df.shape"
   ]
  },
  {
   "cell_type": "code",
   "execution_count": 102,
   "id": "bb1ed99c",
   "metadata": {},
   "outputs": [],
   "source": [
    "df.to_csv(\"data/interim/tracks_clean.csv\", index=False)"
   ]
  },
  {
   "cell_type": "markdown",
   "id": "4c417090",
   "metadata": {},
   "source": [
    "### Distribution analysis\n",
    "The dataset contains around 10.000 datapoints, and target variable (`views`) varies greatly in terms of magnitude, with values ranging from < 1000 to millions. In order to attempt to create a reasonable separation of different video popularities, a histogram of view counts is created using 10 different orders of magnitude as buckets."
   ]
  },
  {
   "cell_type": "code",
   "execution_count": 103,
   "id": "ce6fc2c2",
   "metadata": {},
   "outputs": [
    {
     "data": {
      "text/plain": [
       "(array([2.000e+00, 1.000e+00, 4.000e+01, 2.470e+02, 3.640e+02, 3.166e+03,\n",
       "        2.970e+03, 1.733e+03, 1.435e+03, 2.480e+02]),\n",
       " array([0.        , 0.84916418, 1.69832836, 2.54749254, 3.39665672,\n",
       "        4.2458209 , 5.09498508, 5.94414926, 6.79331343, 7.64247761,\n",
       "        8.49164179]),\n",
       " <BarContainer object of 10 artists>)"
      ]
     },
     "execution_count": 103,
     "metadata": {},
     "output_type": "execute_result"
    },
    {
     "data": {
      "image/png": "[encoded data removed]",
      "text/plain": [
       "<Figure size 432x288 with 1 Axes>"
      ]
     },
     "metadata": {
      "needs_background": "light"
     },
     "output_type": "display_data"
    }
   ],
   "source": [
    "views = df['views']\n",
    "\n",
    "plt.xlabel(\"View count (log10)\")\n",
    "plt.ylabel(\"Track count\")\n",
    "plt.hist(np.log10(views[views > 0]),bins=10)"
   ]
  },
  {
   "cell_type": "markdown",
   "id": "0fa82b34",
   "metadata": {},
   "source": [
    "The above histogram suggests that the majority of tracks have views in the (5e+04, 1e05) range. As such, at least 3 different popularity ranges can be identified. The ones below this range, in the range, and above the range. A reasonable definition for a \"viral\" video is one whose views are above this middle range."
   ]
  },
  {
   "cell_type": "code",
   "execution_count": 104,
   "id": "17461654",
   "metadata": {
    "scrolled": true
   },
   "outputs": [
    {
     "data": {
      "text/plain": [
       "<matplotlib.collections.PathCollection at 0x1d551a755e0>"
      ]
     },
     "execution_count": 104,
     "metadata": {},
     "output_type": "execute_result"
    },
    {
     "data": {
      "image/png": "[encoded data removed]",
      "text/plain": [
       "<Figure size 864x288 with 2 Axes>"
      ]
     },
     "metadata": {
      "needs_background": "light"
     },
     "output_type": "display_data"
    }
   ],
   "source": [
    "fig, axs = plt.subplots(1,2,figsize=(12,4))\n",
    "axs[0].set_xlabel(\"Video count (log10)\")\n",
    "axs[0].set_ylabel(\"Track count\")\n",
    "axs[0].hist(np.log10(df['videos']))\n",
    "\n",
    "axs[1].set_xlabel(\"Video Count\")\n",
    "axs[1].set_ylabel(\"Maximum View Count\")\n",
    "axs[1].scatter(df['videos'],views)"
   ]
  },
  {
   "cell_type": "markdown",
   "id": "644c1a79",
   "metadata": {},
   "source": [
    "From the above histogram it is apparent that most tracks appear in less than 10 videos, with a small minority appearing in more than 100. It is interesting to note here that the highest view counts appear in smaller video counts, apart from a few outliers."
   ]
  },
  {
   "cell_type": "markdown",
   "id": "cfe34563",
   "metadata": {},
   "source": [
    "### Correlation\n",
    "The graph below visualizes the correlation between the features and target variables. There seems to be astrong correlation between loudness and energy, as well as valence and danceability. Other noteble correlations are energy and danceability, and loudness and valence. A relatively strong negative correlation can be observed between acousticness and energy, and acousticness and loudness. "
   ]
  },
  {
   "cell_type": "code",
   "execution_count": 105,
   "id": "637940cd",
   "metadata": {},
   "outputs": [
    {
     "data": {
      "image/png": "[encoded data removed]",
      "text/plain": [
       "<Figure size 432x288 with 2 Axes>"
      ]
     },
     "metadata": {
      "needs_background": "light"
     },
     "output_type": "display_data"
    }
   ],
   "source": [
    "features = [\n",
    "    'danceability',\n",
    "    'energy',\n",
    "    'key',\n",
    "    'loudness',\n",
    "    'mode',\n",
    "    'speechiness',\n",
    "    'acousticness',\n",
    "    'instrumentalness',\n",
    "    'liveness',\n",
    "    'valence',\n",
    "    'tempo',\n",
    "    'time_signature',\n",
    "    'duration_ms',\n",
    "    'popularity'\n",
    "]\n",
    "\n",
    "labels = features + ['views']\n",
    "fig, ax = plt.subplots()\n",
    "im = ax.imshow(df[labels].corr('pearson'),cmap='YlOrBr')\n",
    "\n",
    "ax.set_xticks(np.arange(len(labels)))\n",
    "ax.set_yticks(np.arange(len(labels)))\n",
    "\n",
    "ax.set_yticklabels(labels)\n",
    "ax.set_xticklabels(labels)\n",
    "\n",
    "plt.setp(ax.get_xticklabels(), rotation=45, ha=\"right\",rotation_mode=\"anchor\")\n",
    "\n",
    "cbar = ax.figure.colorbar(im, ax=ax)\n",
    "plt.show()"
   ]
  },
  {
   "cell_type": "markdown",
   "id": "3e6611ad",
   "metadata": {},
   "source": [
    "### Feature Exploration"
   ]
  },
  {
   "cell_type": "markdown",
   "id": "fd543054",
   "metadata": {},
   "source": [
    "The categorical features of the dataset, namely the key, mode, and time signature will be aggregated and plotted against the total number of views, then each of the continuous features will also be plotted against the views of each video."
   ]
  },
  {
   "cell_type": "code",
   "execution_count": 106,
   "id": "5fbdade7",
   "metadata": {},
   "outputs": [
    {
     "data": {
      "text/plain": [
       "<BarContainer object of 5 artists>"
      ]
     },
     "execution_count": 106,
     "metadata": {},
     "output_type": "execute_result"
    },
    {
     "data": {
      "image/png": "[encoded data removed]",
      "text/plain": [
       "<Figure size 1008x288 with 3 Axes>"
      ]
     },
     "metadata": {
      "needs_background": "light"
     },
     "output_type": "display_data"
    }
   ],
   "source": [
    "views_per_key = df.groupby(\"key\").sum()['views']\n",
    "views_per_mode = df.groupby(\"mode\").sum()['views']\n",
    "views_per_ts = df.groupby(\"time_signature\").sum()['views']\n",
    "\n",
    "fig, (ax1,ax2,ax3) = plt.subplots(1,3,figsize=(14,4))\n",
    "fig.suptitle(\"Categorical Features\")\n",
    "\n",
    "keys = ['C','C#','D','D#','E','F','F#','G','G#','A','A#','B']\n",
    "ax1.set_title(\"Key\")\n",
    "ax1.set_ylabel(\"Total Views\")\n",
    "ax1.bar(keys,views_per_key)\n",
    "\n",
    "ax2.set_title(\"Mode\")\n",
    "ax2.bar(['Minor','Major'],views_per_mode)\n",
    "\n",
    "ax3.set_title(\"Time Signature\")\n",
    "ax3.bar(np.arange(5)+1,views_per_ts)"
   ]
  },
  {
   "cell_type": "markdown",
   "id": "8279122a",
   "metadata": {},
   "source": [
    "Songs written in the keys of C and C# major seem to be more popular overall, as well as songs using 4 beats per measure."
   ]
  },
  {
   "cell_type": "code",
   "execution_count": 53,
   "id": "2d8527af",
   "metadata": {
    "scrolled": true
   },
   "outputs": [
    {
     "data": {
      "image/png": "[encoded data removed]",
      "text/plain": [
       "<Figure size 864x864 with 12 Axes>"
      ]
     },
     "metadata": {
      "needs_background": "light"
     },
     "output_type": "display_data"
    }
   ],
   "source": [
    "continuous = [\n",
    "    'danceability',\n",
    "    'energy',\n",
    "    'loudness',\n",
    "    'speechiness',\n",
    "    'acousticness',\n",
    "    'instrumentalness',\n",
    "    'liveness',\n",
    "    'valence',\n",
    "    'tempo',\n",
    "    'time_signature',\n",
    "    'duration_mins',\n",
    "    'popularity'\n",
    "]\n",
    "fig = plt.figure(figsize=(12,12))\n",
    "gs = fig.add_gridspec(4,3,wspace=0.05,hspace=.3)\n",
    "axs = gs.subplots(sharey=True)\n",
    "df['duration_mins'] = df['duration_ms'] / (60 * 1000)\n",
    "\n",
    "for idx,feature in enumerate(continuous):\n",
    "    x = int(idx / 3)\n",
    "    y = idx - x*3\n",
    "    ax = axs[x,y]\n",
    "    ax.set_title(feature)\n",
    "    if feature == 'duration_mins':\n",
    "        # Remove outliers for cleaner plot\n",
    "        mask = df[feature] < 10\n",
    "        ax.scatter(df[feature][mask],df['views'][mask])\n",
    "    else:\n",
    "        ax.scatter(df[feature],df['views'])"
   ]
  },
  {
   "cell_type": "markdown",
   "id": "66a2efe9",
   "metadata": {},
   "source": [
    "Louder songs are observed to perform better in terms of views, as well as songs with a tempo between 100-150 bpm and a duration between 2-4 minutes."
   ]
  }
 ],
 "metadata": {
  "kernelspec": {
   "display_name": "Python 3 (ipykernel)",
   "language": "python",
   "name": "python3"
  },
  "language_info": {
   "codemirror_mode": {
    "name": "ipython",
    "version": 3
   },
   "file_extension": ".py",
   "mimetype": "text/x-python",
   "name": "python",
   "nbconvert_exporter": "python",
   "pygments_lexer": "ipython3",
   "version": "3.9.5"
  }
 },
 "nbformat": 4,
 "nbformat_minor": 5
}
